{
 "cells": [
  {
   "cell_type": "code",
   "execution_count": 1,
   "metadata": {},
   "outputs": [],
   "source": [
    "import os,json\n",
    "import pandas as pd\n",
    "import csv \n",
    "import numpy as np\n",
    "import matplotlib.font_manager\n",
    "import re\n",
    "import math"
   ]
  },
  {
   "cell_type": "code",
   "execution_count": 2,
   "metadata": {},
   "outputs": [],
   "source": [
    "from sklearn import svm\n",
    "from pandas.io.json import json_normalize\n",
    "from sklearn.preprocessing import LabelEncoder"
   ]
  },
  {
   "cell_type": "code",
   "execution_count": 3,
   "metadata": {},
   "outputs": [],
   "source": [
    "path_to_json = 'data/vikram/'"
   ]
  },
  {
   "cell_type": "code",
   "execution_count": 4,
   "metadata": {},
   "outputs": [],
   "source": [
    "json_files = [pos_json for pos_json in os.listdir(path_to_json) if pos_json.endswith('.json')]"
   ]
  },
  {
   "cell_type": "code",
   "execution_count": 5,
   "metadata": {},
   "outputs": [],
   "source": [
    "abs=os.getcwd()"
   ]
  },
  {
   "cell_type": "code",
   "execution_count": 6,
   "metadata": {},
   "outputs": [],
   "source": [
    "with open(str(abs)+'/data/vikram/'+str(json_files[0])) as json_file: \n",
    "    data = json.load(json_file) "
   ]
  },
  {
   "cell_type": "code",
   "execution_count": 7,
   "metadata": {},
   "outputs": [],
   "source": [
    "df = pd.DataFrame ( columns = data.keys())"
   ]
  },
  {
   "cell_type": "code",
   "execution_count": 8,
   "metadata": {},
   "outputs": [
    {
     "name": "stderr",
     "output_type": "stream",
     "text": [
      "/home/bhrt/.local/lib/python3.6/site-packages/pandas/core/frame.py:7138: FutureWarning: Sorting because non-concatenation axis is not aligned. A future version\n",
      "of pandas will change to not sort by default.\n",
      "\n",
      "To accept the future behavior, pass 'sort=False'.\n",
      "\n",
      "To retain the current behavior and silence the warning, pass 'sort=True'.\n",
      "\n",
      "  sort=sort,\n"
     ]
    }
   ],
   "source": [
    "for i in json_files:\n",
    "    with open(str(abs)+'/data/vikram/'+str(i)) as json_file: \n",
    "        data = json.load(json_file)\n",
    "        \n",
    "        temp = json_normalize(data)\n",
    "\n",
    "        df=df.append(temp)\n"
   ]
  },
  {
   "cell_type": "code",
   "execution_count": 9,
   "metadata": {},
   "outputs": [
    {
     "data": {
      "text/plain": [
       "(36, 46)"
      ]
     },
     "execution_count": 9,
     "metadata": {},
     "output_type": "execute_result"
    }
   ],
   "source": [
    "df.shape"
   ]
  },
  {
   "cell_type": "code",
   "execution_count": 10,
   "metadata": {},
   "outputs": [],
   "source": [
    "df['latitude']= df['latitude'].replace(to_replace='null',value=None)"
   ]
  },
  {
   "cell_type": "code",
   "execution_count": 11,
   "metadata": {},
   "outputs": [],
   "source": [
    "df['latitude']=df['latitude'].fillna(df['latitude'].mode())"
   ]
  },
  {
   "cell_type": "code",
   "execution_count": 12,
   "metadata": {},
   "outputs": [],
   "source": [
    "df['longitude']= df['longitude'].replace(to_replace='null',value=None)\n",
    "df['longitude']=df['longitude'].fillna(df['longitude'].mode())"
   ]
  },
  {
   "cell_type": "code",
   "execution_count": null,
   "metadata": {},
   "outputs": [],
   "source": []
  },
  {
   "cell_type": "code",
   "execution_count": 13,
   "metadata": {},
   "outputs": [],
   "source": [
    "path_to_json = 'data/mukunda/'"
   ]
  },
  {
   "cell_type": "code",
   "execution_count": 14,
   "metadata": {},
   "outputs": [],
   "source": [
    "json_files = [pos_json for pos_json in os.listdir(path_to_json) if pos_json.endswith('.json')]"
   ]
  },
  {
   "cell_type": "code",
   "execution_count": 15,
   "metadata": {},
   "outputs": [],
   "source": [
    "for i in json_files:\n",
    "    with open(str(abs)+'/data/mukunda/'+str(i)) as json_file: \n",
    "        data = json.load(json_file)\n",
    "        \n",
    "        temp = json_normalize(data)\n",
    "\n",
    "        df=df.append(temp)\n"
   ]
  },
  {
   "cell_type": "code",
   "execution_count": 16,
   "metadata": {},
   "outputs": [],
   "source": [
    "path_to_json = 'data/raunak/'"
   ]
  },
  {
   "cell_type": "code",
   "execution_count": 17,
   "metadata": {},
   "outputs": [],
   "source": [
    "json_files = [pos_json for pos_json in os.listdir(path_to_json) if pos_json.endswith('.json')]"
   ]
  },
  {
   "cell_type": "code",
   "execution_count": 18,
   "metadata": {},
   "outputs": [],
   "source": [
    "for i in json_files:\n",
    "    with open(str(abs)+'/data/raunak/'+str(i)) as json_file: \n",
    "        data = json.load(json_file)\n",
    "        \n",
    "        temp = json_normalize(data)\n",
    "\n",
    "        df=df.append(temp)\n"
   ]
  },
  {
   "cell_type": "code",
   "execution_count": 19,
   "metadata": {},
   "outputs": [],
   "source": [
    "new_df=df.drop(labels=['identifierForVendor','inclication,','localizedModel','name','systemName','systemVersion','utsname.machine:','utsname.nodename:','utsname.release:','utsname.version:','utsname.sysname:','hardware'],axis=1)"
   ]
  },
  {
   "cell_type": "code",
   "execution_count": 20,
   "metadata": {},
   "outputs": [],
   "source": [
    "new_df=new_df.drop([new_df.columns[5]],axis='columns')"
   ]
  },
  {
   "cell_type": "code",
   "execution_count": 21,
   "metadata": {},
   "outputs": [
    {
     "data": {
      "text/plain": [
       "Date and time              0\n",
       "Device ip                  0\n",
       "Device velocity            0\n",
       "Transaction ammount        0\n",
       "Typing speed               1\n",
       "User name                  1\n",
       "board                     12\n",
       "bootloader                12\n",
       "brand                     12\n",
       "device                    12\n",
       "display                   12\n",
       "fingerprint               12\n",
       "host                      12\n",
       "id                        12\n",
       "inclication                1\n",
       "isPhysicalDevice           0\n",
       "latitude                  39\n",
       "longitude                 39\n",
       "longitude and latitude    22\n",
       "manufacturer              12\n",
       "model                      0\n",
       "product                   12\n",
       "supported32BitAbis        12\n",
       "supported64BitAbis        64\n",
       "supportedAbis             12\n",
       "tags                      12\n",
       "type                      12\n",
       "version.baseOS            12\n",
       "version.codename          12\n",
       "version.incremental       12\n",
       "version.previewSdkInt     12\n",
       "version.release           12\n",
       "version.sdkInt            12\n",
       "version.securityPatch     12\n",
       "dtype: int64"
      ]
     },
     "execution_count": 21,
     "metadata": {},
     "output_type": "execute_result"
    }
   ],
   "source": [
    "new_df.isna().sum()"
   ]
  },
  {
   "cell_type": "markdown",
   "metadata": {},
   "source": [
    "# Date and time"
   ]
  },
  {
   "cell_type": "code",
   "execution_count": 22,
   "metadata": {},
   "outputs": [],
   "source": [
    "new_df['Date and time']= df[\"Date and time\"].astype(str) \n",
    "\n",
    "start, stop, step = 0, -17, 1\n",
    "\n",
    "new_df[\"Date and time\"]= df[\"Date and time\"].str.slice(start, stop, step) \n",
    "\n",
    "new_df[\"Date and time\"]= new_df[\"Date and time\"].astype(int) "
   ]
  },
  {
   "cell_type": "code",
   "execution_count": 23,
   "metadata": {},
   "outputs": [
    {
     "data": {
      "text/plain": [
       "0    22\n",
       "0    16\n",
       "0     8\n",
       "0     1\n",
       "0    11\n",
       "     ..\n",
       "0    12\n",
       "0     0\n",
       "0    13\n",
       "0    13\n",
       "0     9\n",
       "Name: Date and time, Length: 85, dtype: int64"
      ]
     },
     "execution_count": 23,
     "metadata": {},
     "output_type": "execute_result"
    }
   ],
   "source": [
    "new_df[\"Date and time\"]"
   ]
  },
  {
   "cell_type": "markdown",
   "metadata": {},
   "source": [
    "# Device ip"
   ]
  },
  {
   "cell_type": "code",
   "execution_count": 24,
   "metadata": {},
   "outputs": [
    {
     "data": {
      "text/plain": [
       "0"
      ]
     },
     "execution_count": 24,
     "metadata": {},
     "output_type": "execute_result"
    }
   ],
   "source": [
    "new_df['Device ip'].isnull().sum()"
   ]
  },
  {
   "cell_type": "code",
   "execution_count": 25,
   "metadata": {},
   "outputs": [
    {
     "data": {
      "text/plain": [
       "0    10.238.99.167\n",
       "0             null\n",
       "0       10.1.0.250\n",
       "0             null\n",
       "0       10.1.0.250\n",
       "         ...      \n",
       "0    192.168.0.119\n",
       "0    192.168.0.138\n",
       "0     25.22.227.50\n",
       "0     25.22.227.50\n",
       "0     25.22.227.50\n",
       "Name: Device ip, Length: 85, dtype: object"
      ]
     },
     "execution_count": 25,
     "metadata": {},
     "output_type": "execute_result"
    }
   ],
   "source": [
    "new_df['Device ip']"
   ]
  },
  {
   "cell_type": "code",
   "execution_count": 26,
   "metadata": {},
   "outputs": [],
   "source": [
    "new_df['Device ip'] = df['Device ip'].replace(to_replace = \"null\", value = None, regex = True)"
   ]
  },
  {
   "cell_type": "code",
   "execution_count": 27,
   "metadata": {},
   "outputs": [],
   "source": [
    "new_df['Device ip'] = new_df['Device ip'].astype(str)\n"
   ]
  },
  {
   "cell_type": "code",
   "execution_count": 28,
   "metadata": {},
   "outputs": [
    {
     "data": {
      "text/plain": [
       "0    10.238.99.167\n",
       "0    10.238.99.167\n",
       "0       10.1.0.250\n",
       "0       10.1.0.250\n",
       "0       10.1.0.250\n",
       "         ...      \n",
       "0    192.168.0.119\n",
       "0    192.168.0.138\n",
       "0     25.22.227.50\n",
       "0     25.22.227.50\n",
       "0     25.22.227.50\n",
       "Name: Device ip, Length: 85, dtype: object"
      ]
     },
     "execution_count": 28,
     "metadata": {},
     "output_type": "execute_result"
    }
   ],
   "source": [
    "new_df['Device ip']"
   ]
  },
  {
   "cell_type": "markdown",
   "metadata": {},
   "source": [
    "# Device velocity"
   ]
  },
  {
   "cell_type": "code",
   "execution_count": 29,
   "metadata": {},
   "outputs": [
    {
     "data": {
      "text/plain": [
       "0"
      ]
     },
     "execution_count": 29,
     "metadata": {},
     "output_type": "execute_result"
    }
   ],
   "source": [
    "new_df['Device velocity'].isnull().sum()"
   ]
  },
  {
   "cell_type": "code",
   "execution_count": 30,
   "metadata": {},
   "outputs": [],
   "source": [
    "temp_velocity = new_df['Device velocity']"
   ]
  },
  {
   "cell_type": "code",
   "execution_count": 31,
   "metadata": {},
   "outputs": [],
   "source": [
    "#mannual eye balling\n",
    "new_df['Device velocity']=new_df['Device velocity'].replace(to_replace='-0.1-0.3-0.4',value='-0.1,-0.3,-0.4')"
   ]
  },
  {
   "cell_type": "code",
   "execution_count": 32,
   "metadata": {},
   "outputs": [],
   "source": [
    "#mannual eye balling\n",
    "new_df['Device velocity']=new_df['Device velocity'].replace(to_replace='0.10.4',value='0.1,0,0.4')"
   ]
  },
  {
   "cell_type": "code",
   "execution_count": 33,
   "metadata": {},
   "outputs": [],
   "source": [
    "\n",
    "my_list = [] \n",
    "summation_velocity = []\n",
    "\n",
    "for i in temp_velocity:\n",
    "    list_velocity  = re.split(',',i)\n",
    "    summation_velocity = 0.0\n",
    "    for j  in list_velocity :\n",
    "        summation_velocity = summation_velocity + float(j)\n",
    "    summation_velocity  = math.floor(summation_velocity)   # 0.9->0 floor     0.1 ->1  ceil\n",
    "    my_list.append(summation_velocity)"
   ]
  },
  {
   "cell_type": "code",
   "execution_count": 34,
   "metadata": {},
   "outputs": [
    {
     "name": "stdout",
     "output_type": "stream",
     "text": [
      "[-1, 0, -1, 0, -1, 0, -1, -1, 0, -1, -1, -2, -1, 0, 0, 0, -1, 0, 1, -2, 0, 0, 0, -3, -1, -1, 0, -1, -2, -1, 0, -1, -1, 0, -1, 0, 0, -1, 0, -1, 0, 0, 0, -1, -1, -1, 0, 0, 0, -1, -1, 0, 0, 0, 0, 0, 0, 1, 1, 0, 0, 0, 0, 0, 0, 0, 2, 0, 1, 1, -1, 0, 0, 0, 0, 0, 0, 1, 1, 0, 0, -1, 0, 2, 1]\n"
     ]
    }
   ],
   "source": [
    "print(my_list)"
   ]
  },
  {
   "cell_type": "code",
   "execution_count": 35,
   "metadata": {},
   "outputs": [],
   "source": [
    "df2  = new_df.assign(Device_velocity = my_list)\n",
    "\n",
    "new_df = df2\n",
    "\n",
    "del df['Device velocity']"
   ]
  },
  {
   "cell_type": "markdown",
   "metadata": {},
   "source": [
    "# Transaction ammount"
   ]
  },
  {
   "cell_type": "code",
   "execution_count": 36,
   "metadata": {},
   "outputs": [
    {
     "data": {
      "text/plain": [
       "0"
      ]
     },
     "execution_count": 36,
     "metadata": {},
     "output_type": "execute_result"
    }
   ],
   "source": [
    "new_df['Transaction ammount'].isnull().sum()"
   ]
  },
  {
   "cell_type": "code",
   "execution_count": 37,
   "metadata": {},
   "outputs": [
    {
     "data": {
      "text/plain": [
       "0     14\n",
       "0     10\n",
       "0     10\n",
       "0     10\n",
       "0      7\n",
       "    ... \n",
       "0    120\n",
       "0    110\n",
       "0    120\n",
       "0    150\n",
       "0    150\n",
       "Name: Transaction ammount, Length: 85, dtype: object"
      ]
     },
     "execution_count": 37,
     "metadata": {},
     "output_type": "execute_result"
    }
   ],
   "source": [
    "new_df['Transaction ammount']"
   ]
  },
  {
   "cell_type": "markdown",
   "metadata": {},
   "source": [
    "# Typing speed"
   ]
  },
  {
   "cell_type": "code",
   "execution_count": 38,
   "metadata": {},
   "outputs": [
    {
     "data": {
      "text/plain": [
       "1"
      ]
     },
     "execution_count": 38,
     "metadata": {},
     "output_type": "execute_result"
    }
   ],
   "source": [
    "new_df['Typing speed'].isnull().sum()"
   ]
  },
  {
   "cell_type": "code",
   "execution_count": 39,
   "metadata": {},
   "outputs": [],
   "source": [
    "new_df['Typing speed'] = new_df['Typing speed'].fillna(df['Typing speed'].mode())"
   ]
  },
  {
   "cell_type": "code",
   "execution_count": 40,
   "metadata": {},
   "outputs": [
    {
     "data": {
      "text/plain": [
       "0               4.66667\n",
       "0                   2.8\n",
       "0                   2.8\n",
       "0               4.66667\n",
       "0               3.11111\n",
       "            ...        \n",
       "0    2.3636363636363638\n",
       "0    3.7142857142857144\n",
       "0    2.3636363636363638\n",
       "0    2.3636363636363638\n",
       "0    2.1666666666666665\n",
       "Name: Typing speed, Length: 85, dtype: object"
      ]
     },
     "execution_count": 40,
     "metadata": {},
     "output_type": "execute_result"
    }
   ],
   "source": [
    "new_df['Typing speed']"
   ]
  },
  {
   "cell_type": "code",
   "execution_count": null,
   "metadata": {},
   "outputs": [],
   "source": []
  },
  {
   "cell_type": "markdown",
   "metadata": {},
   "source": [
    "# User name"
   ]
  },
  {
   "cell_type": "code",
   "execution_count": 41,
   "metadata": {},
   "outputs": [
    {
     "data": {
      "text/plain": [
       "1"
      ]
     },
     "execution_count": 41,
     "metadata": {},
     "output_type": "execute_result"
    }
   ],
   "source": [
    "new_df['User name'].isnull().sum()"
   ]
  },
  {
   "cell_type": "code",
   "execution_count": 42,
   "metadata": {},
   "outputs": [
    {
     "data": {
      "text/plain": [
       "array(['vikram@blue-bricks.com', 'Vikram@blue-bricks.com',\n",
       "       'mukunda@mollatech.com', 'Mukunda@mollatech.com',\n",
       "       'raunak@mollatech.com', nan], dtype=object)"
      ]
     },
     "execution_count": 42,
     "metadata": {},
     "output_type": "execute_result"
    }
   ],
   "source": [
    "new_df['User name'].unique()"
   ]
  },
  {
   "cell_type": "code",
   "execution_count": 43,
   "metadata": {},
   "outputs": [],
   "source": [
    "# or else you can lower case each entry\n",
    "new_df['User name']=new_df['User name'].replace(to_replace='Vikram@blue-bricks.com',value='vikram@blue-bricks.com')\n",
    "new_df['User name']=new_df['User name'].replace(to_replace='Mukunda@mollatech.com',value='mukunda@mollatech.com')\n",
    "\n",
    "\n"
   ]
  },
  {
   "cell_type": "code",
   "execution_count": 44,
   "metadata": {},
   "outputs": [
    {
     "data": {
      "text/plain": [
       "array(['vikram@blue-bricks.com', 'mukunda@mollatech.com',\n",
       "       'raunak@mollatech.com', nan], dtype=object)"
      ]
     },
     "execution_count": 44,
     "metadata": {},
     "output_type": "execute_result"
    }
   ],
   "source": [
    "new_df['User name'].unique()"
   ]
  },
  {
   "cell_type": "markdown",
   "metadata": {},
   "source": [
    "# board"
   ]
  },
  {
   "cell_type": "code",
   "execution_count": 45,
   "metadata": {},
   "outputs": [
    {
     "data": {
      "text/plain": [
       "12"
      ]
     },
     "execution_count": 45,
     "metadata": {},
     "output_type": "execute_result"
    }
   ],
   "source": [
    "new_df['board'].isnull().sum()"
   ]
  },
  {
   "cell_type": "code",
   "execution_count": 46,
   "metadata": {},
   "outputs": [],
   "source": [
    "new_df['board'] = df['board'].fillna(method = 'ffill')"
   ]
  },
  {
   "cell_type": "markdown",
   "metadata": {},
   "source": [
    "# bootloader"
   ]
  },
  {
   "cell_type": "code",
   "execution_count": 47,
   "metadata": {},
   "outputs": [
    {
     "data": {
      "text/plain": [
       "12"
      ]
     },
     "execution_count": 47,
     "metadata": {},
     "output_type": "execute_result"
    }
   ],
   "source": [
    "new_df['bootloader'].isnull().sum()"
   ]
  },
  {
   "cell_type": "code",
   "execution_count": 48,
   "metadata": {},
   "outputs": [],
   "source": [
    "new_df['bootloader'] = df['bootloader'].fillna(method = 'ffill')"
   ]
  },
  {
   "cell_type": "code",
   "execution_count": 49,
   "metadata": {},
   "outputs": [
    {
     "data": {
      "text/plain": [
       "0           0xB106\n",
       "0           0xB106\n",
       "0           0xB106\n",
       "0           0xB106\n",
       "0           0xB106\n",
       "         ...      \n",
       "0    M305FDDU3CSL5\n",
       "0    M305FDDU3CSL5\n",
       "0    M305FDDU3CSL5\n",
       "0    M305FDDU3CSL5\n",
       "0    M305FDDU3CSL5\n",
       "Name: bootloader, Length: 85, dtype: object"
      ]
     },
     "execution_count": 49,
     "metadata": {},
     "output_type": "execute_result"
    }
   ],
   "source": [
    "new_df['bootloader']"
   ]
  },
  {
   "cell_type": "markdown",
   "metadata": {},
   "source": [
    "# brand"
   ]
  },
  {
   "cell_type": "code",
   "execution_count": 50,
   "metadata": {},
   "outputs": [
    {
     "data": {
      "text/plain": [
       "12"
      ]
     },
     "execution_count": 50,
     "metadata": {},
     "output_type": "execute_result"
    }
   ],
   "source": [
    "new_df['brand'].isnull().sum()"
   ]
  },
  {
   "cell_type": "code",
   "execution_count": 51,
   "metadata": {},
   "outputs": [],
   "source": [
    "new_df['brand'] = df['brand'].fillna(method = 'ffill')"
   ]
  },
  {
   "cell_type": "code",
   "execution_count": 52,
   "metadata": {},
   "outputs": [
    {
     "data": {
      "text/plain": [
       "0    motorola\n",
       "0    motorola\n",
       "0    motorola\n",
       "0    motorola\n",
       "0    motorola\n",
       "       ...   \n",
       "0     samsung\n",
       "0     samsung\n",
       "0     samsung\n",
       "0     samsung\n",
       "0     samsung\n",
       "Name: brand, Length: 85, dtype: object"
      ]
     },
     "execution_count": 52,
     "metadata": {},
     "output_type": "execute_result"
    }
   ],
   "source": [
    "new_df['brand'] "
   ]
  },
  {
   "cell_type": "markdown",
   "metadata": {},
   "source": [
    "# device"
   ]
  },
  {
   "cell_type": "code",
   "execution_count": 53,
   "metadata": {},
   "outputs": [
    {
     "data": {
      "text/plain": [
       "12"
      ]
     },
     "execution_count": 53,
     "metadata": {},
     "output_type": "execute_result"
    }
   ],
   "source": [
    "new_df['device'].isnull().sum()"
   ]
  },
  {
   "cell_type": "code",
   "execution_count": 54,
   "metadata": {},
   "outputs": [],
   "source": [
    "new_df['device'] = df['device'].fillna(method = 'ffill')"
   ]
  },
  {
   "cell_type": "code",
   "execution_count": 55,
   "metadata": {},
   "outputs": [
    {
     "data": {
      "text/plain": [
       "0    athene_f\n",
       "0    athene_f\n",
       "0    athene_f\n",
       "0    athene_f\n",
       "0    athene_f\n",
       "       ...   \n",
       "0      m30lte\n",
       "0      m30lte\n",
       "0      m30lte\n",
       "0      m30lte\n",
       "0      m30lte\n",
       "Name: device, Length: 85, dtype: object"
      ]
     },
     "execution_count": 55,
     "metadata": {},
     "output_type": "execute_result"
    }
   ],
   "source": [
    "new_df['device']"
   ]
  },
  {
   "cell_type": "markdown",
   "metadata": {},
   "source": [
    "# display"
   ]
  },
  {
   "cell_type": "code",
   "execution_count": 56,
   "metadata": {},
   "outputs": [
    {
     "data": {
      "text/plain": [
       "12"
      ]
     },
     "execution_count": 56,
     "metadata": {},
     "output_type": "execute_result"
    }
   ],
   "source": [
    "new_df['display'].isnull().sum()"
   ]
  },
  {
   "cell_type": "code",
   "execution_count": 57,
   "metadata": {},
   "outputs": [],
   "source": [
    "new_df['display'] = df['display'].fillna(method = 'ffill')"
   ]
  },
  {
   "cell_type": "code",
   "execution_count": 58,
   "metadata": {},
   "outputs": [
    {
     "data": {
      "text/plain": [
       "0                  NPJS25.93-14-10\n",
       "0                  NPJS25.93-14-10\n",
       "0                  NPJS25.93-14-10\n",
       "0                  NPJS25.93-14-10\n",
       "0                  NPJS25.93-14-10\n",
       "                 ...              \n",
       "0    QP1A.190711.020.M305FDDU3CSL5\n",
       "0    QP1A.190711.020.M305FDDU3CSL5\n",
       "0    QP1A.190711.020.M305FDDU3CSL5\n",
       "0    QP1A.190711.020.M305FDDU3CSL5\n",
       "0    QP1A.190711.020.M305FDDU3CSL5\n",
       "Name: display, Length: 85, dtype: object"
      ]
     },
     "execution_count": 58,
     "metadata": {},
     "output_type": "execute_result"
    }
   ],
   "source": [
    "new_df['display']"
   ]
  },
  {
   "cell_type": "markdown",
   "metadata": {},
   "source": [
    "# fingerprint"
   ]
  },
  {
   "cell_type": "code",
   "execution_count": 59,
   "metadata": {},
   "outputs": [],
   "source": [
    "new_df['fingerprint'] = df['fingerprint'].fillna(method = 'ffill')"
   ]
  },
  {
   "cell_type": "code",
   "execution_count": 60,
   "metadata": {},
   "outputs": [
    {
     "data": {
      "text/plain": [
       "0    motorola/athene_f/athene_f:7.0/NPJS25.93-14-10...\n",
       "0    motorola/athene_f/athene_f:7.0/NPJS25.93-14-10...\n",
       "0    motorola/athene_f/athene_f:7.0/NPJS25.93-14-10...\n",
       "0    motorola/athene_f/athene_f:7.0/NPJS25.93-14-10...\n",
       "0    motorola/athene_f/athene_f:7.0/NPJS25.93-14-10...\n",
       "                           ...                        \n",
       "0    samsung/m30ltedd/m30lte:10/QP1A.190711.020/M30...\n",
       "0    samsung/m30ltedd/m30lte:10/QP1A.190711.020/M30...\n",
       "0    samsung/m30ltedd/m30lte:10/QP1A.190711.020/M30...\n",
       "0    samsung/m30ltedd/m30lte:10/QP1A.190711.020/M30...\n",
       "0    samsung/m30ltedd/m30lte:10/QP1A.190711.020/M30...\n",
       "Name: fingerprint, Length: 85, dtype: object"
      ]
     },
     "execution_count": 60,
     "metadata": {},
     "output_type": "execute_result"
    }
   ],
   "source": [
    "new_df['fingerprint']"
   ]
  },
  {
   "cell_type": "markdown",
   "metadata": {},
   "source": [
    "# host"
   ]
  },
  {
   "cell_type": "code",
   "execution_count": 61,
   "metadata": {},
   "outputs": [
    {
     "data": {
      "text/plain": [
       "0    ilclbld26\n",
       "0          NaN\n",
       "0    ilclbld26\n",
       "0          NaN\n",
       "0    ilclbld26\n",
       "       ...    \n",
       "0     21HHAF01\n",
       "0     21HHAF01\n",
       "0     21HHAF01\n",
       "0     21HHAF01\n",
       "0     21HHAF01\n",
       "Name: host, Length: 85, dtype: object"
      ]
     },
     "execution_count": 61,
     "metadata": {},
     "output_type": "execute_result"
    }
   ],
   "source": [
    "new_df['host']"
   ]
  },
  {
   "cell_type": "markdown",
   "metadata": {},
   "source": [
    "# id "
   ]
  },
  {
   "cell_type": "code",
   "execution_count": 62,
   "metadata": {},
   "outputs": [
    {
     "data": {
      "text/plain": [
       "12"
      ]
     },
     "execution_count": 62,
     "metadata": {},
     "output_type": "execute_result"
    }
   ],
   "source": [
    "new_df['id'].isna().sum()"
   ]
  },
  {
   "cell_type": "code",
   "execution_count": 63,
   "metadata": {},
   "outputs": [],
   "source": [
    "new_df['id'] = df['id'].fillna(method = 'ffill')"
   ]
  },
  {
   "cell_type": "code",
   "execution_count": 64,
   "metadata": {},
   "outputs": [
    {
     "data": {
      "text/plain": [
       "0    NPJS25.93-14-10\n",
       "0    NPJS25.93-14-10\n",
       "0    NPJS25.93-14-10\n",
       "0    NPJS25.93-14-10\n",
       "0    NPJS25.93-14-10\n",
       "          ...       \n",
       "0    QP1A.190711.020\n",
       "0    QP1A.190711.020\n",
       "0    QP1A.190711.020\n",
       "0    QP1A.190711.020\n",
       "0    QP1A.190711.020\n",
       "Name: id, Length: 85, dtype: object"
      ]
     },
     "execution_count": 64,
     "metadata": {},
     "output_type": "execute_result"
    }
   ],
   "source": [
    "new_df['id']"
   ]
  },
  {
   "cell_type": "markdown",
   "metadata": {},
   "source": [
    "# inclication"
   ]
  },
  {
   "cell_type": "code",
   "execution_count": 65,
   "metadata": {},
   "outputs": [
    {
     "data": {
      "text/plain": [
       "1"
      ]
     },
     "execution_count": 65,
     "metadata": {},
     "output_type": "execute_result"
    }
   ],
   "source": [
    "new_df['inclication'].isna().sum()"
   ]
  },
  {
   "cell_type": "code",
   "execution_count": 66,
   "metadata": {},
   "outputs": [],
   "source": [
    "new_df['inclication'] = df['inclication'].fillna(method = 'ffill')"
   ]
  },
  {
   "cell_type": "code",
   "execution_count": 67,
   "metadata": {},
   "outputs": [],
   "source": [
    "temp_inclication = new_df['inclication']\n",
    "\n",
    "my_list = [] \n",
    "summation_inclication = []\n",
    "\n",
    "for i in temp_inclication:\n",
    "    list_inclication  = re.split(',',i)\n",
    "    summation_inclication = 0.0\n",
    "    for j  in list_inclication :\n",
    "        summation_inclication = summation_inclication + float(j)\n",
    "    summation_inclication  = math.floor(summation_inclication)   # 0.9->0 floor     0.1 ->1  ceil\n",
    "    my_list.append(summation_inclication)"
   ]
  },
  {
   "cell_type": "code",
   "execution_count": 68,
   "metadata": {},
   "outputs": [
    {
     "data": {
      "text/plain": [
       "0    13\n",
       "0    12\n",
       "0    13\n",
       "0    10\n",
       "0    15\n",
       "     ..\n",
       "0    14\n",
       "0    14\n",
       "0    12\n",
       "0    14\n",
       "0    14\n",
       "Name: inclined, Length: 85, dtype: int64"
      ]
     },
     "execution_count": 68,
     "metadata": {},
     "output_type": "execute_result"
    }
   ],
   "source": [
    "df2  = new_df.assign(inclined = my_list)\n",
    "\n",
    "\n",
    "new_df = df2\n",
    "\n",
    "del new_df['inclication']\n",
    "new_df['inclined']"
   ]
  },
  {
   "cell_type": "markdown",
   "metadata": {},
   "source": [
    "# isPhysicalDevice"
   ]
  },
  {
   "cell_type": "code",
   "execution_count": 69,
   "metadata": {},
   "outputs": [],
   "source": [
    "# new_df=new_df.drop(labels='isPhysicalDevice',axis=1)\n",
    "\n",
    "del new_df['isPhysicalDevice']"
   ]
  },
  {
   "cell_type": "code",
   "execution_count": null,
   "metadata": {},
   "outputs": [],
   "source": []
  },
  {
   "cell_type": "markdown",
   "metadata": {},
   "source": [
    "# latitude"
   ]
  },
  {
   "cell_type": "code",
   "execution_count": 70,
   "metadata": {},
   "outputs": [
    {
     "data": {
      "text/plain": [
       "array(['-32.06011427569395', '-32.06026406030362', '-32.06012672282016',\n",
       "       '-32.06023472364252', '-32.0601685904265', '-31.961822547048293',\n",
       "       '-32.060216283455546', nan, '18.5224725', '18.5228256',\n",
       "       '18.5228576', '18.5233773', '18.518282594269014', '18.5225303'],\n",
       "      dtype=object)"
      ]
     },
     "execution_count": 70,
     "metadata": {},
     "output_type": "execute_result"
    }
   ],
   "source": [
    "new_df['latitude'].unique()"
   ]
  },
  {
   "cell_type": "code",
   "execution_count": 71,
   "metadata": {},
   "outputs": [],
   "source": [
    "new_df['latitude'] = df['latitude'].fillna(method = 'ffill')"
   ]
  },
  {
   "cell_type": "code",
   "execution_count": 72,
   "metadata": {},
   "outputs": [],
   "source": [
    "new_df['latitude']=new_df['latitude'].astype(float)"
   ]
  },
  {
   "cell_type": "markdown",
   "metadata": {},
   "source": [
    "# longitude"
   ]
  },
  {
   "cell_type": "code",
   "execution_count": 73,
   "metadata": {},
   "outputs": [],
   "source": [
    "new_df['longitude']= df[\"longitude\"]"
   ]
  },
  {
   "cell_type": "code",
   "execution_count": 74,
   "metadata": {},
   "outputs": [],
   "source": [
    "new_df['longitude'] = new_df['longitude'].fillna(73)  # mannual eye balling as only one entry was faulty"
   ]
  },
  {
   "cell_type": "code",
   "execution_count": 75,
   "metadata": {},
   "outputs": [
    {
     "data": {
      "text/plain": [
       "0    115.86587601352097\n",
       "0    115.86587601352097\n",
       "0    115.86587601352097\n",
       "0    115.86614850919308\n",
       "0    115.86587601352097\n",
       "            ...        \n",
       "0                    73\n",
       "0                    73\n",
       "0            73.9084453\n",
       "0            73.9086092\n",
       "0              73.90804\n",
       "Name: longitude, Length: 85, dtype: object"
      ]
     },
     "execution_count": 75,
     "metadata": {},
     "output_type": "execute_result"
    }
   ],
   "source": [
    "new_df['longitude']"
   ]
  },
  {
   "cell_type": "code",
   "execution_count": 76,
   "metadata": {},
   "outputs": [],
   "source": [
    "new_df['longitude']=new_df['longitude'].astype(float)"
   ]
  },
  {
   "cell_type": "code",
   "execution_count": 77,
   "metadata": {},
   "outputs": [
    {
     "data": {
      "text/html": [
       "<div>\n",
       "<style scoped>\n",
       "    .dataframe tbody tr th:only-of-type {\n",
       "        vertical-align: middle;\n",
       "    }\n",
       "\n",
       "    .dataframe tbody tr th {\n",
       "        vertical-align: top;\n",
       "    }\n",
       "\n",
       "    .dataframe thead th {\n",
       "        text-align: right;\n",
       "    }\n",
       "</style>\n",
       "<table border=\"1\" class=\"dataframe\">\n",
       "  <thead>\n",
       "    <tr style=\"text-align: right;\">\n",
       "      <th></th>\n",
       "      <th>Date and time</th>\n",
       "      <th>Device ip</th>\n",
       "      <th>Device velocity</th>\n",
       "      <th>Transaction ammount</th>\n",
       "      <th>Typing speed</th>\n",
       "      <th>User name</th>\n",
       "      <th>board</th>\n",
       "      <th>bootloader</th>\n",
       "      <th>brand</th>\n",
       "      <th>device</th>\n",
       "      <th>...</th>\n",
       "      <th>type</th>\n",
       "      <th>version.baseOS</th>\n",
       "      <th>version.codename</th>\n",
       "      <th>version.incremental</th>\n",
       "      <th>version.previewSdkInt</th>\n",
       "      <th>version.release</th>\n",
       "      <th>version.sdkInt</th>\n",
       "      <th>version.securityPatch</th>\n",
       "      <th>Device_velocity</th>\n",
       "      <th>inclined</th>\n",
       "    </tr>\n",
       "  </thead>\n",
       "  <tbody>\n",
       "    <tr>\n",
       "      <th>0</th>\n",
       "      <td>22</td>\n",
       "      <td>10.238.99.167</td>\n",
       "      <td>-0.1,0.0,-0.7</td>\n",
       "      <td>14</td>\n",
       "      <td>4.66667</td>\n",
       "      <td>vikram@blue-bricks.com</td>\n",
       "      <td>msm8952</td>\n",
       "      <td>0xB106</td>\n",
       "      <td>motorola</td>\n",
       "      <td>athene_f</td>\n",
       "      <td>...</td>\n",
       "      <td>user</td>\n",
       "      <td></td>\n",
       "      <td>REL</td>\n",
       "      <td>10</td>\n",
       "      <td>0</td>\n",
       "      <td>7.0</td>\n",
       "      <td>24</td>\n",
       "      <td>2017-09-01</td>\n",
       "      <td>-1</td>\n",
       "      <td>13</td>\n",
       "    </tr>\n",
       "    <tr>\n",
       "      <th>0</th>\n",
       "      <td>16</td>\n",
       "      <td>10.238.99.167</td>\n",
       "      <td>-0.3,0.1,0.9</td>\n",
       "      <td>10</td>\n",
       "      <td>2.8</td>\n",
       "      <td>vikram@blue-bricks.com</td>\n",
       "      <td>msm8952</td>\n",
       "      <td>0xB106</td>\n",
       "      <td>motorola</td>\n",
       "      <td>athene_f</td>\n",
       "      <td>...</td>\n",
       "      <td>NaN</td>\n",
       "      <td>NaN</td>\n",
       "      <td>NaN</td>\n",
       "      <td>NaN</td>\n",
       "      <td>NaN</td>\n",
       "      <td>NaN</td>\n",
       "      <td>NaN</td>\n",
       "      <td>NaN</td>\n",
       "      <td>0</td>\n",
       "      <td>12</td>\n",
       "    </tr>\n",
       "    <tr>\n",
       "      <th>0</th>\n",
       "      <td>8</td>\n",
       "      <td>10.1.0.250</td>\n",
       "      <td>-0.1,-0.0,-0.5</td>\n",
       "      <td>10</td>\n",
       "      <td>2.8</td>\n",
       "      <td>vikram@blue-bricks.com</td>\n",
       "      <td>msm8952</td>\n",
       "      <td>0xB106</td>\n",
       "      <td>motorola</td>\n",
       "      <td>athene_f</td>\n",
       "      <td>...</td>\n",
       "      <td>user</td>\n",
       "      <td></td>\n",
       "      <td>REL</td>\n",
       "      <td>10</td>\n",
       "      <td>0</td>\n",
       "      <td>7.0</td>\n",
       "      <td>24</td>\n",
       "      <td>2017-09-01</td>\n",
       "      <td>-1</td>\n",
       "      <td>13</td>\n",
       "    </tr>\n",
       "    <tr>\n",
       "      <th>0</th>\n",
       "      <td>1</td>\n",
       "      <td>10.1.0.250</td>\n",
       "      <td>-0.3,0.2,0.3</td>\n",
       "      <td>10</td>\n",
       "      <td>4.66667</td>\n",
       "      <td>vikram@blue-bricks.com</td>\n",
       "      <td>msm8952</td>\n",
       "      <td>0xB106</td>\n",
       "      <td>motorola</td>\n",
       "      <td>athene_f</td>\n",
       "      <td>...</td>\n",
       "      <td>NaN</td>\n",
       "      <td>NaN</td>\n",
       "      <td>NaN</td>\n",
       "      <td>NaN</td>\n",
       "      <td>NaN</td>\n",
       "      <td>NaN</td>\n",
       "      <td>NaN</td>\n",
       "      <td>NaN</td>\n",
       "      <td>0</td>\n",
       "      <td>10</td>\n",
       "    </tr>\n",
       "    <tr>\n",
       "      <th>0</th>\n",
       "      <td>11</td>\n",
       "      <td>10.1.0.250</td>\n",
       "      <td>0.1,0.1,-1.0</td>\n",
       "      <td>7</td>\n",
       "      <td>3.11111</td>\n",
       "      <td>vikram@blue-bricks.com</td>\n",
       "      <td>msm8952</td>\n",
       "      <td>0xB106</td>\n",
       "      <td>motorola</td>\n",
       "      <td>athene_f</td>\n",
       "      <td>...</td>\n",
       "      <td>user</td>\n",
       "      <td></td>\n",
       "      <td>REL</td>\n",
       "      <td>10</td>\n",
       "      <td>0</td>\n",
       "      <td>7.0</td>\n",
       "      <td>24</td>\n",
       "      <td>2017-09-01</td>\n",
       "      <td>-1</td>\n",
       "      <td>15</td>\n",
       "    </tr>\n",
       "    <tr>\n",
       "      <th>...</th>\n",
       "      <td>...</td>\n",
       "      <td>...</td>\n",
       "      <td>...</td>\n",
       "      <td>...</td>\n",
       "      <td>...</td>\n",
       "      <td>...</td>\n",
       "      <td>...</td>\n",
       "      <td>...</td>\n",
       "      <td>...</td>\n",
       "      <td>...</td>\n",
       "      <td>...</td>\n",
       "      <td>...</td>\n",
       "      <td>...</td>\n",
       "      <td>...</td>\n",
       "      <td>...</td>\n",
       "      <td>...</td>\n",
       "      <td>...</td>\n",
       "      <td>...</td>\n",
       "      <td>...</td>\n",
       "      <td>...</td>\n",
       "      <td>...</td>\n",
       "    </tr>\n",
       "    <tr>\n",
       "      <th>0</th>\n",
       "      <td>12</td>\n",
       "      <td>192.168.0.119</td>\n",
       "      <td>0.0,0.0,0.0</td>\n",
       "      <td>120</td>\n",
       "      <td>2.3636363636363638</td>\n",
       "      <td>raunak@mollatech.com</td>\n",
       "      <td>exynos7904</td>\n",
       "      <td>M305FDDU3CSL5</td>\n",
       "      <td>samsung</td>\n",
       "      <td>m30lte</td>\n",
       "      <td>...</td>\n",
       "      <td>user</td>\n",
       "      <td></td>\n",
       "      <td>REL</td>\n",
       "      <td>M305FDDU3CSL5</td>\n",
       "      <td>0</td>\n",
       "      <td>10</td>\n",
       "      <td>29</td>\n",
       "      <td>2019-12-01</td>\n",
       "      <td>0</td>\n",
       "      <td>14</td>\n",
       "    </tr>\n",
       "    <tr>\n",
       "      <th>0</th>\n",
       "      <td>0</td>\n",
       "      <td>192.168.0.138</td>\n",
       "      <td>0.0,-0.1,-0.3</td>\n",
       "      <td>110</td>\n",
       "      <td>3.7142857142857144</td>\n",
       "      <td>raunak@mollatech.com</td>\n",
       "      <td>exynos7904</td>\n",
       "      <td>M305FDDU3CSL5</td>\n",
       "      <td>samsung</td>\n",
       "      <td>m30lte</td>\n",
       "      <td>...</td>\n",
       "      <td>user</td>\n",
       "      <td></td>\n",
       "      <td>REL</td>\n",
       "      <td>M305FDDU3CSL5</td>\n",
       "      <td>0</td>\n",
       "      <td>10</td>\n",
       "      <td>29</td>\n",
       "      <td>2019-12-01</td>\n",
       "      <td>-1</td>\n",
       "      <td>14</td>\n",
       "    </tr>\n",
       "    <tr>\n",
       "      <th>0</th>\n",
       "      <td>13</td>\n",
       "      <td>25.22.227.50</td>\n",
       "      <td>0.1,0.2,0.1</td>\n",
       "      <td>120</td>\n",
       "      <td>2.3636363636363638</td>\n",
       "      <td>raunak@mollatech.com</td>\n",
       "      <td>exynos7904</td>\n",
       "      <td>M305FDDU3CSL5</td>\n",
       "      <td>samsung</td>\n",
       "      <td>m30lte</td>\n",
       "      <td>...</td>\n",
       "      <td>user</td>\n",
       "      <td></td>\n",
       "      <td>REL</td>\n",
       "      <td>M305FDDU3CSL5</td>\n",
       "      <td>0</td>\n",
       "      <td>10</td>\n",
       "      <td>29</td>\n",
       "      <td>2019-12-01</td>\n",
       "      <td>0</td>\n",
       "      <td>12</td>\n",
       "    </tr>\n",
       "    <tr>\n",
       "      <th>0</th>\n",
       "      <td>13</td>\n",
       "      <td>25.22.227.50</td>\n",
       "      <td>0.6,0.6,1.0</td>\n",
       "      <td>150</td>\n",
       "      <td>2.3636363636363638</td>\n",
       "      <td>raunak@mollatech.com</td>\n",
       "      <td>exynos7904</td>\n",
       "      <td>M305FDDU3CSL5</td>\n",
       "      <td>samsung</td>\n",
       "      <td>m30lte</td>\n",
       "      <td>...</td>\n",
       "      <td>user</td>\n",
       "      <td></td>\n",
       "      <td>REL</td>\n",
       "      <td>M305FDDU3CSL5</td>\n",
       "      <td>0</td>\n",
       "      <td>10</td>\n",
       "      <td>29</td>\n",
       "      <td>2019-12-01</td>\n",
       "      <td>2</td>\n",
       "      <td>14</td>\n",
       "    </tr>\n",
       "    <tr>\n",
       "      <th>0</th>\n",
       "      <td>9</td>\n",
       "      <td>25.22.227.50</td>\n",
       "      <td>0.1,0.2,0.9</td>\n",
       "      <td>150</td>\n",
       "      <td>2.1666666666666665</td>\n",
       "      <td>raunak@mollatech.com</td>\n",
       "      <td>exynos7904</td>\n",
       "      <td>M305FDDU3CSL5</td>\n",
       "      <td>samsung</td>\n",
       "      <td>m30lte</td>\n",
       "      <td>...</td>\n",
       "      <td>user</td>\n",
       "      <td></td>\n",
       "      <td>REL</td>\n",
       "      <td>M305FDDU3CSL5</td>\n",
       "      <td>0</td>\n",
       "      <td>10</td>\n",
       "      <td>29</td>\n",
       "      <td>2019-12-01</td>\n",
       "      <td>1</td>\n",
       "      <td>14</td>\n",
       "    </tr>\n",
       "  </tbody>\n",
       "</table>\n",
       "<p>85 rows × 34 columns</p>\n",
       "</div>"
      ],
      "text/plain": [
       "    Date and time      Device ip Device velocity Transaction ammount  \\\n",
       "0              22  10.238.99.167   -0.1,0.0,-0.7                  14   \n",
       "0              16  10.238.99.167    -0.3,0.1,0.9                  10   \n",
       "0               8     10.1.0.250  -0.1,-0.0,-0.5                  10   \n",
       "0               1     10.1.0.250    -0.3,0.2,0.3                  10   \n",
       "0              11     10.1.0.250    0.1,0.1,-1.0                   7   \n",
       "..            ...            ...             ...                 ...   \n",
       "0              12  192.168.0.119     0.0,0.0,0.0                 120   \n",
       "0               0  192.168.0.138   0.0,-0.1,-0.3                 110   \n",
       "0              13   25.22.227.50     0.1,0.2,0.1                 120   \n",
       "0              13   25.22.227.50     0.6,0.6,1.0                 150   \n",
       "0               9   25.22.227.50     0.1,0.2,0.9                 150   \n",
       "\n",
       "          Typing speed               User name       board     bootloader  \\\n",
       "0              4.66667  vikram@blue-bricks.com     msm8952         0xB106   \n",
       "0                  2.8  vikram@blue-bricks.com     msm8952         0xB106   \n",
       "0                  2.8  vikram@blue-bricks.com     msm8952         0xB106   \n",
       "0              4.66667  vikram@blue-bricks.com     msm8952         0xB106   \n",
       "0              3.11111  vikram@blue-bricks.com     msm8952         0xB106   \n",
       "..                 ...                     ...         ...            ...   \n",
       "0   2.3636363636363638    raunak@mollatech.com  exynos7904  M305FDDU3CSL5   \n",
       "0   3.7142857142857144    raunak@mollatech.com  exynos7904  M305FDDU3CSL5   \n",
       "0   2.3636363636363638    raunak@mollatech.com  exynos7904  M305FDDU3CSL5   \n",
       "0   2.3636363636363638    raunak@mollatech.com  exynos7904  M305FDDU3CSL5   \n",
       "0   2.1666666666666665    raunak@mollatech.com  exynos7904  M305FDDU3CSL5   \n",
       "\n",
       "       brand    device  ...  type version.baseOS version.codename  \\\n",
       "0   motorola  athene_f  ...  user                             REL   \n",
       "0   motorola  athene_f  ...   NaN            NaN              NaN   \n",
       "0   motorola  athene_f  ...  user                             REL   \n",
       "0   motorola  athene_f  ...   NaN            NaN              NaN   \n",
       "0   motorola  athene_f  ...  user                             REL   \n",
       "..       ...       ...  ...   ...            ...              ...   \n",
       "0    samsung    m30lte  ...  user                             REL   \n",
       "0    samsung    m30lte  ...  user                             REL   \n",
       "0    samsung    m30lte  ...  user                             REL   \n",
       "0    samsung    m30lte  ...  user                             REL   \n",
       "0    samsung    m30lte  ...  user                             REL   \n",
       "\n",
       "   version.incremental  version.previewSdkInt  version.release version.sdkInt  \\\n",
       "0                   10                      0              7.0             24   \n",
       "0                  NaN                    NaN              NaN            NaN   \n",
       "0                   10                      0              7.0             24   \n",
       "0                  NaN                    NaN              NaN            NaN   \n",
       "0                   10                      0              7.0             24   \n",
       "..                 ...                    ...              ...            ...   \n",
       "0        M305FDDU3CSL5                      0               10             29   \n",
       "0        M305FDDU3CSL5                      0               10             29   \n",
       "0        M305FDDU3CSL5                      0               10             29   \n",
       "0        M305FDDU3CSL5                      0               10             29   \n",
       "0        M305FDDU3CSL5                      0               10             29   \n",
       "\n",
       "   version.securityPatch Device_velocity inclined  \n",
       "0             2017-09-01              -1       13  \n",
       "0                    NaN               0       12  \n",
       "0             2017-09-01              -1       13  \n",
       "0                    NaN               0       10  \n",
       "0             2017-09-01              -1       15  \n",
       "..                   ...             ...      ...  \n",
       "0             2019-12-01               0       14  \n",
       "0             2019-12-01              -1       14  \n",
       "0             2019-12-01               0       12  \n",
       "0             2019-12-01               2       14  \n",
       "0             2019-12-01               1       14  \n",
       "\n",
       "[85 rows x 34 columns]"
      ]
     },
     "execution_count": 77,
     "metadata": {},
     "output_type": "execute_result"
    }
   ],
   "source": [
    "new_df"
   ]
  },
  {
   "cell_type": "markdown",
   "metadata": {},
   "source": [
    "# longitude and latitude"
   ]
  },
  {
   "cell_type": "code",
   "execution_count": 78,
   "metadata": {},
   "outputs": [],
   "source": [
    "new_df=new_df.drop(labels=['longitude and latitude'],axis=1)"
   ]
  },
  {
   "cell_type": "code",
   "execution_count": 79,
   "metadata": {},
   "outputs": [],
   "source": [
    "new_df = new_df.drop(labels=['product','supported32BitAbis','supportedAbis','supported64BitAbis','tags','type','version.baseOS','version.codename','version.incremental','version.previewSdkInt','version.release','version.sdkInt','version.securityPatch'],axis=1)"
   ]
  },
  {
   "cell_type": "code",
   "execution_count": 80,
   "metadata": {},
   "outputs": [],
   "source": [
    "new_df =  new_df.drop(labels='Device velocity',axis=1)"
   ]
  },
  {
   "cell_type": "code",
   "execution_count": 81,
   "metadata": {},
   "outputs": [
    {
     "name": "stdout",
     "output_type": "stream",
     "text": [
      "<class 'pandas.core.frame.DataFrame'>\n",
      "Int64Index: 85 entries, 0 to 0\n",
      "Data columns (total 19 columns):\n",
      "Date and time          85 non-null int64\n",
      "Device ip              85 non-null object\n",
      "Transaction ammount    85 non-null object\n",
      "Typing speed           85 non-null object\n",
      "User name              84 non-null object\n",
      "board                  85 non-null object\n",
      "bootloader             85 non-null object\n",
      "brand                  85 non-null object\n",
      "device                 85 non-null object\n",
      "display                85 non-null object\n",
      "fingerprint            85 non-null object\n",
      "host                   73 non-null object\n",
      "id                     85 non-null object\n",
      "latitude               85 non-null float64\n",
      "longitude              85 non-null float64\n",
      "manufacturer           73 non-null object\n",
      "model                  85 non-null object\n",
      "Device_velocity        85 non-null int64\n",
      "inclined               85 non-null int64\n",
      "dtypes: float64(2), int64(3), object(14)\n",
      "memory usage: 13.3+ KB\n"
     ]
    }
   ],
   "source": [
    "new_df.info()"
   ]
  },
  {
   "cell_type": "code",
   "execution_count": 82,
   "metadata": {},
   "outputs": [
    {
     "data": {
      "text/html": [
       "<div>\n",
       "<style scoped>\n",
       "    .dataframe tbody tr th:only-of-type {\n",
       "        vertical-align: middle;\n",
       "    }\n",
       "\n",
       "    .dataframe tbody tr th {\n",
       "        vertical-align: top;\n",
       "    }\n",
       "\n",
       "    .dataframe thead th {\n",
       "        text-align: right;\n",
       "    }\n",
       "</style>\n",
       "<table border=\"1\" class=\"dataframe\">\n",
       "  <thead>\n",
       "    <tr style=\"text-align: right;\">\n",
       "      <th></th>\n",
       "      <th>Date and time</th>\n",
       "      <th>Device ip</th>\n",
       "      <th>Transaction ammount</th>\n",
       "      <th>Typing speed</th>\n",
       "      <th>User name</th>\n",
       "      <th>board</th>\n",
       "      <th>bootloader</th>\n",
       "      <th>brand</th>\n",
       "      <th>device</th>\n",
       "      <th>display</th>\n",
       "      <th>fingerprint</th>\n",
       "      <th>host</th>\n",
       "      <th>id</th>\n",
       "      <th>latitude</th>\n",
       "      <th>longitude</th>\n",
       "      <th>manufacturer</th>\n",
       "      <th>model</th>\n",
       "      <th>Device_velocity</th>\n",
       "      <th>inclined</th>\n",
       "    </tr>\n",
       "  </thead>\n",
       "  <tbody>\n",
       "    <tr>\n",
       "      <th>0</th>\n",
       "      <td>22</td>\n",
       "      <td>10.238.99.167</td>\n",
       "      <td>14</td>\n",
       "      <td>4.66667</td>\n",
       "      <td>vikram@blue-bricks.com</td>\n",
       "      <td>msm8952</td>\n",
       "      <td>0xB106</td>\n",
       "      <td>motorola</td>\n",
       "      <td>athene_f</td>\n",
       "      <td>NPJS25.93-14-10</td>\n",
       "      <td>motorola/athene_f/athene_f:7.0/NPJS25.93-14-10...</td>\n",
       "      <td>ilclbld26</td>\n",
       "      <td>NPJS25.93-14-10</td>\n",
       "      <td>-32.060114</td>\n",
       "      <td>115.865876</td>\n",
       "      <td>motorola</td>\n",
       "      <td>Moto G (4)</td>\n",
       "      <td>-1</td>\n",
       "      <td>13</td>\n",
       "    </tr>\n",
       "    <tr>\n",
       "      <th>0</th>\n",
       "      <td>16</td>\n",
       "      <td>10.238.99.167</td>\n",
       "      <td>10</td>\n",
       "      <td>2.8</td>\n",
       "      <td>vikram@blue-bricks.com</td>\n",
       "      <td>msm8952</td>\n",
       "      <td>0xB106</td>\n",
       "      <td>motorola</td>\n",
       "      <td>athene_f</td>\n",
       "      <td>NPJS25.93-14-10</td>\n",
       "      <td>motorola/athene_f/athene_f:7.0/NPJS25.93-14-10...</td>\n",
       "      <td>NaN</td>\n",
       "      <td>NPJS25.93-14-10</td>\n",
       "      <td>-32.060114</td>\n",
       "      <td>115.865876</td>\n",
       "      <td>NaN</td>\n",
       "      <td>iPhone</td>\n",
       "      <td>0</td>\n",
       "      <td>12</td>\n",
       "    </tr>\n",
       "    <tr>\n",
       "      <th>0</th>\n",
       "      <td>8</td>\n",
       "      <td>10.1.0.250</td>\n",
       "      <td>10</td>\n",
       "      <td>2.8</td>\n",
       "      <td>vikram@blue-bricks.com</td>\n",
       "      <td>msm8952</td>\n",
       "      <td>0xB106</td>\n",
       "      <td>motorola</td>\n",
       "      <td>athene_f</td>\n",
       "      <td>NPJS25.93-14-10</td>\n",
       "      <td>motorola/athene_f/athene_f:7.0/NPJS25.93-14-10...</td>\n",
       "      <td>ilclbld26</td>\n",
       "      <td>NPJS25.93-14-10</td>\n",
       "      <td>-32.060114</td>\n",
       "      <td>115.865876</td>\n",
       "      <td>motorola</td>\n",
       "      <td>Moto G (4)</td>\n",
       "      <td>-1</td>\n",
       "      <td>13</td>\n",
       "    </tr>\n",
       "    <tr>\n",
       "      <th>0</th>\n",
       "      <td>1</td>\n",
       "      <td>10.1.0.250</td>\n",
       "      <td>10</td>\n",
       "      <td>4.66667</td>\n",
       "      <td>vikram@blue-bricks.com</td>\n",
       "      <td>msm8952</td>\n",
       "      <td>0xB106</td>\n",
       "      <td>motorola</td>\n",
       "      <td>athene_f</td>\n",
       "      <td>NPJS25.93-14-10</td>\n",
       "      <td>motorola/athene_f/athene_f:7.0/NPJS25.93-14-10...</td>\n",
       "      <td>NaN</td>\n",
       "      <td>NPJS25.93-14-10</td>\n",
       "      <td>-32.060264</td>\n",
       "      <td>115.866149</td>\n",
       "      <td>NaN</td>\n",
       "      <td>iPhone</td>\n",
       "      <td>0</td>\n",
       "      <td>10</td>\n",
       "    </tr>\n",
       "  </tbody>\n",
       "</table>\n",
       "</div>"
      ],
      "text/plain": [
       "   Date and time      Device ip Transaction ammount Typing speed  \\\n",
       "0             22  10.238.99.167                  14      4.66667   \n",
       "0             16  10.238.99.167                  10          2.8   \n",
       "0              8     10.1.0.250                  10          2.8   \n",
       "0              1     10.1.0.250                  10      4.66667   \n",
       "\n",
       "                User name    board bootloader     brand    device  \\\n",
       "0  vikram@blue-bricks.com  msm8952     0xB106  motorola  athene_f   \n",
       "0  vikram@blue-bricks.com  msm8952     0xB106  motorola  athene_f   \n",
       "0  vikram@blue-bricks.com  msm8952     0xB106  motorola  athene_f   \n",
       "0  vikram@blue-bricks.com  msm8952     0xB106  motorola  athene_f   \n",
       "\n",
       "           display                                        fingerprint  \\\n",
       "0  NPJS25.93-14-10  motorola/athene_f/athene_f:7.0/NPJS25.93-14-10...   \n",
       "0  NPJS25.93-14-10  motorola/athene_f/athene_f:7.0/NPJS25.93-14-10...   \n",
       "0  NPJS25.93-14-10  motorola/athene_f/athene_f:7.0/NPJS25.93-14-10...   \n",
       "0  NPJS25.93-14-10  motorola/athene_f/athene_f:7.0/NPJS25.93-14-10...   \n",
       "\n",
       "        host               id   latitude   longitude manufacturer       model  \\\n",
       "0  ilclbld26  NPJS25.93-14-10 -32.060114  115.865876     motorola  Moto G (4)   \n",
       "0        NaN  NPJS25.93-14-10 -32.060114  115.865876          NaN      iPhone   \n",
       "0  ilclbld26  NPJS25.93-14-10 -32.060114  115.865876     motorola  Moto G (4)   \n",
       "0        NaN  NPJS25.93-14-10 -32.060264  115.866149          NaN      iPhone   \n",
       "\n",
       "   Device_velocity  inclined  \n",
       "0               -1        13  \n",
       "0                0        12  \n",
       "0               -1        13  \n",
       "0                0        10  "
      ]
     },
     "execution_count": 82,
     "metadata": {},
     "output_type": "execute_result"
    }
   ],
   "source": [
    "new_df.head(4)"
   ]
  },
  {
   "cell_type": "code",
   "execution_count": 83,
   "metadata": {},
   "outputs": [],
   "source": [
    "################################################################################################################\n",
    "new_df['User name'] = new_df['User name'].fillna('raunak@mollatech.com')   # mannual eye\n",
    "new_df['User name']=new_df['User name'].astype(str)\n"
   ]
  },
  {
   "cell_type": "code",
   "execution_count": 84,
   "metadata": {},
   "outputs": [
    {
     "data": {
      "text/plain": [
       "array(['vikram@blue-bricks.com', 'mukunda@mollatech.com',\n",
       "       'raunak@mollatech.com'], dtype=object)"
      ]
     },
     "execution_count": 84,
     "metadata": {},
     "output_type": "execute_result"
    }
   ],
   "source": [
    "new_df['User name'].unique()"
   ]
  },
  {
   "cell_type": "code",
   "execution_count": 85,
   "metadata": {},
   "outputs": [],
   "source": [
    "y = new_df.iloc[:, 4]\n",
    "\n",
    "Y= []\n",
    "\n",
    "for index, value in y.items():\n",
    "    if value !=\"vikram@blue-bricks.com\":\n",
    "        Y.append(\"others\")\n",
    "    else:\n",
    "        Y.append(\"vikram@blue-bricks.com\")\n",
    "\n",
    "Y= pd.Series(Y)"
   ]
  },
  {
   "cell_type": "code",
   "execution_count": 86,
   "metadata": {},
   "outputs": [],
   "source": [
    "y = Y.astype('category').cat.codes\n",
    "tttrain_y = y.to_numpy()"
   ]
  },
  {
   "cell_type": "code",
   "execution_count": 87,
   "metadata": {},
   "outputs": [
    {
     "data": {
      "text/plain": [
       "array([1, 1, 1, 1, 1, 1, 1, 1, 1, 1, 1, 1, 1, 1, 1, 1, 1, 1, 1, 1, 1, 1,\n",
       "       1, 1, 1, 1, 1, 1, 1, 1, 1, 1, 1, 1, 1, 1, 0, 0, 0, 0, 0, 0, 0, 0,\n",
       "       0, 0, 0, 0, 0, 0, 0, 0, 0, 0, 0, 0, 0, 0, 0, 0, 0, 0, 0, 0, 0, 0,\n",
       "       0, 0, 0, 0, 0, 0, 0, 0, 0, 0, 0, 0, 0, 0, 0, 0, 0, 0, 0],\n",
       "      dtype=int8)"
      ]
     },
     "execution_count": 87,
     "metadata": {},
     "output_type": "execute_result"
    }
   ],
   "source": [
    "tttrain_y"
   ]
  },
  {
   "cell_type": "code",
   "execution_count": null,
   "metadata": {},
   "outputs": [],
   "source": []
  },
  {
   "cell_type": "code",
   "execution_count": 88,
   "metadata": {},
   "outputs": [
    {
     "data": {
      "text/html": [
       "<div>\n",
       "<style scoped>\n",
       "    .dataframe tbody tr th:only-of-type {\n",
       "        vertical-align: middle;\n",
       "    }\n",
       "\n",
       "    .dataframe tbody tr th {\n",
       "        vertical-align: top;\n",
       "    }\n",
       "\n",
       "    .dataframe thead th {\n",
       "        text-align: right;\n",
       "    }\n",
       "</style>\n",
       "<table border=\"1\" class=\"dataframe\">\n",
       "  <thead>\n",
       "    <tr style=\"text-align: right;\">\n",
       "      <th></th>\n",
       "      <th>Date and time</th>\n",
       "      <th>Device ip</th>\n",
       "      <th>Transaction ammount</th>\n",
       "      <th>Typing speed</th>\n",
       "      <th>User name</th>\n",
       "      <th>board</th>\n",
       "      <th>bootloader</th>\n",
       "      <th>brand</th>\n",
       "      <th>device</th>\n",
       "      <th>display</th>\n",
       "      <th>fingerprint</th>\n",
       "      <th>host</th>\n",
       "      <th>id</th>\n",
       "      <th>latitude</th>\n",
       "      <th>longitude</th>\n",
       "      <th>manufacturer</th>\n",
       "      <th>model</th>\n",
       "      <th>Device_velocity</th>\n",
       "      <th>inclined</th>\n",
       "    </tr>\n",
       "  </thead>\n",
       "  <tbody>\n",
       "    <tr>\n",
       "      <th>0</th>\n",
       "      <td>22</td>\n",
       "      <td>10.238.99.167</td>\n",
       "      <td>14</td>\n",
       "      <td>4.66667</td>\n",
       "      <td>vikram@blue-bricks.com</td>\n",
       "      <td>msm8952</td>\n",
       "      <td>0xB106</td>\n",
       "      <td>motorola</td>\n",
       "      <td>athene_f</td>\n",
       "      <td>NPJS25.93-14-10</td>\n",
       "      <td>motorola/athene_f/athene_f:7.0/NPJS25.93-14-10...</td>\n",
       "      <td>ilclbld26</td>\n",
       "      <td>NPJS25.93-14-10</td>\n",
       "      <td>-32.060114</td>\n",
       "      <td>115.865876</td>\n",
       "      <td>motorola</td>\n",
       "      <td>Moto G (4)</td>\n",
       "      <td>-1</td>\n",
       "      <td>13</td>\n",
       "    </tr>\n",
       "    <tr>\n",
       "      <th>0</th>\n",
       "      <td>16</td>\n",
       "      <td>10.238.99.167</td>\n",
       "      <td>10</td>\n",
       "      <td>2.8</td>\n",
       "      <td>vikram@blue-bricks.com</td>\n",
       "      <td>msm8952</td>\n",
       "      <td>0xB106</td>\n",
       "      <td>motorola</td>\n",
       "      <td>athene_f</td>\n",
       "      <td>NPJS25.93-14-10</td>\n",
       "      <td>motorola/athene_f/athene_f:7.0/NPJS25.93-14-10...</td>\n",
       "      <td>NaN</td>\n",
       "      <td>NPJS25.93-14-10</td>\n",
       "      <td>-32.060114</td>\n",
       "      <td>115.865876</td>\n",
       "      <td>NaN</td>\n",
       "      <td>iPhone</td>\n",
       "      <td>0</td>\n",
       "      <td>12</td>\n",
       "    </tr>\n",
       "    <tr>\n",
       "      <th>0</th>\n",
       "      <td>8</td>\n",
       "      <td>10.1.0.250</td>\n",
       "      <td>10</td>\n",
       "      <td>2.8</td>\n",
       "      <td>vikram@blue-bricks.com</td>\n",
       "      <td>msm8952</td>\n",
       "      <td>0xB106</td>\n",
       "      <td>motorola</td>\n",
       "      <td>athene_f</td>\n",
       "      <td>NPJS25.93-14-10</td>\n",
       "      <td>motorola/athene_f/athene_f:7.0/NPJS25.93-14-10...</td>\n",
       "      <td>ilclbld26</td>\n",
       "      <td>NPJS25.93-14-10</td>\n",
       "      <td>-32.060114</td>\n",
       "      <td>115.865876</td>\n",
       "      <td>motorola</td>\n",
       "      <td>Moto G (4)</td>\n",
       "      <td>-1</td>\n",
       "      <td>13</td>\n",
       "    </tr>\n",
       "    <tr>\n",
       "      <th>0</th>\n",
       "      <td>1</td>\n",
       "      <td>10.1.0.250</td>\n",
       "      <td>10</td>\n",
       "      <td>4.66667</td>\n",
       "      <td>vikram@blue-bricks.com</td>\n",
       "      <td>msm8952</td>\n",
       "      <td>0xB106</td>\n",
       "      <td>motorola</td>\n",
       "      <td>athene_f</td>\n",
       "      <td>NPJS25.93-14-10</td>\n",
       "      <td>motorola/athene_f/athene_f:7.0/NPJS25.93-14-10...</td>\n",
       "      <td>NaN</td>\n",
       "      <td>NPJS25.93-14-10</td>\n",
       "      <td>-32.060264</td>\n",
       "      <td>115.866149</td>\n",
       "      <td>NaN</td>\n",
       "      <td>iPhone</td>\n",
       "      <td>0</td>\n",
       "      <td>10</td>\n",
       "    </tr>\n",
       "    <tr>\n",
       "      <th>0</th>\n",
       "      <td>11</td>\n",
       "      <td>10.1.0.250</td>\n",
       "      <td>7</td>\n",
       "      <td>3.11111</td>\n",
       "      <td>vikram@blue-bricks.com</td>\n",
       "      <td>msm8952</td>\n",
       "      <td>0xB106</td>\n",
       "      <td>motorola</td>\n",
       "      <td>athene_f</td>\n",
       "      <td>NPJS25.93-14-10</td>\n",
       "      <td>motorola/athene_f/athene_f:7.0/NPJS25.93-14-10...</td>\n",
       "      <td>ilclbld26</td>\n",
       "      <td>NPJS25.93-14-10</td>\n",
       "      <td>-32.060114</td>\n",
       "      <td>115.865876</td>\n",
       "      <td>motorola</td>\n",
       "      <td>Moto G (4)</td>\n",
       "      <td>-1</td>\n",
       "      <td>15</td>\n",
       "    </tr>\n",
       "    <tr>\n",
       "      <th>...</th>\n",
       "      <td>...</td>\n",
       "      <td>...</td>\n",
       "      <td>...</td>\n",
       "      <td>...</td>\n",
       "      <td>...</td>\n",
       "      <td>...</td>\n",
       "      <td>...</td>\n",
       "      <td>...</td>\n",
       "      <td>...</td>\n",
       "      <td>...</td>\n",
       "      <td>...</td>\n",
       "      <td>...</td>\n",
       "      <td>...</td>\n",
       "      <td>...</td>\n",
       "      <td>...</td>\n",
       "      <td>...</td>\n",
       "      <td>...</td>\n",
       "      <td>...</td>\n",
       "      <td>...</td>\n",
       "    </tr>\n",
       "    <tr>\n",
       "      <th>0</th>\n",
       "      <td>12</td>\n",
       "      <td>192.168.0.119</td>\n",
       "      <td>120</td>\n",
       "      <td>2.3636363636363638</td>\n",
       "      <td>raunak@mollatech.com</td>\n",
       "      <td>exynos7904</td>\n",
       "      <td>M305FDDU3CSL5</td>\n",
       "      <td>samsung</td>\n",
       "      <td>m30lte</td>\n",
       "      <td>QP1A.190711.020.M305FDDU3CSL5</td>\n",
       "      <td>samsung/m30ltedd/m30lte:10/QP1A.190711.020/M30...</td>\n",
       "      <td>21HHAF01</td>\n",
       "      <td>QP1A.190711.020</td>\n",
       "      <td>18.518283</td>\n",
       "      <td>73.000000</td>\n",
       "      <td>samsung</td>\n",
       "      <td>SM-M305F</td>\n",
       "      <td>0</td>\n",
       "      <td>14</td>\n",
       "    </tr>\n",
       "    <tr>\n",
       "      <th>0</th>\n",
       "      <td>0</td>\n",
       "      <td>192.168.0.138</td>\n",
       "      <td>110</td>\n",
       "      <td>3.7142857142857144</td>\n",
       "      <td>raunak@mollatech.com</td>\n",
       "      <td>exynos7904</td>\n",
       "      <td>M305FDDU3CSL5</td>\n",
       "      <td>samsung</td>\n",
       "      <td>m30lte</td>\n",
       "      <td>QP1A.190711.020.M305FDDU3CSL5</td>\n",
       "      <td>samsung/m30ltedd/m30lte:10/QP1A.190711.020/M30...</td>\n",
       "      <td>21HHAF01</td>\n",
       "      <td>QP1A.190711.020</td>\n",
       "      <td>18.518283</td>\n",
       "      <td>73.000000</td>\n",
       "      <td>samsung</td>\n",
       "      <td>SM-M305F</td>\n",
       "      <td>-1</td>\n",
       "      <td>14</td>\n",
       "    </tr>\n",
       "    <tr>\n",
       "      <th>0</th>\n",
       "      <td>13</td>\n",
       "      <td>25.22.227.50</td>\n",
       "      <td>120</td>\n",
       "      <td>2.3636363636363638</td>\n",
       "      <td>raunak@mollatech.com</td>\n",
       "      <td>exynos7904</td>\n",
       "      <td>M305FDDU3CSL5</td>\n",
       "      <td>samsung</td>\n",
       "      <td>m30lte</td>\n",
       "      <td>QP1A.190711.020.M305FDDU3CSL5</td>\n",
       "      <td>samsung/m30ltedd/m30lte:10/QP1A.190711.020/M30...</td>\n",
       "      <td>21HHAF01</td>\n",
       "      <td>QP1A.190711.020</td>\n",
       "      <td>18.522530</td>\n",
       "      <td>73.908445</td>\n",
       "      <td>samsung</td>\n",
       "      <td>SM-M305F</td>\n",
       "      <td>0</td>\n",
       "      <td>12</td>\n",
       "    </tr>\n",
       "    <tr>\n",
       "      <th>0</th>\n",
       "      <td>13</td>\n",
       "      <td>25.22.227.50</td>\n",
       "      <td>150</td>\n",
       "      <td>2.3636363636363638</td>\n",
       "      <td>raunak@mollatech.com</td>\n",
       "      <td>exynos7904</td>\n",
       "      <td>M305FDDU3CSL5</td>\n",
       "      <td>samsung</td>\n",
       "      <td>m30lte</td>\n",
       "      <td>QP1A.190711.020.M305FDDU3CSL5</td>\n",
       "      <td>samsung/m30ltedd/m30lte:10/QP1A.190711.020/M30...</td>\n",
       "      <td>21HHAF01</td>\n",
       "      <td>QP1A.190711.020</td>\n",
       "      <td>18.523377</td>\n",
       "      <td>73.908609</td>\n",
       "      <td>samsung</td>\n",
       "      <td>SM-M305F</td>\n",
       "      <td>2</td>\n",
       "      <td>14</td>\n",
       "    </tr>\n",
       "    <tr>\n",
       "      <th>0</th>\n",
       "      <td>9</td>\n",
       "      <td>25.22.227.50</td>\n",
       "      <td>150</td>\n",
       "      <td>2.1666666666666665</td>\n",
       "      <td>raunak@mollatech.com</td>\n",
       "      <td>exynos7904</td>\n",
       "      <td>M305FDDU3CSL5</td>\n",
       "      <td>samsung</td>\n",
       "      <td>m30lte</td>\n",
       "      <td>QP1A.190711.020.M305FDDU3CSL5</td>\n",
       "      <td>samsung/m30ltedd/m30lte:10/QP1A.190711.020/M30...</td>\n",
       "      <td>21HHAF01</td>\n",
       "      <td>QP1A.190711.020</td>\n",
       "      <td>18.522472</td>\n",
       "      <td>73.908040</td>\n",
       "      <td>samsung</td>\n",
       "      <td>SM-M305F</td>\n",
       "      <td>1</td>\n",
       "      <td>14</td>\n",
       "    </tr>\n",
       "  </tbody>\n",
       "</table>\n",
       "<p>85 rows × 19 columns</p>\n",
       "</div>"
      ],
      "text/plain": [
       "    Date and time      Device ip Transaction ammount        Typing speed  \\\n",
       "0              22  10.238.99.167                  14             4.66667   \n",
       "0              16  10.238.99.167                  10                 2.8   \n",
       "0               8     10.1.0.250                  10                 2.8   \n",
       "0               1     10.1.0.250                  10             4.66667   \n",
       "0              11     10.1.0.250                   7             3.11111   \n",
       "..            ...            ...                 ...                 ...   \n",
       "0              12  192.168.0.119                 120  2.3636363636363638   \n",
       "0               0  192.168.0.138                 110  3.7142857142857144   \n",
       "0              13   25.22.227.50                 120  2.3636363636363638   \n",
       "0              13   25.22.227.50                 150  2.3636363636363638   \n",
       "0               9   25.22.227.50                 150  2.1666666666666665   \n",
       "\n",
       "                 User name       board     bootloader     brand    device  \\\n",
       "0   vikram@blue-bricks.com     msm8952         0xB106  motorola  athene_f   \n",
       "0   vikram@blue-bricks.com     msm8952         0xB106  motorola  athene_f   \n",
       "0   vikram@blue-bricks.com     msm8952         0xB106  motorola  athene_f   \n",
       "0   vikram@blue-bricks.com     msm8952         0xB106  motorola  athene_f   \n",
       "0   vikram@blue-bricks.com     msm8952         0xB106  motorola  athene_f   \n",
       "..                     ...         ...            ...       ...       ...   \n",
       "0     raunak@mollatech.com  exynos7904  M305FDDU3CSL5   samsung    m30lte   \n",
       "0     raunak@mollatech.com  exynos7904  M305FDDU3CSL5   samsung    m30lte   \n",
       "0     raunak@mollatech.com  exynos7904  M305FDDU3CSL5   samsung    m30lte   \n",
       "0     raunak@mollatech.com  exynos7904  M305FDDU3CSL5   samsung    m30lte   \n",
       "0     raunak@mollatech.com  exynos7904  M305FDDU3CSL5   samsung    m30lte   \n",
       "\n",
       "                          display  \\\n",
       "0                 NPJS25.93-14-10   \n",
       "0                 NPJS25.93-14-10   \n",
       "0                 NPJS25.93-14-10   \n",
       "0                 NPJS25.93-14-10   \n",
       "0                 NPJS25.93-14-10   \n",
       "..                            ...   \n",
       "0   QP1A.190711.020.M305FDDU3CSL5   \n",
       "0   QP1A.190711.020.M305FDDU3CSL5   \n",
       "0   QP1A.190711.020.M305FDDU3CSL5   \n",
       "0   QP1A.190711.020.M305FDDU3CSL5   \n",
       "0   QP1A.190711.020.M305FDDU3CSL5   \n",
       "\n",
       "                                          fingerprint       host  \\\n",
       "0   motorola/athene_f/athene_f:7.0/NPJS25.93-14-10...  ilclbld26   \n",
       "0   motorola/athene_f/athene_f:7.0/NPJS25.93-14-10...        NaN   \n",
       "0   motorola/athene_f/athene_f:7.0/NPJS25.93-14-10...  ilclbld26   \n",
       "0   motorola/athene_f/athene_f:7.0/NPJS25.93-14-10...        NaN   \n",
       "0   motorola/athene_f/athene_f:7.0/NPJS25.93-14-10...  ilclbld26   \n",
       "..                                                ...        ...   \n",
       "0   samsung/m30ltedd/m30lte:10/QP1A.190711.020/M30...   21HHAF01   \n",
       "0   samsung/m30ltedd/m30lte:10/QP1A.190711.020/M30...   21HHAF01   \n",
       "0   samsung/m30ltedd/m30lte:10/QP1A.190711.020/M30...   21HHAF01   \n",
       "0   samsung/m30ltedd/m30lte:10/QP1A.190711.020/M30...   21HHAF01   \n",
       "0   samsung/m30ltedd/m30lte:10/QP1A.190711.020/M30...   21HHAF01   \n",
       "\n",
       "                 id   latitude   longitude manufacturer       model  \\\n",
       "0   NPJS25.93-14-10 -32.060114  115.865876     motorola  Moto G (4)   \n",
       "0   NPJS25.93-14-10 -32.060114  115.865876          NaN      iPhone   \n",
       "0   NPJS25.93-14-10 -32.060114  115.865876     motorola  Moto G (4)   \n",
       "0   NPJS25.93-14-10 -32.060264  115.866149          NaN      iPhone   \n",
       "0   NPJS25.93-14-10 -32.060114  115.865876     motorola  Moto G (4)   \n",
       "..              ...        ...         ...          ...         ...   \n",
       "0   QP1A.190711.020  18.518283   73.000000      samsung    SM-M305F   \n",
       "0   QP1A.190711.020  18.518283   73.000000      samsung    SM-M305F   \n",
       "0   QP1A.190711.020  18.522530   73.908445      samsung    SM-M305F   \n",
       "0   QP1A.190711.020  18.523377   73.908609      samsung    SM-M305F   \n",
       "0   QP1A.190711.020  18.522472   73.908040      samsung    SM-M305F   \n",
       "\n",
       "    Device_velocity  inclined  \n",
       "0                -1        13  \n",
       "0                 0        12  \n",
       "0                -1        13  \n",
       "0                 0        10  \n",
       "0                -1        15  \n",
       "..              ...       ...  \n",
       "0                 0        14  \n",
       "0                -1        14  \n",
       "0                 0        12  \n",
       "0                 2        14  \n",
       "0                 1        14  \n",
       "\n",
       "[85 rows x 19 columns]"
      ]
     },
     "execution_count": 88,
     "metadata": {},
     "output_type": "execute_result"
    }
   ],
   "source": [
    "new_df"
   ]
  },
  {
   "cell_type": "code",
   "execution_count": 89,
   "metadata": {},
   "outputs": [],
   "source": [
    "\n",
    "# new_df=new_df.drop(labels=\"User name\",axis=1)\n",
    "# # "
   ]
  },
  {
   "cell_type": "code",
   "execution_count": 90,
   "metadata": {},
   "outputs": [],
   "source": [
    "new_df.to_csv('updated_csv/without_normalised_rba_for_three_user.csv', index=False) "
   ]
  },
  {
   "cell_type": "code",
   "execution_count": 91,
   "metadata": {},
   "outputs": [],
   "source": [
    "sub_df=pd.read_csv('updated_csv/without_normalised_rba_for_three_user.csv')"
   ]
  },
  {
   "cell_type": "code",
   "execution_count": 92,
   "metadata": {},
   "outputs": [],
   "source": [
    "sub_df['Target']=tttrain_y"
   ]
  },
  {
   "cell_type": "code",
   "execution_count": 93,
   "metadata": {},
   "outputs": [],
   "source": [
    "sub_df=sub_df.loc[sub_df['Target'] == 1]\n",
    "sub_df.to_csv('updated_csv/without_normalised_rba_for_one_user.csv', index=False) "
   ]
  },
  {
   "cell_type": "code",
   "execution_count": 94,
   "metadata": {},
   "outputs": [],
   "source": [
    "new_df.drop(\"User name\",axis=1,inplace=True)"
   ]
  },
  {
   "cell_type": "code",
   "execution_count": 95,
   "metadata": {},
   "outputs": [
    {
     "name": "stdout",
     "output_type": "stream",
     "text": [
      "0 Date and time\n",
      "1 Device ip\n",
      "2 Transaction ammount\n",
      "3 Typing speed\n",
      "4 board\n",
      "5 bootloader\n",
      "6 brand\n",
      "7 device\n",
      "8 display\n",
      "9 fingerprint\n",
      "10 host\n",
      "11 id\n",
      "12 latitude\n",
      "13 longitude\n",
      "14 manufacturer\n",
      "15 model\n",
      "16 Device_velocity\n",
      "17 inclined\n"
     ]
    }
   ],
   "source": [
    "for ind,column in enumerate(new_df.columns):\n",
    "    print(ind,column)"
   ]
  },
  {
   "cell_type": "markdown",
   "metadata": {},
   "source": [
    "# Applying Label Encoder"
   ]
  },
  {
   "cell_type": "code",
   "execution_count": 96,
   "metadata": {},
   "outputs": [],
   "source": [
    "le_ip = LabelEncoder()\n",
    "################################################################################################################\n",
    "new_df['Device ip'] = le_ip.fit_transform(new_df['Device ip'])\n",
    "\n",
    "#dump it\n",
    "np.save('labels/le_ip_classes.npy', le_ip.classes_)"
   ]
  },
  {
   "cell_type": "code",
   "execution_count": 97,
   "metadata": {},
   "outputs": [],
   "source": [
    "################################################################################################################\n",
    "\n",
    "new_df['Transaction ammount']=new_df['Transaction ammount'].astype(str)\n",
    "new_df['Transaction ammount']=new_df['Transaction ammount'].astype(float)"
   ]
  },
  {
   "cell_type": "code",
   "execution_count": 98,
   "metadata": {},
   "outputs": [],
   "source": [
    "################################################################################################################\n",
    "new_df['Typing speed']=new_df['Typing speed'].astype(str)\n",
    "new_df['Typing speed']=new_df['Typing speed'].astype(float)"
   ]
  },
  {
   "cell_type": "code",
   "execution_count": 99,
   "metadata": {},
   "outputs": [],
   "source": [
    "################################################################################################################\n",
    "new_df['board']=new_df['board'].astype(str)\n",
    "le_board = LabelEncoder()\n",
    "new_df['board'] = le_board.fit_transform(new_df['board'])"
   ]
  },
  {
   "cell_type": "code",
   "execution_count": 100,
   "metadata": {},
   "outputs": [],
   "source": [
    "#dump it\n",
    "np.save('labels/le_board_classes.npy', le_board.classes_)"
   ]
  },
  {
   "cell_type": "code",
   "execution_count": 101,
   "metadata": {},
   "outputs": [],
   "source": [
    "################################################################################################################\n",
    "new_df['bootloader']=new_df['bootloader'].astype(str)\n",
    "le_bootloader = LabelEncoder()\n",
    "new_df['bootloader'] = le_bootloader.fit_transform(new_df['bootloader'])\n",
    "\n",
    "\n",
    "#dump it\n",
    "np.save('labels/le_bootloader_classes.npy', le_bootloader.classes_)"
   ]
  },
  {
   "cell_type": "code",
   "execution_count": 102,
   "metadata": {},
   "outputs": [],
   "source": [
    "################################################################################################################\n",
    "new_df['brand']=new_df['brand'].astype(str)\n",
    "le_brand = LabelEncoder()\n",
    "new_df['brand'] = le_brand.fit_transform(new_df['brand'])\n",
    "\n",
    "\n",
    "#dump it\n",
    "np.save('labels/le_brand_classes.npy', le_brand.classes_)"
   ]
  },
  {
   "cell_type": "code",
   "execution_count": 103,
   "metadata": {},
   "outputs": [],
   "source": [
    "################################################################################################################\n",
    "new_df['device']=new_df['device'].astype(str)\n",
    "le_device = LabelEncoder()\n",
    "new_df['device'] = le_device.fit_transform(new_df['device'])\n",
    "\n",
    "\n",
    "#dump it\n",
    "np.save('labels/le_device_classes.npy', le_device.classes_)"
   ]
  },
  {
   "cell_type": "code",
   "execution_count": 104,
   "metadata": {},
   "outputs": [],
   "source": [
    "################################################################################################################\n",
    "new_df['display']=new_df['display'].astype(str)\n",
    "le_display = LabelEncoder()\n",
    "new_df['display'] = le_display.fit_transform(new_df['display'])\n",
    "\n",
    "\n",
    "#dump it\n",
    "np.save('labels/le_display_classes.npy', le_display.classes_)"
   ]
  },
  {
   "cell_type": "code",
   "execution_count": 105,
   "metadata": {},
   "outputs": [],
   "source": [
    "################################################################################################################\n",
    "new_df['fingerprint']=new_df['fingerprint'].astype(str)\n",
    "le_fingerprint = LabelEncoder()\n",
    "new_df['fingerprint'] = le_fingerprint.fit_transform(new_df['fingerprint'])\n",
    "\n",
    "\n",
    "#dump it\n",
    "np.save('labels/le_fingerprint_classes.npy', le_fingerprint.classes_)"
   ]
  },
  {
   "cell_type": "code",
   "execution_count": 106,
   "metadata": {},
   "outputs": [],
   "source": [
    "################################################################################################################\n",
    "new_df['host']=new_df['host'].astype(str)\n",
    "le_host = LabelEncoder()\n",
    "new_df['host'] = le_host.fit_transform(new_df['host'])\n",
    "\n",
    "\n",
    "#dump it\n",
    "np.save('labels/le_host_classes.npy', le_host.classes_)"
   ]
  },
  {
   "cell_type": "code",
   "execution_count": 107,
   "metadata": {},
   "outputs": [],
   "source": [
    "################################################################################################################\n",
    "new_df['id']=new_df['id'].astype(str)\n",
    "le_id = LabelEncoder()\n",
    "new_df['id'] = le_id.fit_transform(new_df['id'])\n",
    "\n",
    "\n",
    "#dump it\n",
    "np.save('labels/le_id_classes.npy', le_id.classes_)"
   ]
  },
  {
   "cell_type": "code",
   "execution_count": 108,
   "metadata": {},
   "outputs": [],
   "source": [
    "################################################################################################################\n",
    "# new_df['manufacturer'].isna().sum()\n",
    "new_df['manufacturer'] = new_df['manufacturer'].fillna(df['manufacturer'].mode())\n",
    "new_df['manufacturer']=new_df['manufacturer'].astype(str)\n",
    "le_manufacturer = LabelEncoder()\n",
    "new_df['manufacturer'] = le_manufacturer.fit_transform(new_df['manufacturer'])\n",
    "\n",
    "\n",
    "#dump it\n",
    "np.save('labels/le_manufacturer_classes.npy', le_manufacturer.classes_)"
   ]
  },
  {
   "cell_type": "code",
   "execution_count": 109,
   "metadata": {},
   "outputs": [],
   "source": [
    "################################################################################################################\n",
    "\n",
    "# new_df['model'] = new_df['model'].fillna(df['model'].mode())\n",
    "new_df['model']=new_df['model'].astype(str)\n",
    "le_model = LabelEncoder()\n",
    "new_df['model'] = le_model.fit_transform(new_df['model'])\n",
    "\n",
    "\n",
    "#dump it\n",
    "np.save('labels/le_model_classes.npy', le_model.classes_)"
   ]
  },
  {
   "cell_type": "markdown",
   "metadata": {},
   "source": [
    "# MODELLING"
   ]
  },
  {
   "cell_type": "code",
   "execution_count": 110,
   "metadata": {},
   "outputs": [
    {
     "name": "stderr",
     "output_type": "stream",
     "text": [
      "/home/bhrt/.local/lib/python3.6/site-packages/sklearn/externals/joblib/__init__.py:15: FutureWarning: sklearn.externals.joblib is deprecated in 0.21 and will be removed in 0.23. Please import this functionality directly from joblib, which can be installed with: pip install joblib. If this warning is raised when loading pickled models, you may need to re-serialize those models with scikit-learn 0.21+.\n",
      "  warnings.warn(msg, category=FutureWarning)\n"
     ]
    }
   ],
   "source": [
    "from sklearn.externals import joblib\n",
    "\n",
    "# Feature Scaling\n",
    "from sklearn.preprocessing import StandardScaler\n",
    "sc = StandardScaler()\n",
    "X_train = sc.fit_transform(new_df)"
   ]
  },
  {
   "cell_type": "code",
   "execution_count": 111,
   "metadata": {},
   "outputs": [
    {
     "data": {
      "text/plain": [
       "['scaler/scaler.save']"
      ]
     },
     "execution_count": 111,
     "metadata": {},
     "output_type": "execute_result"
    }
   ],
   "source": [
    "scaler_filename = \"scaler/scaler.save\"\n",
    "joblib.dump(sc, scaler_filename) "
   ]
  },
  {
   "cell_type": "code",
   "execution_count": 112,
   "metadata": {},
   "outputs": [],
   "source": [
    "scc = joblib.load(\"scaler/scaler.save\")"
   ]
  },
  {
   "cell_type": "code",
   "execution_count": 113,
   "metadata": {},
   "outputs": [
    {
     "data": {
      "text/plain": [
       "pandas.core.frame.DataFrame"
      ]
     },
     "execution_count": 113,
     "metadata": {},
     "output_type": "execute_result"
    }
   ],
   "source": [
    "X_train = pd.DataFrame(X_train)\n",
    "type(X_train)"
   ]
  },
  {
   "cell_type": "code",
   "execution_count": 114,
   "metadata": {},
   "outputs": [
    {
     "data": {
      "text/plain": [
       "(85, 18)"
      ]
     },
     "execution_count": 114,
     "metadata": {},
     "output_type": "execute_result"
    }
   ],
   "source": [
    "X_train.shape"
   ]
  },
  {
   "cell_type": "markdown",
   "metadata": {},
   "source": [
    "# Saving the X_Train as csv\n"
   ]
  },
  {
   "cell_type": "code",
   "execution_count": 115,
   "metadata": {},
   "outputs": [],
   "source": [
    "from sklearn.model_selection import train_test_split\n",
    "x_train,x_test,y_train,y_test=train_test_split(X_train,y,test_size=0.2,random_state=30)"
   ]
  },
  {
   "cell_type": "code",
   "execution_count": 116,
   "metadata": {},
   "outputs": [
    {
     "data": {
      "text/plain": [
       "((68, 18), (68,))"
      ]
     },
     "execution_count": 116,
     "metadata": {},
     "output_type": "execute_result"
    }
   ],
   "source": [
    "x_train.shape , y_train.shape"
   ]
  },
  {
   "cell_type": "code",
   "execution_count": 117,
   "metadata": {},
   "outputs": [
    {
     "data": {
      "text/plain": [
       "((17, 18), (17,))"
      ]
     },
     "execution_count": 117,
     "metadata": {},
     "output_type": "execute_result"
    }
   ],
   "source": [
    "x_test.shape ,y_test.shape"
   ]
  },
  {
   "cell_type": "code",
   "execution_count": null,
   "metadata": {},
   "outputs": [],
   "source": []
  },
  {
   "cell_type": "code",
   "execution_count": 118,
   "metadata": {},
   "outputs": [],
   "source": [
    "#All classifier\n",
    "from sklearn.svm import SVC\n",
    "from sklearn.linear_model import LogisticRegression\n",
    "from sklearn.tree import DecisionTreeClassifier\n",
    "from sklearn.ensemble import RandomForestClassifier\n"
   ]
  },
  {
   "cell_type": "code",
   "execution_count": 119,
   "metadata": {},
   "outputs": [
    {
     "name": "stdout",
     "output_type": "stream",
     "text": [
      "Train ACC : 1.0\n",
      "Test ACC : 1.0\n"
     ]
    }
   ],
   "source": [
    "# Logistic Regression\n",
    "model = LogisticRegression()\n",
    "model.fit(x_train, y_train)\n",
    "\n",
    "print(\"Train ACC : {}\\nTest ACC : {}\".format(model.score(x_train, y_train), model.score(x_test, y_test)))"
   ]
  },
  {
   "cell_type": "code",
   "execution_count": 120,
   "metadata": {},
   "outputs": [
    {
     "name": "stdout",
     "output_type": "stream",
     "text": [
      "Train ACC : 1.0\n",
      "Test ACC : 1.0\n"
     ]
    }
   ],
   "source": [
    "#decision Tree Classifier\n",
    "model = DecisionTreeClassifier(max_depth=3)\n",
    "model.fit(x_train, y_train)\n",
    "\n",
    "print(\"Train ACC : {}\\nTest ACC : {}\".format(model.score(x_train, y_train), model.score(x_test, y_test)))"
   ]
  },
  {
   "cell_type": "code",
   "execution_count": 121,
   "metadata": {},
   "outputs": [
    {
     "name": "stdout",
     "output_type": "stream",
     "text": [
      "Train ACC : 1.0\n",
      "Test ACC : 1.0\n"
     ]
    }
   ],
   "source": [
    "model = RandomForestClassifier()\n",
    "model.fit(x_train, y_train)\n",
    "\n",
    "print(\"Train ACC : {}\\nTest ACC : {}\".format(model.score(x_train, y_train), model.score(x_test, y_test)))"
   ]
  },
  {
   "cell_type": "code",
   "execution_count": 122,
   "metadata": {},
   "outputs": [
    {
     "name": "stdout",
     "output_type": "stream",
     "text": [
      "[LibSVM]Train ACC : 1.0\n",
      "Test ACC : 1.0\n"
     ]
    }
   ],
   "source": [
    "# SVC \n",
    "\n",
    "model = SVC(kernel='rbf', C=1E10, class_weight='balanced', verbose=1, gamma=0.05)\n",
    "model.fit(x_train, y_train)\n",
    "\n",
    "print(\"Train ACC : {}\\nTest ACC : {}\".format(model.score(x_train, y_train), model.score(x_test, y_test)))"
   ]
  },
  {
   "cell_type": "code",
   "execution_count": 123,
   "metadata": {},
   "outputs": [],
   "source": [
    "from sklearn.externals import joblib "
   ]
  },
  {
   "cell_type": "code",
   "execution_count": 124,
   "metadata": {},
   "outputs": [
    {
     "data": {
      "text/plain": [
       "['model/rba.pkl']"
      ]
     },
     "execution_count": 124,
     "metadata": {},
     "output_type": "execute_result"
    }
   ],
   "source": [
    "joblib.dump(model, 'model/rba.pkl') "
   ]
  },
  {
   "cell_type": "markdown",
   "metadata": {},
   "source": [
    "# End"
   ]
  },
  {
   "cell_type": "code",
   "execution_count": 125,
   "metadata": {},
   "outputs": [],
   "source": [
    "# 1. testing notebook and traingi note\n",
    "# 2. simple code cleaned\n",
    "# 3. Gsheet (loom-handover-git path-docs)"
   ]
  }
 ],
 "metadata": {
  "kernelspec": {
   "display_name": "Python 3",
   "language": "python",
   "name": "python3"
  },
  "language_info": {
   "codemirror_mode": {
    "name": "ipython",
    "version": 3
   },
   "file_extension": ".py",
   "mimetype": "text/x-python",
   "name": "python",
   "nbconvert_exporter": "python",
   "pygments_lexer": "ipython3",
   "version": "3.6.9"
  }
 },
 "nbformat": 4,
 "nbformat_minor": 2
}
