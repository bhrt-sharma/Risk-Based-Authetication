{
 "cells": [
  {
   "cell_type": "code",
   "execution_count": 1,
   "metadata": {},
   "outputs": [],
   "source": [
    "import pandas as pd\n",
    "import numpy as np\n",
    "import re\n",
    "import math"
   ]
  },
  {
   "cell_type": "code",
   "execution_count": 2,
   "metadata": {},
   "outputs": [
    {
     "name": "stderr",
     "output_type": "stream",
     "text": [
      "/home/bhrt/.local/lib/python3.6/site-packages/sklearn/externals/joblib/__init__.py:15: FutureWarning: sklearn.externals.joblib is deprecated in 0.21 and will be removed in 0.23. Please import this functionality directly from joblib, which can be installed with: pip install joblib. If this warning is raised when loading pickled models, you may need to re-serialize those models with scikit-learn 0.21+.\n",
      "  warnings.warn(msg, category=FutureWarning)\n"
     ]
    }
   ],
   "source": [
    "from sklearn.preprocessing import LabelEncoder\n",
    "from sklearn.externals import joblib\n",
    "from sklearn.preprocessing import StandardScaler"
   ]
  },
  {
   "cell_type": "code",
   "execution_count": 3,
   "metadata": {},
   "outputs": [],
   "source": [
    "di={\"Date and time\":\"06:29:35 Sun 26 Jan\",\n",
    "\"Device ip\":\"192.168.20.7\",\n",
    "\"Device velocity\":\"-0.1,0.1,0.3\",#########\n",
    "\"Transaction ammount\":\"70\",\n",
    "\"Typing speed\":7,\n",
    "\"board\":\"msm8952\",\n",
    "\"bootloader\":\"0xB106\",\n",
    "\"brand\":\"motorola\",\n",
    "\"device\":\"athene_f\",\n",
    "\"display\":\"NPJS25.93-14-10\",\n",
    "\"fingerprint\":\"motorola/athene_f/athene_f:7.0/NPJS25.93-14-10/10:user/release-keys\",\n",
    "\"host\":\"ilclbld26\",\n",
    "\"id\":\"NPJS25.93-14-10\",\n",
    "\"latitude\": \"18.5228256\",\n",
    "\"longitude\": \"73.9064045\",\n",
    "\"manufacturer\": \"samsung\",\n",
    "\"model\": \"SM-M305F\",\n",
    "\"inclication\":\"-1.0,5.9,9.2\"}#########}"
   ]
  },
  {
   "cell_type": "code",
   "execution_count": 4,
   "metadata": {},
   "outputs": [
    {
     "data": {
      "text/plain": [
       "dict_values(['06:29:35 Sun 26 Jan', '192.168.20.7', '-0.1,0.1,0.3', '70', 7, 'msm8952', '0xB106', 'motorola', 'athene_f', 'NPJS25.93-14-10', 'motorola/athene_f/athene_f:7.0/NPJS25.93-14-10/10:user/release-keys', 'ilclbld26', 'NPJS25.93-14-10', '18.5228256', '73.9064045', 'samsung', 'SM-M305F', '-1.0,5.9,9.2'])"
      ]
     },
     "execution_count": 4,
     "metadata": {},
     "output_type": "execute_result"
    }
   ],
   "source": [
    "di.values()"
   ]
  },
  {
   "cell_type": "code",
   "execution_count": 5,
   "metadata": {},
   "outputs": [],
   "source": [
    "input_data=list(di.values())"
   ]
  },
  {
   "cell_type": "code",
   "execution_count": 6,
   "metadata": {},
   "outputs": [],
   "source": [
    "input_data=[input_data]"
   ]
  },
  {
   "cell_type": "code",
   "execution_count": 7,
   "metadata": {},
   "outputs": [],
   "source": [
    "X_test = pd.DataFrame(input_data)"
   ]
  },
  {
   "cell_type": "code",
   "execution_count": 8,
   "metadata": {},
   "outputs": [
    {
     "data": {
      "text/html": [
       "<div>\n",
       "<style scoped>\n",
       "    .dataframe tbody tr th:only-of-type {\n",
       "        vertical-align: middle;\n",
       "    }\n",
       "\n",
       "    .dataframe tbody tr th {\n",
       "        vertical-align: top;\n",
       "    }\n",
       "\n",
       "    .dataframe thead th {\n",
       "        text-align: right;\n",
       "    }\n",
       "</style>\n",
       "<table border=\"1\" class=\"dataframe\">\n",
       "  <thead>\n",
       "    <tr style=\"text-align: right;\">\n",
       "      <th></th>\n",
       "      <th>0</th>\n",
       "      <th>1</th>\n",
       "      <th>2</th>\n",
       "      <th>3</th>\n",
       "      <th>4</th>\n",
       "      <th>5</th>\n",
       "      <th>6</th>\n",
       "      <th>7</th>\n",
       "      <th>8</th>\n",
       "      <th>9</th>\n",
       "      <th>10</th>\n",
       "      <th>11</th>\n",
       "      <th>12</th>\n",
       "      <th>13</th>\n",
       "      <th>14</th>\n",
       "      <th>15</th>\n",
       "      <th>16</th>\n",
       "      <th>17</th>\n",
       "    </tr>\n",
       "  </thead>\n",
       "  <tbody>\n",
       "    <tr>\n",
       "      <th>0</th>\n",
       "      <td>06:29:35 Sun 26 Jan</td>\n",
       "      <td>192.168.20.7</td>\n",
       "      <td>-0.1,0.1,0.3</td>\n",
       "      <td>70</td>\n",
       "      <td>7</td>\n",
       "      <td>msm8952</td>\n",
       "      <td>0xB106</td>\n",
       "      <td>motorola</td>\n",
       "      <td>athene_f</td>\n",
       "      <td>NPJS25.93-14-10</td>\n",
       "      <td>motorola/athene_f/athene_f:7.0/NPJS25.93-14-10...</td>\n",
       "      <td>ilclbld26</td>\n",
       "      <td>NPJS25.93-14-10</td>\n",
       "      <td>18.5228256</td>\n",
       "      <td>73.9064045</td>\n",
       "      <td>samsung</td>\n",
       "      <td>SM-M305F</td>\n",
       "      <td>-1.0,5.9,9.2</td>\n",
       "    </tr>\n",
       "  </tbody>\n",
       "</table>\n",
       "</div>"
      ],
      "text/plain": [
       "                     0             1             2   3  4        5       6  \\\n",
       "0  06:29:35 Sun 26 Jan  192.168.20.7  -0.1,0.1,0.3  70  7  msm8952  0xB106   \n",
       "\n",
       "          7         8                9  \\\n",
       "0  motorola  athene_f  NPJS25.93-14-10   \n",
       "\n",
       "                                                  10         11  \\\n",
       "0  motorola/athene_f/athene_f:7.0/NPJS25.93-14-10...  ilclbld26   \n",
       "\n",
       "                12          13          14       15        16            17  \n",
       "0  NPJS25.93-14-10  18.5228256  73.9064045  samsung  SM-M305F  -1.0,5.9,9.2  "
      ]
     },
     "execution_count": 8,
     "metadata": {},
     "output_type": "execute_result"
    }
   ],
   "source": [
    "X_test"
   ]
  },
  {
   "cell_type": "code",
   "execution_count": 9,
   "metadata": {},
   "outputs": [],
   "source": [
    "X_test[0]= X_test[0].astype(str) \n",
    "\n",
    "start, stop, step = 0, -17, 1\n",
    "\n",
    "X_test[0]= X_test[0].str.slice(start, stop, step) \n",
    "\n",
    "X_test[0]= X_test[0].astype(int) "
   ]
  },
  {
   "cell_type": "code",
   "execution_count": 10,
   "metadata": {},
   "outputs": [],
   "source": [
    "\n",
    "X_test.columns = ['Date_and_time', 'Device_ip','Device velocity', 'Transaction_ammount', 'Typing_speed', 'board', 'bootloader', 'brand', 'device', 'display', 'fingerprint', 'host', 'id', 'latitude', 'longitude', 'manufacturer', 'model', 'inclication']"
   ]
  },
  {
   "cell_type": "code",
   "execution_count": 11,
   "metadata": {},
   "outputs": [],
   "source": [
    "q = X_test['Device velocity']\n",
    "\n",
    "for i in q:\n",
    "    a  = re.split(',',i)\n",
    "a\n",
    "\n",
    "su=0\n",
    "for z  in a :\n",
    "    su = su + float(z)\n",
    "su  = math.floor(su)\n"
   ]
  },
  {
   "cell_type": "code",
   "execution_count": 12,
   "metadata": {},
   "outputs": [
    {
     "data": {
      "text/plain": [
       "0"
      ]
     },
     "execution_count": 12,
     "metadata": {},
     "output_type": "execute_result"
    }
   ],
   "source": [
    "su"
   ]
  },
  {
   "cell_type": "code",
   "execution_count": 13,
   "metadata": {},
   "outputs": [],
   "source": [
    "df2  = X_test.assign(Device_velocity = su)\n",
    "\n",
    "X_test = df2\n",
    "\n",
    "del X_test['Device velocity']"
   ]
  },
  {
   "cell_type": "code",
   "execution_count": 14,
   "metadata": {},
   "outputs": [],
   "source": [
    "q = X_test['inclication']\n",
    "\n",
    "for i in q:\n",
    "    a  = re.split(',',i)\n",
    "a\n",
    "\n",
    "su=0\n",
    "for z  in a :\n",
    "    su = su + float(z)\n",
    "su  = math.floor(su)"
   ]
  },
  {
   "cell_type": "code",
   "execution_count": 15,
   "metadata": {},
   "outputs": [
    {
     "data": {
      "text/plain": [
       "14"
      ]
     },
     "execution_count": 15,
     "metadata": {},
     "output_type": "execute_result"
    }
   ],
   "source": [
    "su"
   ]
  },
  {
   "cell_type": "code",
   "execution_count": 16,
   "metadata": {},
   "outputs": [],
   "source": [
    "df2  = X_test.assign(inclined = su)\n",
    "\n",
    "X_test = df2\n",
    "\n",
    "del X_test['inclication']"
   ]
  },
  {
   "cell_type": "code",
   "execution_count": 17,
   "metadata": {},
   "outputs": [
    {
     "data": {
      "text/html": [
       "<div>\n",
       "<style scoped>\n",
       "    .dataframe tbody tr th:only-of-type {\n",
       "        vertical-align: middle;\n",
       "    }\n",
       "\n",
       "    .dataframe tbody tr th {\n",
       "        vertical-align: top;\n",
       "    }\n",
       "\n",
       "    .dataframe thead th {\n",
       "        text-align: right;\n",
       "    }\n",
       "</style>\n",
       "<table border=\"1\" class=\"dataframe\">\n",
       "  <thead>\n",
       "    <tr style=\"text-align: right;\">\n",
       "      <th></th>\n",
       "      <th>Date_and_time</th>\n",
       "      <th>Device_ip</th>\n",
       "      <th>Transaction_ammount</th>\n",
       "      <th>Typing_speed</th>\n",
       "      <th>board</th>\n",
       "      <th>bootloader</th>\n",
       "      <th>brand</th>\n",
       "      <th>device</th>\n",
       "      <th>display</th>\n",
       "      <th>fingerprint</th>\n",
       "      <th>host</th>\n",
       "      <th>id</th>\n",
       "      <th>latitude</th>\n",
       "      <th>longitude</th>\n",
       "      <th>manufacturer</th>\n",
       "      <th>model</th>\n",
       "      <th>Device_velocity</th>\n",
       "      <th>inclined</th>\n",
       "    </tr>\n",
       "  </thead>\n",
       "  <tbody>\n",
       "    <tr>\n",
       "      <th>0</th>\n",
       "      <td>6</td>\n",
       "      <td>192.168.20.7</td>\n",
       "      <td>70</td>\n",
       "      <td>7</td>\n",
       "      <td>msm8952</td>\n",
       "      <td>0xB106</td>\n",
       "      <td>motorola</td>\n",
       "      <td>athene_f</td>\n",
       "      <td>NPJS25.93-14-10</td>\n",
       "      <td>motorola/athene_f/athene_f:7.0/NPJS25.93-14-10...</td>\n",
       "      <td>ilclbld26</td>\n",
       "      <td>NPJS25.93-14-10</td>\n",
       "      <td>18.5228256</td>\n",
       "      <td>73.9064045</td>\n",
       "      <td>samsung</td>\n",
       "      <td>SM-M305F</td>\n",
       "      <td>0</td>\n",
       "      <td>14</td>\n",
       "    </tr>\n",
       "  </tbody>\n",
       "</table>\n",
       "</div>"
      ],
      "text/plain": [
       "   Date_and_time     Device_ip Transaction_ammount  Typing_speed    board  \\\n",
       "0              6  192.168.20.7                  70             7  msm8952   \n",
       "\n",
       "  bootloader     brand    device          display  \\\n",
       "0     0xB106  motorola  athene_f  NPJS25.93-14-10   \n",
       "\n",
       "                                         fingerprint       host  \\\n",
       "0  motorola/athene_f/athene_f:7.0/NPJS25.93-14-10...  ilclbld26   \n",
       "\n",
       "                id    latitude   longitude manufacturer     model  \\\n",
       "0  NPJS25.93-14-10  18.5228256  73.9064045      samsung  SM-M305F   \n",
       "\n",
       "   Device_velocity  inclined  \n",
       "0                0        14  "
      ]
     },
     "execution_count": 17,
     "metadata": {},
     "output_type": "execute_result"
    }
   ],
   "source": [
    "X_test"
   ]
  },
  {
   "cell_type": "code",
   "execution_count": 18,
   "metadata": {},
   "outputs": [
    {
     "name": "stdout",
     "output_type": "stream",
     "text": [
      "<class 'pandas.core.frame.DataFrame'>\n",
      "RangeIndex: 1 entries, 0 to 0\n",
      "Data columns (total 18 columns):\n",
      "Date_and_time          1 non-null int64\n",
      "Device_ip              1 non-null object\n",
      "Transaction_ammount    1 non-null object\n",
      "Typing_speed           1 non-null int64\n",
      "board                  1 non-null object\n",
      "bootloader             1 non-null object\n",
      "brand                  1 non-null object\n",
      "device                 1 non-null object\n",
      "display                1 non-null object\n",
      "fingerprint            1 non-null object\n",
      "host                   1 non-null object\n",
      "id                     1 non-null object\n",
      "latitude               1 non-null object\n",
      "longitude              1 non-null object\n",
      "manufacturer           1 non-null object\n",
      "model                  1 non-null object\n",
      "Device_velocity        1 non-null int64\n",
      "inclined               1 non-null int64\n",
      "dtypes: int64(4), object(14)\n",
      "memory usage: 272.0+ bytes\n"
     ]
    }
   ],
   "source": [
    "X_test.info()"
   ]
  },
  {
   "cell_type": "code",
   "execution_count": 19,
   "metadata": {},
   "outputs": [],
   "source": [
    "X_test['Transaction_ammount']=X_test['Transaction_ammount'].astype(float)"
   ]
  },
  {
   "cell_type": "code",
   "execution_count": 20,
   "metadata": {},
   "outputs": [],
   "source": [
    "X_test['Typing_speed']=X_test['Typing_speed'].astype(float)\n",
    "X_test['latitude']=X_test['latitude'].astype(float)\n",
    "X_test['longitude']=X_test['longitude'].astype(float)\n",
    "X_test['Device_velocity']=X_test['Device_velocity'].astype(int)\n",
    "X_test['inclined']=X_test['inclined'].astype(int)"
   ]
  },
  {
   "cell_type": "code",
   "execution_count": null,
   "metadata": {},
   "outputs": [],
   "source": []
  },
  {
   "cell_type": "code",
   "execution_count": 21,
   "metadata": {},
   "outputs": [],
   "source": [
    "input_data=X_test.values.tolist()"
   ]
  },
  {
   "cell_type": "code",
   "execution_count": 22,
   "metadata": {},
   "outputs": [],
   "source": [
    "np_load_old = np.load\n",
    "np.load = lambda *a,**k: np_load_old(*a, allow_pickle=True, **k)"
   ]
  },
  {
   "cell_type": "code",
   "execution_count": 23,
   "metadata": {},
   "outputs": [],
   "source": [
    "def check_label(path,i):\n",
    "    encoder = LabelEncoder()\n",
    "    \n",
    "    encoder.classes_ = np.load(path)\n",
    "    \n",
    "    test_tuple=X_test[i]\n",
    "    test_tuple=test_tuple.get(0) # get the item from tuple\n",
    "    \n",
    "    result = np.where(encoder.classes_ == test_tuple) # check if it exist in training label encoder\n",
    "    \n",
    "    \n",
    "    \n",
    "    try:\n",
    "        if result[0] != None:\n",
    "            X_test[i]=encoder.transform(X_test[i])\n",
    "    except: #none tha\n",
    "    #     print(\"Unknown\")\n",
    "        X_test[i] = encoder.classes_.size"
   ]
  },
  {
   "cell_type": "code",
   "execution_count": 24,
   "metadata": {},
   "outputs": [],
   "source": [
    "check_label('labels/le_ip_classes.npy','Device_ip')"
   ]
  },
  {
   "cell_type": "code",
   "execution_count": 25,
   "metadata": {},
   "outputs": [],
   "source": [
    "check_label('labels/le_board_classes.npy','board')"
   ]
  },
  {
   "cell_type": "code",
   "execution_count": 26,
   "metadata": {},
   "outputs": [],
   "source": [
    "check_label('labels/le_bootloader_classes.npy','bootloader')\n",
    "check_label('labels/le_brand_classes.npy','brand')\n",
    "check_label('labels/le_device_classes.npy','device')\n",
    "check_label('labels/le_display_classes.npy','display')\n",
    "check_label('labels/le_fingerprint_classes.npy','fingerprint')\n",
    "check_label('labels/le_host_classes.npy','host')\n",
    "check_label('labels/le_id_classes.npy','id')\n",
    "check_label('labels/le_manufacturer_classes.npy','manufacturer')\n",
    "check_label('labels/le_model_classes.npy','model')"
   ]
  },
  {
   "cell_type": "code",
   "execution_count": 27,
   "metadata": {},
   "outputs": [
    {
     "data": {
      "text/html": [
       "<div>\n",
       "<style scoped>\n",
       "    .dataframe tbody tr th:only-of-type {\n",
       "        vertical-align: middle;\n",
       "    }\n",
       "\n",
       "    .dataframe tbody tr th {\n",
       "        vertical-align: top;\n",
       "    }\n",
       "\n",
       "    .dataframe thead th {\n",
       "        text-align: right;\n",
       "    }\n",
       "</style>\n",
       "<table border=\"1\" class=\"dataframe\">\n",
       "  <thead>\n",
       "    <tr style=\"text-align: right;\">\n",
       "      <th></th>\n",
       "      <th>Date_and_time</th>\n",
       "      <th>Device_ip</th>\n",
       "      <th>Transaction_ammount</th>\n",
       "      <th>Typing_speed</th>\n",
       "      <th>board</th>\n",
       "      <th>bootloader</th>\n",
       "      <th>brand</th>\n",
       "      <th>device</th>\n",
       "      <th>display</th>\n",
       "      <th>fingerprint</th>\n",
       "      <th>host</th>\n",
       "      <th>id</th>\n",
       "      <th>latitude</th>\n",
       "      <th>longitude</th>\n",
       "      <th>manufacturer</th>\n",
       "      <th>model</th>\n",
       "      <th>Device_velocity</th>\n",
       "      <th>inclined</th>\n",
       "    </tr>\n",
       "  </thead>\n",
       "  <tbody>\n",
       "    <tr>\n",
       "      <th>0</th>\n",
       "      <td>6</td>\n",
       "      <td>14</td>\n",
       "      <td>70.0</td>\n",
       "      <td>7.0</td>\n",
       "      <td>2</td>\n",
       "      <td>0</td>\n",
       "      <td>1</td>\n",
       "      <td>1</td>\n",
       "      <td>1</td>\n",
       "      <td>1</td>\n",
       "      <td>2</td>\n",
       "      <td>0</td>\n",
       "      <td>18.522826</td>\n",
       "      <td>73.906404</td>\n",
       "      <td>2</td>\n",
       "      <td>2</td>\n",
       "      <td>0</td>\n",
       "      <td>14</td>\n",
       "    </tr>\n",
       "  </tbody>\n",
       "</table>\n",
       "</div>"
      ],
      "text/plain": [
       "   Date_and_time  Device_ip  Transaction_ammount  Typing_speed  board  \\\n",
       "0              6         14                 70.0           7.0      2   \n",
       "\n",
       "   bootloader  brand  device  display  fingerprint  host  id   latitude  \\\n",
       "0           0      1       1        1            1     2   0  18.522826   \n",
       "\n",
       "   longitude  manufacturer  model  Device_velocity  inclined  \n",
       "0  73.906404             2      2                0        14  "
      ]
     },
     "execution_count": 27,
     "metadata": {},
     "output_type": "execute_result"
    }
   ],
   "source": [
    "X_test"
   ]
  },
  {
   "cell_type": "code",
   "execution_count": 28,
   "metadata": {},
   "outputs": [],
   "source": [
    "scc = joblib.load(\"scaler/scaler.save\")"
   ]
  },
  {
   "cell_type": "code",
   "execution_count": 29,
   "metadata": {},
   "outputs": [],
   "source": [
    "# # Feature Scaling\n",
    "X_test = scc.transform(X_test)"
   ]
  },
  {
   "cell_type": "code",
   "execution_count": 30,
   "metadata": {},
   "outputs": [],
   "source": [
    "X_test = pd.DataFrame(X_test)"
   ]
  },
  {
   "cell_type": "code",
   "execution_count": 31,
   "metadata": {
    "scrolled": true
   },
   "outputs": [
    {
     "name": "stderr",
     "output_type": "stream",
     "text": [
      "/home/bhrt/.local/lib/python3.6/site-packages/ipykernel_launcher.py:1: FutureWarning: \n",
      ".ix is deprecated. Please use\n",
      ".loc for label based indexing or\n",
      ".iloc for positional indexing\n",
      "\n",
      "See the documentation here:\n",
      "http://pandas.pydata.org/pandas-docs/stable/user_guide/indexing.html#ix-indexer-is-deprecated\n",
      "  \"\"\"Entry point for launching an IPython kernel.\n"
     ]
    }
   ],
   "source": [
    "X_test = X_test.ix[:,:]"
   ]
  },
  {
   "cell_type": "code",
   "execution_count": 32,
   "metadata": {},
   "outputs": [
    {
     "data": {
      "text/html": [
       "<div>\n",
       "<style scoped>\n",
       "    .dataframe tbody tr th:only-of-type {\n",
       "        vertical-align: middle;\n",
       "    }\n",
       "\n",
       "    .dataframe tbody tr th {\n",
       "        vertical-align: top;\n",
       "    }\n",
       "\n",
       "    .dataframe thead th {\n",
       "        text-align: right;\n",
       "    }\n",
       "</style>\n",
       "<table border=\"1\" class=\"dataframe\">\n",
       "  <thead>\n",
       "    <tr style=\"text-align: right;\">\n",
       "      <th></th>\n",
       "      <th>0</th>\n",
       "      <th>1</th>\n",
       "      <th>2</th>\n",
       "      <th>3</th>\n",
       "      <th>4</th>\n",
       "      <th>5</th>\n",
       "      <th>6</th>\n",
       "      <th>7</th>\n",
       "      <th>8</th>\n",
       "      <th>9</th>\n",
       "      <th>10</th>\n",
       "      <th>11</th>\n",
       "      <th>12</th>\n",
       "      <th>13</th>\n",
       "      <th>14</th>\n",
       "      <th>15</th>\n",
       "      <th>16</th>\n",
       "      <th>17</th>\n",
       "    </tr>\n",
       "  </thead>\n",
       "  <tbody>\n",
       "    <tr>\n",
       "      <th>0</th>\n",
       "      <td>-0.784342</td>\n",
       "      <td>0.557652</td>\n",
       "      <td>-0.270378</td>\n",
       "      <td>1.546394</td>\n",
       "      <td>1.029857</td>\n",
       "      <td>-1.029857</td>\n",
       "      <td>-0.109109</td>\n",
       "      <td>-0.109109</td>\n",
       "      <td>-0.109109</td>\n",
       "      <td>-0.109109</td>\n",
       "      <td>0.722222</td>\n",
       "      <td>-1.050174</td>\n",
       "      <td>1.42685</td>\n",
       "      <td>-0.822901</td>\n",
       "      <td>0.950255</td>\n",
       "      <td>0.648901</td>\n",
       "      <td>0.318007</td>\n",
       "      <td>0.557697</td>\n",
       "    </tr>\n",
       "  </tbody>\n",
       "</table>\n",
       "</div>"
      ],
      "text/plain": [
       "          0         1         2         3         4         5         6  \\\n",
       "0 -0.784342  0.557652 -0.270378  1.546394  1.029857 -1.029857 -0.109109   \n",
       "\n",
       "          7         8         9        10        11       12        13  \\\n",
       "0 -0.109109 -0.109109 -0.109109  0.722222 -1.050174  1.42685 -0.822901   \n",
       "\n",
       "         14        15        16        17  \n",
       "0  0.950255  0.648901  0.318007  0.557697  "
      ]
     },
     "execution_count": 32,
     "metadata": {},
     "output_type": "execute_result"
    }
   ],
   "source": [
    "X_test"
   ]
  },
  {
   "cell_type": "code",
   "execution_count": 33,
   "metadata": {},
   "outputs": [],
   "source": [
    "# Load the model from the file \n",
    "model = joblib.load('model/rba.pkl')  "
   ]
  },
  {
   "cell_type": "code",
   "execution_count": 34,
   "metadata": {},
   "outputs": [],
   "source": [
    "y_pred_train = model.predict(X_test)"
   ]
  },
  {
   "cell_type": "code",
   "execution_count": 35,
   "metadata": {},
   "outputs": [
    {
     "name": "stdout",
     "output_type": "stream",
     "text": [
      "It's a regular observation\n"
     ]
    }
   ],
   "source": [
    "if(y_pred_train == 1):\n",
    "    print(\"It's a regular observation\")\n",
    "else:\n",
    "    print(\"It's a Anomoly\")"
   ]
  },
  {
   "cell_type": "markdown",
   "metadata": {},
   "source": [
    "# Risk Calculation using the Hard Code"
   ]
  },
  {
   "cell_type": "code",
   "execution_count": 36,
   "metadata": {},
   "outputs": [],
   "source": [
    "old_data =  pd.read_csv('updated_csv/without_normalised_rba_for_one_user.csv')"
   ]
  },
  {
   "cell_type": "code",
   "execution_count": 37,
   "metadata": {},
   "outputs": [],
   "source": [
    "old_data.drop(\"User name\",axis=1,inplace=True)"
   ]
  },
  {
   "cell_type": "code",
   "execution_count": 38,
   "metadata": {},
   "outputs": [
    {
     "name": "stdout",
     "output_type": "stream",
     "text": [
      "<class 'pandas.core.frame.DataFrame'>\n",
      "RangeIndex: 36 entries, 0 to 35\n",
      "Data columns (total 19 columns):\n",
      "Date and time          36 non-null int64\n",
      "Device ip              36 non-null object\n",
      "Transaction ammount    36 non-null float64\n",
      "Typing speed           36 non-null float64\n",
      "board                  36 non-null object\n",
      "bootloader             36 non-null object\n",
      "brand                  36 non-null object\n",
      "device                 36 non-null object\n",
      "display                36 non-null object\n",
      "fingerprint            36 non-null object\n",
      "host                   24 non-null object\n",
      "id                     36 non-null object\n",
      "latitude               36 non-null float64\n",
      "longitude              36 non-null float64\n",
      "manufacturer           24 non-null object\n",
      "model                  36 non-null object\n",
      "Device_velocity        36 non-null int64\n",
      "inclined               36 non-null int64\n",
      "Target                 36 non-null int64\n",
      "dtypes: float64(4), int64(4), object(11)\n",
      "memory usage: 5.5+ KB\n"
     ]
    }
   ],
   "source": [
    "old_data.info()"
   ]
  },
  {
   "cell_type": "code",
   "execution_count": 39,
   "metadata": {},
   "outputs": [],
   "source": [
    "thisdict = {\n",
    "   0 : 1,#\"Date_and_time\" \n",
    "   1: 2, # \"Device_ip\"\n",
    "    2: 2,#\"Transaction_ammount\" \n",
    "   3: 3,# \"Typing_speed\" \n",
    "    4 : 4,#\"board\"\n",
    "    5: 4,#\"bootloader\" \n",
    "     6:4 ,#\"brand\"\n",
    "    7: 4,# \"device\"\n",
    "    8:4 ,#\"display\" \n",
    "    9:4 ,#\"fingerprint\" \n",
    "    10: 4,#\"host\" \n",
    "  11: 4,#  \"id\" \n",
    "    12: 5,#\"latitude\" \n",
    "   13: 5,# \"longitude\" \n",
    "     14:4 ,#\"manufacturer\"\n",
    "   15: 4,# \"model\" \n",
    "     16:3 ,#\"Device_velocity\"\n",
    "    17: 3# \"inclined\"\n",
    "    }"
   ]
  },
  {
   "cell_type": "code",
   "execution_count": 40,
   "metadata": {},
   "outputs": [
    {
     "name": "stdout",
     "output_type": "stream",
     "text": [
      "These are not matched values 18.5228256\n",
      "These are not matched values 73.9064045\n",
      "These are not matched values samsung\n",
      "These are not matched values SM-M305F\n",
      "matched 46\n",
      "NOT_matched 18\n"
     ]
    }
   ],
   "source": [
    "i=0\n",
    "count=0\n",
    "nott=0\n",
    "\n",
    "for (columnName, columnData) in old_data.iteritems():\n",
    "    x=columnData.values\n",
    "    \n",
    "    tofind=input_data[0][i]\n",
    "    \n",
    "    if( np.any(x[:] == tofind) ):\n",
    "        count=count+thisdict[i]\n",
    "    else:\n",
    "        print(\"These are not matched values \"+str(tofind))\n",
    "        nott=nott+thisdict[i]\n",
    "    i=i+1\n",
    "    if(i==18):\n",
    "        break\n",
    "print(str('matched'), str(count))\n",
    "print(str('NOT_matched'), str(nott))"
   ]
  },
  {
   "cell_type": "code",
   "execution_count": 41,
   "metadata": {},
   "outputs": [],
   "source": [
    "if(nott <10):\n",
    "    User_as_per_Score = \"Risk Level Low - Ask for password only\"\n",
    "elif(nott < 17 ):\n",
    "    User_as_per_Score = \"Risk Level 2 - Ask for password and OTP both\"\n",
    "elif(nott < 25) :\n",
    "    User_as_per_Score = \"Risk Level 3 - Ask for password and OTP and Facial password\"\n",
    "else:\n",
    "    User_as_per_Score = \"Risk Level 4 - Very High Risk\""
   ]
  },
  {
   "cell_type": "code",
   "execution_count": 42,
   "metadata": {},
   "outputs": [
    {
     "name": "stdout",
     "output_type": "stream",
     "text": [
      "Risk Level 3 - Ask for password and OTP and Facial password\n"
     ]
    }
   ],
   "source": [
    "print(User_as_per_Score)"
   ]
  },
  {
   "cell_type": "code",
   "execution_count": 43,
   "metadata": {},
   "outputs": [],
   "source": [
    "#Tip you can round off latitute values, so that they do not get mismatched due to precision values\n",
    "# while comparing with the old ones"
   ]
  },
  {
   "cell_type": "code",
   "execution_count": null,
   "metadata": {},
   "outputs": [],
   "source": []
  }
 ],
 "metadata": {
  "kernelspec": {
   "display_name": "Python 3",
   "language": "python",
   "name": "python3"
  },
  "language_info": {
   "codemirror_mode": {
    "name": "ipython",
    "version": 3
   },
   "file_extension": ".py",
   "mimetype": "text/x-python",
   "name": "python",
   "nbconvert_exporter": "python",
   "pygments_lexer": "ipython3",
   "version": "3.6.9"
  }
 },
 "nbformat": 4,
 "nbformat_minor": 4
}
