{
 "cells": [
  {
   "cell_type": "code",
   "execution_count": 1,
   "metadata": {},
   "outputs": [],
   "source": [
    "import pandas as pd"
   ]
  },
  {
   "cell_type": "code",
   "execution_count": 2,
   "metadata": {},
   "outputs": [],
   "source": [
    "%matplotlib inline"
   ]
  },
  {
   "cell_type": "code",
   "execution_count": 3,
   "metadata": {},
   "outputs": [],
   "source": [
    "import numpy as np\n",
    "import matplotlib.pyplot as plt\n",
    "import matplotlib.font_manager\n",
    "from sklearn import svm"
   ]
  },
  {
   "cell_type": "code",
   "execution_count": 4,
   "metadata": {},
   "outputs": [],
   "source": [
    "Whole_data = pd.read_csv(\"cleaned.csv\")\n",
    "X_ =pd.read_csv(\"cleaned.csv\")"
   ]
  },
  {
   "cell_type": "code",
   "execution_count": null,
   "metadata": {},
   "outputs": [],
   "source": []
  },
  {
   "cell_type": "code",
   "execution_count": 5,
   "metadata": {},
   "outputs": [],
   "source": [
    "id=58"
   ]
  },
  {
   "cell_type": "code",
   "execution_count": 6,
   "metadata": {},
   "outputs": [],
   "source": [
    "X_train=Whole_data[Whole_data['user_id'] == id]"
   ]
  },
  {
   "cell_type": "code",
   "execution_count": 7,
   "metadata": {},
   "outputs": [
    {
     "data": {
      "text/plain": [
       "pandas.core.frame.DataFrame"
      ]
     },
     "execution_count": 7,
     "metadata": {},
     "output_type": "execute_result"
    }
   ],
   "source": [
    "type(X_train)"
   ]
  },
  {
   "cell_type": "code",
   "execution_count": 8,
   "metadata": {},
   "outputs": [
    {
     "data": {
      "text/html": [
       "<div>\n",
       "<style>\n",
       "    .dataframe thead tr:only-child th {\n",
       "        text-align: right;\n",
       "    }\n",
       "\n",
       "    .dataframe thead th {\n",
       "        text-align: left;\n",
       "    }\n",
       "\n",
       "    .dataframe tbody tr th {\n",
       "        vertical-align: top;\n",
       "    }\n",
       "</style>\n",
       "<table border=\"1\" class=\"dataframe\">\n",
       "  <thead>\n",
       "    <tr style=\"text-align: right;\">\n",
       "      <th></th>\n",
       "      <th>user_id</th>\n",
       "      <th>location_browser_lang</th>\n",
       "      <th>config_browser_engine</th>\n",
       "      <th>config_browser_name</th>\n",
       "      <th>config_device_brand</th>\n",
       "      <th>config_device_model</th>\n",
       "      <th>config_os</th>\n",
       "      <th>config_os_version</th>\n",
       "      <th>config_resolution</th>\n",
       "      <th>location_city</th>\n",
       "      <th>location_country</th>\n",
       "      <th>location_longitude</th>\n",
       "    </tr>\n",
       "  </thead>\n",
       "  <tbody>\n",
       "    <tr>\n",
       "      <th>15</th>\n",
       "      <td>58</td>\n",
       "      <td>58</td>\n",
       "      <td>5</td>\n",
       "      <td>6</td>\n",
       "      <td>0</td>\n",
       "      <td>2</td>\n",
       "      <td>8</td>\n",
       "      <td>16</td>\n",
       "      <td>3</td>\n",
       "      <td>209</td>\n",
       "      <td>15</td>\n",
       "      <td>17.550862</td>\n",
       "    </tr>\n",
       "    <tr>\n",
       "      <th>16</th>\n",
       "      <td>58</td>\n",
       "      <td>90</td>\n",
       "      <td>4</td>\n",
       "      <td>3</td>\n",
       "      <td>0</td>\n",
       "      <td>2</td>\n",
       "      <td>8</td>\n",
       "      <td>23</td>\n",
       "      <td>8</td>\n",
       "      <td>203</td>\n",
       "      <td>18</td>\n",
       "      <td>141.395842</td>\n",
       "    </tr>\n",
       "    <tr>\n",
       "      <th>17</th>\n",
       "      <td>58</td>\n",
       "      <td>90</td>\n",
       "      <td>1</td>\n",
       "      <td>2</td>\n",
       "      <td>0</td>\n",
       "      <td>2</td>\n",
       "      <td>8</td>\n",
       "      <td>5</td>\n",
       "      <td>2</td>\n",
       "      <td>260</td>\n",
       "      <td>12</td>\n",
       "      <td>-177.514029</td>\n",
       "    </tr>\n",
       "    <tr>\n",
       "      <th>18</th>\n",
       "      <td>58</td>\n",
       "      <td>71</td>\n",
       "      <td>5</td>\n",
       "      <td>6</td>\n",
       "      <td>8</td>\n",
       "      <td>2</td>\n",
       "      <td>4</td>\n",
       "      <td>4</td>\n",
       "      <td>6</td>\n",
       "      <td>62</td>\n",
       "      <td>17</td>\n",
       "      <td>-152.348342</td>\n",
       "    </tr>\n",
       "    <tr>\n",
       "      <th>19</th>\n",
       "      <td>58</td>\n",
       "      <td>18</td>\n",
       "      <td>5</td>\n",
       "      <td>1</td>\n",
       "      <td>0</td>\n",
       "      <td>2</td>\n",
       "      <td>3</td>\n",
       "      <td>0</td>\n",
       "      <td>17</td>\n",
       "      <td>46</td>\n",
       "      <td>14</td>\n",
       "      <td>-150.169149</td>\n",
       "    </tr>\n",
       "  </tbody>\n",
       "</table>\n",
       "</div>"
      ],
      "text/plain": [
       "    user_id  location_browser_lang  config_browser_engine  \\\n",
       "15       58                     58                      5   \n",
       "16       58                     90                      4   \n",
       "17       58                     90                      1   \n",
       "18       58                     71                      5   \n",
       "19       58                     18                      5   \n",
       "\n",
       "    config_browser_name  config_device_brand  config_device_model  config_os  \\\n",
       "15                    6                    0                    2          8   \n",
       "16                    3                    0                    2          8   \n",
       "17                    2                    0                    2          8   \n",
       "18                    6                    8                    2          4   \n",
       "19                    1                    0                    2          3   \n",
       "\n",
       "    config_os_version  config_resolution  location_city  location_country  \\\n",
       "15                 16                  3            209                15   \n",
       "16                 23                  8            203                18   \n",
       "17                  5                  2            260                12   \n",
       "18                  4                  6             62                17   \n",
       "19                  0                 17             46                14   \n",
       "\n",
       "    location_longitude  \n",
       "15           17.550862  \n",
       "16          141.395842  \n",
       "17         -177.514029  \n",
       "18         -152.348342  \n",
       "19         -150.169149  "
      ]
     },
     "execution_count": 8,
     "metadata": {},
     "output_type": "execute_result"
    }
   ],
   "source": [
    "X_train.head()"
   ]
  },
  {
   "cell_type": "code",
   "execution_count": 9,
   "metadata": {},
   "outputs": [],
   "source": [
    "\n",
    "# Feature Scaling\n",
    "from sklearn.preprocessing import StandardScaler\n",
    "sc = StandardScaler()\n",
    "X_train = sc.fit_transform(X_train)\n"
   ]
  },
  {
   "cell_type": "code",
   "execution_count": 10,
   "metadata": {},
   "outputs": [
    {
     "data": {
      "text/plain": [
       "pandas.core.frame.DataFrame"
      ]
     },
     "execution_count": 10,
     "metadata": {},
     "output_type": "execute_result"
    }
   ],
   "source": [
    "X_train = pd.DataFrame(X_train)\n",
    "type(X_train)"
   ]
  },
  {
   "cell_type": "code",
   "execution_count": 11,
   "metadata": {},
   "outputs": [
    {
     "data": {
      "text/html": [
       "<div>\n",
       "<style>\n",
       "    .dataframe thead tr:only-child th {\n",
       "        text-align: right;\n",
       "    }\n",
       "\n",
       "    .dataframe thead th {\n",
       "        text-align: left;\n",
       "    }\n",
       "\n",
       "    .dataframe tbody tr th {\n",
       "        vertical-align: top;\n",
       "    }\n",
       "</style>\n",
       "<table border=\"1\" class=\"dataframe\">\n",
       "  <thead>\n",
       "    <tr style=\"text-align: right;\">\n",
       "      <th></th>\n",
       "      <th>0</th>\n",
       "      <th>1</th>\n",
       "      <th>2</th>\n",
       "      <th>3</th>\n",
       "      <th>4</th>\n",
       "      <th>5</th>\n",
       "      <th>6</th>\n",
       "      <th>7</th>\n",
       "      <th>8</th>\n",
       "      <th>9</th>\n",
       "      <th>10</th>\n",
       "      <th>11</th>\n",
       "    </tr>\n",
       "  </thead>\n",
       "  <tbody>\n",
       "    <tr>\n",
       "      <th>0</th>\n",
       "      <td>0.0</td>\n",
       "      <td>0.171664</td>\n",
       "      <td>0.896258</td>\n",
       "      <td>1.661774</td>\n",
       "      <td>-0.471405</td>\n",
       "      <td>-0.316228</td>\n",
       "      <td>0.665912</td>\n",
       "      <td>0.335367</td>\n",
       "      <td>-0.889415</td>\n",
       "      <td>0.596090</td>\n",
       "      <td>-0.027650</td>\n",
       "      <td>0.667240</td>\n",
       "    </tr>\n",
       "    <tr>\n",
       "      <th>1</th>\n",
       "      <td>0.0</td>\n",
       "      <td>1.130803</td>\n",
       "      <td>0.192055</td>\n",
       "      <td>-0.107211</td>\n",
       "      <td>-0.471405</td>\n",
       "      <td>-0.316228</td>\n",
       "      <td>0.665912</td>\n",
       "      <td>1.033294</td>\n",
       "      <td>-0.292856</td>\n",
       "      <td>0.510564</td>\n",
       "      <td>0.884802</td>\n",
       "      <td>1.807538</td>\n",
       "    </tr>\n",
       "    <tr>\n",
       "      <th>2</th>\n",
       "      <td>0.0</td>\n",
       "      <td>1.130803</td>\n",
       "      <td>-1.920553</td>\n",
       "      <td>-0.696873</td>\n",
       "      <td>-0.471405</td>\n",
       "      <td>-0.316228</td>\n",
       "      <td>0.665912</td>\n",
       "      <td>-0.761374</td>\n",
       "      <td>-1.008727</td>\n",
       "      <td>1.323061</td>\n",
       "      <td>-0.940102</td>\n",
       "      <td>-1.128813</td>\n",
       "    </tr>\n",
       "    <tr>\n",
       "      <th>3</th>\n",
       "      <td>0.0</td>\n",
       "      <td>0.561314</td>\n",
       "      <td>0.896258</td>\n",
       "      <td>1.661774</td>\n",
       "      <td>2.121320</td>\n",
       "      <td>-0.316228</td>\n",
       "      <td>-1.426954</td>\n",
       "      <td>-0.861078</td>\n",
       "      <td>-0.531480</td>\n",
       "      <td>-1.499296</td>\n",
       "      <td>0.580651</td>\n",
       "      <td>-0.897101</td>\n",
       "    </tr>\n",
       "    <tr>\n",
       "      <th>4</th>\n",
       "      <td>0.0</td>\n",
       "      <td>-1.027259</td>\n",
       "      <td>0.896258</td>\n",
       "      <td>-1.286535</td>\n",
       "      <td>-0.471405</td>\n",
       "      <td>-0.316228</td>\n",
       "      <td>-1.950171</td>\n",
       "      <td>-1.259893</td>\n",
       "      <td>0.780950</td>\n",
       "      <td>-1.727365</td>\n",
       "      <td>-0.331801</td>\n",
       "      <td>-0.877036</td>\n",
       "    </tr>\n",
       "    <tr>\n",
       "      <th>5</th>\n",
       "      <td>0.0</td>\n",
       "      <td>1.130803</td>\n",
       "      <td>0.192055</td>\n",
       "      <td>-0.107211</td>\n",
       "      <td>-0.471405</td>\n",
       "      <td>-0.316228</td>\n",
       "      <td>0.665912</td>\n",
       "      <td>1.033294</td>\n",
       "      <td>1.377508</td>\n",
       "      <td>0.653107</td>\n",
       "      <td>2.405555</td>\n",
       "      <td>-0.394694</td>\n",
       "    </tr>\n",
       "    <tr>\n",
       "      <th>6</th>\n",
       "      <td>0.0</td>\n",
       "      <td>-0.997286</td>\n",
       "      <td>0.192055</td>\n",
       "      <td>-0.107211</td>\n",
       "      <td>-0.471405</td>\n",
       "      <td>-0.316228</td>\n",
       "      <td>0.665912</td>\n",
       "      <td>1.232702</td>\n",
       "      <td>-1.008727</td>\n",
       "      <td>0.082934</td>\n",
       "      <td>-0.635951</td>\n",
       "      <td>0.283418</td>\n",
       "    </tr>\n",
       "    <tr>\n",
       "      <th>7</th>\n",
       "      <td>0.0</td>\n",
       "      <td>1.130803</td>\n",
       "      <td>0.896258</td>\n",
       "      <td>-1.286535</td>\n",
       "      <td>-0.471405</td>\n",
       "      <td>-0.316228</td>\n",
       "      <td>0.665912</td>\n",
       "      <td>0.833886</td>\n",
       "      <td>1.854755</td>\n",
       "      <td>1.180517</td>\n",
       "      <td>-0.635951</td>\n",
       "      <td>-0.645950</td>\n",
       "    </tr>\n",
       "    <tr>\n",
       "      <th>8</th>\n",
       "      <td>0.0</td>\n",
       "      <td>-1.117179</td>\n",
       "      <td>-1.920553</td>\n",
       "      <td>-0.696873</td>\n",
       "      <td>2.121320</td>\n",
       "      <td>-0.316228</td>\n",
       "      <td>-1.426954</td>\n",
       "      <td>-1.160190</td>\n",
       "      <td>0.900261</td>\n",
       "      <td>-0.914869</td>\n",
       "      <td>-1.244253</td>\n",
       "      <td>0.096023</td>\n",
       "    </tr>\n",
       "    <tr>\n",
       "      <th>9</th>\n",
       "      <td>0.0</td>\n",
       "      <td>-0.997286</td>\n",
       "      <td>-0.512148</td>\n",
       "      <td>1.072113</td>\n",
       "      <td>-0.471405</td>\n",
       "      <td>-0.316228</td>\n",
       "      <td>0.665912</td>\n",
       "      <td>0.833886</td>\n",
       "      <td>-0.173544</td>\n",
       "      <td>-0.701054</td>\n",
       "      <td>-0.635951</td>\n",
       "      <td>-0.716947</td>\n",
       "    </tr>\n",
       "    <tr>\n",
       "      <th>10</th>\n",
       "      <td>0.0</td>\n",
       "      <td>-1.117179</td>\n",
       "      <td>0.192055</td>\n",
       "      <td>-0.107211</td>\n",
       "      <td>-0.471405</td>\n",
       "      <td>3.162278</td>\n",
       "      <td>0.142695</td>\n",
       "      <td>-1.259893</td>\n",
       "      <td>-1.008727</td>\n",
       "      <td>0.496310</td>\n",
       "      <td>0.580651</td>\n",
       "      <td>1.806322</td>\n",
       "    </tr>\n",
       "    <tr>\n",
       "      <th>11</th>\n",
       "      <td>0.0</td>\n",
       "      <td>0.171664</td>\n",
       "      <td>0.896258</td>\n",
       "      <td>1.661774</td>\n",
       "      <td>-0.471405</td>\n",
       "      <td>-0.316228</td>\n",
       "      <td>0.665912</td>\n",
       "      <td>0.335367</td>\n",
       "      <td>-0.889415</td>\n",
       "      <td>0.596090</td>\n",
       "      <td>-0.027650</td>\n",
       "      <td>0.667240</td>\n",
       "    </tr>\n",
       "    <tr>\n",
       "      <th>12</th>\n",
       "      <td>0.0</td>\n",
       "      <td>1.130803</td>\n",
       "      <td>0.192055</td>\n",
       "      <td>-0.107211</td>\n",
       "      <td>-0.471405</td>\n",
       "      <td>-0.316228</td>\n",
       "      <td>0.665912</td>\n",
       "      <td>1.033294</td>\n",
       "      <td>-0.292856</td>\n",
       "      <td>0.510564</td>\n",
       "      <td>0.884802</td>\n",
       "      <td>1.807538</td>\n",
       "    </tr>\n",
       "    <tr>\n",
       "      <th>13</th>\n",
       "      <td>0.0</td>\n",
       "      <td>1.130803</td>\n",
       "      <td>-1.920553</td>\n",
       "      <td>-0.696873</td>\n",
       "      <td>-0.471405</td>\n",
       "      <td>-0.316228</td>\n",
       "      <td>0.665912</td>\n",
       "      <td>-0.761374</td>\n",
       "      <td>-1.008727</td>\n",
       "      <td>1.323061</td>\n",
       "      <td>-0.940102</td>\n",
       "      <td>-1.128813</td>\n",
       "    </tr>\n",
       "    <tr>\n",
       "      <th>14</th>\n",
       "      <td>0.0</td>\n",
       "      <td>0.561314</td>\n",
       "      <td>0.896258</td>\n",
       "      <td>1.661774</td>\n",
       "      <td>2.121320</td>\n",
       "      <td>-0.316228</td>\n",
       "      <td>-1.426954</td>\n",
       "      <td>-0.861078</td>\n",
       "      <td>-0.531480</td>\n",
       "      <td>-1.499296</td>\n",
       "      <td>0.580651</td>\n",
       "      <td>-0.897101</td>\n",
       "    </tr>\n",
       "    <tr>\n",
       "      <th>15</th>\n",
       "      <td>0.0</td>\n",
       "      <td>-1.027259</td>\n",
       "      <td>0.896258</td>\n",
       "      <td>-1.286535</td>\n",
       "      <td>-0.471405</td>\n",
       "      <td>-0.316228</td>\n",
       "      <td>-1.950171</td>\n",
       "      <td>-1.259893</td>\n",
       "      <td>0.780950</td>\n",
       "      <td>-1.727365</td>\n",
       "      <td>-0.331801</td>\n",
       "      <td>-0.877036</td>\n",
       "    </tr>\n",
       "    <tr>\n",
       "      <th>16</th>\n",
       "      <td>0.0</td>\n",
       "      <td>1.130803</td>\n",
       "      <td>0.192055</td>\n",
       "      <td>-0.107211</td>\n",
       "      <td>-0.471405</td>\n",
       "      <td>-0.316228</td>\n",
       "      <td>0.665912</td>\n",
       "      <td>1.033294</td>\n",
       "      <td>1.377508</td>\n",
       "      <td>0.653107</td>\n",
       "      <td>2.405555</td>\n",
       "      <td>-0.394694</td>\n",
       "    </tr>\n",
       "    <tr>\n",
       "      <th>17</th>\n",
       "      <td>0.0</td>\n",
       "      <td>-0.997286</td>\n",
       "      <td>0.192055</td>\n",
       "      <td>-0.107211</td>\n",
       "      <td>-0.471405</td>\n",
       "      <td>-0.316228</td>\n",
       "      <td>0.665912</td>\n",
       "      <td>1.232702</td>\n",
       "      <td>-1.008727</td>\n",
       "      <td>0.082934</td>\n",
       "      <td>-0.635951</td>\n",
       "      <td>0.283418</td>\n",
       "    </tr>\n",
       "    <tr>\n",
       "      <th>18</th>\n",
       "      <td>0.0</td>\n",
       "      <td>1.130803</td>\n",
       "      <td>0.896258</td>\n",
       "      <td>-1.286535</td>\n",
       "      <td>-0.471405</td>\n",
       "      <td>-0.316228</td>\n",
       "      <td>0.665912</td>\n",
       "      <td>0.833886</td>\n",
       "      <td>1.854755</td>\n",
       "      <td>1.180517</td>\n",
       "      <td>-0.635951</td>\n",
       "      <td>-0.645950</td>\n",
       "    </tr>\n",
       "    <tr>\n",
       "      <th>19</th>\n",
       "      <td>0.0</td>\n",
       "      <td>-1.117179</td>\n",
       "      <td>-1.920553</td>\n",
       "      <td>-0.696873</td>\n",
       "      <td>2.121320</td>\n",
       "      <td>-0.316228</td>\n",
       "      <td>-1.426954</td>\n",
       "      <td>-1.160190</td>\n",
       "      <td>0.900261</td>\n",
       "      <td>-0.914869</td>\n",
       "      <td>-1.244253</td>\n",
       "      <td>0.096023</td>\n",
       "    </tr>\n",
       "    <tr>\n",
       "      <th>20</th>\n",
       "      <td>0.0</td>\n",
       "      <td>-0.997286</td>\n",
       "      <td>-0.512148</td>\n",
       "      <td>1.072113</td>\n",
       "      <td>-0.471405</td>\n",
       "      <td>-0.316228</td>\n",
       "      <td>0.665912</td>\n",
       "      <td>0.833886</td>\n",
       "      <td>-0.173544</td>\n",
       "      <td>-0.701054</td>\n",
       "      <td>-0.635951</td>\n",
       "      <td>-0.716947</td>\n",
       "    </tr>\n",
       "    <tr>\n",
       "      <th>21</th>\n",
       "      <td>0.0</td>\n",
       "      <td>-1.117179</td>\n",
       "      <td>0.192055</td>\n",
       "      <td>-0.107211</td>\n",
       "      <td>-0.471405</td>\n",
       "      <td>3.162278</td>\n",
       "      <td>0.142695</td>\n",
       "      <td>-1.259893</td>\n",
       "      <td>-1.008727</td>\n",
       "      <td>0.496310</td>\n",
       "      <td>0.580651</td>\n",
       "      <td>1.806322</td>\n",
       "    </tr>\n",
       "  </tbody>\n",
       "</table>\n",
       "</div>"
      ],
      "text/plain": [
       "     0         1         2         3         4         5         6         7   \\\n",
       "0   0.0  0.171664  0.896258  1.661774 -0.471405 -0.316228  0.665912  0.335367   \n",
       "1   0.0  1.130803  0.192055 -0.107211 -0.471405 -0.316228  0.665912  1.033294   \n",
       "2   0.0  1.130803 -1.920553 -0.696873 -0.471405 -0.316228  0.665912 -0.761374   \n",
       "3   0.0  0.561314  0.896258  1.661774  2.121320 -0.316228 -1.426954 -0.861078   \n",
       "4   0.0 -1.027259  0.896258 -1.286535 -0.471405 -0.316228 -1.950171 -1.259893   \n",
       "5   0.0  1.130803  0.192055 -0.107211 -0.471405 -0.316228  0.665912  1.033294   \n",
       "6   0.0 -0.997286  0.192055 -0.107211 -0.471405 -0.316228  0.665912  1.232702   \n",
       "7   0.0  1.130803  0.896258 -1.286535 -0.471405 -0.316228  0.665912  0.833886   \n",
       "8   0.0 -1.117179 -1.920553 -0.696873  2.121320 -0.316228 -1.426954 -1.160190   \n",
       "9   0.0 -0.997286 -0.512148  1.072113 -0.471405 -0.316228  0.665912  0.833886   \n",
       "10  0.0 -1.117179  0.192055 -0.107211 -0.471405  3.162278  0.142695 -1.259893   \n",
       "11  0.0  0.171664  0.896258  1.661774 -0.471405 -0.316228  0.665912  0.335367   \n",
       "12  0.0  1.130803  0.192055 -0.107211 -0.471405 -0.316228  0.665912  1.033294   \n",
       "13  0.0  1.130803 -1.920553 -0.696873 -0.471405 -0.316228  0.665912 -0.761374   \n",
       "14  0.0  0.561314  0.896258  1.661774  2.121320 -0.316228 -1.426954 -0.861078   \n",
       "15  0.0 -1.027259  0.896258 -1.286535 -0.471405 -0.316228 -1.950171 -1.259893   \n",
       "16  0.0  1.130803  0.192055 -0.107211 -0.471405 -0.316228  0.665912  1.033294   \n",
       "17  0.0 -0.997286  0.192055 -0.107211 -0.471405 -0.316228  0.665912  1.232702   \n",
       "18  0.0  1.130803  0.896258 -1.286535 -0.471405 -0.316228  0.665912  0.833886   \n",
       "19  0.0 -1.117179 -1.920553 -0.696873  2.121320 -0.316228 -1.426954 -1.160190   \n",
       "20  0.0 -0.997286 -0.512148  1.072113 -0.471405 -0.316228  0.665912  0.833886   \n",
       "21  0.0 -1.117179  0.192055 -0.107211 -0.471405  3.162278  0.142695 -1.259893   \n",
       "\n",
       "          8         9         10        11  \n",
       "0  -0.889415  0.596090 -0.027650  0.667240  \n",
       "1  -0.292856  0.510564  0.884802  1.807538  \n",
       "2  -1.008727  1.323061 -0.940102 -1.128813  \n",
       "3  -0.531480 -1.499296  0.580651 -0.897101  \n",
       "4   0.780950 -1.727365 -0.331801 -0.877036  \n",
       "5   1.377508  0.653107  2.405555 -0.394694  \n",
       "6  -1.008727  0.082934 -0.635951  0.283418  \n",
       "7   1.854755  1.180517 -0.635951 -0.645950  \n",
       "8   0.900261 -0.914869 -1.244253  0.096023  \n",
       "9  -0.173544 -0.701054 -0.635951 -0.716947  \n",
       "10 -1.008727  0.496310  0.580651  1.806322  \n",
       "11 -0.889415  0.596090 -0.027650  0.667240  \n",
       "12 -0.292856  0.510564  0.884802  1.807538  \n",
       "13 -1.008727  1.323061 -0.940102 -1.128813  \n",
       "14 -0.531480 -1.499296  0.580651 -0.897101  \n",
       "15  0.780950 -1.727365 -0.331801 -0.877036  \n",
       "16  1.377508  0.653107  2.405555 -0.394694  \n",
       "17 -1.008727  0.082934 -0.635951  0.283418  \n",
       "18  1.854755  1.180517 -0.635951 -0.645950  \n",
       "19  0.900261 -0.914869 -1.244253  0.096023  \n",
       "20 -0.173544 -0.701054 -0.635951 -0.716947  \n",
       "21 -1.008727  0.496310  0.580651  1.806322  "
      ]
     },
     "execution_count": 11,
     "metadata": {},
     "output_type": "execute_result"
    }
   ],
   "source": [
    "X_train"
   ]
  },
  {
   "cell_type": "code",
   "execution_count": 12,
   "metadata": {},
   "outputs": [
    {
     "data": {
      "text/plain": [
       "(22, 12)"
      ]
     },
     "execution_count": 12,
     "metadata": {},
     "output_type": "execute_result"
    }
   ],
   "source": [
    "X_train.shape"
   ]
  },
  {
   "cell_type": "markdown",
   "metadata": {},
   "source": [
    "# user new input"
   ]
  },
  {
   "cell_type": "code",
   "execution_count": 13,
   "metadata": {},
   "outputs": [
    {
     "data": {
      "text/plain": [
       "(1, 12)"
      ]
     },
     "execution_count": 13,
     "metadata": {},
     "output_type": "execute_result"
    }
   ],
   "source": [
    "data=[[58,90,1,2,0,2,8,23,22,213,23,-97.783179]]\n",
    "#make new dataset \n",
    "\n",
    "X_test = pd.DataFrame(data)\n",
    "\n",
    "X_test.shape"
   ]
  },
  {
   "cell_type": "code",
   "execution_count": 14,
   "metadata": {},
   "outputs": [],
   "source": [
    "# # Feature Scaling\n",
    "# from sklearn.preprocessing import StandardScaler\n",
    "\n",
    "\n",
    "\n",
    "# sc = StandardScaler()\n",
    "# X_test = sc.fit_transform(X_test)\n",
    "# X_test = pd.DataFrame(X_test)\n",
    "# type(X_test)"
   ]
  },
  {
   "cell_type": "code",
   "execution_count": 15,
   "metadata": {},
   "outputs": [],
   "source": [
    "X_test = sc.transform(X_test)"
   ]
  },
  {
   "cell_type": "code",
   "execution_count": 16,
   "metadata": {},
   "outputs": [
    {
     "data": {
      "text/plain": [
       "array([[ 0.        ,  1.13080278, -1.9205532 , -0.69687315, -0.47140452,\n",
       "        -0.31622777,  0.66591209,  1.03329393,  1.37750841,  0.65310732,\n",
       "         2.4055555 , -0.39469422]])"
      ]
     },
     "execution_count": 16,
     "metadata": {},
     "output_type": "execute_result"
    }
   ],
   "source": [
    "X_test"
   ]
  },
  {
   "cell_type": "code",
   "execution_count": null,
   "metadata": {},
   "outputs": [],
   "source": []
  },
  {
   "cell_type": "code",
   "execution_count": 17,
   "metadata": {},
   "outputs": [
    {
     "data": {
      "text/plain": [
       "(1, 12)"
      ]
     },
     "execution_count": 17,
     "metadata": {},
     "output_type": "execute_result"
    }
   ],
   "source": [
    "X_test.shape"
   ]
  },
  {
   "cell_type": "markdown",
   "metadata": {},
   "source": [
    "# Making outliers"
   ]
  },
  {
   "cell_type": "code",
   "execution_count": 18,
   "metadata": {},
   "outputs": [],
   "source": [
    "X_outliers = np.random.uniform(low=-5, high=5, size=(345, 12))"
   ]
  },
  {
   "cell_type": "code",
   "execution_count": 19,
   "metadata": {},
   "outputs": [
    {
     "data": {
      "text/plain": [
       "(345, 12)"
      ]
     },
     "execution_count": 19,
     "metadata": {},
     "output_type": "execute_result"
    }
   ],
   "source": [
    "X_outliers.shape"
   ]
  },
  {
   "cell_type": "markdown",
   "metadata": {},
   "source": [
    "# Fitting the model"
   ]
  },
  {
   "cell_type": "code",
   "execution_count": 20,
   "metadata": {},
   "outputs": [],
   "source": [
    "# fit the model\n",
    "clf = svm.OneClassSVM(nu=0.1, kernel=\"rbf\", gamma=0.1)\n"
   ]
  },
  {
   "cell_type": "code",
   "execution_count": 21,
   "metadata": {},
   "outputs": [
    {
     "data": {
      "text/plain": [
       "OneClassSVM(cache_size=200, coef0=0.0, degree=3, gamma=0.1, kernel='rbf',\n",
       "      max_iter=-1, nu=0.1, random_state=None, shrinking=True, tol=0.001,\n",
       "      verbose=False)"
      ]
     },
     "execution_count": 21,
     "metadata": {},
     "output_type": "execute_result"
    }
   ],
   "source": [
    "clf.fit(X_train)"
   ]
  },
  {
   "cell_type": "markdown",
   "metadata": {},
   "source": [
    "# Predicting within the Train dataframe\n"
   ]
  },
  {
   "cell_type": "code",
   "execution_count": 22,
   "metadata": {},
   "outputs": [],
   "source": [
    "y_pred_train = clf.predict(X_train)"
   ]
  },
  {
   "cell_type": "code",
   "execution_count": 23,
   "metadata": {},
   "outputs": [],
   "source": [
    "unique, counts = np.unique(y_pred_train, return_counts=True)\n"
   ]
  },
  {
   "cell_type": "code",
   "execution_count": 24,
   "metadata": {},
   "outputs": [
    {
     "data": {
      "text/plain": [
       "{-1.0: 12, 1.0: 10}"
      ]
     },
     "execution_count": 24,
     "metadata": {},
     "output_type": "execute_result"
    }
   ],
   "source": [
    "dict(zip(unique, counts))"
   ]
  },
  {
   "cell_type": "code",
   "execution_count": 25,
   "metadata": {},
   "outputs": [
    {
     "data": {
      "text/plain": [
       "(22,)"
      ]
     },
     "execution_count": 25,
     "metadata": {},
     "output_type": "execute_result"
    }
   ],
   "source": [
    "y_pred_train.shape"
   ]
  },
  {
   "cell_type": "markdown",
   "metadata": {},
   "source": [
    "# Predicting  for the given input"
   ]
  },
  {
   "cell_type": "code",
   "execution_count": 26,
   "metadata": {},
   "outputs": [],
   "source": [
    "y_pred_test = clf.predict(X_test)"
   ]
  },
  {
   "cell_type": "code",
   "execution_count": 27,
   "metadata": {},
   "outputs": [
    {
     "data": {
      "text/plain": [
       "array([-1.])"
      ]
     },
     "execution_count": 27,
     "metadata": {},
     "output_type": "execute_result"
    }
   ],
   "source": [
    "y_pred_test\n"
   ]
  },
  {
   "cell_type": "code",
   "execution_count": 30,
   "metadata": {},
   "outputs": [
    {
     "name": "stdout",
     "output_type": "stream",
     "text": [
      "It's a Anomoly\n"
     ]
    }
   ],
   "source": [
    "if(y_pred_test == -1):\n",
    "    print(\"It's a Anomoly\")\n",
    "else:\n",
    "    print(\"It's a regular observation\")\n"
   ]
  },
  {
   "cell_type": "markdown",
   "metadata": {},
   "source": [
    "# Predicting for the synthe. outliers"
   ]
  },
  {
   "cell_type": "code",
   "execution_count": 31,
   "metadata": {},
   "outputs": [],
   "source": [
    "y_pred_outliers = clf.predict(X_outliers)"
   ]
  },
  {
   "cell_type": "code",
   "execution_count": 32,
   "metadata": {},
   "outputs": [
    {
     "data": {
      "text/plain": [
       "(345,)"
      ]
     },
     "execution_count": 32,
     "metadata": {},
     "output_type": "execute_result"
    }
   ],
   "source": [
    "y_pred_outliers.shape"
   ]
  },
  {
   "cell_type": "code",
   "execution_count": 33,
   "metadata": {},
   "outputs": [
    {
     "data": {
      "text/plain": [
       "{-1.0: 345}"
      ]
     },
     "execution_count": 33,
     "metadata": {},
     "output_type": "execute_result"
    }
   ],
   "source": [
    "unique, counts = np.unique(y_pred_outliers, return_counts=True)\n",
    "\n",
    "dict(zip(unique, counts))"
   ]
  },
  {
   "cell_type": "code",
   "execution_count": null,
   "metadata": {},
   "outputs": [],
   "source": []
  },
  {
   "cell_type": "markdown",
   "metadata": {},
   "source": [
    "# RoC after spliting the train dataframe into 2 parts"
   ]
  },
  {
   "cell_type": "code",
   "execution_count": 34,
   "metadata": {},
   "outputs": [],
   "source": [
    "from sklearn.model_selection import train_test_split\n",
    "\n",
    "from sklearn.metrics import roc_curve, roc_auc_score"
   ]
  },
  {
   "cell_type": "code",
   "execution_count": 35,
   "metadata": {},
   "outputs": [],
   "source": [
    "X_Train, X_Test = train_test_split(X_train,test_size = 0.5,random_state = 42)\n",
    "\n"
   ]
  },
  {
   "cell_type": "code",
   "execution_count": 36,
   "metadata": {},
   "outputs": [
    {
     "data": {
      "text/plain": [
       "(11, 12)"
      ]
     },
     "execution_count": 36,
     "metadata": {},
     "output_type": "execute_result"
    }
   ],
   "source": [
    "X_Train.shape"
   ]
  },
  {
   "cell_type": "code",
   "execution_count": 37,
   "metadata": {},
   "outputs": [
    {
     "data": {
      "text/plain": [
       "(11, 12)"
      ]
     },
     "execution_count": 37,
     "metadata": {},
     "output_type": "execute_result"
    }
   ],
   "source": [
    "X_Test.shape"
   ]
  },
  {
   "cell_type": "code",
   "execution_count": 38,
   "metadata": {},
   "outputs": [],
   "source": [
    "#X_Test = X_Test.drop(X_Test.shape[0],axis=0)\n",
    "\n"
   ]
  },
  {
   "cell_type": "code",
   "execution_count": 39,
   "metadata": {},
   "outputs": [
    {
     "data": {
      "text/plain": [
       "(11, 12)"
      ]
     },
     "execution_count": 39,
     "metadata": {},
     "output_type": "execute_result"
    }
   ],
   "source": [
    "X_Test.shape"
   ]
  },
  {
   "cell_type": "code",
   "execution_count": 40,
   "metadata": {},
   "outputs": [],
   "source": [
    "clf = svm.OneClassSVM(nu=0.1,kernel = \"rbf\", gamma =0.1)\n",
    "y_score = clf.fit(X_Train).decision_function(X_Test)\n",
    "\n",
    "\n",
    "\n"
   ]
  },
  {
   "cell_type": "markdown",
   "metadata": {},
   "source": [
    "The desion function tells us on which side of the hyperplane generated by the classifier we are (and how far we are away from it)."
   ]
  },
  {
   "cell_type": "code",
   "execution_count": 41,
   "metadata": {},
   "outputs": [],
   "source": [
    "pred = clf.predict(X_Train)\n"
   ]
  },
  {
   "cell_type": "code",
   "execution_count": 42,
   "metadata": {},
   "outputs": [
    {
     "data": {
      "text/plain": [
       "{-1.0: 5, 1.0: 6}"
      ]
     },
     "execution_count": 42,
     "metadata": {},
     "output_type": "execute_result"
    }
   ],
   "source": [
    "unique, counts = np.unique(pred, return_counts=True)\n",
    "\n",
    "dict(zip(unique, counts))"
   ]
  },
  {
   "cell_type": "code",
   "execution_count": null,
   "metadata": {},
   "outputs": [],
   "source": []
  },
  {
   "cell_type": "code",
   "execution_count": 43,
   "metadata": {},
   "outputs": [],
   "source": [
    "fpr,tpr,thresholds = roc_curve(pred,y_score)\n",
    "roc_auc = roc_auc_score(pred,y_score)"
   ]
  },
  {
   "cell_type": "code",
   "execution_count": null,
   "metadata": {},
   "outputs": [],
   "source": []
  },
  {
   "cell_type": "code",
   "execution_count": 44,
   "metadata": {},
   "outputs": [
    {
     "data": {
      "image/png": "[encoded data removed]",
      "text/plain": [
       "<Figure size 1080x576 with 1 Axes>"
      ]
     },
     "metadata": {
      "needs_background": "light"
     },
     "output_type": "display_data"
    }
   ],
   "source": [
    "plt.figure(figsize=(15, 8))\n",
    "plt.plot(fpr, tpr, label='ROC curve (area = %0.2f)' % roc_auc)\n",
    "plt.plot([0, 1], [0, 1], 'k--')\n",
    "plt.xlim([0.0, 1.0])\n",
    "plt.ylim([0.0, 1.05])\n",
    "plt.xlabel('False Positive Rate')\n",
    "plt.ylabel('True Positive Rate')\n",
    "plt.title('ROC Curve')\n",
    "plt.legend(loc=\"lower right\")\n",
    "plt.show()"
   ]
  },
  {
   "cell_type": "markdown",
   "metadata": {},
   "source": [
    "# Roc for Train data and Outliers"
   ]
  },
  {
   "cell_type": "code",
   "execution_count": null,
   "metadata": {},
   "outputs": [],
   "source": []
  },
  {
   "cell_type": "code",
   "execution_count": null,
   "metadata": {},
   "outputs": [],
   "source": []
  },
  {
   "cell_type": "code",
   "execution_count": null,
   "metadata": {},
   "outputs": [],
   "source": []
  },
  {
   "cell_type": "markdown",
   "metadata": {},
   "source": [
    "# Risk Calculatoin using the Hard Code"
   ]
  },
  {
   "cell_type": "code",
   "execution_count": 45,
   "metadata": {},
   "outputs": [
    {
     "data": {
      "text/plain": [
       "58"
      ]
     },
     "execution_count": 45,
     "metadata": {},
     "output_type": "execute_result"
    }
   ],
   "source": [
    "id = data[0][0]\n",
    "id"
   ]
  },
  {
   "cell_type": "code",
   "execution_count": 46,
   "metadata": {},
   "outputs": [
    {
     "name": "stdout",
     "output_type": "stream",
     "text": [
      "The user id is 58\n"
     ]
    }
   ],
   "source": [
    "print(\"The user id is \" +  str(id))"
   ]
  },
  {
   "cell_type": "code",
   "execution_count": 47,
   "metadata": {},
   "outputs": [],
   "source": [
    "an=X_[X_['user_id'] == id]"
   ]
  },
  {
   "cell_type": "code",
   "execution_count": 48,
   "metadata": {},
   "outputs": [
    {
     "data": {
      "text/html": [
       "<div>\n",
       "<style>\n",
       "    .dataframe thead tr:only-child th {\n",
       "        text-align: right;\n",
       "    }\n",
       "\n",
       "    .dataframe thead th {\n",
       "        text-align: left;\n",
       "    }\n",
       "\n",
       "    .dataframe tbody tr th {\n",
       "        vertical-align: top;\n",
       "    }\n",
       "</style>\n",
       "<table border=\"1\" class=\"dataframe\">\n",
       "  <thead>\n",
       "    <tr style=\"text-align: right;\">\n",
       "      <th></th>\n",
       "      <th>user_id</th>\n",
       "      <th>location_browser_lang</th>\n",
       "      <th>config_browser_engine</th>\n",
       "      <th>config_browser_name</th>\n",
       "      <th>config_device_brand</th>\n",
       "      <th>config_device_model</th>\n",
       "      <th>config_os</th>\n",
       "      <th>config_os_version</th>\n",
       "      <th>config_resolution</th>\n",
       "      <th>location_city</th>\n",
       "      <th>location_country</th>\n",
       "      <th>location_longitude</th>\n",
       "    </tr>\n",
       "  </thead>\n",
       "  <tbody>\n",
       "    <tr>\n",
       "      <th>15</th>\n",
       "      <td>58</td>\n",
       "      <td>58</td>\n",
       "      <td>5</td>\n",
       "      <td>6</td>\n",
       "      <td>0</td>\n",
       "      <td>2</td>\n",
       "      <td>8</td>\n",
       "      <td>16</td>\n",
       "      <td>3</td>\n",
       "      <td>209</td>\n",
       "      <td>15</td>\n",
       "      <td>17.550862</td>\n",
       "    </tr>\n",
       "    <tr>\n",
       "      <th>16</th>\n",
       "      <td>58</td>\n",
       "      <td>90</td>\n",
       "      <td>4</td>\n",
       "      <td>3</td>\n",
       "      <td>0</td>\n",
       "      <td>2</td>\n",
       "      <td>8</td>\n",
       "      <td>23</td>\n",
       "      <td>8</td>\n",
       "      <td>203</td>\n",
       "      <td>18</td>\n",
       "      <td>141.395842</td>\n",
       "    </tr>\n",
       "    <tr>\n",
       "      <th>17</th>\n",
       "      <td>58</td>\n",
       "      <td>90</td>\n",
       "      <td>1</td>\n",
       "      <td>2</td>\n",
       "      <td>0</td>\n",
       "      <td>2</td>\n",
       "      <td>8</td>\n",
       "      <td>5</td>\n",
       "      <td>2</td>\n",
       "      <td>260</td>\n",
       "      <td>12</td>\n",
       "      <td>-177.514029</td>\n",
       "    </tr>\n",
       "    <tr>\n",
       "      <th>18</th>\n",
       "      <td>58</td>\n",
       "      <td>71</td>\n",
       "      <td>5</td>\n",
       "      <td>6</td>\n",
       "      <td>8</td>\n",
       "      <td>2</td>\n",
       "      <td>4</td>\n",
       "      <td>4</td>\n",
       "      <td>6</td>\n",
       "      <td>62</td>\n",
       "      <td>17</td>\n",
       "      <td>-152.348342</td>\n",
       "    </tr>\n",
       "    <tr>\n",
       "      <th>19</th>\n",
       "      <td>58</td>\n",
       "      <td>18</td>\n",
       "      <td>5</td>\n",
       "      <td>1</td>\n",
       "      <td>0</td>\n",
       "      <td>2</td>\n",
       "      <td>3</td>\n",
       "      <td>0</td>\n",
       "      <td>17</td>\n",
       "      <td>46</td>\n",
       "      <td>14</td>\n",
       "      <td>-150.169149</td>\n",
       "    </tr>\n",
       "  </tbody>\n",
       "</table>\n",
       "</div>"
      ],
      "text/plain": [
       "    user_id  location_browser_lang  config_browser_engine  \\\n",
       "15       58                     58                      5   \n",
       "16       58                     90                      4   \n",
       "17       58                     90                      1   \n",
       "18       58                     71                      5   \n",
       "19       58                     18                      5   \n",
       "\n",
       "    config_browser_name  config_device_brand  config_device_model  config_os  \\\n",
       "15                    6                    0                    2          8   \n",
       "16                    3                    0                    2          8   \n",
       "17                    2                    0                    2          8   \n",
       "18                    6                    8                    2          4   \n",
       "19                    1                    0                    2          3   \n",
       "\n",
       "    config_os_version  config_resolution  location_city  location_country  \\\n",
       "15                 16                  3            209                15   \n",
       "16                 23                  8            203                18   \n",
       "17                  5                  2            260                12   \n",
       "18                  4                  6             62                17   \n",
       "19                  0                 17             46                14   \n",
       "\n",
       "    location_longitude  \n",
       "15           17.550862  \n",
       "16          141.395842  \n",
       "17         -177.514029  \n",
       "18         -152.348342  \n",
       "19         -150.169149  "
      ]
     },
     "execution_count": 48,
     "metadata": {},
     "output_type": "execute_result"
    }
   ],
   "source": [
    "an.head(5)"
   ]
  },
  {
   "cell_type": "code",
   "execution_count": 49,
   "metadata": {},
   "outputs": [
    {
     "data": {
      "text/plain": [
       "[[58, 90, 1, 2, 0, 2, 8, 23, 22, 213, 23, -97.783179]]"
      ]
     },
     "execution_count": 49,
     "metadata": {},
     "output_type": "execute_result"
    }
   ],
   "source": [
    "data"
   ]
  },
  {
   "cell_type": "code",
   "execution_count": 50,
   "metadata": {},
   "outputs": [],
   "source": [
    "columns = an.columns"
   ]
  },
  {
   "cell_type": "code",
   "execution_count": 51,
   "metadata": {},
   "outputs": [
    {
     "data": {
      "text/plain": [
       "True"
      ]
     },
     "execution_count": 51,
     "metadata": {},
     "output_type": "execute_result"
    }
   ],
   "source": [
    "data[0][1] in an['location_browser_lang'].unique()"
   ]
  },
  {
   "cell_type": "code",
   "execution_count": 52,
   "metadata": {},
   "outputs": [
    {
     "data": {
      "text/plain": [
       "array([58, 90, 71, 18, 19, 15])"
      ]
     },
     "execution_count": 52,
     "metadata": {},
     "output_type": "execute_result"
    }
   ],
   "source": [
    "an['location_browser_lang'].unique()"
   ]
  },
  {
   "cell_type": "code",
   "execution_count": 53,
   "metadata": {},
   "outputs": [],
   "source": [
    "\n",
    "count=0\n",
    "nott=0\n",
    "\n",
    "for i in range(0,12):\n",
    "    col = columns[i]\n",
    "    if data[0][i] in an[col].unique():\n",
    "        count=count+1\n",
    "        \n",
    "    else:    \n",
    "        nott=nott+1\n",
    "        print(\"here data is  \"+str(data[0][i]) + \"   and the dataframe is   \"+str(an.iloc[i].unique())  )\n",
    "        print(\"\\n\\n\\n\")\n",
    "        "
   ]
  },
  {
   "cell_type": "code",
   "execution_count": 54,
   "metadata": {},
   "outputs": [
    {
     "data": {
      "text/plain": [
       "12"
      ]
     },
     "execution_count": 54,
     "metadata": {},
     "output_type": "execute_result"
    }
   ],
   "source": [
    "count\n"
   ]
  },
  {
   "cell_type": "code",
   "execution_count": 55,
   "metadata": {},
   "outputs": [
    {
     "data": {
      "text/plain": [
       "0"
      ]
     },
     "execution_count": 55,
     "metadata": {},
     "output_type": "execute_result"
    }
   ],
   "source": [
    "nott"
   ]
  },
  {
   "cell_type": "code",
   "execution_count": 56,
   "metadata": {},
   "outputs": [
    {
     "data": {
      "text/plain": [
       "[[58, 90, 1, 2, 0, 2, 8, 23, 22, 213, 23, -97.783179]]"
      ]
     },
     "execution_count": 56,
     "metadata": {},
     "output_type": "execute_result"
    }
   ],
   "source": [
    "data"
   ]
  },
  {
   "cell_type": "code",
   "execution_count": null,
   "metadata": {},
   "outputs": [],
   "source": []
  },
  {
   "cell_type": "code",
   "execution_count": null,
   "metadata": {},
   "outputs": [],
   "source": []
  },
  {
   "cell_type": "code",
   "execution_count": null,
   "metadata": {},
   "outputs": [],
   "source": []
  },
  {
   "cell_type": "code",
   "execution_count": null,
   "metadata": {},
   "outputs": [],
   "source": []
  },
  {
   "cell_type": "code",
   "execution_count": null,
   "metadata": {},
   "outputs": [],
   "source": []
  },
  {
   "cell_type": "code",
   "execution_count": null,
   "metadata": {},
   "outputs": [],
   "source": []
  },
  {
   "cell_type": "code",
   "execution_count": null,
   "metadata": {},
   "outputs": [],
   "source": []
  },
  {
   "cell_type": "code",
   "execution_count": null,
   "metadata": {},
   "outputs": [],
   "source": []
  },
  {
   "cell_type": "code",
   "execution_count": null,
   "metadata": {},
   "outputs": [],
   "source": []
  },
  {
   "cell_type": "code",
   "execution_count": null,
   "metadata": {},
   "outputs": [],
   "source": []
  },
  {
   "cell_type": "code",
   "execution_count": null,
   "metadata": {},
   "outputs": [],
   "source": []
  },
  {
   "cell_type": "code",
   "execution_count": null,
   "metadata": {},
   "outputs": [],
   "source": []
  },
  {
   "cell_type": "code",
   "execution_count": null,
   "metadata": {},
   "outputs": [],
   "source": []
  },
  {
   "cell_type": "code",
   "execution_count": null,
   "metadata": {},
   "outputs": [],
   "source": []
  },
  {
   "cell_type": "code",
   "execution_count": null,
   "metadata": {},
   "outputs": [],
   "source": []
  },
  {
   "cell_type": "code",
   "execution_count": null,
   "metadata": {},
   "outputs": [],
   "source": []
  },
  {
   "cell_type": "code",
   "execution_count": null,
   "metadata": {},
   "outputs": [],
   "source": []
  },
  {
   "cell_type": "code",
   "execution_count": null,
   "metadata": {},
   "outputs": [],
   "source": []
  },
  {
   "cell_type": "code",
   "execution_count": null,
   "metadata": {},
   "outputs": [],
   "source": []
  },
  {
   "cell_type": "code",
   "execution_count": null,
   "metadata": {},
   "outputs": [],
   "source": []
  },
  {
   "cell_type": "code",
   "execution_count": null,
   "metadata": {},
   "outputs": [],
   "source": []
  },
  {
   "cell_type": "code",
   "execution_count": null,
   "metadata": {},
   "outputs": [],
   "source": []
  },
  {
   "cell_type": "code",
   "execution_count": null,
   "metadata": {},
   "outputs": [],
   "source": []
  },
  {
   "cell_type": "code",
   "execution_count": null,
   "metadata": {},
   "outputs": [],
   "source": []
  },
  {
   "cell_type": "code",
   "execution_count": null,
   "metadata": {},
   "outputs": [],
   "source": []
  },
  {
   "cell_type": "code",
   "execution_count": null,
   "metadata": {},
   "outputs": [],
   "source": []
  },
  {
   "cell_type": "code",
   "execution_count": null,
   "metadata": {},
   "outputs": [],
   "source": []
  },
  {
   "cell_type": "code",
   "execution_count": null,
   "metadata": {},
   "outputs": [],
   "source": []
  },
  {
   "cell_type": "code",
   "execution_count": null,
   "metadata": {},
   "outputs": [],
   "source": []
  },
  {
   "cell_type": "code",
   "execution_count": null,
   "metadata": {},
   "outputs": [],
   "source": []
  },
  {
   "cell_type": "code",
   "execution_count": null,
   "metadata": {},
   "outputs": [],
   "source": []
  },
  {
   "cell_type": "code",
   "execution_count": null,
   "metadata": {},
   "outputs": [],
   "source": []
  },
  {
   "cell_type": "code",
   "execution_count": null,
   "metadata": {},
   "outputs": [],
   "source": []
  },
  {
   "cell_type": "code",
   "execution_count": null,
   "metadata": {},
   "outputs": [],
   "source": []
  },
  {
   "cell_type": "code",
   "execution_count": null,
   "metadata": {},
   "outputs": [],
   "source": []
  },
  {
   "cell_type": "code",
   "execution_count": null,
   "metadata": {},
   "outputs": [],
   "source": []
  }
 ],
 "metadata": {
  "kernelspec": {
   "display_name": "Python 3",
   "language": "python",
   "name": "python3"
  },
  "language_info": {
   "codemirror_mode": {
    "name": "ipython",
    "version": 3
   },
   "file_extension": ".py",
   "mimetype": "text/x-python",
   "name": "python",
   "nbconvert_exporter": "python",
   "pygments_lexer": "ipython3",
   "version": "3.6.7"
  }
 },
 "nbformat": 4,
 "nbformat_minor": 2
}
