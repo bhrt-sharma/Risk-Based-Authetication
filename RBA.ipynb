{
 "cells": [
  {
   "cell_type": "code",
   "execution_count": 1,
   "metadata": {},
   "outputs": [],
   "source": [
    "import os,json\n",
    "import pandas as pd\n",
    "import csv \n",
    "import numpy as np\n",
    "import matplotlib.font_manager\n",
    "from sklearn import svm"
   ]
  },
  {
   "cell_type": "code",
   "execution_count": 2,
   "metadata": {},
   "outputs": [],
   "source": [
    "from pandas.io.json import json_normalize"
   ]
  },
  {
   "cell_type": "code",
   "execution_count": 3,
   "metadata": {},
   "outputs": [],
   "source": [
    "path_to_json = './RBA_DATA/vikram/'"
   ]
  },
  {
   "cell_type": "code",
   "execution_count": 4,
   "metadata": {},
   "outputs": [
    {
     "name": "stdout",
     "output_type": "stream",
     "text": [
      "['35.json', '17.json', '5.json', '23.json', '10.json', '2.json', '37.json', '9.json', '24.json', '18.json', '36.json', '30.json', '15.json', '26.json', '1.json', '21.json', '4.json', '13.json', '22.json', '11.json', '7.json', '25.json', '14.json', '20.json', '33.json', '32.json', '12.json', '6.json', '8.json', '19.json', '27.json', '16.json', '34.json', '31.json', '3.json', '28.json']\n"
     ]
    }
   ],
   "source": [
    "json_files = [pos_json for pos_json in os.listdir(path_to_json) if pos_json.endswith('.json')]\n",
    "print(json_files)  # for me this prints ['foo.json']"
   ]
  },
  {
   "cell_type": "code",
   "execution_count": 5,
   "metadata": {},
   "outputs": [],
   "source": [
    "abs=os.getcwd()"
   ]
  },
  {
   "cell_type": "code",
   "execution_count": 6,
   "metadata": {},
   "outputs": [
    {
     "data": {
      "text/plain": [
       "'/home/bhrt/Documents/RBA/Risk-Based-Authetication'"
      ]
     },
     "execution_count": 6,
     "metadata": {},
     "output_type": "execute_result"
    }
   ],
   "source": [
    "abs"
   ]
  },
  {
   "cell_type": "code",
   "execution_count": 7,
   "metadata": {},
   "outputs": [],
   "source": [
    "with open(str(abs)+'/vikram/'+str(json_files[0])) as json_file: \n",
    "    data = json.load(json_file) "
   ]
  },
  {
   "cell_type": "code",
   "execution_count": 8,
   "metadata": {},
   "outputs": [],
   "source": [
    "df = pd.DataFrame ( columns = data.keys())"
   ]
  },
  {
   "cell_type": "code",
   "execution_count": 9,
   "metadata": {},
   "outputs": [
    {
     "name": "stderr",
     "output_type": "stream",
     "text": [
      "/home/bhrt/.local/lib/python3.6/site-packages/pandas/core/frame.py:7138: FutureWarning: Sorting because non-concatenation axis is not aligned. A future version\n",
      "of pandas will change to not sort by default.\n",
      "\n",
      "To accept the future behavior, pass 'sort=False'.\n",
      "\n",
      "To retain the current behavior and silence the warning, pass 'sort=True'.\n",
      "\n",
      "  sort=sort,\n"
     ]
    }
   ],
   "source": [
    "for i in json_files:\n",
    "    with open(str(abs)+'/vikram/'+str(i)) as json_file: \n",
    "        data = json.load(json_file)\n",
    "        \n",
    "        temp = json_normalize(data)\n",
    "#         df=df.append(temp)\n",
    "#         temp = temp.T\n",
    "        df=df.append(temp)\n",
    "#         df = df.T"
   ]
  },
  {
   "cell_type": "code",
   "execution_count": 10,
   "metadata": {},
   "outputs": [],
   "source": [
    "df['latitude']=32"
   ]
  },
  {
   "cell_type": "code",
   "execution_count": 11,
   "metadata": {},
   "outputs": [],
   "source": [
    "df['longitude']=115"
   ]
  },
  {
   "cell_type": "code",
   "execution_count": null,
   "metadata": {},
   "outputs": [],
   "source": []
  },
  {
   "cell_type": "code",
   "execution_count": 12,
   "metadata": {},
   "outputs": [],
   "source": [
    "path_to_json = './RBA_DATA/mukunda/'"
   ]
  },
  {
   "cell_type": "code",
   "execution_count": 13,
   "metadata": {},
   "outputs": [
    {
     "name": "stdout",
     "output_type": "stream",
     "text": [
      "['17.json', '5.json', '10.json', '2.json', '9.json', '18.json', '15.json', '1.json', '21.json', '4.json', '13.json', '11.json', '7.json', '14.json', '20.json', '12.json', '6.json', '8.json', '19.json', '16.json', '3.json']\n"
     ]
    }
   ],
   "source": [
    "json_files = [pos_json for pos_json in os.listdir(path_to_json) if pos_json.endswith('.json')]\n",
    "print(json_files)  # for me this prints ['foo.json']"
   ]
  },
  {
   "cell_type": "code",
   "execution_count": 14,
   "metadata": {},
   "outputs": [],
   "source": [
    "for i in json_files:\n",
    "    with open(str(abs)+'/mukunda/'+str(i)) as json_file: \n",
    "        data = json.load(json_file)\n",
    "        \n",
    "        temp = json_normalize(data)\n",
    "#         df=df.append(temp)\n",
    "#         temp = temp.T\n",
    "        df=df.append(temp)\n",
    "#         df = df.T"
   ]
  },
  {
   "cell_type": "code",
   "execution_count": 15,
   "metadata": {},
   "outputs": [],
   "source": [
    "path_to_json = './RBA_DATA/raunak/'"
   ]
  },
  {
   "cell_type": "code",
   "execution_count": 16,
   "metadata": {},
   "outputs": [
    {
     "name": "stdout",
     "output_type": "stream",
     "text": [
      "['17.json', '5.json', '23.json', '2.json', '9.json', '24.json', '18.json', '15.json', '26.json', '1.json', '21.json', '4.json', '13.json', '22.json', '11.json', '7.json', '29.json', '25.json', '14.json', '20.json', '12.json', '6.json', '8.json', '19.json', '27.json', '16.json', '3.json', '28.json']\n"
     ]
    }
   ],
   "source": [
    "json_files = [pos_json for pos_json in os.listdir(path_to_json) if pos_json.endswith('.json')]\n",
    "print(json_files)  # for me this prints ['foo.json']"
   ]
  },
  {
   "cell_type": "code",
   "execution_count": 17,
   "metadata": {},
   "outputs": [],
   "source": [
    "for i in json_files:\n",
    "    with open(str(abs)+'/RBA_DATA/raunak/'+str(i)) as json_file: \n",
    "        data = json.load(json_file)\n",
    "        \n",
    "        temp = json_normalize(data)\n",
    "#         df=df.append(temp)\n",
    "#         temp = temp.T\n",
    "        df=df.append(temp)\n",
    "#         df = df.T"
   ]
  },
  {
   "cell_type": "code",
   "execution_count": null,
   "metadata": {},
   "outputs": [],
   "source": []
  },
  {
   "cell_type": "code",
   "execution_count": 18,
   "metadata": {},
   "outputs": [
    {
     "data": {
      "text/plain": [
       "(85, 47)"
      ]
     },
     "execution_count": 18,
     "metadata": {},
     "output_type": "execute_result"
    }
   ],
   "source": [
    "df.shape"
   ]
  },
  {
   "cell_type": "code",
   "execution_count": 19,
   "metadata": {},
   "outputs": [
    {
     "name": "stdout",
     "output_type": "stream",
     "text": [
      "<class 'pandas.core.frame.DataFrame'>\n",
      "Int64Index: 85 entries, 0 to 0\n",
      "Data columns (total 47 columns):\n",
      "Date and time             85 non-null object\n",
      "Device ip                 85 non-null object\n",
      "Device velocity           85 non-null object\n",
      "Transaction ammount       85 non-null object\n",
      "Typing speed              84 non-null object\n",
      "Typing speed              1 non-null float64\n",
      "User name                 84 non-null object\n",
      "board                     73 non-null object\n",
      "bootloader                73 non-null object\n",
      "brand                     73 non-null object\n",
      "device                    73 non-null object\n",
      "display                   73 non-null object\n",
      "fingerprint               73 non-null object\n",
      "hardware                  73 non-null object\n",
      "host                      73 non-null object\n",
      "id                        73 non-null object\n",
      "identifierForVendor       12 non-null object\n",
      "inclication               84 non-null object\n",
      "inclication,              1 non-null object\n",
      "isPhysicalDevice          85 non-null object\n",
      "latitude                  46 non-null object\n",
      "localizedModel            12 non-null object\n",
      "longitude                 46 non-null object\n",
      "longitude and latitude    63 non-null object\n",
      "manufacturer              73 non-null object\n",
      "model                     85 non-null object\n",
      "name                      12 non-null object\n",
      "product                   73 non-null object\n",
      "supported32BitAbis        73 non-null object\n",
      "supported64BitAbis        21 non-null object\n",
      "supportedAbis             73 non-null object\n",
      "systemName                12 non-null object\n",
      "systemVersion             12 non-null object\n",
      "tags                      73 non-null object\n",
      "type                      73 non-null object\n",
      "utsname.machine:          12 non-null object\n",
      "utsname.nodename:         12 non-null object\n",
      "utsname.release:          12 non-null object\n",
      "utsname.sysname:          12 non-null object\n",
      "utsname.version:          12 non-null object\n",
      "version.baseOS            73 non-null object\n",
      "version.codename          73 non-null object\n",
      "version.incremental       73 non-null object\n",
      "version.previewSdkInt     73 non-null object\n",
      "version.release           73 non-null object\n",
      "version.sdkInt            73 non-null object\n",
      "version.securityPatch     73 non-null object\n",
      "dtypes: float64(1), object(46)\n",
      "memory usage: 31.9+ KB\n"
     ]
    }
   ],
   "source": [
    "df.info()"
   ]
  },
  {
   "cell_type": "code",
   "execution_count": 20,
   "metadata": {},
   "outputs": [
    {
     "data": {
      "text/plain": [
       "Date and time              0\n",
       "Device ip                  0\n",
       "Device velocity            0\n",
       "Transaction ammount        0\n",
       "Typing speed               1\n",
       "Typing speed              84\n",
       "User name                  1\n",
       "board                     12\n",
       "bootloader                12\n",
       "brand                     12\n",
       "device                    12\n",
       "display                   12\n",
       "fingerprint               12\n",
       "hardware                  12\n",
       "host                      12\n",
       "id                        12\n",
       "identifierForVendor       73\n",
       "inclication                1\n",
       "inclication,              84\n",
       "isPhysicalDevice           0\n",
       "latitude                  39\n",
       "localizedModel            73\n",
       "longitude                 39\n",
       "longitude and latitude    22\n",
       "manufacturer              12\n",
       "model                      0\n",
       "name                      73\n",
       "product                   12\n",
       "supported32BitAbis        12\n",
       "supported64BitAbis        64\n",
       "supportedAbis             12\n",
       "systemName                73\n",
       "systemVersion             73\n",
       "tags                      12\n",
       "type                      12\n",
       "utsname.machine:          73\n",
       "utsname.nodename:         73\n",
       "utsname.release:          73\n",
       "utsname.sysname:          73\n",
       "utsname.version:          73\n",
       "version.baseOS            12\n",
       "version.codename          12\n",
       "version.incremental       12\n",
       "version.previewSdkInt     12\n",
       "version.release           12\n",
       "version.sdkInt            12\n",
       "version.securityPatch     12\n",
       "dtype: int64"
      ]
     },
     "execution_count": 20,
     "metadata": {},
     "output_type": "execute_result"
    }
   ],
   "source": [
    "df.isna().sum()"
   ]
  },
  {
   "cell_type": "code",
   "execution_count": 21,
   "metadata": {},
   "outputs": [],
   "source": [
    "new_df=df.drop(labels=['identifierForVendor','inclication,','localizedModel','name','systemName','systemVersion','utsname.machine:','utsname.nodename:','utsname.release:','utsname.version:','utsname.sysname:','hardware'],axis=1)"
   ]
  },
  {
   "cell_type": "code",
   "execution_count": 22,
   "metadata": {},
   "outputs": [],
   "source": [
    "new_df=new_df.drop([new_df.columns[5]],axis='columns')"
   ]
  },
  {
   "cell_type": "code",
   "execution_count": 23,
   "metadata": {},
   "outputs": [
    {
     "data": {
      "text/plain": [
       "Date and time              0\n",
       "Device ip                  0\n",
       "Device velocity            0\n",
       "Transaction ammount        0\n",
       "Typing speed               1\n",
       "User name                  1\n",
       "board                     12\n",
       "bootloader                12\n",
       "brand                     12\n",
       "device                    12\n",
       "display                   12\n",
       "fingerprint               12\n",
       "host                      12\n",
       "id                        12\n",
       "inclication                1\n",
       "isPhysicalDevice           0\n",
       "latitude                  39\n",
       "longitude                 39\n",
       "longitude and latitude    22\n",
       "manufacturer              12\n",
       "model                      0\n",
       "product                   12\n",
       "supported32BitAbis        12\n",
       "supported64BitAbis        64\n",
       "supportedAbis             12\n",
       "tags                      12\n",
       "type                      12\n",
       "version.baseOS            12\n",
       "version.codename          12\n",
       "version.incremental       12\n",
       "version.previewSdkInt     12\n",
       "version.release           12\n",
       "version.sdkInt            12\n",
       "version.securityPatch     12\n",
       "dtype: int64"
      ]
     },
     "execution_count": 23,
     "metadata": {},
     "output_type": "execute_result"
    }
   ],
   "source": [
    "new_df.isna().sum()"
   ]
  },
  {
   "cell_type": "markdown",
   "metadata": {},
   "source": [
    "# Date and time"
   ]
  },
  {
   "cell_type": "code",
   "execution_count": 24,
   "metadata": {},
   "outputs": [],
   "source": [
    "new_df['Date and time']= df[\"Date and time\"].astype(str) \n",
    "\n",
    "start, stop, step = 0, -17, 1\n",
    "\n",
    "new_df[\"Date and time\"]= df[\"Date and time\"].str.slice(start, stop, step) "
   ]
  },
  {
   "cell_type": "code",
   "execution_count": 25,
   "metadata": {},
   "outputs": [],
   "source": [
    "new_df[\"Date and time\"]= new_df[\"Date and time\"].astype(int) "
   ]
  },
  {
   "cell_type": "code",
   "execution_count": 26,
   "metadata": {},
   "outputs": [
    {
     "data": {
      "text/plain": [
       "0    22\n",
       "0    16\n",
       "0     8\n",
       "0     1\n",
       "0    11\n",
       "     ..\n",
       "0    12\n",
       "0     0\n",
       "0    13\n",
       "0    13\n",
       "0     9\n",
       "Name: Date and time, Length: 85, dtype: int64"
      ]
     },
     "execution_count": 26,
     "metadata": {},
     "output_type": "execute_result"
    }
   ],
   "source": [
    "new_df[\"Date and time\"]"
   ]
  },
  {
   "cell_type": "markdown",
   "metadata": {},
   "source": [
    "# Device ip"
   ]
  },
  {
   "cell_type": "code",
   "execution_count": 27,
   "metadata": {},
   "outputs": [
    {
     "data": {
      "text/plain": [
       "0"
      ]
     },
     "execution_count": 27,
     "metadata": {},
     "output_type": "execute_result"
    }
   ],
   "source": [
    "new_df['Device ip'].isnull().sum()"
   ]
  },
  {
   "cell_type": "code",
   "execution_count": 28,
   "metadata": {},
   "outputs": [
    {
     "data": {
      "text/plain": [
       "0    10.238.99.167\n",
       "0             null\n",
       "0       10.1.0.250\n",
       "0             null\n",
       "0       10.1.0.250\n",
       "         ...      \n",
       "0    192.168.0.119\n",
       "0    192.168.0.138\n",
       "0     25.22.227.50\n",
       "0     25.22.227.50\n",
       "0     25.22.227.50\n",
       "Name: Device ip, Length: 85, dtype: object"
      ]
     },
     "execution_count": 28,
     "metadata": {},
     "output_type": "execute_result"
    }
   ],
   "source": [
    "new_df['Device ip']"
   ]
  },
  {
   "cell_type": "code",
   "execution_count": 29,
   "metadata": {},
   "outputs": [],
   "source": [
    "new_df['Device ip'] = df['Device ip'].replace(to_replace = \"null\", value = None, regex = True)"
   ]
  },
  {
   "cell_type": "code",
   "execution_count": 30,
   "metadata": {},
   "outputs": [],
   "source": [
    "# new_df['Device ip'] = df['Device ip'].fillna(method = 'ffill')"
   ]
  },
  {
   "cell_type": "code",
   "execution_count": 31,
   "metadata": {},
   "outputs": [],
   "source": [
    "\n",
    "# value  = df['Device ip'].mode()\n",
    "# value"
   ]
  },
  {
   "cell_type": "code",
   "execution_count": 32,
   "metadata": {},
   "outputs": [],
   "source": [
    "\n",
    "# new_df['Device ip'] = df['Device ip'].replace(to_replace ='null', value = value, regex = True)\n",
    "new_df['Device ip'] = new_df['Device ip'].astype(str)\n"
   ]
  },
  {
   "cell_type": "code",
   "execution_count": 33,
   "metadata": {},
   "outputs": [
    {
     "data": {
      "text/plain": [
       "0    10.238.99.167\n",
       "0    10.238.99.167\n",
       "0       10.1.0.250\n",
       "0       10.1.0.250\n",
       "0       10.1.0.250\n",
       "         ...      \n",
       "0    192.168.0.119\n",
       "0    192.168.0.138\n",
       "0     25.22.227.50\n",
       "0     25.22.227.50\n",
       "0     25.22.227.50\n",
       "Name: Device ip, Length: 85, dtype: object"
      ]
     },
     "execution_count": 33,
     "metadata": {},
     "output_type": "execute_result"
    }
   ],
   "source": [
    "new_df['Device ip']"
   ]
  },
  {
   "cell_type": "markdown",
   "metadata": {},
   "source": [
    "# Device velocity"
   ]
  },
  {
   "cell_type": "code",
   "execution_count": 34,
   "metadata": {},
   "outputs": [
    {
     "data": {
      "text/plain": [
       "0"
      ]
     },
     "execution_count": 34,
     "metadata": {},
     "output_type": "execute_result"
    }
   ],
   "source": [
    "new_df['Device velocity'].isnull().sum()"
   ]
  },
  {
   "cell_type": "code",
   "execution_count": 35,
   "metadata": {},
   "outputs": [],
   "source": [
    "# new_df['Device velocity'].iloc[-1] = '0'"
   ]
  },
  {
   "cell_type": "code",
   "execution_count": null,
   "metadata": {},
   "outputs": [],
   "source": []
  },
  {
   "cell_type": "code",
   "execution_count": 36,
   "metadata": {},
   "outputs": [],
   "source": [
    "q = new_df['Device velocity']"
   ]
  },
  {
   "cell_type": "code",
   "execution_count": 37,
   "metadata": {},
   "outputs": [],
   "source": [
    "new_df['Device velocity']=new_df['Device velocity'].replace(to_replace='-0.1-0.3-0.4',value='-0.1,-0.3,-0.4')"
   ]
  },
  {
   "cell_type": "code",
   "execution_count": 38,
   "metadata": {},
   "outputs": [],
   "source": [
    "\n",
    "new_df['Device velocity']=new_df['Device velocity'].replace(to_replace='0.10.4',value='0.1,0,0.4')"
   ]
  },
  {
   "cell_type": "code",
   "execution_count": 39,
   "metadata": {},
   "outputs": [
    {
     "data": {
      "text/plain": [
       "0     -0.1,0.0,-0.7\n",
       "0      -0.3,0.1,0.9\n",
       "0    -0.1,-0.0,-0.5\n",
       "0      -0.3,0.2,0.3\n",
       "0      0.1,0.1,-1.0\n",
       "          ...      \n",
       "0       0.0,0.0,0.0\n",
       "0     0.0,-0.1,-0.3\n",
       "0       0.1,0.2,0.1\n",
       "0       0.6,0.6,1.0\n",
       "0       0.1,0.2,0.9\n",
       "Name: Device velocity, Length: 85, dtype: object"
      ]
     },
     "execution_count": 39,
     "metadata": {},
     "output_type": "execute_result"
    }
   ],
   "source": [
    "q"
   ]
  },
  {
   "cell_type": "code",
   "execution_count": 40,
   "metadata": {
    "scrolled": true
   },
   "outputs": [
    {
     "name": "stdout",
     "output_type": "stream",
     "text": [
      "['-0.1', '0.0', '-0.7']\n",
      "-1\n",
      "['-0.3', '0.1', '0.9']\n",
      "0\n",
      "['-0.1', '-0.0', '-0.5']\n",
      "-1\n",
      "['-0.3', '0.2', '0.3']\n",
      "0\n",
      "['0.1', '0.1', '-1.0']\n",
      "-1\n",
      "['0.1', '0.2', '0.2']\n",
      "0\n",
      "['-0.0', '-0.1', '-0.3']\n",
      "-1\n",
      "['-0.1', '-0.3', '-0.4']\n",
      "-1\n",
      "['0.2', '-0.1', '0.6']\n",
      "0\n",
      "['0.0', '-0.0', '-0.8']\n",
      "-1\n",
      "['-0.1', '-0.2', '-0.4']\n",
      "-1\n",
      "['-0.1', '-0.0', '-1.7']\n",
      "-2\n",
      "['-0.2', '0.3', '-0.1']\n",
      "-1\n",
      "['-0.3', '-0.1', '0.8']\n",
      "0\n",
      "['-0.1', '0.1', '0.3']\n",
      "0\n",
      "['-0.4', '0.1', '0.6']\n",
      "0\n",
      "['-0.2', '0.0', '-0.4']\n",
      "-1\n",
      "['-0.0', '-0.5', '1.0']\n",
      "0\n",
      "['-0.2', '0.6', '1.5']\n",
      "1\n",
      "['0.3', '-0.2', '-1.4']\n",
      "-2\n",
      "['-0.1', '0.1', '0.4']\n",
      "0\n",
      "['0.2', '0.2', '-0.1']\n",
      "0\n",
      "['-0.1', '0.1', '0.6']\n",
      "0\n",
      "['-2.4', '-1.0', '0.8']\n",
      "-3\n",
      "['-0.2', '-0.4', '.5']\n",
      "-1\n",
      "['-0.6', '0.5', '-0.3']\n",
      "-1\n",
      "['-0.1', '-0.4', '0.7']\n",
      "0\n",
      "['0.0', '-0.3', '-0.3']\n",
      "-1\n",
      "['0.2', '0.0', '-1.3']\n",
      "-2\n",
      "['0.2', '0.3', '-1.0']\n",
      "-1\n",
      "['-1.0', '1.0', '0.4']\n",
      "0\n",
      "['-0.2', '-0.0', '0.0']\n",
      "-1\n",
      "['-0.4', '0.3', '-0.5']\n",
      "-1\n",
      "['-0.0', '0.0', '0.3']\n",
      "0\n",
      "['-0.2', '-0.1', '-0.3']\n",
      "-1\n",
      "['0.1', '0.1', '0.5']\n",
      "0\n",
      "['0.2', '0.4', '-0.1']\n",
      "0\n",
      "['-0.2', '-0.0', '-0.0']\n",
      "-1\n",
      "['0.1', '0.1', '-0.1']\n",
      "0\n",
      "['-0.2', '0.1', '0.0']\n",
      "-1\n",
      "['0.2', '-0.1', '0.1']\n",
      "0\n",
      "['0.1', '0.0', '0.1']\n",
      "0\n",
      "['0.1', '-0.0', '-0.1']\n",
      "0\n",
      "['-0.2', '0.4', '-0.3']\n",
      "-1\n",
      "['-0.1', '0.0', '0.0']\n",
      "-1\n",
      "['-0.2', '0.2', '-0.2']\n",
      "-1\n",
      "['0.1', '0.0', '0.0']\n",
      "0\n",
      "['0.0', '0.0', '-0.0']\n",
      "0\n",
      "['0.1', '-0.1', '0.2']\n",
      "0\n",
      "['0.0', '0.1', '-0.2']\n",
      "-1\n",
      "['0.0', '-0.1', '-0.3']\n",
      "-1\n",
      "['0.0', '0.0', '0.0']\n",
      "0\n",
      "['0.2', '0.1', '-0.1']\n",
      "0\n",
      "['0.1', '-0.2', '0.2']\n",
      "0\n",
      "['0.0', '-0.0', '-0.0']\n",
      "0\n",
      "['0.1', '0.0', '-0.0']\n",
      "0\n",
      "['0.2', '0.1', '0.0']\n",
      "0\n",
      "['0.1', '0.2', '0.9']\n",
      "1\n",
      "['0.7', '0.0', '0.5']\n",
      "1\n",
      "['0.0', '0.2', '-0.1']\n",
      "0\n",
      "['-0.1', '0.0', '0.1']\n",
      "0\n",
      "['0.1', '0.1', '0.5']\n",
      "0\n",
      "['0.0', '0.2', '-0.2']\n",
      "0\n",
      "['0.3', '0.2', '0.4']\n",
      "0\n",
      "['0.0', '0.1', '0.1']\n",
      "0\n",
      "['0.1', '0.0', '0.2']\n",
      "0\n",
      "['0.5', '0.6', '1.1']\n",
      "2\n",
      "['0.0', '0.0', '0.2']\n",
      "0\n",
      "['0.0', '0.3', '0.8']\n",
      "1\n",
      "['0.2', '0.0', '1.3']\n",
      "1\n",
      "['-0.0', '0.1', '-0.4']\n",
      "-1\n",
      "[' 0.6', '0.0', '0.2']\n",
      "0\n",
      "['0.2', '0.2', '0.1']\n",
      "0\n",
      "['-0.1', '-0.1', '0.4']\n",
      "0\n",
      "['0.0', '0.1', '0.4']\n",
      "0\n",
      "['0.1', '0.0', '0.4']\n",
      "0\n",
      "['0.1', '0.0', '0.4']\n",
      "0\n",
      "['0.1', '0.2', '0.9']\n",
      "1\n",
      "['0.3', '0.0', '0.9']\n",
      "1\n",
      "['0.2', '0.2', '0.1']\n",
      "0\n",
      "['0.0', '0.0', '0.0']\n",
      "0\n",
      "['0.0', '-0.1', '-0.3']\n",
      "-1\n",
      "['0.1', '0.2', '0.1']\n",
      "0\n",
      "['0.6', '0.6', '1.0']\n",
      "2\n",
      "['0.1', '0.2', '0.9']\n",
      "1\n"
     ]
    }
   ],
   "source": [
    "import re\n",
    "my_list = [] \n",
    "import math\n",
    "\n",
    "\n",
    "x = []\n",
    "for i in q:\n",
    "    a  = re.split(',',i)\n",
    "    su = 0.0\n",
    "    print(a)\n",
    "    for z  in a :\n",
    "        su = su + float(z)\n",
    "    su  = math.floor(su)\n",
    "    print(su)\n",
    "    my_list.append(su)"
   ]
  },
  {
   "cell_type": "code",
   "execution_count": 41,
   "metadata": {},
   "outputs": [
    {
     "name": "stdout",
     "output_type": "stream",
     "text": [
      "[-1, 0, -1, 0, -1, 0, -1, -1, 0, -1, -1, -2, -1, 0, 0, 0, -1, 0, 1, -2, 0, 0, 0, -3, -1, -1, 0, -1, -2, -1, 0, -1, -1, 0, -1, 0, 0, -1, 0, -1, 0, 0, 0, -1, -1, -1, 0, 0, 0, -1, -1, 0, 0, 0, 0, 0, 0, 1, 1, 0, 0, 0, 0, 0, 0, 0, 2, 0, 1, 1, -1, 0, 0, 0, 0, 0, 0, 1, 1, 0, 0, -1, 0, 2, 1]\n"
     ]
    }
   ],
   "source": [
    "print(my_list)"
   ]
  },
  {
   "cell_type": "code",
   "execution_count": 42,
   "metadata": {},
   "outputs": [],
   "source": [
    "df2  = new_df.assign(Device_velocity = my_list)"
   ]
  },
  {
   "cell_type": "code",
   "execution_count": 43,
   "metadata": {},
   "outputs": [],
   "source": [
    "new_df = df2"
   ]
  },
  {
   "cell_type": "code",
   "execution_count": 44,
   "metadata": {},
   "outputs": [],
   "source": [
    "del df['Device velocity']"
   ]
  },
  {
   "cell_type": "markdown",
   "metadata": {},
   "source": [
    "# Transaction ammount"
   ]
  },
  {
   "cell_type": "code",
   "execution_count": 45,
   "metadata": {},
   "outputs": [
    {
     "data": {
      "text/plain": [
       "0"
      ]
     },
     "execution_count": 45,
     "metadata": {},
     "output_type": "execute_result"
    }
   ],
   "source": [
    "new_df['Transaction ammount'].isnull().sum()"
   ]
  },
  {
   "cell_type": "code",
   "execution_count": 46,
   "metadata": {},
   "outputs": [
    {
     "data": {
      "text/plain": [
       "0     14\n",
       "0     10\n",
       "0     10\n",
       "0     10\n",
       "0      7\n",
       "    ... \n",
       "0    120\n",
       "0    110\n",
       "0    120\n",
       "0    150\n",
       "0    150\n",
       "Name: Transaction ammount, Length: 85, dtype: object"
      ]
     },
     "execution_count": 46,
     "metadata": {},
     "output_type": "execute_result"
    }
   ],
   "source": [
    "new_df['Transaction ammount']"
   ]
  },
  {
   "cell_type": "code",
   "execution_count": null,
   "metadata": {},
   "outputs": [],
   "source": []
  },
  {
   "cell_type": "code",
   "execution_count": null,
   "metadata": {},
   "outputs": [],
   "source": []
  },
  {
   "cell_type": "markdown",
   "metadata": {},
   "source": [
    "# Typing speed"
   ]
  },
  {
   "cell_type": "code",
   "execution_count": 47,
   "metadata": {},
   "outputs": [
    {
     "data": {
      "text/plain": [
       "1"
      ]
     },
     "execution_count": 47,
     "metadata": {},
     "output_type": "execute_result"
    }
   ],
   "source": [
    "new_df['Typing speed'].isnull().sum()"
   ]
  },
  {
   "cell_type": "code",
   "execution_count": 48,
   "metadata": {},
   "outputs": [],
   "source": [
    "new_df['Typing speed'] = new_df['Typing speed'].fillna(df['Typing speed'].mode())"
   ]
  },
  {
   "cell_type": "code",
   "execution_count": 49,
   "metadata": {},
   "outputs": [
    {
     "data": {
      "text/plain": [
       "0               4.66667\n",
       "0                   2.8\n",
       "0                   2.8\n",
       "0               4.66667\n",
       "0               3.11111\n",
       "            ...        \n",
       "0    2.3636363636363638\n",
       "0    3.7142857142857144\n",
       "0    2.3636363636363638\n",
       "0    2.3636363636363638\n",
       "0    2.1666666666666665\n",
       "Name: Typing speed, Length: 85, dtype: object"
      ]
     },
     "execution_count": 49,
     "metadata": {},
     "output_type": "execute_result"
    }
   ],
   "source": [
    "new_df['Typing speed']"
   ]
  },
  {
   "cell_type": "code",
   "execution_count": null,
   "metadata": {},
   "outputs": [],
   "source": []
  },
  {
   "cell_type": "markdown",
   "metadata": {},
   "source": [
    "# User name"
   ]
  },
  {
   "cell_type": "code",
   "execution_count": 50,
   "metadata": {},
   "outputs": [
    {
     "data": {
      "text/plain": [
       "1"
      ]
     },
     "execution_count": 50,
     "metadata": {},
     "output_type": "execute_result"
    }
   ],
   "source": [
    "new_df['User name'].isnull().sum()"
   ]
  },
  {
   "cell_type": "code",
   "execution_count": 51,
   "metadata": {},
   "outputs": [],
   "source": [
    "# new_df= new_df.drop(labels='User name',axis=1)"
   ]
  },
  {
   "cell_type": "code",
   "execution_count": 52,
   "metadata": {},
   "outputs": [
    {
     "data": {
      "text/plain": [
       "array(['vikram@blue-bricks.com', 'Vikram@blue-bricks.com',\n",
       "       'mukunda@mollatech.com', 'Mukunda@mollatech.com',\n",
       "       'raunak@mollatech.com', nan], dtype=object)"
      ]
     },
     "execution_count": 52,
     "metadata": {},
     "output_type": "execute_result"
    }
   ],
   "source": [
    "new_df['User name'].unique()"
   ]
  },
  {
   "cell_type": "code",
   "execution_count": 53,
   "metadata": {},
   "outputs": [],
   "source": [
    "\n",
    "new_df['User name']=new_df['User name'].replace(to_replace='Vikram@blue-bricks.com',value='vikram@blue-bricks.com')\n",
    "new_df['User name']=new_df['User name'].replace(to_replace='Mukunda@mollatech.com',value='mukunda@mollatech.com')\n",
    "\n",
    "\n"
   ]
  },
  {
   "cell_type": "code",
   "execution_count": 54,
   "metadata": {},
   "outputs": [
    {
     "data": {
      "text/plain": [
       "array(['vikram@blue-bricks.com', 'mukunda@mollatech.com',\n",
       "       'raunak@mollatech.com', nan], dtype=object)"
      ]
     },
     "execution_count": 54,
     "metadata": {},
     "output_type": "execute_result"
    }
   ],
   "source": [
    "new_df['User name'].unique()"
   ]
  },
  {
   "cell_type": "markdown",
   "metadata": {},
   "source": [
    "# board"
   ]
  },
  {
   "cell_type": "code",
   "execution_count": 55,
   "metadata": {},
   "outputs": [
    {
     "data": {
      "text/plain": [
       "12"
      ]
     },
     "execution_count": 55,
     "metadata": {},
     "output_type": "execute_result"
    }
   ],
   "source": [
    "new_df['board'].isnull().sum()"
   ]
  },
  {
   "cell_type": "code",
   "execution_count": 56,
   "metadata": {},
   "outputs": [],
   "source": [
    "new_df['board'] = df['board'].fillna(method = 'ffill')"
   ]
  },
  {
   "cell_type": "code",
   "execution_count": 57,
   "metadata": {},
   "outputs": [],
   "source": [
    "# new_df['board'] = new_df['board'].fillna(df['board'].mode())"
   ]
  },
  {
   "cell_type": "code",
   "execution_count": null,
   "metadata": {},
   "outputs": [],
   "source": []
  },
  {
   "cell_type": "markdown",
   "metadata": {},
   "source": [
    "# bootloader"
   ]
  },
  {
   "cell_type": "code",
   "execution_count": 58,
   "metadata": {},
   "outputs": [
    {
     "data": {
      "text/plain": [
       "12"
      ]
     },
     "execution_count": 58,
     "metadata": {},
     "output_type": "execute_result"
    }
   ],
   "source": [
    "new_df['bootloader'].isnull().sum()"
   ]
  },
  {
   "cell_type": "code",
   "execution_count": 59,
   "metadata": {},
   "outputs": [],
   "source": [
    "# new_df['bootloader'] = df['bootloader'].fillna(df['bootloader'].mode())\n",
    "new_df['bootloader'] = df['bootloader'].fillna(method = 'ffill')"
   ]
  },
  {
   "cell_type": "code",
   "execution_count": 60,
   "metadata": {},
   "outputs": [
    {
     "data": {
      "text/plain": [
       "0           0xB106\n",
       "0           0xB106\n",
       "0           0xB106\n",
       "0           0xB106\n",
       "0           0xB106\n",
       "         ...      \n",
       "0    M305FDDU3CSL5\n",
       "0    M305FDDU3CSL5\n",
       "0    M305FDDU3CSL5\n",
       "0    M305FDDU3CSL5\n",
       "0    M305FDDU3CSL5\n",
       "Name: bootloader, Length: 85, dtype: object"
      ]
     },
     "execution_count": 60,
     "metadata": {},
     "output_type": "execute_result"
    }
   ],
   "source": [
    "new_df['bootloader']"
   ]
  },
  {
   "cell_type": "markdown",
   "metadata": {},
   "source": [
    "# brand"
   ]
  },
  {
   "cell_type": "code",
   "execution_count": 61,
   "metadata": {},
   "outputs": [
    {
     "data": {
      "text/plain": [
       "12"
      ]
     },
     "execution_count": 61,
     "metadata": {},
     "output_type": "execute_result"
    }
   ],
   "source": [
    "new_df['brand'].isnull().sum()"
   ]
  },
  {
   "cell_type": "code",
   "execution_count": 62,
   "metadata": {},
   "outputs": [],
   "source": [
    "new_df['brand'] = df['brand'].fillna(method = 'ffill')\n",
    "# new_df['brand'] = df['brand'].fillna(df['brand'].mode())"
   ]
  },
  {
   "cell_type": "code",
   "execution_count": 63,
   "metadata": {},
   "outputs": [
    {
     "data": {
      "text/plain": [
       "0    motorola\n",
       "0    motorola\n",
       "0    motorola\n",
       "0    motorola\n",
       "0    motorola\n",
       "       ...   \n",
       "0     samsung\n",
       "0     samsung\n",
       "0     samsung\n",
       "0     samsung\n",
       "0     samsung\n",
       "Name: brand, Length: 85, dtype: object"
      ]
     },
     "execution_count": 63,
     "metadata": {},
     "output_type": "execute_result"
    }
   ],
   "source": [
    "new_df['brand'] "
   ]
  },
  {
   "cell_type": "markdown",
   "metadata": {},
   "source": [
    "# device"
   ]
  },
  {
   "cell_type": "code",
   "execution_count": 64,
   "metadata": {},
   "outputs": [
    {
     "data": {
      "text/plain": [
       "12"
      ]
     },
     "execution_count": 64,
     "metadata": {},
     "output_type": "execute_result"
    }
   ],
   "source": [
    "new_df['device'].isnull().sum()"
   ]
  },
  {
   "cell_type": "code",
   "execution_count": 65,
   "metadata": {},
   "outputs": [],
   "source": [
    "# new_df['device'] = df['device'].fillna(df['device'].mode())\n",
    "new_df['device'] = df['device'].fillna(method = 'ffill')"
   ]
  },
  {
   "cell_type": "code",
   "execution_count": 66,
   "metadata": {},
   "outputs": [
    {
     "data": {
      "text/plain": [
       "0    athene_f\n",
       "0    athene_f\n",
       "0    athene_f\n",
       "0    athene_f\n",
       "0    athene_f\n",
       "       ...   \n",
       "0      m30lte\n",
       "0      m30lte\n",
       "0      m30lte\n",
       "0      m30lte\n",
       "0      m30lte\n",
       "Name: device, Length: 85, dtype: object"
      ]
     },
     "execution_count": 66,
     "metadata": {},
     "output_type": "execute_result"
    }
   ],
   "source": [
    "new_df['device']"
   ]
  },
  {
   "cell_type": "markdown",
   "metadata": {},
   "source": [
    "# display"
   ]
  },
  {
   "cell_type": "code",
   "execution_count": 67,
   "metadata": {},
   "outputs": [
    {
     "data": {
      "text/plain": [
       "12"
      ]
     },
     "execution_count": 67,
     "metadata": {},
     "output_type": "execute_result"
    }
   ],
   "source": [
    "new_df['display'].isnull().sum()"
   ]
  },
  {
   "cell_type": "code",
   "execution_count": 68,
   "metadata": {},
   "outputs": [],
   "source": [
    "# new_df['display'] = df['display'].fillna(df['display'].mode())\n",
    "new_df['display'] = df['display'].fillna(method = 'ffill')"
   ]
  },
  {
   "cell_type": "code",
   "execution_count": 69,
   "metadata": {},
   "outputs": [
    {
     "data": {
      "text/plain": [
       "0                  NPJS25.93-14-10\n",
       "0                  NPJS25.93-14-10\n",
       "0                  NPJS25.93-14-10\n",
       "0                  NPJS25.93-14-10\n",
       "0                  NPJS25.93-14-10\n",
       "                 ...              \n",
       "0    QP1A.190711.020.M305FDDU3CSL5\n",
       "0    QP1A.190711.020.M305FDDU3CSL5\n",
       "0    QP1A.190711.020.M305FDDU3CSL5\n",
       "0    QP1A.190711.020.M305FDDU3CSL5\n",
       "0    QP1A.190711.020.M305FDDU3CSL5\n",
       "Name: display, Length: 85, dtype: object"
      ]
     },
     "execution_count": 69,
     "metadata": {},
     "output_type": "execute_result"
    }
   ],
   "source": [
    "new_df['display']"
   ]
  },
  {
   "cell_type": "markdown",
   "metadata": {},
   "source": [
    "# fingerprint"
   ]
  },
  {
   "cell_type": "code",
   "execution_count": null,
   "metadata": {},
   "outputs": [],
   "source": []
  },
  {
   "cell_type": "code",
   "execution_count": 70,
   "metadata": {},
   "outputs": [],
   "source": [
    "# new_df['fingerprint'] = df['fingerprint'].fillna(df['fingerprint'].mode()) \n",
    "new_df['fingerprint'] = df['fingerprint'].fillna(method = 'ffill')"
   ]
  },
  {
   "cell_type": "code",
   "execution_count": 71,
   "metadata": {},
   "outputs": [
    {
     "data": {
      "text/plain": [
       "0    motorola/athene_f/athene_f:7.0/NPJS25.93-14-10...\n",
       "0    motorola/athene_f/athene_f:7.0/NPJS25.93-14-10...\n",
       "0    motorola/athene_f/athene_f:7.0/NPJS25.93-14-10...\n",
       "0    motorola/athene_f/athene_f:7.0/NPJS25.93-14-10...\n",
       "0    motorola/athene_f/athene_f:7.0/NPJS25.93-14-10...\n",
       "                           ...                        \n",
       "0    samsung/m30ltedd/m30lte:10/QP1A.190711.020/M30...\n",
       "0    samsung/m30ltedd/m30lte:10/QP1A.190711.020/M30...\n",
       "0    samsung/m30ltedd/m30lte:10/QP1A.190711.020/M30...\n",
       "0    samsung/m30ltedd/m30lte:10/QP1A.190711.020/M30...\n",
       "0    samsung/m30ltedd/m30lte:10/QP1A.190711.020/M30...\n",
       "Name: fingerprint, Length: 85, dtype: object"
      ]
     },
     "execution_count": 71,
     "metadata": {},
     "output_type": "execute_result"
    }
   ],
   "source": [
    "new_df['fingerprint']"
   ]
  },
  {
   "cell_type": "markdown",
   "metadata": {},
   "source": [
    "# hardware"
   ]
  },
  {
   "cell_type": "code",
   "execution_count": 72,
   "metadata": {},
   "outputs": [],
   "source": [
    "###########DROPPED"
   ]
  },
  {
   "cell_type": "code",
   "execution_count": null,
   "metadata": {},
   "outputs": [],
   "source": []
  },
  {
   "cell_type": "code",
   "execution_count": null,
   "metadata": {},
   "outputs": [],
   "source": []
  },
  {
   "cell_type": "markdown",
   "metadata": {},
   "source": [
    "# host"
   ]
  },
  {
   "cell_type": "code",
   "execution_count": null,
   "metadata": {},
   "outputs": [],
   "source": []
  },
  {
   "cell_type": "code",
   "execution_count": 73,
   "metadata": {},
   "outputs": [],
   "source": [
    "# new_df['host'] = df['host'].fillna(df['host'].mode())\n",
    "new_df['host'] = df['host'].fillna(method = 'ffill')"
   ]
  },
  {
   "cell_type": "code",
   "execution_count": 74,
   "metadata": {},
   "outputs": [
    {
     "data": {
      "text/plain": [
       "0    ilclbld26\n",
       "0    ilclbld26\n",
       "0    ilclbld26\n",
       "0    ilclbld26\n",
       "0    ilclbld26\n",
       "       ...    \n",
       "0     21HHAF01\n",
       "0     21HHAF01\n",
       "0     21HHAF01\n",
       "0     21HHAF01\n",
       "0     21HHAF01\n",
       "Name: host, Length: 85, dtype: object"
      ]
     },
     "execution_count": 74,
     "metadata": {},
     "output_type": "execute_result"
    }
   ],
   "source": [
    "new_df['host']"
   ]
  },
  {
   "cell_type": "markdown",
   "metadata": {},
   "source": [
    "# id "
   ]
  },
  {
   "cell_type": "code",
   "execution_count": 75,
   "metadata": {},
   "outputs": [
    {
     "data": {
      "text/plain": [
       "12"
      ]
     },
     "execution_count": 75,
     "metadata": {},
     "output_type": "execute_result"
    }
   ],
   "source": [
    "new_df['id'].isna().sum()"
   ]
  },
  {
   "cell_type": "code",
   "execution_count": 76,
   "metadata": {},
   "outputs": [],
   "source": [
    "# new_df['id'] = df['id'].fillna(df['id'].mode())\n",
    "new_df['id'] = df['id'].fillna(method = 'ffill')"
   ]
  },
  {
   "cell_type": "code",
   "execution_count": 77,
   "metadata": {},
   "outputs": [
    {
     "data": {
      "text/plain": [
       "0    NPJS25.93-14-10\n",
       "0    NPJS25.93-14-10\n",
       "0    NPJS25.93-14-10\n",
       "0    NPJS25.93-14-10\n",
       "0    NPJS25.93-14-10\n",
       "          ...       \n",
       "0    QP1A.190711.020\n",
       "0    QP1A.190711.020\n",
       "0    QP1A.190711.020\n",
       "0    QP1A.190711.020\n",
       "0    QP1A.190711.020\n",
       "Name: id, Length: 85, dtype: object"
      ]
     },
     "execution_count": 77,
     "metadata": {},
     "output_type": "execute_result"
    }
   ],
   "source": [
    "new_df['id']"
   ]
  },
  {
   "cell_type": "markdown",
   "metadata": {},
   "source": [
    "# inclication"
   ]
  },
  {
   "cell_type": "code",
   "execution_count": 78,
   "metadata": {},
   "outputs": [
    {
     "data": {
      "text/plain": [
       "1"
      ]
     },
     "execution_count": 78,
     "metadata": {},
     "output_type": "execute_result"
    }
   ],
   "source": [
    "new_df['inclication'].isna().sum()"
   ]
  },
  {
   "cell_type": "code",
   "execution_count": 79,
   "metadata": {},
   "outputs": [],
   "source": [
    "new_df['inclication'] = df['inclication'].fillna(method = 'ffill')\n",
    "\n",
    "\n",
    "\n",
    "# new_df['inclication']=new_df['inclication'].replace(to_replace='-1.0 ,9.2-3.9',value='-1.0, 9.2,-3.9')\n"
   ]
  },
  {
   "cell_type": "code",
   "execution_count": 80,
   "metadata": {},
   "outputs": [
    {
     "name": "stdout",
     "output_type": "stream",
     "text": [
      "['0.5', '6.0', '7.0']\n",
      "13\n",
      "['-2.1', '6.3', '8.2']\n",
      "12\n",
      "['-0.1', '7.2', '6.1']\n",
      "13\n",
      "['-1.6', '9.0', '3.4']\n",
      "10\n",
      "['2.7', '5.9', '6.6']\n",
      "15\n",
      "['1.2', '3.5', '9.4']\n",
      "14\n",
      "['1.5', '5.9', '7.3']\n",
      "14\n",
      "['-0.1', '6.7', '6.4']\n",
      "13\n",
      "['0.6', '8.8', '4.5']\n",
      "13\n",
      "['-0.8', '8.6', '3.7']\n",
      "11\n",
      "['2.1', '5.9', '6.9']\n",
      "14\n",
      "['0.3', '5.6', '6.3']\n",
      "12\n",
      "['0.9', '6.6', '7.2']\n",
      "14\n",
      "['-1.5', '8.2', '5.9']\n",
      "12\n",
      "['-0.1', '5.3', '8.7']\n",
      "13\n",
      "['1.4', '8.5', '5.4']\n",
      "15\n",
      "['-0.3', '4.6', '8.2']\n",
      "12\n",
      "['-1.5', '6.7', '7.5']\n",
      "12\n",
      "['-1.2', '7.9', '8.0']\n",
      "14\n",
      "['1.0', '6.7', '5.6']\n",
      "13\n",
      "['1.6', '6.7', '7.1']\n",
      "15\n",
      "['-1.3', '6.2', '7.6']\n",
      "12\n",
      "['-0.5', '5.5', '8.8']\n",
      "13\n",
      "['-3.4', '6.1', '7.5']\n",
      "10\n",
      "['-3.4', '6.1', '7.5']\n",
      "10\n",
      "['-3.3', '5.3', '7.8']\n",
      "9\n",
      "['-0.4', '6.6', '7.6']\n",
      "13\n",
      "['0.6', '6.4', '6.8']\n",
      "13\n",
      "['0.2', '6.2', '6.4']\n",
      "12\n",
      "['1.4', '8.1', '4.8']\n",
      "14\n",
      "['-1.8', '6.3', '8.6']\n",
      "13\n",
      "['0.5', '7.5', '6.2']\n",
      "14\n",
      "['-1.9', '7.9', '5.5']\n",
      "11\n",
      "['-0.2', '6.6', '7.5']\n",
      "13\n",
      "['0.7', '4.5', '8.2']\n",
      "13\n",
      "['0.5', '5.2', '8.6']\n",
      "14\n",
      "['0.7', '3.1', '9.2']\n",
      "13\n",
      "['1.6', '8.6', '4.3']\n",
      "14\n",
      "['2.9', '7.0', '7.7']\n",
      "17\n",
      "['-0.5', '5.4', '8.2']\n",
      "13\n",
      "['-0.2', '6.7', '7.2']\n",
      "13\n",
      "['1.5', '9.1', '4.7']\n",
      "15\n",
      "['-2.5', '8.2', '6.1']\n",
      "11\n",
      "['-2.3', '3.9', '7.9']\n",
      "9\n",
      "['3.1', '5.2', '7.9']\n",
      "16\n",
      "['-1.9', '5.8', '8.1']\n",
      "12\n",
      "['-0.5', '6.9', '7.8']\n",
      "14\n",
      "['-1.6', '8.4', '4.6']\n",
      "11\n",
      "['-0.2', '8.5', '4.7']\n",
      "13\n",
      "['-0.4', '8.4', '6.3']\n",
      "14\n",
      "['1.1', '9.2', '4.8']\n",
      "15\n",
      "['-2.4', '2.3', '9.0']\n",
      "8\n",
      "['-1.4', '5.8', '7.2']\n",
      "11\n",
      "['-1.9', '5.6', '8.1']\n",
      "11\n",
      "['0.1', '0.1', '9.8']\n",
      "10\n",
      "['-1.9', '8.6', '5.8']\n",
      "12\n",
      "['-3.5', '4.5', '8.0']\n",
      "9\n",
      "['0.5', '4.2', '9.8']\n",
      "14\n",
      "['3.6', '1.5', '9.3']\n",
      "14\n",
      "['0.6', '9.4', '-3.3']\n",
      "6\n",
      "['-1.1', '4.6', '8.6']\n",
      "12\n",
      "['0.6', '7.4', '6.7']\n",
      "14\n",
      "['-1.4', '9.1', '-4.0']\n",
      "3\n",
      "['0.2', '6.5', '7.8']\n",
      "14\n",
      "['0.4', '6.2', '7.3']\n",
      "13\n",
      "['1.8', '6.1', '7.7']\n",
      "15\n",
      "['-1.0', '5.9', '9.2']\n",
      "14\n",
      "['1.3', '3.5', '9.2']\n",
      "14\n",
      "['-1.7', '4.3', '9.3']\n",
      "11\n",
      "['0.7', '9.1', '4.9']\n",
      "14\n",
      "['-1.0', '9.2', '-3.9']\n",
      "4\n",
      "['1.4', '5.1', '8.1']\n",
      "14\n",
      "['3.4', '4.4', '8.1']\n",
      "15\n",
      "['-0.2', '7.3', '6.8']\n",
      "13\n",
      "['1.5', '5.4', '8.5']\n",
      "15\n",
      "['2.0', '7.0', '6.2']\n",
      "15\n",
      "['2.0', '7.0', '6.2']\n",
      "15\n",
      "['1.6', '4.2', '8.0']\n",
      "13\n",
      "['0.8', '7.0', '7.7']\n",
      "15\n",
      "['3.4', '4.4', '8.1']\n",
      "15\n",
      "['0.8', '5.3', '8.2']\n",
      "14\n",
      "['1.2', '6.1', '7.2']\n",
      "14\n",
      "['0.3', '3.7', '8.9']\n",
      "12\n",
      "['1.0', '3.7', '9.7']\n",
      "14\n",
      "['0.5', '4.2', '9.8']\n",
      "14\n"
     ]
    }
   ],
   "source": [
    "import re\n",
    "my_list = [] \n",
    "import math\n",
    "\n",
    "\n",
    "\n",
    "x = []\n",
    "for i in new_df['inclication']:\n",
    "    a  = re.split(',',i)\n",
    "    su = 0.0\n",
    "    print(a)\n",
    "    for z  in a :\n",
    "        su = su + float(z)\n",
    "    su  = math.floor(su)\n",
    "    print(su)\n",
    "    my_list.append(su)"
   ]
  },
  {
   "cell_type": "code",
   "execution_count": 81,
   "metadata": {},
   "outputs": [
    {
     "data": {
      "text/plain": [
       "0    13\n",
       "0    12\n",
       "0    13\n",
       "0    10\n",
       "0    15\n",
       "     ..\n",
       "0    14\n",
       "0    14\n",
       "0    12\n",
       "0    14\n",
       "0    14\n",
       "Name: inclined, Length: 85, dtype: int64"
      ]
     },
     "execution_count": 81,
     "metadata": {},
     "output_type": "execute_result"
    }
   ],
   "source": [
    "df2  = new_df.assign(inclined = my_list)\n",
    "\n",
    "\n",
    "new_df = df2\n",
    "\n",
    "del new_df['inclication']\n",
    "new_df['inclined']"
   ]
  },
  {
   "cell_type": "markdown",
   "metadata": {},
   "source": [
    "# isPhysicalDevice"
   ]
  },
  {
   "cell_type": "code",
   "execution_count": 82,
   "metadata": {},
   "outputs": [],
   "source": [
    "# new_df=new_df.drop(labels='isPhysicalDevice',axis=1)\n",
    "\n",
    "del new_df['isPhysicalDevice']"
   ]
  },
  {
   "cell_type": "code",
   "execution_count": null,
   "metadata": {},
   "outputs": [],
   "source": []
  },
  {
   "cell_type": "markdown",
   "metadata": {},
   "source": [
    "# latitude"
   ]
  },
  {
   "cell_type": "code",
   "execution_count": 83,
   "metadata": {},
   "outputs": [
    {
     "data": {
      "text/plain": [
       "array([32.0, nan, '18.5224725', '18.5228256', '18.5228576', '18.5233773',\n",
       "       '18.518282594269014', '18.5225303'], dtype=object)"
      ]
     },
     "execution_count": 83,
     "metadata": {},
     "output_type": "execute_result"
    }
   ],
   "source": [
    "new_df['latitude'].unique()"
   ]
  },
  {
   "cell_type": "code",
   "execution_count": 84,
   "metadata": {},
   "outputs": [],
   "source": [
    "# df['latitude'] = df['latitude'].fillna(0)\n",
    "# value = 0\n",
    "# new_df['latitude'] = df['latitude'].replace(to_replace ='null', value = value, regex = True)\n",
    "# new_df['latitude'] = new_df['latitude'].astype(float)\n",
    "# # new_df['latitude'] = new_df['latitude'].fillna(new_df['latitude'].mode())\n",
    "# new_df['latitude'] = new_df['latitude'].replace(to_replace =0.000000, value = -32.060216, regex = True)\n",
    "# new_df['latitude'] "
   ]
  },
  {
   "cell_type": "code",
   "execution_count": 85,
   "metadata": {},
   "outputs": [],
   "source": [
    "# new_df['latitude'] = df['latitude'].replace(to_replace =\"null\", value = None, regex = True)"
   ]
  },
  {
   "cell_type": "code",
   "execution_count": 86,
   "metadata": {},
   "outputs": [],
   "source": [
    "new_df['latitude'] = df['latitude'].fillna(method = 'ffill')"
   ]
  },
  {
   "cell_type": "code",
   "execution_count": 87,
   "metadata": {},
   "outputs": [],
   "source": [
    "new_df['latitude']=new_df['latitude'].astype(float)"
   ]
  },
  {
   "cell_type": "markdown",
   "metadata": {},
   "source": [
    "# longitude"
   ]
  },
  {
   "cell_type": "code",
   "execution_count": 88,
   "metadata": {},
   "outputs": [],
   "source": [
    "new_df['longitude']= df[\"longitude\"]"
   ]
  },
  {
   "cell_type": "code",
   "execution_count": 89,
   "metadata": {},
   "outputs": [],
   "source": [
    "# new_df['longitude'].fillna(115, inplace=True)"
   ]
  },
  {
   "cell_type": "code",
   "execution_count": 90,
   "metadata": {},
   "outputs": [],
   "source": [
    "# new_df['longitude'] = new_df['longitude'].replace(to_replace=\"null\",value=115)"
   ]
  },
  {
   "cell_type": "code",
   "execution_count": 91,
   "metadata": {},
   "outputs": [],
   "source": [
    "# new_df['longitude'] = new_df['longitude'].replace(to_replace='NaN',value=73)\n",
    "new_df['longitude'] = new_df['longitude'].fillna(73)"
   ]
  },
  {
   "cell_type": "code",
   "execution_count": 92,
   "metadata": {},
   "outputs": [
    {
     "data": {
      "text/plain": [
       "0           115\n",
       "0           115\n",
       "0           115\n",
       "0           115\n",
       "0           115\n",
       "        ...    \n",
       "0            73\n",
       "0            73\n",
       "0    73.9084453\n",
       "0    73.9086092\n",
       "0      73.90804\n",
       "Name: longitude, Length: 85, dtype: object"
      ]
     },
     "execution_count": 92,
     "metadata": {},
     "output_type": "execute_result"
    }
   ],
   "source": [
    "new_df['longitude']"
   ]
  },
  {
   "cell_type": "code",
   "execution_count": 93,
   "metadata": {},
   "outputs": [],
   "source": [
    "new_df['longitude']=new_df['longitude'].astype(float)"
   ]
  },
  {
   "cell_type": "code",
   "execution_count": 94,
   "metadata": {},
   "outputs": [],
   "source": [
    "# import math\n",
    "# my_list = []\n",
    "# for i in new_df['longitude']:\n",
    "#     p = math.floor(float(i))\n",
    "#     print(p)\n",
    "#     my_list.append(p)"
   ]
  },
  {
   "cell_type": "code",
   "execution_count": 95,
   "metadata": {},
   "outputs": [],
   "source": [
    "# df2  = new_df.assign(long = my_list)\n",
    "\n",
    "\n",
    "# new_df = df2\n",
    "\n",
    "# del new_df['longitude']\n",
    "# new_df['long']"
   ]
  },
  {
   "cell_type": "code",
   "execution_count": 96,
   "metadata": {},
   "outputs": [
    {
     "data": {
      "text/html": [
       "<div>\n",
       "<style scoped>\n",
       "    .dataframe tbody tr th:only-of-type {\n",
       "        vertical-align: middle;\n",
       "    }\n",
       "\n",
       "    .dataframe tbody tr th {\n",
       "        vertical-align: top;\n",
       "    }\n",
       "\n",
       "    .dataframe thead th {\n",
       "        text-align: right;\n",
       "    }\n",
       "</style>\n",
       "<table border=\"1\" class=\"dataframe\">\n",
       "  <thead>\n",
       "    <tr style=\"text-align: right;\">\n",
       "      <th></th>\n",
       "      <th>Date and time</th>\n",
       "      <th>Device ip</th>\n",
       "      <th>Device velocity</th>\n",
       "      <th>Transaction ammount</th>\n",
       "      <th>Typing speed</th>\n",
       "      <th>User name</th>\n",
       "      <th>board</th>\n",
       "      <th>bootloader</th>\n",
       "      <th>brand</th>\n",
       "      <th>device</th>\n",
       "      <th>...</th>\n",
       "      <th>type</th>\n",
       "      <th>version.baseOS</th>\n",
       "      <th>version.codename</th>\n",
       "      <th>version.incremental</th>\n",
       "      <th>version.previewSdkInt</th>\n",
       "      <th>version.release</th>\n",
       "      <th>version.sdkInt</th>\n",
       "      <th>version.securityPatch</th>\n",
       "      <th>Device_velocity</th>\n",
       "      <th>inclined</th>\n",
       "    </tr>\n",
       "  </thead>\n",
       "  <tbody>\n",
       "    <tr>\n",
       "      <th>0</th>\n",
       "      <td>22</td>\n",
       "      <td>10.238.99.167</td>\n",
       "      <td>-0.1,0.0,-0.7</td>\n",
       "      <td>14</td>\n",
       "      <td>4.66667</td>\n",
       "      <td>vikram@blue-bricks.com</td>\n",
       "      <td>msm8952</td>\n",
       "      <td>0xB106</td>\n",
       "      <td>motorola</td>\n",
       "      <td>athene_f</td>\n",
       "      <td>...</td>\n",
       "      <td>user</td>\n",
       "      <td></td>\n",
       "      <td>REL</td>\n",
       "      <td>10</td>\n",
       "      <td>0</td>\n",
       "      <td>7.0</td>\n",
       "      <td>24</td>\n",
       "      <td>2017-09-01</td>\n",
       "      <td>-1</td>\n",
       "      <td>13</td>\n",
       "    </tr>\n",
       "    <tr>\n",
       "      <th>0</th>\n",
       "      <td>16</td>\n",
       "      <td>10.238.99.167</td>\n",
       "      <td>-0.3,0.1,0.9</td>\n",
       "      <td>10</td>\n",
       "      <td>2.8</td>\n",
       "      <td>vikram@blue-bricks.com</td>\n",
       "      <td>msm8952</td>\n",
       "      <td>0xB106</td>\n",
       "      <td>motorola</td>\n",
       "      <td>athene_f</td>\n",
       "      <td>...</td>\n",
       "      <td>NaN</td>\n",
       "      <td>NaN</td>\n",
       "      <td>NaN</td>\n",
       "      <td>NaN</td>\n",
       "      <td>NaN</td>\n",
       "      <td>NaN</td>\n",
       "      <td>NaN</td>\n",
       "      <td>NaN</td>\n",
       "      <td>0</td>\n",
       "      <td>12</td>\n",
       "    </tr>\n",
       "    <tr>\n",
       "      <th>0</th>\n",
       "      <td>8</td>\n",
       "      <td>10.1.0.250</td>\n",
       "      <td>-0.1,-0.0,-0.5</td>\n",
       "      <td>10</td>\n",
       "      <td>2.8</td>\n",
       "      <td>vikram@blue-bricks.com</td>\n",
       "      <td>msm8952</td>\n",
       "      <td>0xB106</td>\n",
       "      <td>motorola</td>\n",
       "      <td>athene_f</td>\n",
       "      <td>...</td>\n",
       "      <td>user</td>\n",
       "      <td></td>\n",
       "      <td>REL</td>\n",
       "      <td>10</td>\n",
       "      <td>0</td>\n",
       "      <td>7.0</td>\n",
       "      <td>24</td>\n",
       "      <td>2017-09-01</td>\n",
       "      <td>-1</td>\n",
       "      <td>13</td>\n",
       "    </tr>\n",
       "    <tr>\n",
       "      <th>0</th>\n",
       "      <td>1</td>\n",
       "      <td>10.1.0.250</td>\n",
       "      <td>-0.3,0.2,0.3</td>\n",
       "      <td>10</td>\n",
       "      <td>4.66667</td>\n",
       "      <td>vikram@blue-bricks.com</td>\n",
       "      <td>msm8952</td>\n",
       "      <td>0xB106</td>\n",
       "      <td>motorola</td>\n",
       "      <td>athene_f</td>\n",
       "      <td>...</td>\n",
       "      <td>NaN</td>\n",
       "      <td>NaN</td>\n",
       "      <td>NaN</td>\n",
       "      <td>NaN</td>\n",
       "      <td>NaN</td>\n",
       "      <td>NaN</td>\n",
       "      <td>NaN</td>\n",
       "      <td>NaN</td>\n",
       "      <td>0</td>\n",
       "      <td>10</td>\n",
       "    </tr>\n",
       "    <tr>\n",
       "      <th>0</th>\n",
       "      <td>11</td>\n",
       "      <td>10.1.0.250</td>\n",
       "      <td>0.1,0.1,-1.0</td>\n",
       "      <td>7</td>\n",
       "      <td>3.11111</td>\n",
       "      <td>vikram@blue-bricks.com</td>\n",
       "      <td>msm8952</td>\n",
       "      <td>0xB106</td>\n",
       "      <td>motorola</td>\n",
       "      <td>athene_f</td>\n",
       "      <td>...</td>\n",
       "      <td>user</td>\n",
       "      <td></td>\n",
       "      <td>REL</td>\n",
       "      <td>10</td>\n",
       "      <td>0</td>\n",
       "      <td>7.0</td>\n",
       "      <td>24</td>\n",
       "      <td>2017-09-01</td>\n",
       "      <td>-1</td>\n",
       "      <td>15</td>\n",
       "    </tr>\n",
       "    <tr>\n",
       "      <th>...</th>\n",
       "      <td>...</td>\n",
       "      <td>...</td>\n",
       "      <td>...</td>\n",
       "      <td>...</td>\n",
       "      <td>...</td>\n",
       "      <td>...</td>\n",
       "      <td>...</td>\n",
       "      <td>...</td>\n",
       "      <td>...</td>\n",
       "      <td>...</td>\n",
       "      <td>...</td>\n",
       "      <td>...</td>\n",
       "      <td>...</td>\n",
       "      <td>...</td>\n",
       "      <td>...</td>\n",
       "      <td>...</td>\n",
       "      <td>...</td>\n",
       "      <td>...</td>\n",
       "      <td>...</td>\n",
       "      <td>...</td>\n",
       "      <td>...</td>\n",
       "    </tr>\n",
       "    <tr>\n",
       "      <th>0</th>\n",
       "      <td>12</td>\n",
       "      <td>192.168.0.119</td>\n",
       "      <td>0.0,0.0,0.0</td>\n",
       "      <td>120</td>\n",
       "      <td>2.3636363636363638</td>\n",
       "      <td>raunak@mollatech.com</td>\n",
       "      <td>exynos7904</td>\n",
       "      <td>M305FDDU3CSL5</td>\n",
       "      <td>samsung</td>\n",
       "      <td>m30lte</td>\n",
       "      <td>...</td>\n",
       "      <td>user</td>\n",
       "      <td></td>\n",
       "      <td>REL</td>\n",
       "      <td>M305FDDU3CSL5</td>\n",
       "      <td>0</td>\n",
       "      <td>10</td>\n",
       "      <td>29</td>\n",
       "      <td>2019-12-01</td>\n",
       "      <td>0</td>\n",
       "      <td>14</td>\n",
       "    </tr>\n",
       "    <tr>\n",
       "      <th>0</th>\n",
       "      <td>0</td>\n",
       "      <td>192.168.0.138</td>\n",
       "      <td>0.0,-0.1,-0.3</td>\n",
       "      <td>110</td>\n",
       "      <td>3.7142857142857144</td>\n",
       "      <td>raunak@mollatech.com</td>\n",
       "      <td>exynos7904</td>\n",
       "      <td>M305FDDU3CSL5</td>\n",
       "      <td>samsung</td>\n",
       "      <td>m30lte</td>\n",
       "      <td>...</td>\n",
       "      <td>user</td>\n",
       "      <td></td>\n",
       "      <td>REL</td>\n",
       "      <td>M305FDDU3CSL5</td>\n",
       "      <td>0</td>\n",
       "      <td>10</td>\n",
       "      <td>29</td>\n",
       "      <td>2019-12-01</td>\n",
       "      <td>-1</td>\n",
       "      <td>14</td>\n",
       "    </tr>\n",
       "    <tr>\n",
       "      <th>0</th>\n",
       "      <td>13</td>\n",
       "      <td>25.22.227.50</td>\n",
       "      <td>0.1,0.2,0.1</td>\n",
       "      <td>120</td>\n",
       "      <td>2.3636363636363638</td>\n",
       "      <td>raunak@mollatech.com</td>\n",
       "      <td>exynos7904</td>\n",
       "      <td>M305FDDU3CSL5</td>\n",
       "      <td>samsung</td>\n",
       "      <td>m30lte</td>\n",
       "      <td>...</td>\n",
       "      <td>user</td>\n",
       "      <td></td>\n",
       "      <td>REL</td>\n",
       "      <td>M305FDDU3CSL5</td>\n",
       "      <td>0</td>\n",
       "      <td>10</td>\n",
       "      <td>29</td>\n",
       "      <td>2019-12-01</td>\n",
       "      <td>0</td>\n",
       "      <td>12</td>\n",
       "    </tr>\n",
       "    <tr>\n",
       "      <th>0</th>\n",
       "      <td>13</td>\n",
       "      <td>25.22.227.50</td>\n",
       "      <td>0.6,0.6,1.0</td>\n",
       "      <td>150</td>\n",
       "      <td>2.3636363636363638</td>\n",
       "      <td>raunak@mollatech.com</td>\n",
       "      <td>exynos7904</td>\n",
       "      <td>M305FDDU3CSL5</td>\n",
       "      <td>samsung</td>\n",
       "      <td>m30lte</td>\n",
       "      <td>...</td>\n",
       "      <td>user</td>\n",
       "      <td></td>\n",
       "      <td>REL</td>\n",
       "      <td>M305FDDU3CSL5</td>\n",
       "      <td>0</td>\n",
       "      <td>10</td>\n",
       "      <td>29</td>\n",
       "      <td>2019-12-01</td>\n",
       "      <td>2</td>\n",
       "      <td>14</td>\n",
       "    </tr>\n",
       "    <tr>\n",
       "      <th>0</th>\n",
       "      <td>9</td>\n",
       "      <td>25.22.227.50</td>\n",
       "      <td>0.1,0.2,0.9</td>\n",
       "      <td>150</td>\n",
       "      <td>2.1666666666666665</td>\n",
       "      <td>raunak@mollatech.com</td>\n",
       "      <td>exynos7904</td>\n",
       "      <td>M305FDDU3CSL5</td>\n",
       "      <td>samsung</td>\n",
       "      <td>m30lte</td>\n",
       "      <td>...</td>\n",
       "      <td>user</td>\n",
       "      <td></td>\n",
       "      <td>REL</td>\n",
       "      <td>M305FDDU3CSL5</td>\n",
       "      <td>0</td>\n",
       "      <td>10</td>\n",
       "      <td>29</td>\n",
       "      <td>2019-12-01</td>\n",
       "      <td>1</td>\n",
       "      <td>14</td>\n",
       "    </tr>\n",
       "  </tbody>\n",
       "</table>\n",
       "<p>85 rows × 34 columns</p>\n",
       "</div>"
      ],
      "text/plain": [
       "    Date and time      Device ip Device velocity Transaction ammount  \\\n",
       "0              22  10.238.99.167   -0.1,0.0,-0.7                  14   \n",
       "0              16  10.238.99.167    -0.3,0.1,0.9                  10   \n",
       "0               8     10.1.0.250  -0.1,-0.0,-0.5                  10   \n",
       "0               1     10.1.0.250    -0.3,0.2,0.3                  10   \n",
       "0              11     10.1.0.250    0.1,0.1,-1.0                   7   \n",
       "..            ...            ...             ...                 ...   \n",
       "0              12  192.168.0.119     0.0,0.0,0.0                 120   \n",
       "0               0  192.168.0.138   0.0,-0.1,-0.3                 110   \n",
       "0              13   25.22.227.50     0.1,0.2,0.1                 120   \n",
       "0              13   25.22.227.50     0.6,0.6,1.0                 150   \n",
       "0               9   25.22.227.50     0.1,0.2,0.9                 150   \n",
       "\n",
       "          Typing speed               User name       board     bootloader  \\\n",
       "0              4.66667  vikram@blue-bricks.com     msm8952         0xB106   \n",
       "0                  2.8  vikram@blue-bricks.com     msm8952         0xB106   \n",
       "0                  2.8  vikram@blue-bricks.com     msm8952         0xB106   \n",
       "0              4.66667  vikram@blue-bricks.com     msm8952         0xB106   \n",
       "0              3.11111  vikram@blue-bricks.com     msm8952         0xB106   \n",
       "..                 ...                     ...         ...            ...   \n",
       "0   2.3636363636363638    raunak@mollatech.com  exynos7904  M305FDDU3CSL5   \n",
       "0   3.7142857142857144    raunak@mollatech.com  exynos7904  M305FDDU3CSL5   \n",
       "0   2.3636363636363638    raunak@mollatech.com  exynos7904  M305FDDU3CSL5   \n",
       "0   2.3636363636363638    raunak@mollatech.com  exynos7904  M305FDDU3CSL5   \n",
       "0   2.1666666666666665    raunak@mollatech.com  exynos7904  M305FDDU3CSL5   \n",
       "\n",
       "       brand    device  ...  type version.baseOS version.codename  \\\n",
       "0   motorola  athene_f  ...  user                             REL   \n",
       "0   motorola  athene_f  ...   NaN            NaN              NaN   \n",
       "0   motorola  athene_f  ...  user                             REL   \n",
       "0   motorola  athene_f  ...   NaN            NaN              NaN   \n",
       "0   motorola  athene_f  ...  user                             REL   \n",
       "..       ...       ...  ...   ...            ...              ...   \n",
       "0    samsung    m30lte  ...  user                             REL   \n",
       "0    samsung    m30lte  ...  user                             REL   \n",
       "0    samsung    m30lte  ...  user                             REL   \n",
       "0    samsung    m30lte  ...  user                             REL   \n",
       "0    samsung    m30lte  ...  user                             REL   \n",
       "\n",
       "   version.incremental  version.previewSdkInt  version.release version.sdkInt  \\\n",
       "0                   10                      0              7.0             24   \n",
       "0                  NaN                    NaN              NaN            NaN   \n",
       "0                   10                      0              7.0             24   \n",
       "0                  NaN                    NaN              NaN            NaN   \n",
       "0                   10                      0              7.0             24   \n",
       "..                 ...                    ...              ...            ...   \n",
       "0        M305FDDU3CSL5                      0               10             29   \n",
       "0        M305FDDU3CSL5                      0               10             29   \n",
       "0        M305FDDU3CSL5                      0               10             29   \n",
       "0        M305FDDU3CSL5                      0               10             29   \n",
       "0        M305FDDU3CSL5                      0               10             29   \n",
       "\n",
       "   version.securityPatch Device_velocity inclined  \n",
       "0             2017-09-01              -1       13  \n",
       "0                    NaN               0       12  \n",
       "0             2017-09-01              -1       13  \n",
       "0                    NaN               0       10  \n",
       "0             2017-09-01              -1       15  \n",
       "..                   ...             ...      ...  \n",
       "0             2019-12-01               0       14  \n",
       "0             2019-12-01              -1       14  \n",
       "0             2019-12-01               0       12  \n",
       "0             2019-12-01               2       14  \n",
       "0             2019-12-01               1       14  \n",
       "\n",
       "[85 rows x 34 columns]"
      ]
     },
     "execution_count": 96,
     "metadata": {},
     "output_type": "execute_result"
    }
   ],
   "source": [
    "new_df"
   ]
  },
  {
   "cell_type": "markdown",
   "metadata": {},
   "source": [
    "# longitude and latitude"
   ]
  },
  {
   "cell_type": "code",
   "execution_count": 97,
   "metadata": {},
   "outputs": [],
   "source": [
    "new_df=new_df.drop(labels=['longitude and latitude'],axis=1)"
   ]
  },
  {
   "cell_type": "code",
   "execution_count": 98,
   "metadata": {},
   "outputs": [],
   "source": [
    "new_df = new_df.drop(labels=['product','supported32BitAbis','supportedAbis','supported64BitAbis','tags','type','version.baseOS','version.codename','version.incremental','version.previewSdkInt','version.release','version.sdkInt','version.securityPatch'],axis=1)"
   ]
  },
  {
   "cell_type": "code",
   "execution_count": null,
   "metadata": {},
   "outputs": [],
   "source": []
  },
  {
   "cell_type": "code",
   "execution_count": 99,
   "metadata": {},
   "outputs": [],
   "source": [
    "new_df =  new_df.drop(labels='Device velocity',axis=1)"
   ]
  },
  {
   "cell_type": "code",
   "execution_count": null,
   "metadata": {},
   "outputs": [],
   "source": []
  },
  {
   "cell_type": "code",
   "execution_count": 100,
   "metadata": {},
   "outputs": [
    {
     "name": "stdout",
     "output_type": "stream",
     "text": [
      "<class 'pandas.core.frame.DataFrame'>\n",
      "Int64Index: 85 entries, 0 to 0\n",
      "Data columns (total 19 columns):\n",
      "Date and time          85 non-null int64\n",
      "Device ip              85 non-null object\n",
      "Transaction ammount    85 non-null object\n",
      "Typing speed           85 non-null object\n",
      "User name              84 non-null object\n",
      "board                  85 non-null object\n",
      "bootloader             85 non-null object\n",
      "brand                  85 non-null object\n",
      "device                 85 non-null object\n",
      "display                85 non-null object\n",
      "fingerprint            85 non-null object\n",
      "host                   85 non-null object\n",
      "id                     85 non-null object\n",
      "latitude               85 non-null float64\n",
      "longitude              85 non-null float64\n",
      "manufacturer           73 non-null object\n",
      "model                  85 non-null object\n",
      "Device_velocity        85 non-null int64\n",
      "inclined               85 non-null int64\n",
      "dtypes: float64(2), int64(3), object(14)\n",
      "memory usage: 13.3+ KB\n"
     ]
    }
   ],
   "source": [
    "new_df.info()"
   ]
  },
  {
   "cell_type": "code",
   "execution_count": 101,
   "metadata": {},
   "outputs": [
    {
     "data": {
      "text/plain": [
       "14    18\n",
       "16    13\n",
       "1      8\n",
       "12     8\n",
       "9      7\n",
       "13     5\n",
       "20     3\n",
       "3      3\n",
       "11     3\n",
       "7      3\n",
       "6      2\n",
       "10     2\n",
       "0      2\n",
       "8      1\n",
       "19     1\n",
       "15     1\n",
       "5      1\n",
       "4      1\n",
       "17     1\n",
       "2      1\n",
       "18     1\n",
       "Name: Device ip, dtype: int64"
      ]
     },
     "execution_count": 101,
     "metadata": {},
     "output_type": "execute_result"
    }
   ],
   "source": [
    "from sklearn.preprocessing import LabelEncoder\n",
    "le = LabelEncoder()\n",
    "################################################################################################################\n",
    "new_df['Device ip'] = le.fit_transform(new_df['Device ip'])\n",
    "new_df['Device ip'].value_counts()"
   ]
  },
  {
   "cell_type": "code",
   "execution_count": 102,
   "metadata": {},
   "outputs": [
    {
     "data": {
      "text/plain": [
       "0     14.0\n",
       "0     10.0\n",
       "0     10.0\n",
       "0     10.0\n",
       "0      7.0\n",
       "     ...  \n",
       "0    120.0\n",
       "0    110.0\n",
       "0    120.0\n",
       "0    150.0\n",
       "0    150.0\n",
       "Name: Transaction ammount, Length: 85, dtype: float64"
      ]
     },
     "execution_count": 102,
     "metadata": {},
     "output_type": "execute_result"
    }
   ],
   "source": [
    "################################################################################################################\n",
    "\n",
    "new_df['Transaction ammount']=new_df['Transaction ammount'].astype(str)\n",
    "new_df['Transaction ammount']=new_df['Transaction ammount'].astype(float)\n",
    "new_df['Transaction ammount']"
   ]
  },
  {
   "cell_type": "code",
   "execution_count": 103,
   "metadata": {},
   "outputs": [
    {
     "data": {
      "text/plain": [
       "0    4.666667\n",
       "0    2.800000\n",
       "0    2.800000\n",
       "0    4.666667\n",
       "0    3.111111\n",
       "       ...   \n",
       "0    2.363636\n",
       "0    3.714286\n",
       "0    2.363636\n",
       "0    2.363636\n",
       "0    2.166667\n",
       "Name: Typing speed, Length: 85, dtype: float64"
      ]
     },
     "execution_count": 103,
     "metadata": {},
     "output_type": "execute_result"
    }
   ],
   "source": [
    "################################################################################################################\n",
    "new_df['Typing speed']=new_df['Typing speed'].astype(str)\n",
    "new_df['Typing speed']=new_df['Typing speed'].astype(float)\n",
    "new_df['Typing speed']"
   ]
  },
  {
   "cell_type": "code",
   "execution_count": 104,
   "metadata": {},
   "outputs": [
    {
     "data": {
      "text/plain": [
       "0    2\n",
       "0    2\n",
       "0    2\n",
       "0    2\n",
       "0    2\n",
       "    ..\n",
       "0    1\n",
       "0    1\n",
       "0    1\n",
       "0    1\n",
       "0    1\n",
       "Name: board, Length: 85, dtype: int64"
      ]
     },
     "execution_count": 104,
     "metadata": {},
     "output_type": "execute_result"
    }
   ],
   "source": [
    "################################################################################################################\n",
    "new_df['board']=new_df['board'].astype(str)\n",
    "new_df['board'] = le.fit_transform(new_df['board'])\n",
    "new_df['board']\n"
   ]
  },
  {
   "cell_type": "code",
   "execution_count": 105,
   "metadata": {},
   "outputs": [
    {
     "data": {
      "text/plain": [
       "0    0\n",
       "0    0\n",
       "0    0\n",
       "0    0\n",
       "0    0\n",
       "    ..\n",
       "0    1\n",
       "0    1\n",
       "0    1\n",
       "0    1\n",
       "0    1\n",
       "Name: bootloader, Length: 85, dtype: int64"
      ]
     },
     "execution_count": 105,
     "metadata": {},
     "output_type": "execute_result"
    }
   ],
   "source": [
    "################################################################################################################\n",
    "new_df['bootloader']=new_df['bootloader'].astype(str)\n",
    "new_df['bootloader'] = le.fit_transform(new_df['bootloader'])\n",
    "new_df['bootloader']\n"
   ]
  },
  {
   "cell_type": "code",
   "execution_count": 106,
   "metadata": {},
   "outputs": [
    {
     "data": {
      "text/plain": [
       "0    1\n",
       "0    1\n",
       "0    1\n",
       "0    1\n",
       "0    1\n",
       "    ..\n",
       "0    2\n",
       "0    2\n",
       "0    2\n",
       "0    2\n",
       "0    2\n",
       "Name: brand, Length: 85, dtype: int64"
      ]
     },
     "execution_count": 106,
     "metadata": {},
     "output_type": "execute_result"
    }
   ],
   "source": [
    "################################################################################################################\n",
    "new_df['brand']=new_df['brand'].astype(str)\n",
    "new_df['brand'] = le.fit_transform(new_df['brand'])\n",
    "new_df['brand']\n"
   ]
  },
  {
   "cell_type": "code",
   "execution_count": 107,
   "metadata": {},
   "outputs": [
    {
     "data": {
      "text/plain": [
       "0    1\n",
       "0    1\n",
       "0    1\n",
       "0    1\n",
       "0    1\n",
       "    ..\n",
       "0    2\n",
       "0    2\n",
       "0    2\n",
       "0    2\n",
       "0    2\n",
       "Name: device, Length: 85, dtype: int64"
      ]
     },
     "execution_count": 107,
     "metadata": {},
     "output_type": "execute_result"
    }
   ],
   "source": [
    "################################################################################################################\n",
    "new_df['device']=new_df['device'].astype(str)\n",
    "new_df['device'] = le.fit_transform(new_df['device'])\n",
    "new_df['device']\n"
   ]
  },
  {
   "cell_type": "code",
   "execution_count": 108,
   "metadata": {},
   "outputs": [
    {
     "data": {
      "text/plain": [
       "0    1\n",
       "0    1\n",
       "0    1\n",
       "0    1\n",
       "0    1\n",
       "    ..\n",
       "0    2\n",
       "0    2\n",
       "0    2\n",
       "0    2\n",
       "0    2\n",
       "Name: display, Length: 85, dtype: int64"
      ]
     },
     "execution_count": 108,
     "metadata": {},
     "output_type": "execute_result"
    }
   ],
   "source": [
    "################################################################################################################\n",
    "new_df['display']=new_df['display'].astype(str)\n",
    "new_df['display'] = le.fit_transform(new_df['display'])\n",
    "new_df['display']\n"
   ]
  },
  {
   "cell_type": "code",
   "execution_count": 109,
   "metadata": {},
   "outputs": [
    {
     "data": {
      "text/plain": [
       "0    1\n",
       "0    1\n",
       "0    1\n",
       "0    1\n",
       "0    1\n",
       "    ..\n",
       "0    2\n",
       "0    2\n",
       "0    2\n",
       "0    2\n",
       "0    2\n",
       "Name: fingerprint, Length: 85, dtype: int64"
      ]
     },
     "execution_count": 109,
     "metadata": {},
     "output_type": "execute_result"
    }
   ],
   "source": [
    "################################################################################################################\n",
    "new_df['fingerprint']=new_df['fingerprint'].astype(str)\n",
    "new_df['fingerprint'] = le.fit_transform(new_df['fingerprint'])\n",
    "new_df['fingerprint']"
   ]
  },
  {
   "cell_type": "code",
   "execution_count": 110,
   "metadata": {},
   "outputs": [
    {
     "data": {
      "text/plain": [
       "0    2\n",
       "0    2\n",
       "0    2\n",
       "0    2\n",
       "0    2\n",
       "    ..\n",
       "0    0\n",
       "0    0\n",
       "0    0\n",
       "0    0\n",
       "0    0\n",
       "Name: host, Length: 85, dtype: int64"
      ]
     },
     "execution_count": 110,
     "metadata": {},
     "output_type": "execute_result"
    }
   ],
   "source": [
    "################################################################################################################\n",
    "new_df['host']=new_df['host'].astype(str)\n",
    "new_df['host'] = le.fit_transform(new_df['host'])\n",
    "new_df['host']"
   ]
  },
  {
   "cell_type": "code",
   "execution_count": 111,
   "metadata": {},
   "outputs": [
    {
     "data": {
      "text/plain": [
       "0    0\n",
       "0    0\n",
       "0    0\n",
       "0    0\n",
       "0    0\n",
       "    ..\n",
       "0    2\n",
       "0    2\n",
       "0    2\n",
       "0    2\n",
       "0    2\n",
       "Name: id, Length: 85, dtype: int64"
      ]
     },
     "execution_count": 111,
     "metadata": {},
     "output_type": "execute_result"
    }
   ],
   "source": [
    "################################################################################################################\n",
    "new_df['id']=new_df['id'].astype(str)\n",
    "new_df['id'] = le.fit_transform(new_df['id'])\n",
    "new_df['id']"
   ]
  },
  {
   "cell_type": "code",
   "execution_count": 112,
   "metadata": {},
   "outputs": [],
   "source": [
    "################################################################################################################\n",
    "# new_df['manufacturer'].isna().sum()\n",
    "new_df['manufacturer'] = new_df['manufacturer'].fillna(df['manufacturer'].mode())\n",
    "new_df['manufacturer']=new_df['manufacturer'].astype(str)\n",
    "new_df['manufacturer'] = le.fit_transform(new_df['manufacturer'])\n"
   ]
  },
  {
   "cell_type": "code",
   "execution_count": 113,
   "metadata": {},
   "outputs": [
    {
     "data": {
      "text/plain": [
       "0    1\n",
       "0    2\n",
       "0    1\n",
       "0    2\n",
       "0    1\n",
       "    ..\n",
       "0    2\n",
       "0    2\n",
       "0    2\n",
       "0    2\n",
       "0    2\n",
       "Name: manufacturer, Length: 85, dtype: int64"
      ]
     },
     "execution_count": 113,
     "metadata": {},
     "output_type": "execute_result"
    }
   ],
   "source": [
    "new_df['manufacturer']"
   ]
  },
  {
   "cell_type": "code",
   "execution_count": 114,
   "metadata": {},
   "outputs": [
    {
     "data": {
      "text/plain": [
       "0    0\n",
       "0    3\n",
       "0    0\n",
       "0    3\n",
       "0    0\n",
       "    ..\n",
       "0    2\n",
       "0    2\n",
       "0    2\n",
       "0    2\n",
       "0    2\n",
       "Name: model, Length: 85, dtype: int64"
      ]
     },
     "execution_count": 114,
     "metadata": {},
     "output_type": "execute_result"
    }
   ],
   "source": [
    "################################################################################################################\n",
    "\n",
    "# new_df['model'] = new_df['model'].fillna(df['model'].mode())\n",
    "new_df['model']=new_df['model'].astype(str)\n",
    "new_df['model'] = le.fit_transform(new_df['model'])\n",
    "new_df['model']"
   ]
  },
  {
   "cell_type": "code",
   "execution_count": 115,
   "metadata": {},
   "outputs": [
    {
     "data": {
      "text/plain": [
       "0   -1\n",
       "0    0\n",
       "0   -1\n",
       "0    0\n",
       "0   -1\n",
       "    ..\n",
       "0    0\n",
       "0   -1\n",
       "0    0\n",
       "0    2\n",
       "0    1\n",
       "Name: Device_velocity, Length: 85, dtype: int64"
      ]
     },
     "execution_count": 115,
     "metadata": {},
     "output_type": "execute_result"
    }
   ],
   "source": [
    "################################################################################################################\n",
    "# new_df['Device velocity']=new_df['Device velocity'].astype(str)\n",
    "new_df['Device_velocity']"
   ]
  },
  {
   "cell_type": "code",
   "execution_count": 116,
   "metadata": {},
   "outputs": [],
   "source": [
    "################################################################################################################\n",
    "new_df['User name'] = new_df['User name'].fillna('raunak@mollatech.com')\n",
    "new_df['User name']=new_df['User name'].astype(str)\n"
   ]
  },
  {
   "cell_type": "code",
   "execution_count": 117,
   "metadata": {},
   "outputs": [
    {
     "data": {
      "text/plain": [
       "array(['vikram@blue-bricks.com', 'mukunda@mollatech.com',\n",
       "       'raunak@mollatech.com'], dtype=object)"
      ]
     },
     "execution_count": 117,
     "metadata": {},
     "output_type": "execute_result"
    }
   ],
   "source": [
    "new_df['User name'].unique()"
   ]
  },
  {
   "cell_type": "code",
   "execution_count": null,
   "metadata": {},
   "outputs": [],
   "source": []
  },
  {
   "cell_type": "code",
   "execution_count": 118,
   "metadata": {},
   "outputs": [
    {
     "data": {
      "text/plain": [
       "0    vikram@blue-bricks.com\n",
       "0    vikram@blue-bricks.com\n",
       "0    vikram@blue-bricks.com\n",
       "0    vikram@blue-bricks.com\n",
       "0    vikram@blue-bricks.com\n",
       "              ...          \n",
       "0      raunak@mollatech.com\n",
       "0      raunak@mollatech.com\n",
       "0      raunak@mollatech.com\n",
       "0      raunak@mollatech.com\n",
       "0      raunak@mollatech.com\n",
       "Name: User name, Length: 85, dtype: object"
      ]
     },
     "execution_count": 118,
     "metadata": {},
     "output_type": "execute_result"
    }
   ],
   "source": [
    "# data = pd.read_csv('./Rekita.csv', header=None)\n",
    "# y = data.iloc[:, 0].astype('category').cat.codes\n",
    "y = new_df.iloc[:, 4]\n",
    "y"
   ]
  },
  {
   "cell_type": "code",
   "execution_count": 119,
   "metadata": {},
   "outputs": [],
   "source": [
    "Y= []"
   ]
  },
  {
   "cell_type": "code",
   "execution_count": 120,
   "metadata": {},
   "outputs": [],
   "source": [
    "for index, value in y.items():\n",
    "    if value !=\"vikram@blue-bricks.com\":\n",
    "        Y.append(\"others\")\n",
    "    else:\n",
    "        Y.append(\"vikram@blue-bricks.com\")"
   ]
  },
  {
   "cell_type": "code",
   "execution_count": 121,
   "metadata": {},
   "outputs": [],
   "source": [
    "Y= pd.Series(Y)"
   ]
  },
  {
   "cell_type": "code",
   "execution_count": 122,
   "metadata": {},
   "outputs": [
    {
     "data": {
      "text/plain": [
       "0     vikram@blue-bricks.com\n",
       "1     vikram@blue-bricks.com\n",
       "2     vikram@blue-bricks.com\n",
       "3     vikram@blue-bricks.com\n",
       "4     vikram@blue-bricks.com\n",
       "               ...          \n",
       "80                    others\n",
       "81                    others\n",
       "82                    others\n",
       "83                    others\n",
       "84                    others\n",
       "Length: 85, dtype: object"
      ]
     },
     "execution_count": 122,
     "metadata": {},
     "output_type": "execute_result"
    }
   ],
   "source": [
    "Y"
   ]
  },
  {
   "cell_type": "code",
   "execution_count": null,
   "metadata": {},
   "outputs": [],
   "source": []
  },
  {
   "cell_type": "code",
   "execution_count": 123,
   "metadata": {},
   "outputs": [],
   "source": [
    "y = y.astype('category').cat.codes\n",
    "tttrain_y = y.to_numpy()"
   ]
  },
  {
   "cell_type": "code",
   "execution_count": null,
   "metadata": {},
   "outputs": [],
   "source": []
  },
  {
   "cell_type": "code",
   "execution_count": 124,
   "metadata": {},
   "outputs": [
    {
     "name": "stdout",
     "output_type": "stream",
     "text": [
      "<class 'pandas.core.frame.DataFrame'>\n",
      "Int64Index: 85 entries, 0 to 0\n",
      "Data columns (total 19 columns):\n",
      "Date and time          85 non-null int64\n",
      "Device ip              85 non-null int64\n",
      "Transaction ammount    85 non-null float64\n",
      "Typing speed           85 non-null float64\n",
      "User name              85 non-null object\n",
      "board                  85 non-null int64\n",
      "bootloader             85 non-null int64\n",
      "brand                  85 non-null int64\n",
      "device                 85 non-null int64\n",
      "display                85 non-null int64\n",
      "fingerprint            85 non-null int64\n",
      "host                   85 non-null int64\n",
      "id                     85 non-null int64\n",
      "latitude               85 non-null float64\n",
      "longitude              85 non-null float64\n",
      "manufacturer           85 non-null int64\n",
      "model                  85 non-null int64\n",
      "Device_velocity        85 non-null int64\n",
      "inclined               85 non-null int64\n",
      "dtypes: float64(4), int64(14), object(1)\n",
      "memory usage: 13.3+ KB\n"
     ]
    }
   ],
   "source": [
    "new_df.info()"
   ]
  },
  {
   "cell_type": "code",
   "execution_count": 125,
   "metadata": {},
   "outputs": [],
   "source": [
    "new_df=new_df.drop(labels=\"User name\",axis=1)"
   ]
  },
  {
   "cell_type": "code",
   "execution_count": 126,
   "metadata": {},
   "outputs": [
    {
     "name": "stdout",
     "output_type": "stream",
     "text": [
      "0 Date and time\n",
      "1 Device ip\n",
      "2 Transaction ammount\n",
      "3 Typing speed\n",
      "4 board\n",
      "5 bootloader\n",
      "6 brand\n",
      "7 device\n",
      "8 display\n",
      "9 fingerprint\n",
      "10 host\n",
      "11 id\n",
      "12 latitude\n",
      "13 longitude\n",
      "14 manufacturer\n",
      "15 model\n",
      "16 Device_velocity\n",
      "17 inclined\n"
     ]
    }
   ],
   "source": [
    "for ind,column in enumerate(new_df.columns):\n",
    "    print(ind,column)"
   ]
  },
  {
   "cell_type": "markdown",
   "metadata": {},
   "source": [
    "# MODELLING"
   ]
  },
  {
   "cell_type": "code",
   "execution_count": 127,
   "metadata": {},
   "outputs": [
    {
     "name": "stderr",
     "output_type": "stream",
     "text": [
      "/home/bhrt/.local/lib/python3.6/site-packages/sklearn/externals/joblib/__init__.py:15: FutureWarning: sklearn.externals.joblib is deprecated in 0.21 and will be removed in 0.23. Please import this functionality directly from joblib, which can be installed with: pip install joblib. If this warning is raised when loading pickled models, you may need to re-serialize those models with scikit-learn 0.21+.\n",
      "  warnings.warn(msg, category=FutureWarning)\n"
     ]
    }
   ],
   "source": [
    "from sklearn.externals import joblib\n",
    "\n",
    "# Feature Scaling\n",
    "from sklearn.preprocessing import StandardScaler\n",
    "sc = StandardScaler()\n",
    "X_train = sc.fit_transform(new_df)"
   ]
  },
  {
   "cell_type": "code",
   "execution_count": 128,
   "metadata": {},
   "outputs": [
    {
     "data": {
      "text/plain": [
       "['scaler.save']"
      ]
     },
     "execution_count": 128,
     "metadata": {},
     "output_type": "execute_result"
    }
   ],
   "source": [
    "scaler_filename = \"scaler.save\"\n",
    "joblib.dump(sc, scaler_filename) "
   ]
  },
  {
   "cell_type": "code",
   "execution_count": 130,
   "metadata": {},
   "outputs": [],
   "source": [
    "scc = joblib.load(\"scaler.save\")"
   ]
  },
  {
   "cell_type": "code",
   "execution_count": 131,
   "metadata": {},
   "outputs": [
    {
     "data": {
      "text/plain": [
       "pandas.core.frame.DataFrame"
      ]
     },
     "execution_count": 131,
     "metadata": {},
     "output_type": "execute_result"
    }
   ],
   "source": [
    "X_train = pd.DataFrame(X_train)\n",
    "type(X_train)"
   ]
  },
  {
   "cell_type": "code",
   "execution_count": 132,
   "metadata": {},
   "outputs": [
    {
     "data": {
      "text/plain": [
       "(85, 18)"
      ]
     },
     "execution_count": 132,
     "metadata": {},
     "output_type": "execute_result"
    }
   ],
   "source": [
    "X_train.shape"
   ]
  },
  {
   "cell_type": "markdown",
   "metadata": {},
   "source": [
    "# Saving the X_Train as csv\n"
   ]
  },
  {
   "cell_type": "code",
   "execution_count": 133,
   "metadata": {},
   "outputs": [],
   "source": [
    "X_train.to_csv('new_rba.csv', index=False) "
   ]
  },
  {
   "cell_type": "code",
   "execution_count": 134,
   "metadata": {},
   "outputs": [],
   "source": [
    "df=pd.read_csv('new_rba.csv')"
   ]
  },
  {
   "cell_type": "code",
   "execution_count": 138,
   "metadata": {},
   "outputs": [
    {
     "data": {
      "text/html": [
       "<div>\n",
       "<style scoped>\n",
       "    .dataframe tbody tr th:only-of-type {\n",
       "        vertical-align: middle;\n",
       "    }\n",
       "\n",
       "    .dataframe tbody tr th {\n",
       "        vertical-align: top;\n",
       "    }\n",
       "\n",
       "    .dataframe thead th {\n",
       "        text-align: right;\n",
       "    }\n",
       "</style>\n",
       "<table border=\"1\" class=\"dataframe\">\n",
       "  <thead>\n",
       "    <tr style=\"text-align: right;\">\n",
       "      <th></th>\n",
       "      <th>0</th>\n",
       "      <th>1</th>\n",
       "      <th>2</th>\n",
       "      <th>3</th>\n",
       "      <th>4</th>\n",
       "      <th>5</th>\n",
       "      <th>6</th>\n",
       "      <th>7</th>\n",
       "      <th>8</th>\n",
       "      <th>9</th>\n",
       "      <th>10</th>\n",
       "      <th>11</th>\n",
       "      <th>12</th>\n",
       "      <th>13</th>\n",
       "      <th>14</th>\n",
       "      <th>15</th>\n",
       "      <th>16</th>\n",
       "      <th>17</th>\n",
       "    </tr>\n",
       "  </thead>\n",
       "  <tbody>\n",
       "    <tr>\n",
       "      <th>0</th>\n",
       "      <td>1.549804</td>\n",
       "      <td>-0.929420</td>\n",
       "      <td>-0.328636</td>\n",
       "      <td>0.531030</td>\n",
       "      <td>1.029857</td>\n",
       "      <td>-1.029857</td>\n",
       "      <td>-0.109109</td>\n",
       "      <td>-0.109109</td>\n",
       "      <td>-0.109109</td>\n",
       "      <td>-0.109109</td>\n",
       "      <td>1.050174</td>\n",
       "      <td>-1.050174</td>\n",
       "      <td>0.700877</td>\n",
       "      <td>1.166561</td>\n",
       "      <td>-0.273558</td>\n",
       "      <td>-1.286419</td>\n",
       "      <td>-0.910656</td>\n",
       "      <td>0.130632</td>\n",
       "    </tr>\n",
       "    <tr>\n",
       "      <th>1</th>\n",
       "      <td>0.674499</td>\n",
       "      <td>-0.929420</td>\n",
       "      <td>-0.332797</td>\n",
       "      <td>-0.281260</td>\n",
       "      <td>1.029857</td>\n",
       "      <td>-1.029857</td>\n",
       "      <td>-0.109109</td>\n",
       "      <td>-0.109109</td>\n",
       "      <td>-0.109109</td>\n",
       "      <td>-0.109109</td>\n",
       "      <td>1.050174</td>\n",
       "      <td>-1.050174</td>\n",
       "      <td>0.700877</td>\n",
       "      <td>1.166561</td>\n",
       "      <td>0.950255</td>\n",
       "      <td>1.616562</td>\n",
       "      <td>0.318007</td>\n",
       "      <td>-0.296434</td>\n",
       "    </tr>\n",
       "    <tr>\n",
       "      <th>2</th>\n",
       "      <td>-0.492573</td>\n",
       "      <td>-1.858840</td>\n",
       "      <td>-0.332797</td>\n",
       "      <td>-0.281260</td>\n",
       "      <td>1.029857</td>\n",
       "      <td>-1.029857</td>\n",
       "      <td>-0.109109</td>\n",
       "      <td>-0.109109</td>\n",
       "      <td>-0.109109</td>\n",
       "      <td>-0.109109</td>\n",
       "      <td>1.050174</td>\n",
       "      <td>-1.050174</td>\n",
       "      <td>0.700877</td>\n",
       "      <td>1.166561</td>\n",
       "      <td>-0.273558</td>\n",
       "      <td>-1.286419</td>\n",
       "      <td>-0.910656</td>\n",
       "      <td>0.130632</td>\n",
       "    </tr>\n",
       "    <tr>\n",
       "      <th>3</th>\n",
       "      <td>-1.513762</td>\n",
       "      <td>-1.858840</td>\n",
       "      <td>-0.332797</td>\n",
       "      <td>0.531030</td>\n",
       "      <td>1.029857</td>\n",
       "      <td>-1.029857</td>\n",
       "      <td>-0.109109</td>\n",
       "      <td>-0.109109</td>\n",
       "      <td>-0.109109</td>\n",
       "      <td>-0.109109</td>\n",
       "      <td>1.050174</td>\n",
       "      <td>-1.050174</td>\n",
       "      <td>0.700877</td>\n",
       "      <td>1.166561</td>\n",
       "      <td>0.950255</td>\n",
       "      <td>1.616562</td>\n",
       "      <td>0.318007</td>\n",
       "      <td>-1.150565</td>\n",
       "    </tr>\n",
       "    <tr>\n",
       "      <th>4</th>\n",
       "      <td>-0.054921</td>\n",
       "      <td>-1.858840</td>\n",
       "      <td>-0.335918</td>\n",
       "      <td>-0.145879</td>\n",
       "      <td>1.029857</td>\n",
       "      <td>-1.029857</td>\n",
       "      <td>-0.109109</td>\n",
       "      <td>-0.109109</td>\n",
       "      <td>-0.109109</td>\n",
       "      <td>-0.109109</td>\n",
       "      <td>1.050174</td>\n",
       "      <td>-1.050174</td>\n",
       "      <td>0.700877</td>\n",
       "      <td>1.166561</td>\n",
       "      <td>-0.273558</td>\n",
       "      <td>-1.286419</td>\n",
       "      <td>-0.910656</td>\n",
       "      <td>0.984763</td>\n",
       "    </tr>\n",
       "    <tr>\n",
       "      <th>...</th>\n",
       "      <td>...</td>\n",
       "      <td>...</td>\n",
       "      <td>...</td>\n",
       "      <td>...</td>\n",
       "      <td>...</td>\n",
       "      <td>...</td>\n",
       "      <td>...</td>\n",
       "      <td>...</td>\n",
       "      <td>...</td>\n",
       "      <td>...</td>\n",
       "      <td>...</td>\n",
       "      <td>...</td>\n",
       "      <td>...</td>\n",
       "      <td>...</td>\n",
       "      <td>...</td>\n",
       "      <td>...</td>\n",
       "      <td>...</td>\n",
       "      <td>...</td>\n",
       "    </tr>\n",
       "    <tr>\n",
       "      <th>80</th>\n",
       "      <td>0.090963</td>\n",
       "      <td>0.000000</td>\n",
       "      <td>-0.218362</td>\n",
       "      <td>-0.471147</td>\n",
       "      <td>-0.220684</td>\n",
       "      <td>0.220684</td>\n",
       "      <td>1.215785</td>\n",
       "      <td>1.215785</td>\n",
       "      <td>1.215785</td>\n",
       "      <td>1.215785</td>\n",
       "      <td>-1.268391</td>\n",
       "      <td>1.268391</td>\n",
       "      <td>-1.427256</td>\n",
       "      <td>-0.866057</td>\n",
       "      <td>0.950255</td>\n",
       "      <td>0.648901</td>\n",
       "      <td>0.318007</td>\n",
       "      <td>0.557697</td>\n",
       "    </tr>\n",
       "    <tr>\n",
       "      <th>81</th>\n",
       "      <td>-1.659646</td>\n",
       "      <td>0.185884</td>\n",
       "      <td>-0.228765</td>\n",
       "      <td>0.116596</td>\n",
       "      <td>-0.220684</td>\n",
       "      <td>0.220684</td>\n",
       "      <td>1.215785</td>\n",
       "      <td>1.215785</td>\n",
       "      <td>1.215785</td>\n",
       "      <td>1.215785</td>\n",
       "      <td>-1.268391</td>\n",
       "      <td>1.268391</td>\n",
       "      <td>-1.427256</td>\n",
       "      <td>-0.866057</td>\n",
       "      <td>0.950255</td>\n",
       "      <td>0.648901</td>\n",
       "      <td>-0.910656</td>\n",
       "      <td>0.557697</td>\n",
       "    </tr>\n",
       "    <tr>\n",
       "      <th>82</th>\n",
       "      <td>0.236847</td>\n",
       "      <td>0.929420</td>\n",
       "      <td>-0.218362</td>\n",
       "      <td>-0.471147</td>\n",
       "      <td>-0.220684</td>\n",
       "      <td>0.220684</td>\n",
       "      <td>1.215785</td>\n",
       "      <td>1.215785</td>\n",
       "      <td>1.215785</td>\n",
       "      <td>1.215785</td>\n",
       "      <td>-1.268391</td>\n",
       "      <td>1.268391</td>\n",
       "      <td>-1.426586</td>\n",
       "      <td>-0.822092</td>\n",
       "      <td>0.950255</td>\n",
       "      <td>0.648901</td>\n",
       "      <td>0.318007</td>\n",
       "      <td>-0.296434</td>\n",
       "    </tr>\n",
       "    <tr>\n",
       "      <th>83</th>\n",
       "      <td>0.236847</td>\n",
       "      <td>0.929420</td>\n",
       "      <td>-0.187152</td>\n",
       "      <td>-0.471147</td>\n",
       "      <td>-0.220684</td>\n",
       "      <td>0.220684</td>\n",
       "      <td>1.215785</td>\n",
       "      <td>1.215785</td>\n",
       "      <td>1.215785</td>\n",
       "      <td>1.215785</td>\n",
       "      <td>-1.268391</td>\n",
       "      <td>1.268391</td>\n",
       "      <td>-1.426452</td>\n",
       "      <td>-0.822084</td>\n",
       "      <td>0.950255</td>\n",
       "      <td>0.648901</td>\n",
       "      <td>2.775332</td>\n",
       "      <td>0.557697</td>\n",
       "    </tr>\n",
       "    <tr>\n",
       "      <th>84</th>\n",
       "      <td>-0.346689</td>\n",
       "      <td>0.929420</td>\n",
       "      <td>-0.187152</td>\n",
       "      <td>-0.556859</td>\n",
       "      <td>-0.220684</td>\n",
       "      <td>0.220684</td>\n",
       "      <td>1.215785</td>\n",
       "      <td>1.215785</td>\n",
       "      <td>1.215785</td>\n",
       "      <td>1.215785</td>\n",
       "      <td>-1.268391</td>\n",
       "      <td>1.268391</td>\n",
       "      <td>-1.426595</td>\n",
       "      <td>-0.822112</td>\n",
       "      <td>0.950255</td>\n",
       "      <td>0.648901</td>\n",
       "      <td>1.546669</td>\n",
       "      <td>0.557697</td>\n",
       "    </tr>\n",
       "  </tbody>\n",
       "</table>\n",
       "<p>85 rows × 18 columns</p>\n",
       "</div>"
      ],
      "text/plain": [
       "           0         1         2         3         4         5         6  \\\n",
       "0   1.549804 -0.929420 -0.328636  0.531030  1.029857 -1.029857 -0.109109   \n",
       "1   0.674499 -0.929420 -0.332797 -0.281260  1.029857 -1.029857 -0.109109   \n",
       "2  -0.492573 -1.858840 -0.332797 -0.281260  1.029857 -1.029857 -0.109109   \n",
       "3  -1.513762 -1.858840 -0.332797  0.531030  1.029857 -1.029857 -0.109109   \n",
       "4  -0.054921 -1.858840 -0.335918 -0.145879  1.029857 -1.029857 -0.109109   \n",
       "..       ...       ...       ...       ...       ...       ...       ...   \n",
       "80  0.090963  0.000000 -0.218362 -0.471147 -0.220684  0.220684  1.215785   \n",
       "81 -1.659646  0.185884 -0.228765  0.116596 -0.220684  0.220684  1.215785   \n",
       "82  0.236847  0.929420 -0.218362 -0.471147 -0.220684  0.220684  1.215785   \n",
       "83  0.236847  0.929420 -0.187152 -0.471147 -0.220684  0.220684  1.215785   \n",
       "84 -0.346689  0.929420 -0.187152 -0.556859 -0.220684  0.220684  1.215785   \n",
       "\n",
       "           7         8         9        10        11        12        13  \\\n",
       "0  -0.109109 -0.109109 -0.109109  1.050174 -1.050174  0.700877  1.166561   \n",
       "1  -0.109109 -0.109109 -0.109109  1.050174 -1.050174  0.700877  1.166561   \n",
       "2  -0.109109 -0.109109 -0.109109  1.050174 -1.050174  0.700877  1.166561   \n",
       "3  -0.109109 -0.109109 -0.109109  1.050174 -1.050174  0.700877  1.166561   \n",
       "4  -0.109109 -0.109109 -0.109109  1.050174 -1.050174  0.700877  1.166561   \n",
       "..       ...       ...       ...       ...       ...       ...       ...   \n",
       "80  1.215785  1.215785  1.215785 -1.268391  1.268391 -1.427256 -0.866057   \n",
       "81  1.215785  1.215785  1.215785 -1.268391  1.268391 -1.427256 -0.866057   \n",
       "82  1.215785  1.215785  1.215785 -1.268391  1.268391 -1.426586 -0.822092   \n",
       "83  1.215785  1.215785  1.215785 -1.268391  1.268391 -1.426452 -0.822084   \n",
       "84  1.215785  1.215785  1.215785 -1.268391  1.268391 -1.426595 -0.822112   \n",
       "\n",
       "          14        15        16        17  \n",
       "0  -0.273558 -1.286419 -0.910656  0.130632  \n",
       "1   0.950255  1.616562  0.318007 -0.296434  \n",
       "2  -0.273558 -1.286419 -0.910656  0.130632  \n",
       "3   0.950255  1.616562  0.318007 -1.150565  \n",
       "4  -0.273558 -1.286419 -0.910656  0.984763  \n",
       "..       ...       ...       ...       ...  \n",
       "80  0.950255  0.648901  0.318007  0.557697  \n",
       "81  0.950255  0.648901 -0.910656  0.557697  \n",
       "82  0.950255  0.648901  0.318007 -0.296434  \n",
       "83  0.950255  0.648901  2.775332  0.557697  \n",
       "84  0.950255  0.648901  1.546669  0.557697  \n",
       "\n",
       "[85 rows x 18 columns]"
      ]
     },
     "execution_count": 138,
     "metadata": {},
     "output_type": "execute_result"
    }
   ],
   "source": [
    "df"
   ]
  },
  {
   "cell_type": "markdown",
   "metadata": {},
   "source": [
    "# user new input"
   ]
  },
  {
   "cell_type": "code",
   "execution_count": 139,
   "metadata": {},
   "outputs": [
    {
     "data": {
      "text/plain": [
       "array([[ 1.54980414, -0.92941979, -0.32863565,  0.53103046,  1.0298573 ,\n",
       "        -1.0298573 , -0.10910895, -0.10910895, -0.10910895, -0.10910895,\n",
       "         1.0501736 , -1.0501736 , -9.41123631,  1.16656061, -0.27355833,\n",
       "        -1.28641867, -0.91065568,  0.13063183]])"
      ]
     },
     "execution_count": 139,
     "metadata": {},
     "output_type": "execute_result"
    }
   ],
   "source": [
    "# 22\t6\t14.0\t4.666667\t2\t0\t1\t1\t1\t1\t2\t0\t32.000000\t115.000000\t1\t0\t-1\t13\n",
    "data = [[22,6,14.00,4.666667,2,0,1,1,1,1,2,0,-32.060216,115,1,0,-1,13]]\n",
    "X_test = pd.DataFrame(data)\n",
    "\n",
    "# # Feature Scaling\n",
    "X_test = sc.transform(X_test)\n",
    "\n",
    "X_test"
   ]
  },
  {
   "cell_type": "markdown",
   "metadata": {},
   "source": [
    "# fit the model"
   ]
  },
  {
   "cell_type": "code",
   "execution_count": 140,
   "metadata": {},
   "outputs": [],
   "source": [
    "\n",
    "# clf = svm.OneClassSVM(kernel='rbf',\n",
    "#     degree=3,\n",
    "#     gamma='scale',\n",
    "#     coef0=0.0,\n",
    "#     tol=0.001,\n",
    "#     nu=0.01,\n",
    "#     shrinking=True,\n",
    "#     cache_size=200,\n",
    "#     verbose=False,\n",
    "#     max_iter=-1)"
   ]
  },
  {
   "cell_type": "code",
   "execution_count": 141,
   "metadata": {},
   "outputs": [],
   "source": [
    "# clf.fit(X_train)"
   ]
  },
  {
   "cell_type": "markdown",
   "metadata": {},
   "source": [
    "# Predicting within the Train dataframe"
   ]
  },
  {
   "cell_type": "code",
   "execution_count": 142,
   "metadata": {},
   "outputs": [],
   "source": [
    "# y_pred_train = clf.predict(X_train)"
   ]
  },
  {
   "cell_type": "code",
   "execution_count": 143,
   "metadata": {},
   "outputs": [],
   "source": [
    "# unique, counts = np.unique(y_pred_train, return_counts=True)\n",
    "# dict(zip(unique, counts))"
   ]
  },
  {
   "cell_type": "code",
   "execution_count": 144,
   "metadata": {},
   "outputs": [],
   "source": [
    "# y_pred_train.shape"
   ]
  },
  {
   "cell_type": "markdown",
   "metadata": {},
   "source": [
    "# Predicting the New Test Data dataframe"
   ]
  },
  {
   "cell_type": "code",
   "execution_count": 145,
   "metadata": {},
   "outputs": [],
   "source": [
    "# y_pred_test = clf.predict(X_test)"
   ]
  },
  {
   "cell_type": "code",
   "execution_count": 146,
   "metadata": {},
   "outputs": [],
   "source": [
    "# if(y_pred_test == -1):\n",
    "#     print(\"It's a Anomoly\")\n",
    "# else:\n",
    "#     print(\"It's a regular observation\")\n"
   ]
  },
  {
   "cell_type": "markdown",
   "metadata": {},
   "source": [
    "# Saving the model"
   ]
  },
  {
   "cell_type": "code",
   "execution_count": 147,
   "metadata": {},
   "outputs": [],
   "source": [
    "# import pickle\n",
    "# c= str(id)+'.pkl' \n",
    "# output = open(c, 'wb')\n",
    "# pickle.dump(clf, output)\n",
    "# output.close()"
   ]
  },
  {
   "cell_type": "code",
   "execution_count": 148,
   "metadata": {},
   "outputs": [],
   "source": [
    "# import os\n",
    " \n",
    "# dirpath = os.getcwd()"
   ]
  },
  {
   "cell_type": "markdown",
   "metadata": {},
   "source": [
    "# Using AutoEncoder"
   ]
  },
  {
   "cell_type": "code",
   "execution_count": 163,
   "metadata": {},
   "outputs": [],
   "source": [
    "import keras\n",
    "from keras.layers import Input, Dense\n",
    "from keras.models import Model\n",
    "from keras.callbacks import TensorBoard\n",
    "import numpy as np \n",
    "import tensorflow\n",
    "import os"
   ]
  },
  {
   "cell_type": "code",
   "execution_count": 164,
   "metadata": {},
   "outputs": [],
   "source": [
    "class Models():\n",
    "\n",
    "    def __init__(self, h, w):\n",
    "        self.h = h\n",
    "        self.w = w\n",
    "        \n",
    "    def _encoder(self):\n",
    "        inputs = Input(shape=(self.w, ))\n",
    "        encoded = Dense(6, activation = 'relu')(inputs)\n",
    "        encoded = Dense(5, activation = 'relu')(encoded)\n",
    "        encoded = Dense(4, activation = 'relu')(encoded)\n",
    "        model = Model(inputs, encoded)\n",
    "        self.encoder = model\n",
    "        return model\n",
    "    \n",
    "    def _decoder(self):\n",
    "        inputs = Input(shape=(4,))\n",
    "        decoded = Dense(5, activation = 'relu')(inputs)\n",
    "        decoded = Dense(6, activation = 'relu')(decoded)\n",
    "        decoded = Dense(self.w, activation = 'relu')(decoded)\n",
    "        model = Model(inputs, decoded)\n",
    "        self.decoder = model\n",
    "        return model\n",
    "    \n",
    "    def encode_decoder(self):\n",
    "        ec = self._encoder()\n",
    "        dc = self._decoder()\n",
    "        \n",
    "        inputs = Input(shape=(self.w, ))\n",
    "        ec_out = ec(inputs)\n",
    "        dc_out = dc(ec_out)\n",
    "        model = Model(inputs, dc_out)\n",
    "        \n",
    "        self.model = model\n",
    "        return model\n",
    "\n",
    "    def fit(self, train_x, train_y, test_x, test_y):\n",
    "        self.model.compile(optimizer='sgd', loss='mse')\n",
    "        self.model.fit(train_x,train_y,batch_size=32,shuffle='true',epochs=200,validation_data=(test_x,test_y),verbose=1)\n",
    "    \n",
    "    def save(self):\n",
    "        if not os.path.exists(r'./weights'):\n",
    "            os.mkdir(r'./weights')\n",
    "        else:\n",
    "            self.encoder.save(r'./weights/encoder_weights.h5')\n",
    "            self.decoder.save(r'./weights/decoder_weights.h5')\n",
    "            self.model.save(r'./weights/ae_weights.h5')"
   ]
  },
  {
   "cell_type": "code",
   "execution_count": null,
   "metadata": {},
   "outputs": [],
   "source": []
  },
  {
   "cell_type": "code",
   "execution_count": 165,
   "metadata": {},
   "outputs": [],
   "source": [
    "class loader():\n",
    "\n",
    "    def __init__(self):\n",
    "        data = pd.read_csv('new_rba.csv', header=None)\n",
    "        X = data.iloc[:, :]\n",
    "        self.train_x = X.to_numpy()\n",
    "\n",
    "    def load(self):\n",
    "        return self.train_x, self.train_x"
   ]
  },
  {
   "cell_type": "code",
   "execution_count": 166,
   "metadata": {},
   "outputs": [],
   "source": [
    "# from model import Models\n",
    "from keras.optimizers import Adam\n",
    "from sklearn.model_selection import train_test_split\n",
    "from keras.optimizers import Adam\n",
    "import numpy as np\n",
    "import sys"
   ]
  },
  {
   "cell_type": "code",
   "execution_count": 168,
   "metadata": {},
   "outputs": [
    {
     "data": {
      "text/plain": [
       "<keras.engine.training.Model at 0x7fc8715a65f8>"
      ]
     },
     "execution_count": 168,
     "metadata": {},
     "output_type": "execute_result"
    }
   ],
   "source": [
    "w = int(18)\n",
    "h = 1\n",
    "model = Models(h, w)\n",
    "auto_encoder = model.encode_decoder()\n",
    "model.encode_decoder()\n"
   ]
  },
  {
   "cell_type": "code",
   "execution_count": 161,
   "metadata": {},
   "outputs": [],
   "source": [
    "# from data_loader import loader"
   ]
  },
  {
   "cell_type": "code",
   "execution_count": 169,
   "metadata": {},
   "outputs": [
    {
     "name": "stdout",
     "output_type": "stream",
     "text": [
      "Model: \"model_9\"\n",
      "_________________________________________________________________\n",
      "Layer (type)                 Output Shape              Param #   \n",
      "=================================================================\n",
      "input_9 (InputLayer)         (None, 18)                0         \n",
      "_________________________________________________________________\n",
      "model_7 (Model)              (None, 4)                 173       \n",
      "_________________________________________________________________\n",
      "model_8 (Model)              (None, 18)                187       \n",
      "=================================================================\n",
      "Total params: 360\n",
      "Trainable params: 360\n",
      "Non-trainable params: 0\n",
      "_________________________________________________________________\n",
      "None\n"
     ]
    }
   ],
   "source": [
    "load_data = loader()    \n",
    "print(model.encode_decoder().summary())"
   ]
  },
  {
   "cell_type": "code",
   "execution_count": 170,
   "metadata": {},
   "outputs": [],
   "source": [
    "x_data, y_data = load_data.load()"
   ]
  },
  {
   "cell_type": "code",
   "execution_count": 171,
   "metadata": {},
   "outputs": [
    {
     "name": "stdout",
     "output_type": "stream",
     "text": [
      "(86, 18)\n"
     ]
    }
   ],
   "source": [
    "print(x_data.shape)"
   ]
  },
  {
   "cell_type": "code",
   "execution_count": 154,
   "metadata": {},
   "outputs": [],
   "source": [
    "# test_x.shape"
   ]
  },
  {
   "cell_type": "code",
   "execution_count": 172,
   "metadata": {},
   "outputs": [],
   "source": [
    "train_x,test_x,train_y,test_y=train_test_split(x_data,y_data,test_size=0.2,random_state=30)"
   ]
  },
  {
   "cell_type": "code",
   "execution_count": 175,
   "metadata": {},
   "outputs": [
    {
     "name": "stdout",
     "output_type": "stream",
     "text": [
      "Train on 68 samples, validate on 18 samples\n",
      "Epoch 1/200\n",
      "68/68 [==============================] - 0s 2ms/step - loss: 1.0598 - val_loss: 0.9892\n",
      "Epoch 2/200\n",
      "68/68 [==============================] - 0s 216us/step - loss: 1.0593 - val_loss: 0.9886\n",
      "Epoch 3/200\n",
      "68/68 [==============================] - 0s 273us/step - loss: 1.0589 - val_loss: 0.9886\n",
      "Epoch 4/200\n",
      "68/68 [==============================] - 0s 215us/step - loss: 1.0589 - val_loss: 0.9882\n",
      "Epoch 5/200\n",
      "68/68 [==============================] - 0s 153us/step - loss: 1.0586 - val_loss: 0.9880\n",
      "Epoch 6/200\n",
      "68/68 [==============================] - 0s 144us/step - loss: 1.0585 - val_loss: 0.9877\n",
      "Epoch 7/200\n",
      "68/68 [==============================] - 0s 211us/step - loss: 1.0584 - val_loss: 0.9875\n",
      "Epoch 8/200\n",
      "68/68 [==============================] - 0s 177us/step - loss: 1.0582 - val_loss: 0.9870\n",
      "Epoch 9/200\n",
      "68/68 [==============================] - 0s 145us/step - loss: 1.0580 - val_loss: 0.9868\n",
      "Epoch 10/200\n",
      "68/68 [==============================] - 0s 150us/step - loss: 1.0578 - val_loss: 0.9867\n",
      "Epoch 11/200\n",
      "68/68 [==============================] - 0s 274us/step - loss: 1.0577 - val_loss: 0.9862\n",
      "Epoch 12/200\n",
      "68/68 [==============================] - 0s 125us/step - loss: 1.0575 - val_loss: 0.9861\n",
      "Epoch 13/200\n",
      "68/68 [==============================] - 0s 123us/step - loss: 1.0574 - val_loss: 0.9860\n",
      "Epoch 14/200\n",
      "68/68 [==============================] - 0s 106us/step - loss: 1.0572 - val_loss: 0.9858\n",
      "Epoch 15/200\n",
      "68/68 [==============================] - 0s 132us/step - loss: 1.0571 - val_loss: 0.9856\n",
      "Epoch 16/200\n",
      "68/68 [==============================] - 0s 230us/step - loss: 1.0569 - val_loss: 0.9854\n",
      "Epoch 17/200\n",
      "68/68 [==============================] - 0s 187us/step - loss: 1.0567 - val_loss: 0.9851\n",
      "Epoch 18/200\n",
      "68/68 [==============================] - 0s 126us/step - loss: 1.0566 - val_loss: 0.9849\n",
      "Epoch 19/200\n",
      "68/68 [==============================] - 0s 127us/step - loss: 1.0565 - val_loss: 0.9850\n",
      "Epoch 20/200\n",
      "68/68 [==============================] - 0s 126us/step - loss: 1.0563 - val_loss: 0.9846\n",
      "Epoch 21/200\n",
      "68/68 [==============================] - 0s 201us/step - loss: 1.0562 - val_loss: 0.9846\n",
      "Epoch 22/200\n",
      "68/68 [==============================] - 0s 154us/step - loss: 1.0561 - val_loss: 0.9865\n",
      "Epoch 23/200\n",
      "68/68 [==============================] - 0s 173us/step - loss: 1.0561 - val_loss: 0.9862\n",
      "Epoch 24/200\n",
      "68/68 [==============================] - 0s 200us/step - loss: 1.0559 - val_loss: 0.9858\n",
      "Epoch 25/200\n",
      "68/68 [==============================] - 0s 184us/step - loss: 1.0557 - val_loss: 0.9855\n",
      "Epoch 26/200\n",
      "68/68 [==============================] - 0s 216us/step - loss: 1.0554 - val_loss: 0.9849\n",
      "Epoch 27/200\n",
      "68/68 [==============================] - 0s 118us/step - loss: 1.0551 - val_loss: 0.9845\n",
      "Epoch 28/200\n",
      "68/68 [==============================] - 0s 104us/step - loss: 1.0550 - val_loss: 0.9842\n",
      "Epoch 29/200\n",
      "68/68 [==============================] - 0s 137us/step - loss: 1.0548 - val_loss: 0.9839\n",
      "Epoch 30/200\n",
      "68/68 [==============================] - 0s 241us/step - loss: 1.0546 - val_loss: 0.9839\n",
      "Epoch 31/200\n",
      "68/68 [==============================] - 0s 180us/step - loss: 1.0544 - val_loss: 0.9833\n",
      "Epoch 32/200\n",
      "68/68 [==============================] - 0s 151us/step - loss: 1.0543 - val_loss: 0.9827\n",
      "Epoch 33/200\n",
      "68/68 [==============================] - 0s 152us/step - loss: 1.0541 - val_loss: 0.9822\n",
      "Epoch 34/200\n",
      "68/68 [==============================] - 0s 144us/step - loss: 1.0539 - val_loss: 0.9820\n",
      "Epoch 35/200\n",
      "68/68 [==============================] - ETA: 0s - loss: 0.956 - 0s 261us/step - loss: 1.0537 - val_loss: 0.9820\n",
      "Epoch 36/200\n",
      "68/68 [==============================] - 0s 180us/step - loss: 1.0536 - val_loss: 0.9816\n",
      "Epoch 37/200\n",
      "68/68 [==============================] - 0s 126us/step - loss: 1.0534 - val_loss: 0.9814\n",
      "Epoch 38/200\n",
      "68/68 [==============================] - 0s 108us/step - loss: 1.0532 - val_loss: 0.9810\n",
      "Epoch 39/200\n",
      "68/68 [==============================] - 0s 121us/step - loss: 1.0531 - val_loss: 0.9807\n",
      "Epoch 40/200\n",
      "68/68 [==============================] - 0s 117us/step - loss: 1.0529 - val_loss: 0.9804\n",
      "Epoch 41/200\n",
      "68/68 [==============================] - 0s 154us/step - loss: 1.0528 - val_loss: 0.9803\n",
      "Epoch 42/200\n",
      "68/68 [==============================] - 0s 166us/step - loss: 1.0525 - val_loss: 0.9803\n",
      "Epoch 43/200\n",
      "68/68 [==============================] - 0s 140us/step - loss: 1.0523 - val_loss: 0.9801\n",
      "Epoch 44/200\n",
      "68/68 [==============================] - 0s 153us/step - loss: 1.0522 - val_loss: 0.9800\n",
      "Epoch 45/200\n",
      "68/68 [==============================] - 0s 107us/step - loss: 1.0520 - val_loss: 0.9798\n",
      "Epoch 46/200\n",
      "68/68 [==============================] - 0s 274us/step - loss: 1.0518 - val_loss: 0.9794\n",
      "Epoch 47/200\n",
      "68/68 [==============================] - 0s 200us/step - loss: 1.0517 - val_loss: 0.9792\n",
      "Epoch 48/200\n",
      "68/68 [==============================] - 0s 128us/step - loss: 1.0515 - val_loss: 0.9787\n",
      "Epoch 49/200\n",
      "68/68 [==============================] - 0s 103us/step - loss: 1.0513 - val_loss: 0.9786\n",
      "Epoch 50/200\n",
      "68/68 [==============================] - 0s 106us/step - loss: 1.0512 - val_loss: 0.9783\n",
      "Epoch 51/200\n",
      "68/68 [==============================] - 0s 112us/step - loss: 1.0510 - val_loss: 0.9781\n",
      "Epoch 52/200\n",
      "68/68 [==============================] - 0s 112us/step - loss: 1.0509 - val_loss: 0.9779\n",
      "Epoch 53/200\n",
      "68/68 [==============================] - 0s 145us/step - loss: 1.0507 - val_loss: 0.9777\n",
      "Epoch 54/200\n",
      "68/68 [==============================] - 0s 159us/step - loss: 1.0505 - val_loss: 0.9774\n",
      "Epoch 55/200\n",
      "68/68 [==============================] - 0s 191us/step - loss: 1.0503 - val_loss: 0.9772\n",
      "Epoch 56/200\n",
      "68/68 [==============================] - 0s 113us/step - loss: 1.0502 - val_loss: 0.9771\n",
      "Epoch 57/200\n",
      "68/68 [==============================] - 0s 117us/step - loss: 1.0499 - val_loss: 0.9770\n",
      "Epoch 58/200\n",
      "68/68 [==============================] - 0s 104us/step - loss: 1.0498 - val_loss: 0.9769\n",
      "Epoch 59/200\n",
      "68/68 [==============================] - 0s 103us/step - loss: 1.0496 - val_loss: 0.9769\n",
      "Epoch 60/200\n",
      "68/68 [==============================] - 0s 242us/step - loss: 1.0494 - val_loss: 0.9766\n",
      "Epoch 61/200\n",
      "68/68 [==============================] - 0s 151us/step - loss: 1.0492 - val_loss: 0.9763\n",
      "Epoch 62/200\n",
      "68/68 [==============================] - 0s 124us/step - loss: 1.0493 - val_loss: 0.9786\n",
      "Epoch 63/200\n",
      "68/68 [==============================] - 0s 128us/step - loss: 1.0488 - val_loss: 0.9782\n",
      "Epoch 64/200\n",
      "68/68 [==============================] - 0s 124us/step - loss: 1.0485 - val_loss: 0.9779\n",
      "Epoch 65/200\n",
      "68/68 [==============================] - 0s 126us/step - loss: 1.0483 - val_loss: 0.9778\n",
      "Epoch 66/200\n",
      "68/68 [==============================] - 0s 189us/step - loss: 1.0481 - val_loss: 0.9776\n",
      "Epoch 67/200\n",
      "68/68 [==============================] - 0s 154us/step - loss: 1.0480 - val_loss: 0.9774\n",
      "Epoch 68/200\n",
      "68/68 [==============================] - 0s 144us/step - loss: 1.0477 - val_loss: 0.9768\n",
      "Epoch 69/200\n",
      "68/68 [==============================] - 0s 149us/step - loss: 1.0475 - val_loss: 0.9766\n",
      "Epoch 70/200\n",
      "68/68 [==============================] - 0s 136us/step - loss: 1.0474 - val_loss: 0.9764\n",
      "Epoch 71/200\n",
      "68/68 [==============================] - 0s 130us/step - loss: 1.0472 - val_loss: 0.9762\n",
      "Epoch 72/200\n",
      "68/68 [==============================] - 0s 261us/step - loss: 1.0471 - val_loss: 0.9760\n",
      "Epoch 73/200\n",
      "68/68 [==============================] - 0s 207us/step - loss: 1.0469 - val_loss: 0.9755\n",
      "Epoch 74/200\n",
      "68/68 [==============================] - 0s 274us/step - loss: 1.0468 - val_loss: 0.9752\n",
      "Epoch 75/200\n",
      "68/68 [==============================] - 0s 197us/step - loss: 1.0466 - val_loss: 0.9750\n",
      "Epoch 76/200\n",
      "68/68 [==============================] - 0s 219us/step - loss: 1.0464 - val_loss: 0.9746\n",
      "Epoch 77/200\n",
      "68/68 [==============================] - 0s 243us/step - loss: 1.0463 - val_loss: 0.9742\n",
      "Epoch 78/200\n",
      "68/68 [==============================] - 0s 217us/step - loss: 1.0461 - val_loss: 0.9739\n",
      "Epoch 79/200\n",
      "68/68 [==============================] - 0s 156us/step - loss: 1.0461 - val_loss: 0.9762\n",
      "Epoch 80/200\n",
      "68/68 [==============================] - 0s 183us/step - loss: 1.0459 - val_loss: 0.9757\n"
     ]
    },
    {
     "name": "stdout",
     "output_type": "stream",
     "text": [
      "Epoch 81/200\n",
      "68/68 [==============================] - 0s 123us/step - loss: 1.0455 - val_loss: 0.9756\n",
      "Epoch 82/200\n",
      "68/68 [==============================] - 0s 251us/step - loss: 1.0453 - val_loss: 0.9751\n",
      "Epoch 83/200\n",
      "68/68 [==============================] - 0s 152us/step - loss: 1.0450 - val_loss: 0.9749\n",
      "Epoch 84/200\n",
      "68/68 [==============================] - 0s 184us/step - loss: 1.0449 - val_loss: 0.9744\n",
      "Epoch 85/200\n",
      "68/68 [==============================] - 0s 185us/step - loss: 1.0445 - val_loss: 0.9743\n",
      "Epoch 86/200\n",
      "68/68 [==============================] - 0s 211us/step - loss: 1.0444 - val_loss: 0.9739\n",
      "Epoch 87/200\n",
      "68/68 [==============================] - 0s 215us/step - loss: 1.0442 - val_loss: 0.9735\n",
      "Epoch 88/200\n",
      "68/68 [==============================] - 0s 298us/step - loss: 1.0441 - val_loss: 0.9733\n",
      "Epoch 89/200\n",
      "68/68 [==============================] - 0s 184us/step - loss: 1.0438 - val_loss: 0.9731\n",
      "Epoch 90/200\n",
      "68/68 [==============================] - 0s 188us/step - loss: 1.0436 - val_loss: 0.9728\n",
      "Epoch 91/200\n",
      "68/68 [==============================] - 0s 180us/step - loss: 1.0435 - val_loss: 0.9724\n",
      "Epoch 92/200\n",
      "68/68 [==============================] - 0s 244us/step - loss: 1.0433 - val_loss: 0.9721\n",
      "Epoch 93/200\n",
      "68/68 [==============================] - 0s 185us/step - loss: 1.0431 - val_loss: 0.9717\n",
      "Epoch 94/200\n",
      "68/68 [==============================] - 0s 216us/step - loss: 1.0429 - val_loss: 0.9714\n",
      "Epoch 95/200\n",
      "68/68 [==============================] - 0s 162us/step - loss: 1.0427 - val_loss: 0.9711\n",
      "Epoch 96/200\n",
      "68/68 [==============================] - 0s 267us/step - loss: 1.0426 - val_loss: 0.9711\n",
      "Epoch 97/200\n",
      "68/68 [==============================] - 0s 206us/step - loss: 1.0424 - val_loss: 0.9706\n",
      "Epoch 98/200\n",
      "68/68 [==============================] - 0s 137us/step - loss: 1.0422 - val_loss: 0.9704\n",
      "Epoch 99/200\n",
      "68/68 [==============================] - 0s 160us/step - loss: 1.0420 - val_loss: 0.9704\n",
      "Epoch 100/200\n",
      "68/68 [==============================] - 0s 184us/step - loss: 1.0418 - val_loss: 0.9702\n",
      "Epoch 101/200\n",
      "68/68 [==============================] - 0s 148us/step - loss: 1.0417 - val_loss: 0.9699\n",
      "Epoch 102/200\n",
      "68/68 [==============================] - 0s 187us/step - loss: 1.0415 - val_loss: 0.9697\n",
      "Epoch 103/200\n",
      "68/68 [==============================] - 0s 124us/step - loss: 1.0412 - val_loss: 0.9697\n",
      "Epoch 104/200\n",
      "68/68 [==============================] - 0s 237us/step - loss: 1.0411 - val_loss: 0.9695\n",
      "Epoch 105/200\n",
      "68/68 [==============================] - 0s 186us/step - loss: 1.0409 - val_loss: 0.9693\n",
      "Epoch 106/200\n",
      "68/68 [==============================] - 0s 114us/step - loss: 1.0407 - val_loss: 0.9691\n",
      "Epoch 107/200\n",
      "68/68 [==============================] - 0s 208us/step - loss: 1.0406 - val_loss: 0.9688\n",
      "Epoch 108/200\n",
      "68/68 [==============================] - 0s 165us/step - loss: 1.0404 - val_loss: 0.9686\n",
      "Epoch 109/200\n",
      "68/68 [==============================] - 0s 158us/step - loss: 1.0403 - val_loss: 0.9710\n",
      "Epoch 110/200\n",
      "68/68 [==============================] - 0s 171us/step - loss: 1.0400 - val_loss: 0.9706\n",
      "Epoch 111/200\n",
      "68/68 [==============================] - 0s 167us/step - loss: 1.0397 - val_loss: 0.9702\n",
      "Epoch 112/200\n",
      "68/68 [==============================] - 0s 195us/step - loss: 1.0394 - val_loss: 0.9698\n",
      "Epoch 113/200\n",
      "68/68 [==============================] - 0s 150us/step - loss: 1.0392 - val_loss: 0.9693\n",
      "Epoch 114/200\n",
      "68/68 [==============================] - 0s 192us/step - loss: 1.0390 - val_loss: 0.9691\n",
      "Epoch 115/200\n",
      "68/68 [==============================] - 0s 173us/step - loss: 1.0388 - val_loss: 0.9688\n",
      "Epoch 116/200\n",
      "68/68 [==============================] - 0s 141us/step - loss: 1.0385 - val_loss: 0.9688\n",
      "Epoch 117/200\n",
      "68/68 [==============================] - 0s 158us/step - loss: 1.0384 - val_loss: 0.9683\n",
      "Epoch 118/200\n",
      "68/68 [==============================] - 0s 127us/step - loss: 1.0383 - val_loss: 0.9680\n",
      "Epoch 119/200\n",
      "68/68 [==============================] - 0s 166us/step - loss: 1.0381 - val_loss: 0.9678\n",
      "Epoch 120/200\n",
      "68/68 [==============================] - 0s 174us/step - loss: 1.0379 - val_loss: 0.9676\n",
      "Epoch 121/200\n",
      "68/68 [==============================] - 0s 160us/step - loss: 1.0376 - val_loss: 0.9674\n",
      "Epoch 122/200\n",
      "68/68 [==============================] - 0s 213us/step - loss: 1.0374 - val_loss: 0.9672\n",
      "Epoch 123/200\n",
      "68/68 [==============================] - 0s 177us/step - loss: 1.0372 - val_loss: 0.9668\n",
      "Epoch 124/200\n",
      "68/68 [==============================] - 0s 199us/step - loss: 1.0371 - val_loss: 0.9684\n",
      "Epoch 125/200\n",
      "68/68 [==============================] - 0s 156us/step - loss: 1.0369 - val_loss: 0.9679\n",
      "Epoch 126/200\n",
      "68/68 [==============================] - 0s 161us/step - loss: 1.0367 - val_loss: 0.9690\n",
      "Epoch 127/200\n",
      "68/68 [==============================] - 0s 257us/step - loss: 1.0368 - val_loss: 0.9688\n",
      "Epoch 128/200\n",
      "68/68 [==============================] - 0s 143us/step - loss: 1.0365 - val_loss: 0.9684\n",
      "Epoch 129/200\n",
      "68/68 [==============================] - 0s 190us/step - loss: 1.0363 - val_loss: 0.9680\n",
      "Epoch 130/200\n",
      "68/68 [==============================] - 0s 155us/step - loss: 1.0361 - val_loss: 0.9676\n",
      "Epoch 131/200\n",
      "68/68 [==============================] - 0s 151us/step - loss: 1.0357 - val_loss: 0.9670\n",
      "Epoch 132/200\n",
      "68/68 [==============================] - 0s 188us/step - loss: 1.0353 - val_loss: 0.9666\n",
      "Epoch 133/200\n",
      "68/68 [==============================] - 0s 164us/step - loss: 1.0351 - val_loss: 0.9664\n",
      "Epoch 134/200\n",
      "68/68 [==============================] - 0s 241us/step - loss: 1.0349 - val_loss: 0.9660\n",
      "Epoch 135/200\n",
      "68/68 [==============================] - 0s 133us/step - loss: 1.0346 - val_loss: 0.9657\n",
      "Epoch 136/200\n",
      "68/68 [==============================] - 0s 116us/step - loss: 1.0344 - val_loss: 0.9655\n",
      "Epoch 137/200\n",
      "68/68 [==============================] - 0s 190us/step - loss: 1.0344 - val_loss: 0.9651\n",
      "Epoch 138/200\n",
      "68/68 [==============================] - 0s 149us/step - loss: 1.0341 - val_loss: 0.9648\n",
      "Epoch 139/200\n",
      "68/68 [==============================] - 0s 158us/step - loss: 1.0338 - val_loss: 0.9646\n",
      "Epoch 140/200\n",
      "68/68 [==============================] - 0s 240us/step - loss: 1.0337 - val_loss: 0.9642\n",
      "Epoch 141/200\n",
      "68/68 [==============================] - 0s 185us/step - loss: 1.0335 - val_loss: 0.9641\n",
      "Epoch 142/200\n",
      "68/68 [==============================] - 0s 177us/step - loss: 1.0333 - val_loss: 0.9641\n",
      "Epoch 143/200\n",
      "68/68 [==============================] - 0s 183us/step - loss: 1.0332 - val_loss: 0.9638\n",
      "Epoch 144/200\n",
      "68/68 [==============================] - 0s 122us/step - loss: 1.0331 - val_loss: 0.9632\n",
      "Epoch 145/200\n",
      "68/68 [==============================] - 0s 199us/step - loss: 1.0327 - val_loss: 0.9630\n",
      "Epoch 146/200\n",
      "68/68 [==============================] - 0s 123us/step - loss: 1.0326 - val_loss: 0.9629\n",
      "Epoch 147/200\n",
      "68/68 [==============================] - 0s 196us/step - loss: 1.0324 - val_loss: 0.9627\n",
      "Epoch 148/200\n",
      "68/68 [==============================] - 0s 202us/step - loss: 1.0323 - val_loss: 0.9626\n",
      "Epoch 149/200\n",
      "68/68 [==============================] - 0s 153us/step - loss: 1.0321 - val_loss: 0.9625\n",
      "Epoch 150/200\n",
      "68/68 [==============================] - 0s 224us/step - loss: 1.0320 - val_loss: 0.9622\n",
      "Epoch 151/200\n",
      "68/68 [==============================] - 0s 182us/step - loss: 1.0318 - val_loss: 0.9620\n",
      "Epoch 152/200\n",
      "68/68 [==============================] - 0s 225us/step - loss: 1.0316 - val_loss: 0.9617\n",
      "Epoch 153/200\n",
      "68/68 [==============================] - 0s 121us/step - loss: 1.0314 - val_loss: 0.9615\n",
      "Epoch 154/200\n",
      "68/68 [==============================] - 0s 129us/step - loss: 1.0312 - val_loss: 0.9614\n",
      "Epoch 155/200\n",
      "68/68 [==============================] - 0s 183us/step - loss: 1.0311 - val_loss: 0.9611\n",
      "Epoch 156/200\n",
      "68/68 [==============================] - 0s 142us/step - loss: 1.0309 - val_loss: 0.9610\n",
      "Epoch 157/200\n",
      "68/68 [==============================] - 0s 153us/step - loss: 1.0308 - val_loss: 0.9607\n",
      "Epoch 158/200\n",
      "68/68 [==============================] - 0s 192us/step - loss: 1.0305 - val_loss: 0.9606\n",
      "Epoch 159/200\n",
      "68/68 [==============================] - 0s 177us/step - loss: 1.0304 - val_loss: 0.9603\n",
      "Epoch 160/200\n"
     ]
    },
    {
     "name": "stdout",
     "output_type": "stream",
     "text": [
      "68/68 [==============================] - 0s 136us/step - loss: 1.0302 - val_loss: 0.9602\n",
      "Epoch 161/200\n",
      "68/68 [==============================] - 0s 148us/step - loss: 1.0300 - val_loss: 0.9598\n",
      "Epoch 162/200\n",
      "68/68 [==============================] - 0s 221us/step - loss: 1.0298 - val_loss: 0.9595\n",
      "Epoch 163/200\n",
      "68/68 [==============================] - 0s 124us/step - loss: 1.0296 - val_loss: 0.9593\n",
      "Epoch 164/200\n",
      "68/68 [==============================] - 0s 108us/step - loss: 1.0295 - val_loss: 0.9593\n",
      "Epoch 165/200\n",
      "68/68 [==============================] - 0s 196us/step - loss: 1.0293 - val_loss: 0.9589\n",
      "Epoch 166/200\n",
      "68/68 [==============================] - 0s 112us/step - loss: 1.0291 - val_loss: 0.9588\n",
      "Epoch 167/200\n",
      "68/68 [==============================] - 0s 134us/step - loss: 1.0289 - val_loss: 0.9586\n",
      "Epoch 168/200\n",
      "68/68 [==============================] - 0s 142us/step - loss: 1.0287 - val_loss: 0.9584\n",
      "Epoch 169/200\n",
      "68/68 [==============================] - 0s 194us/step - loss: 1.0284 - val_loss: 0.9583\n",
      "Epoch 170/200\n",
      "68/68 [==============================] - 0s 127us/step - loss: 1.0283 - val_loss: 0.9583\n",
      "Epoch 171/200\n",
      "68/68 [==============================] - 0s 152us/step - loss: 1.0282 - val_loss: 0.9580\n",
      "Epoch 172/200\n",
      "68/68 [==============================] - 0s 202us/step - loss: 1.0279 - val_loss: 0.9579\n",
      "Epoch 173/200\n",
      "68/68 [==============================] - 0s 157us/step - loss: 1.0277 - val_loss: 0.9578\n",
      "Epoch 174/200\n",
      "68/68 [==============================] - 0s 183us/step - loss: 1.0275 - val_loss: 0.9577\n",
      "Epoch 175/200\n",
      "68/68 [==============================] - 0s 179us/step - loss: 1.0273 - val_loss: 0.9574\n",
      "Epoch 176/200\n",
      "68/68 [==============================] - 0s 204us/step - loss: 1.0272 - val_loss: 0.9573\n",
      "Epoch 177/200\n",
      "68/68 [==============================] - 0s 168us/step - loss: 1.0270 - val_loss: 0.9569\n",
      "Epoch 178/200\n",
      "68/68 [==============================] - 0s 149us/step - loss: 1.0268 - val_loss: 0.9569\n",
      "Epoch 179/200\n",
      "68/68 [==============================] - 0s 158us/step - loss: 1.0266 - val_loss: 0.9568\n",
      "Epoch 180/200\n",
      "68/68 [==============================] - 0s 190us/step - loss: 1.0265 - val_loss: 0.9565\n",
      "Epoch 181/200\n",
      "68/68 [==============================] - 0s 188us/step - loss: 1.0262 - val_loss: 0.9563\n",
      "Epoch 182/200\n",
      "68/68 [==============================] - 0s 188us/step - loss: 1.0262 - val_loss: 0.9563\n",
      "Epoch 183/200\n",
      "68/68 [==============================] - 0s 151us/step - loss: 1.0259 - val_loss: 0.9561\n",
      "Epoch 184/200\n",
      "68/68 [==============================] - 0s 258us/step - loss: 1.0257 - val_loss: 0.9560\n",
      "Epoch 185/200\n",
      "68/68 [==============================] - 0s 155us/step - loss: 1.0255 - val_loss: 0.9558\n",
      "Epoch 186/200\n",
      "68/68 [==============================] - 0s 107us/step - loss: 1.0253 - val_loss: 0.9556\n",
      "Epoch 187/200\n",
      "68/68 [==============================] - 0s 231us/step - loss: 1.0251 - val_loss: 0.9554\n",
      "Epoch 188/200\n",
      "68/68 [==============================] - 0s 115us/step - loss: 1.0249 - val_loss: 0.9553\n",
      "Epoch 189/200\n",
      "68/68 [==============================] - 0s 160us/step - loss: 1.0247 - val_loss: 0.9552\n",
      "Epoch 190/200\n",
      "68/68 [==============================] - 0s 200us/step - loss: 1.0244 - val_loss: 0.9550\n",
      "Epoch 191/200\n",
      "68/68 [==============================] - 0s 140us/step - loss: 1.0244 - val_loss: 0.9565\n",
      "Epoch 192/200\n",
      "68/68 [==============================] - 0s 110us/step - loss: 1.0241 - val_loss: 0.9562\n",
      "Epoch 193/200\n",
      "68/68 [==============================] - 0s 181us/step - loss: 1.0237 - val_loss: 0.9561\n",
      "Epoch 194/200\n",
      "68/68 [==============================] - 0s 151us/step - loss: 1.0235 - val_loss: 0.9558\n",
      "Epoch 195/200\n",
      "68/68 [==============================] - 0s 102us/step - loss: 1.0233 - val_loss: 0.9555\n",
      "Epoch 196/200\n",
      "68/68 [==============================] - 0s 199us/step - loss: 1.0230 - val_loss: 0.9551\n",
      "Epoch 197/200\n",
      "68/68 [==============================] - 0s 144us/step - loss: 1.0228 - val_loss: 0.9549\n",
      "Epoch 198/200\n",
      "68/68 [==============================] - 0s 201us/step - loss: 1.0226 - val_loss: 0.9547\n",
      "Epoch 199/200\n",
      "68/68 [==============================] - 0s 213us/step - loss: 1.0224 - val_loss: 0.9545\n",
      "Epoch 200/200\n",
      "68/68 [==============================] - 0s 162us/step - loss: 1.0222 - val_loss: 0.9544\n"
     ]
    }
   ],
   "source": [
    "model.fit(train_x, train_y, test_x, test_y)"
   ]
  },
  {
   "cell_type": "code",
   "execution_count": 176,
   "metadata": {},
   "outputs": [],
   "source": [
    "model.save()"
   ]
  },
  {
   "cell_type": "code",
   "execution_count": null,
   "metadata": {},
   "outputs": [],
   "source": []
  },
  {
   "cell_type": "code",
   "execution_count": 177,
   "metadata": {},
   "outputs": [
    {
     "name": "stderr",
     "output_type": "stream",
     "text": [
      "/usr/local/lib/python3.6/dist-packages/keras/engine/saving.py:341: UserWarning: No training configuration found in save file: the model was *not* compiled. Compile it manually.\n",
      "  warnings.warn('No training configuration found in save file: '\n"
     ]
    }
   ],
   "source": [
    "from keras.models import load_model\n",
    "import numpy as np\n",
    "\n",
    "encoder = load_model('./weights/encoder_weights.h5')\n",
    "decoder = load_model('./weights/decoder_weights.h5')"
   ]
  },
  {
   "cell_type": "code",
   "execution_count": 178,
   "metadata": {},
   "outputs": [],
   "source": [
    "inputs = np.array([[ 1.16622237, -0.22011332,  0.16416866,  0.38212292,  0.        ,\n",
    "         0.        ,  0.        ,  0.        ,  0.        ,  0.        ,\n",
    "         0.        ,  0.        , -0.16933343,  0.        , -0.70710678,\n",
    "        -0.42640143,  0.19216561,  0.        ]])\n"
   ]
  },
  {
   "cell_type": "code",
   "execution_count": 179,
   "metadata": {},
   "outputs": [],
   "source": [
    "x = encoder.predict(inputs)"
   ]
  },
  {
   "cell_type": "code",
   "execution_count": 180,
   "metadata": {},
   "outputs": [],
   "source": [
    "y = decoder.predict(x)"
   ]
  },
  {
   "cell_type": "code",
   "execution_count": 181,
   "metadata": {},
   "outputs": [
    {
     "name": "stdout",
     "output_type": "stream",
     "text": [
      "Input: [[ 1.16622237 -0.22011332  0.16416866  0.38212292  0.          0.\n",
      "   0.          0.          0.          0.          0.          0.\n",
      "  -0.16933343  0.         -0.70710678 -0.42640143  0.19216561  0.        ]]\n"
     ]
    }
   ],
   "source": [
    "print('Input: {}'.format(inputs))\n"
   ]
  },
  {
   "cell_type": "code",
   "execution_count": 182,
   "metadata": {},
   "outputs": [
    {
     "name": "stdout",
     "output_type": "stream",
     "text": [
      "Encoded: [[0.46204504 0.         0.6572818  0.15383524]]\n"
     ]
    }
   ],
   "source": [
    "print('Encoded: {}'.format(x))"
   ]
  },
  {
   "cell_type": "code",
   "execution_count": 183,
   "metadata": {},
   "outputs": [
    {
     "name": "stdout",
     "output_type": "stream",
     "text": [
      "Decoded: [[0.         0.07594256 0.         0.         0.         0.\n",
      "  0.02245156 0.12537555 0.10887341 0.01017563 0.1911826  0.\n",
      "  0.         0.         0.13163379 0.03721754 0.         0.        ]]\n"
     ]
    }
   ],
   "source": [
    "print('Decoded: {}'.format(y))"
   ]
  },
  {
   "cell_type": "code",
   "execution_count": null,
   "metadata": {},
   "outputs": [],
   "source": []
  },
  {
   "cell_type": "code",
   "execution_count": 184,
   "metadata": {},
   "outputs": [
    {
     "data": {
      "text/plain": [
       "(85, 18)"
      ]
     },
     "execution_count": 184,
     "metadata": {},
     "output_type": "execute_result"
    }
   ],
   "source": [
    "X_train.shape"
   ]
  },
  {
   "cell_type": "code",
   "execution_count": 185,
   "metadata": {},
   "outputs": [
    {
     "data": {
      "text/plain": [
       "array([[ 1.54980414, -0.92941979, -0.32863565, ..., -1.28641867,\n",
       "        -0.91065568,  0.13063183],\n",
       "       [ 0.67449947, -0.92941979, -0.33279692, ...,  1.61656151,\n",
       "         0.31800675, -0.29643376],\n",
       "       [-0.49257341, -1.85883957, -0.33279692, ..., -1.28641867,\n",
       "        -0.91065568,  0.13063183],\n",
       "       ...,\n",
       "       [ 0.23684714,  0.92941979, -0.21836201, ...,  0.64890145,\n",
       "         0.31800675, -0.29643376],\n",
       "       [ 0.23684714,  0.92941979, -0.18715249, ...,  0.64890145,\n",
       "         2.77533161,  0.55769741],\n",
       "       [-0.3466893 ,  0.92941979, -0.18715249, ...,  0.64890145,\n",
       "         1.54666918,  0.55769741]])"
      ]
     },
     "execution_count": 185,
     "metadata": {},
     "output_type": "execute_result"
    }
   ],
   "source": [
    "X_train.to_numpy()"
   ]
  },
  {
   "cell_type": "code",
   "execution_count": 186,
   "metadata": {},
   "outputs": [],
   "source": [
    "x_train = X_train[:60]\n",
    "y_train = tttrain_y[:60]"
   ]
  },
  {
   "cell_type": "code",
   "execution_count": 187,
   "metadata": {},
   "outputs": [
    {
     "data": {
      "text/plain": [
       "((60, 18), (60,))"
      ]
     },
     "execution_count": 187,
     "metadata": {},
     "output_type": "execute_result"
    }
   ],
   "source": [
    "x_train.shape , y_train.shape"
   ]
  },
  {
   "cell_type": "code",
   "execution_count": 188,
   "metadata": {},
   "outputs": [],
   "source": [
    "x_test = X_train[60:]\n",
    "y_test = tttrain_y[60:]"
   ]
  },
  {
   "cell_type": "code",
   "execution_count": 189,
   "metadata": {},
   "outputs": [
    {
     "data": {
      "text/plain": [
       "((25, 18), (25,))"
      ]
     },
     "execution_count": 189,
     "metadata": {},
     "output_type": "execute_result"
    }
   ],
   "source": [
    "x_test.shape ,y_test.shape"
   ]
  },
  {
   "cell_type": "code",
   "execution_count": null,
   "metadata": {},
   "outputs": [],
   "source": []
  },
  {
   "cell_type": "code",
   "execution_count": 190,
   "metadata": {},
   "outputs": [],
   "source": [
    "#All classifier\n",
    "from sklearn.svm import SVC\n",
    "from sklearn.linear_model import LogisticRegression\n",
    "from sklearn.tree import DecisionTreeClassifier\n",
    "from sklearn.ensemble import RandomForestClassifier\n"
   ]
  },
  {
   "cell_type": "code",
   "execution_count": 191,
   "metadata": {},
   "outputs": [
    {
     "name": "stdout",
     "output_type": "stream",
     "text": [
      "Train ACC : 1.0\n",
      "Test ACC : 1.0\n"
     ]
    }
   ],
   "source": [
    "# Logistic Regression\n",
    "model = LogisticRegression()\n",
    "model.fit(x_train, y_train)\n",
    "\n",
    "print(\"Train ACC : {}\\nTest ACC : {}\".format(model.score(x_train, y_train), model.score(x_test, y_test)))"
   ]
  },
  {
   "cell_type": "code",
   "execution_count": 192,
   "metadata": {},
   "outputs": [
    {
     "name": "stdout",
     "output_type": "stream",
     "text": [
      "Train ACC : 1.0\n",
      "Test ACC : 1.0\n"
     ]
    }
   ],
   "source": [
    "#decision Tree Classifier\n",
    "model = DecisionTreeClassifier(max_depth=3)\n",
    "model.fit(x_train, y_train)\n",
    "\n",
    "print(\"Train ACC : {}\\nTest ACC : {}\".format(model.score(x_train, y_train), model.score(x_test, y_test)))"
   ]
  },
  {
   "cell_type": "code",
   "execution_count": 193,
   "metadata": {},
   "outputs": [
    {
     "name": "stdout",
     "output_type": "stream",
     "text": [
      "Train ACC : 1.0\n",
      "Test ACC : 1.0\n"
     ]
    }
   ],
   "source": [
    "model = RandomForestClassifier()\n",
    "model.fit(x_train, y_train)\n",
    "\n",
    "print(\"Train ACC : {}\\nTest ACC : {}\".format(model.score(x_train, y_train), model.score(x_test, y_test)))"
   ]
  },
  {
   "cell_type": "code",
   "execution_count": 194,
   "metadata": {},
   "outputs": [
    {
     "name": "stdout",
     "output_type": "stream",
     "text": [
      "[LibSVM]Train ACC : 1.0\n",
      "Test ACC : 1.0\n"
     ]
    }
   ],
   "source": [
    "# SVC \n",
    "\n",
    "model = SVC(kernel='rbf', C=1E10, class_weight='balanced', verbose=1, gamma=0.05)\n",
    "model.fit(x_train, y_train)\n",
    "\n",
    "print(\"Train ACC : {}\\nTest ACC : {}\".format(model.score(x_train, y_train), model.score(x_test, y_test)))"
   ]
  },
  {
   "cell_type": "code",
   "execution_count": 195,
   "metadata": {},
   "outputs": [
    {
     "data": {
      "text/html": [
       "<div>\n",
       "<style scoped>\n",
       "    .dataframe tbody tr th:only-of-type {\n",
       "        vertical-align: middle;\n",
       "    }\n",
       "\n",
       "    .dataframe tbody tr th {\n",
       "        vertical-align: top;\n",
       "    }\n",
       "\n",
       "    .dataframe thead th {\n",
       "        text-align: right;\n",
       "    }\n",
       "</style>\n",
       "<table border=\"1\" class=\"dataframe\">\n",
       "  <thead>\n",
       "    <tr style=\"text-align: right;\">\n",
       "      <th></th>\n",
       "      <th>Date and time</th>\n",
       "      <th>Device ip</th>\n",
       "      <th>Transaction ammount</th>\n",
       "      <th>Typing speed</th>\n",
       "      <th>board</th>\n",
       "      <th>bootloader</th>\n",
       "      <th>brand</th>\n",
       "      <th>device</th>\n",
       "      <th>display</th>\n",
       "      <th>fingerprint</th>\n",
       "      <th>host</th>\n",
       "      <th>id</th>\n",
       "      <th>latitude</th>\n",
       "      <th>longitude</th>\n",
       "      <th>manufacturer</th>\n",
       "      <th>model</th>\n",
       "      <th>Device_velocity</th>\n",
       "      <th>inclined</th>\n",
       "    </tr>\n",
       "  </thead>\n",
       "  <tbody>\n",
       "    <tr>\n",
       "      <th>0</th>\n",
       "      <td>22</td>\n",
       "      <td>6</td>\n",
       "      <td>14.0</td>\n",
       "      <td>4.666667</td>\n",
       "      <td>2</td>\n",
       "      <td>0</td>\n",
       "      <td>1</td>\n",
       "      <td>1</td>\n",
       "      <td>1</td>\n",
       "      <td>1</td>\n",
       "      <td>2</td>\n",
       "      <td>0</td>\n",
       "      <td>32.000000</td>\n",
       "      <td>115.000000</td>\n",
       "      <td>1</td>\n",
       "      <td>0</td>\n",
       "      <td>-1</td>\n",
       "      <td>13</td>\n",
       "    </tr>\n",
       "    <tr>\n",
       "      <th>0</th>\n",
       "      <td>16</td>\n",
       "      <td>6</td>\n",
       "      <td>10.0</td>\n",
       "      <td>2.800000</td>\n",
       "      <td>2</td>\n",
       "      <td>0</td>\n",
       "      <td>1</td>\n",
       "      <td>1</td>\n",
       "      <td>1</td>\n",
       "      <td>1</td>\n",
       "      <td>2</td>\n",
       "      <td>0</td>\n",
       "      <td>32.000000</td>\n",
       "      <td>115.000000</td>\n",
       "      <td>2</td>\n",
       "      <td>3</td>\n",
       "      <td>0</td>\n",
       "      <td>12</td>\n",
       "    </tr>\n",
       "    <tr>\n",
       "      <th>0</th>\n",
       "      <td>8</td>\n",
       "      <td>1</td>\n",
       "      <td>10.0</td>\n",
       "      <td>2.800000</td>\n",
       "      <td>2</td>\n",
       "      <td>0</td>\n",
       "      <td>1</td>\n",
       "      <td>1</td>\n",
       "      <td>1</td>\n",
       "      <td>1</td>\n",
       "      <td>2</td>\n",
       "      <td>0</td>\n",
       "      <td>32.000000</td>\n",
       "      <td>115.000000</td>\n",
       "      <td>1</td>\n",
       "      <td>0</td>\n",
       "      <td>-1</td>\n",
       "      <td>13</td>\n",
       "    </tr>\n",
       "    <tr>\n",
       "      <th>0</th>\n",
       "      <td>1</td>\n",
       "      <td>1</td>\n",
       "      <td>10.0</td>\n",
       "      <td>4.666667</td>\n",
       "      <td>2</td>\n",
       "      <td>0</td>\n",
       "      <td>1</td>\n",
       "      <td>1</td>\n",
       "      <td>1</td>\n",
       "      <td>1</td>\n",
       "      <td>2</td>\n",
       "      <td>0</td>\n",
       "      <td>32.000000</td>\n",
       "      <td>115.000000</td>\n",
       "      <td>2</td>\n",
       "      <td>3</td>\n",
       "      <td>0</td>\n",
       "      <td>10</td>\n",
       "    </tr>\n",
       "    <tr>\n",
       "      <th>0</th>\n",
       "      <td>11</td>\n",
       "      <td>1</td>\n",
       "      <td>7.0</td>\n",
       "      <td>3.111111</td>\n",
       "      <td>2</td>\n",
       "      <td>0</td>\n",
       "      <td>1</td>\n",
       "      <td>1</td>\n",
       "      <td>1</td>\n",
       "      <td>1</td>\n",
       "      <td>2</td>\n",
       "      <td>0</td>\n",
       "      <td>32.000000</td>\n",
       "      <td>115.000000</td>\n",
       "      <td>1</td>\n",
       "      <td>0</td>\n",
       "      <td>-1</td>\n",
       "      <td>15</td>\n",
       "    </tr>\n",
       "    <tr>\n",
       "      <th>...</th>\n",
       "      <td>...</td>\n",
       "      <td>...</td>\n",
       "      <td>...</td>\n",
       "      <td>...</td>\n",
       "      <td>...</td>\n",
       "      <td>...</td>\n",
       "      <td>...</td>\n",
       "      <td>...</td>\n",
       "      <td>...</td>\n",
       "      <td>...</td>\n",
       "      <td>...</td>\n",
       "      <td>...</td>\n",
       "      <td>...</td>\n",
       "      <td>...</td>\n",
       "      <td>...</td>\n",
       "      <td>...</td>\n",
       "      <td>...</td>\n",
       "      <td>...</td>\n",
       "    </tr>\n",
       "    <tr>\n",
       "      <th>0</th>\n",
       "      <td>12</td>\n",
       "      <td>11</td>\n",
       "      <td>120.0</td>\n",
       "      <td>2.363636</td>\n",
       "      <td>1</td>\n",
       "      <td>1</td>\n",
       "      <td>2</td>\n",
       "      <td>2</td>\n",
       "      <td>2</td>\n",
       "      <td>2</td>\n",
       "      <td>0</td>\n",
       "      <td>2</td>\n",
       "      <td>18.518283</td>\n",
       "      <td>73.000000</td>\n",
       "      <td>2</td>\n",
       "      <td>2</td>\n",
       "      <td>0</td>\n",
       "      <td>14</td>\n",
       "    </tr>\n",
       "    <tr>\n",
       "      <th>0</th>\n",
       "      <td>0</td>\n",
       "      <td>12</td>\n",
       "      <td>110.0</td>\n",
       "      <td>3.714286</td>\n",
       "      <td>1</td>\n",
       "      <td>1</td>\n",
       "      <td>2</td>\n",
       "      <td>2</td>\n",
       "      <td>2</td>\n",
       "      <td>2</td>\n",
       "      <td>0</td>\n",
       "      <td>2</td>\n",
       "      <td>18.518283</td>\n",
       "      <td>73.000000</td>\n",
       "      <td>2</td>\n",
       "      <td>2</td>\n",
       "      <td>-1</td>\n",
       "      <td>14</td>\n",
       "    </tr>\n",
       "    <tr>\n",
       "      <th>0</th>\n",
       "      <td>13</td>\n",
       "      <td>16</td>\n",
       "      <td>120.0</td>\n",
       "      <td>2.363636</td>\n",
       "      <td>1</td>\n",
       "      <td>1</td>\n",
       "      <td>2</td>\n",
       "      <td>2</td>\n",
       "      <td>2</td>\n",
       "      <td>2</td>\n",
       "      <td>0</td>\n",
       "      <td>2</td>\n",
       "      <td>18.522530</td>\n",
       "      <td>73.908445</td>\n",
       "      <td>2</td>\n",
       "      <td>2</td>\n",
       "      <td>0</td>\n",
       "      <td>12</td>\n",
       "    </tr>\n",
       "    <tr>\n",
       "      <th>0</th>\n",
       "      <td>13</td>\n",
       "      <td>16</td>\n",
       "      <td>150.0</td>\n",
       "      <td>2.363636</td>\n",
       "      <td>1</td>\n",
       "      <td>1</td>\n",
       "      <td>2</td>\n",
       "      <td>2</td>\n",
       "      <td>2</td>\n",
       "      <td>2</td>\n",
       "      <td>0</td>\n",
       "      <td>2</td>\n",
       "      <td>18.523377</td>\n",
       "      <td>73.908609</td>\n",
       "      <td>2</td>\n",
       "      <td>2</td>\n",
       "      <td>2</td>\n",
       "      <td>14</td>\n",
       "    </tr>\n",
       "    <tr>\n",
       "      <th>0</th>\n",
       "      <td>9</td>\n",
       "      <td>16</td>\n",
       "      <td>150.0</td>\n",
       "      <td>2.166667</td>\n",
       "      <td>1</td>\n",
       "      <td>1</td>\n",
       "      <td>2</td>\n",
       "      <td>2</td>\n",
       "      <td>2</td>\n",
       "      <td>2</td>\n",
       "      <td>0</td>\n",
       "      <td>2</td>\n",
       "      <td>18.522472</td>\n",
       "      <td>73.908040</td>\n",
       "      <td>2</td>\n",
       "      <td>2</td>\n",
       "      <td>1</td>\n",
       "      <td>14</td>\n",
       "    </tr>\n",
       "  </tbody>\n",
       "</table>\n",
       "<p>85 rows × 18 columns</p>\n",
       "</div>"
      ],
      "text/plain": [
       "    Date and time  Device ip  Transaction ammount  Typing speed  board  \\\n",
       "0              22          6                 14.0      4.666667      2   \n",
       "0              16          6                 10.0      2.800000      2   \n",
       "0               8          1                 10.0      2.800000      2   \n",
       "0               1          1                 10.0      4.666667      2   \n",
       "0              11          1                  7.0      3.111111      2   \n",
       "..            ...        ...                  ...           ...    ...   \n",
       "0              12         11                120.0      2.363636      1   \n",
       "0               0         12                110.0      3.714286      1   \n",
       "0              13         16                120.0      2.363636      1   \n",
       "0              13         16                150.0      2.363636      1   \n",
       "0               9         16                150.0      2.166667      1   \n",
       "\n",
       "    bootloader  brand  device  display  fingerprint  host  id   latitude  \\\n",
       "0            0      1       1        1            1     2   0  32.000000   \n",
       "0            0      1       1        1            1     2   0  32.000000   \n",
       "0            0      1       1        1            1     2   0  32.000000   \n",
       "0            0      1       1        1            1     2   0  32.000000   \n",
       "0            0      1       1        1            1     2   0  32.000000   \n",
       "..         ...    ...     ...      ...          ...   ...  ..        ...   \n",
       "0            1      2       2        2            2     0   2  18.518283   \n",
       "0            1      2       2        2            2     0   2  18.518283   \n",
       "0            1      2       2        2            2     0   2  18.522530   \n",
       "0            1      2       2        2            2     0   2  18.523377   \n",
       "0            1      2       2        2            2     0   2  18.522472   \n",
       "\n",
       "     longitude  manufacturer  model  Device_velocity  inclined  \n",
       "0   115.000000             1      0               -1        13  \n",
       "0   115.000000             2      3                0        12  \n",
       "0   115.000000             1      0               -1        13  \n",
       "0   115.000000             2      3                0        10  \n",
       "0   115.000000             1      0               -1        15  \n",
       "..         ...           ...    ...              ...       ...  \n",
       "0    73.000000             2      2                0        14  \n",
       "0    73.000000             2      2               -1        14  \n",
       "0    73.908445             2      2                0        12  \n",
       "0    73.908609             2      2                2        14  \n",
       "0    73.908040             2      2                1        14  \n",
       "\n",
       "[85 rows x 18 columns]"
      ]
     },
     "execution_count": 195,
     "metadata": {},
     "output_type": "execute_result"
    }
   ],
   "source": [
    "new_df"
   ]
  },
  {
   "cell_type": "code",
   "execution_count": 226,
   "metadata": {},
   "outputs": [
    {
     "data": {
      "text/html": [
       "<div>\n",
       "<style scoped>\n",
       "    .dataframe tbody tr th:only-of-type {\n",
       "        vertical-align: middle;\n",
       "    }\n",
       "\n",
       "    .dataframe tbody tr th {\n",
       "        vertical-align: top;\n",
       "    }\n",
       "\n",
       "    .dataframe thead th {\n",
       "        text-align: right;\n",
       "    }\n",
       "</style>\n",
       "<table border=\"1\" class=\"dataframe\">\n",
       "  <thead>\n",
       "    <tr style=\"text-align: right;\">\n",
       "      <th></th>\n",
       "      <th>0</th>\n",
       "      <th>1</th>\n",
       "      <th>2</th>\n",
       "      <th>3</th>\n",
       "      <th>4</th>\n",
       "      <th>5</th>\n",
       "      <th>6</th>\n",
       "      <th>7</th>\n",
       "      <th>8</th>\n",
       "      <th>9</th>\n",
       "      <th>10</th>\n",
       "      <th>11</th>\n",
       "      <th>12</th>\n",
       "      <th>13</th>\n",
       "      <th>14</th>\n",
       "      <th>15</th>\n",
       "      <th>16</th>\n",
       "      <th>17</th>\n",
       "    </tr>\n",
       "  </thead>\n",
       "  <tbody>\n",
       "    <tr>\n",
       "      <th>0</th>\n",
       "      <td>1.549804</td>\n",
       "      <td>-0.929420</td>\n",
       "      <td>-0.328636</td>\n",
       "      <td>0.531030</td>\n",
       "      <td>1.029857</td>\n",
       "      <td>-1.029857</td>\n",
       "      <td>-0.109109</td>\n",
       "      <td>-0.109109</td>\n",
       "      <td>-0.109109</td>\n",
       "      <td>-0.109109</td>\n",
       "      <td>1.050174</td>\n",
       "      <td>-1.050174</td>\n",
       "      <td>0.700877</td>\n",
       "      <td>1.166561</td>\n",
       "      <td>-0.273558</td>\n",
       "      <td>-1.286419</td>\n",
       "      <td>-0.910656</td>\n",
       "      <td>0.130632</td>\n",
       "    </tr>\n",
       "    <tr>\n",
       "      <th>1</th>\n",
       "      <td>0.674499</td>\n",
       "      <td>-0.929420</td>\n",
       "      <td>-0.332797</td>\n",
       "      <td>-0.281260</td>\n",
       "      <td>1.029857</td>\n",
       "      <td>-1.029857</td>\n",
       "      <td>-0.109109</td>\n",
       "      <td>-0.109109</td>\n",
       "      <td>-0.109109</td>\n",
       "      <td>-0.109109</td>\n",
       "      <td>1.050174</td>\n",
       "      <td>-1.050174</td>\n",
       "      <td>0.700877</td>\n",
       "      <td>1.166561</td>\n",
       "      <td>0.950255</td>\n",
       "      <td>1.616562</td>\n",
       "      <td>0.318007</td>\n",
       "      <td>-0.296434</td>\n",
       "    </tr>\n",
       "    <tr>\n",
       "      <th>2</th>\n",
       "      <td>-0.492573</td>\n",
       "      <td>-1.858840</td>\n",
       "      <td>-0.332797</td>\n",
       "      <td>-0.281260</td>\n",
       "      <td>1.029857</td>\n",
       "      <td>-1.029857</td>\n",
       "      <td>-0.109109</td>\n",
       "      <td>-0.109109</td>\n",
       "      <td>-0.109109</td>\n",
       "      <td>-0.109109</td>\n",
       "      <td>1.050174</td>\n",
       "      <td>-1.050174</td>\n",
       "      <td>0.700877</td>\n",
       "      <td>1.166561</td>\n",
       "      <td>-0.273558</td>\n",
       "      <td>-1.286419</td>\n",
       "      <td>-0.910656</td>\n",
       "      <td>0.130632</td>\n",
       "    </tr>\n",
       "    <tr>\n",
       "      <th>3</th>\n",
       "      <td>-1.513762</td>\n",
       "      <td>-1.858840</td>\n",
       "      <td>-0.332797</td>\n",
       "      <td>0.531030</td>\n",
       "      <td>1.029857</td>\n",
       "      <td>-1.029857</td>\n",
       "      <td>-0.109109</td>\n",
       "      <td>-0.109109</td>\n",
       "      <td>-0.109109</td>\n",
       "      <td>-0.109109</td>\n",
       "      <td>1.050174</td>\n",
       "      <td>-1.050174</td>\n",
       "      <td>0.700877</td>\n",
       "      <td>1.166561</td>\n",
       "      <td>0.950255</td>\n",
       "      <td>1.616562</td>\n",
       "      <td>0.318007</td>\n",
       "      <td>-1.150565</td>\n",
       "    </tr>\n",
       "    <tr>\n",
       "      <th>4</th>\n",
       "      <td>-0.054921</td>\n",
       "      <td>-1.858840</td>\n",
       "      <td>-0.335918</td>\n",
       "      <td>-0.145879</td>\n",
       "      <td>1.029857</td>\n",
       "      <td>-1.029857</td>\n",
       "      <td>-0.109109</td>\n",
       "      <td>-0.109109</td>\n",
       "      <td>-0.109109</td>\n",
       "      <td>-0.109109</td>\n",
       "      <td>1.050174</td>\n",
       "      <td>-1.050174</td>\n",
       "      <td>0.700877</td>\n",
       "      <td>1.166561</td>\n",
       "      <td>-0.273558</td>\n",
       "      <td>-1.286419</td>\n",
       "      <td>-0.910656</td>\n",
       "      <td>0.984763</td>\n",
       "    </tr>\n",
       "    <tr>\n",
       "      <th>...</th>\n",
       "      <td>...</td>\n",
       "      <td>...</td>\n",
       "      <td>...</td>\n",
       "      <td>...</td>\n",
       "      <td>...</td>\n",
       "      <td>...</td>\n",
       "      <td>...</td>\n",
       "      <td>...</td>\n",
       "      <td>...</td>\n",
       "      <td>...</td>\n",
       "      <td>...</td>\n",
       "      <td>...</td>\n",
       "      <td>...</td>\n",
       "      <td>...</td>\n",
       "      <td>...</td>\n",
       "      <td>...</td>\n",
       "      <td>...</td>\n",
       "      <td>...</td>\n",
       "    </tr>\n",
       "    <tr>\n",
       "      <th>80</th>\n",
       "      <td>0.090963</td>\n",
       "      <td>0.000000</td>\n",
       "      <td>-0.218362</td>\n",
       "      <td>-0.471147</td>\n",
       "      <td>-0.220684</td>\n",
       "      <td>0.220684</td>\n",
       "      <td>1.215785</td>\n",
       "      <td>1.215785</td>\n",
       "      <td>1.215785</td>\n",
       "      <td>1.215785</td>\n",
       "      <td>-1.268391</td>\n",
       "      <td>1.268391</td>\n",
       "      <td>-1.427256</td>\n",
       "      <td>-0.866057</td>\n",
       "      <td>0.950255</td>\n",
       "      <td>0.648901</td>\n",
       "      <td>0.318007</td>\n",
       "      <td>0.557697</td>\n",
       "    </tr>\n",
       "    <tr>\n",
       "      <th>81</th>\n",
       "      <td>-1.659646</td>\n",
       "      <td>0.185884</td>\n",
       "      <td>-0.228765</td>\n",
       "      <td>0.116596</td>\n",
       "      <td>-0.220684</td>\n",
       "      <td>0.220684</td>\n",
       "      <td>1.215785</td>\n",
       "      <td>1.215785</td>\n",
       "      <td>1.215785</td>\n",
       "      <td>1.215785</td>\n",
       "      <td>-1.268391</td>\n",
       "      <td>1.268391</td>\n",
       "      <td>-1.427256</td>\n",
       "      <td>-0.866057</td>\n",
       "      <td>0.950255</td>\n",
       "      <td>0.648901</td>\n",
       "      <td>-0.910656</td>\n",
       "      <td>0.557697</td>\n",
       "    </tr>\n",
       "    <tr>\n",
       "      <th>82</th>\n",
       "      <td>0.236847</td>\n",
       "      <td>0.929420</td>\n",
       "      <td>-0.218362</td>\n",
       "      <td>-0.471147</td>\n",
       "      <td>-0.220684</td>\n",
       "      <td>0.220684</td>\n",
       "      <td>1.215785</td>\n",
       "      <td>1.215785</td>\n",
       "      <td>1.215785</td>\n",
       "      <td>1.215785</td>\n",
       "      <td>-1.268391</td>\n",
       "      <td>1.268391</td>\n",
       "      <td>-1.426586</td>\n",
       "      <td>-0.822092</td>\n",
       "      <td>0.950255</td>\n",
       "      <td>0.648901</td>\n",
       "      <td>0.318007</td>\n",
       "      <td>-0.296434</td>\n",
       "    </tr>\n",
       "    <tr>\n",
       "      <th>83</th>\n",
       "      <td>0.236847</td>\n",
       "      <td>0.929420</td>\n",
       "      <td>-0.187152</td>\n",
       "      <td>-0.471147</td>\n",
       "      <td>-0.220684</td>\n",
       "      <td>0.220684</td>\n",
       "      <td>1.215785</td>\n",
       "      <td>1.215785</td>\n",
       "      <td>1.215785</td>\n",
       "      <td>1.215785</td>\n",
       "      <td>-1.268391</td>\n",
       "      <td>1.268391</td>\n",
       "      <td>-1.426452</td>\n",
       "      <td>-0.822084</td>\n",
       "      <td>0.950255</td>\n",
       "      <td>0.648901</td>\n",
       "      <td>2.775332</td>\n",
       "      <td>0.557697</td>\n",
       "    </tr>\n",
       "    <tr>\n",
       "      <th>84</th>\n",
       "      <td>-0.346689</td>\n",
       "      <td>0.929420</td>\n",
       "      <td>-0.187152</td>\n",
       "      <td>-0.556859</td>\n",
       "      <td>-0.220684</td>\n",
       "      <td>0.220684</td>\n",
       "      <td>1.215785</td>\n",
       "      <td>1.215785</td>\n",
       "      <td>1.215785</td>\n",
       "      <td>1.215785</td>\n",
       "      <td>-1.268391</td>\n",
       "      <td>1.268391</td>\n",
       "      <td>-1.426595</td>\n",
       "      <td>-0.822112</td>\n",
       "      <td>0.950255</td>\n",
       "      <td>0.648901</td>\n",
       "      <td>1.546669</td>\n",
       "      <td>0.557697</td>\n",
       "    </tr>\n",
       "  </tbody>\n",
       "</table>\n",
       "<p>85 rows × 18 columns</p>\n",
       "</div>"
      ],
      "text/plain": [
       "           0         1         2         3         4         5         6  \\\n",
       "0   1.549804 -0.929420 -0.328636  0.531030  1.029857 -1.029857 -0.109109   \n",
       "1   0.674499 -0.929420 -0.332797 -0.281260  1.029857 -1.029857 -0.109109   \n",
       "2  -0.492573 -1.858840 -0.332797 -0.281260  1.029857 -1.029857 -0.109109   \n",
       "3  -1.513762 -1.858840 -0.332797  0.531030  1.029857 -1.029857 -0.109109   \n",
       "4  -0.054921 -1.858840 -0.335918 -0.145879  1.029857 -1.029857 -0.109109   \n",
       "..       ...       ...       ...       ...       ...       ...       ...   \n",
       "80  0.090963  0.000000 -0.218362 -0.471147 -0.220684  0.220684  1.215785   \n",
       "81 -1.659646  0.185884 -0.228765  0.116596 -0.220684  0.220684  1.215785   \n",
       "82  0.236847  0.929420 -0.218362 -0.471147 -0.220684  0.220684  1.215785   \n",
       "83  0.236847  0.929420 -0.187152 -0.471147 -0.220684  0.220684  1.215785   \n",
       "84 -0.346689  0.929420 -0.187152 -0.556859 -0.220684  0.220684  1.215785   \n",
       "\n",
       "           7         8         9        10        11        12        13  \\\n",
       "0  -0.109109 -0.109109 -0.109109  1.050174 -1.050174  0.700877  1.166561   \n",
       "1  -0.109109 -0.109109 -0.109109  1.050174 -1.050174  0.700877  1.166561   \n",
       "2  -0.109109 -0.109109 -0.109109  1.050174 -1.050174  0.700877  1.166561   \n",
       "3  -0.109109 -0.109109 -0.109109  1.050174 -1.050174  0.700877  1.166561   \n",
       "4  -0.109109 -0.109109 -0.109109  1.050174 -1.050174  0.700877  1.166561   \n",
       "..       ...       ...       ...       ...       ...       ...       ...   \n",
       "80  1.215785  1.215785  1.215785 -1.268391  1.268391 -1.427256 -0.866057   \n",
       "81  1.215785  1.215785  1.215785 -1.268391  1.268391 -1.427256 -0.866057   \n",
       "82  1.215785  1.215785  1.215785 -1.268391  1.268391 -1.426586 -0.822092   \n",
       "83  1.215785  1.215785  1.215785 -1.268391  1.268391 -1.426452 -0.822084   \n",
       "84  1.215785  1.215785  1.215785 -1.268391  1.268391 -1.426595 -0.822112   \n",
       "\n",
       "          14        15        16        17  \n",
       "0  -0.273558 -1.286419 -0.910656  0.130632  \n",
       "1   0.950255  1.616562  0.318007 -0.296434  \n",
       "2  -0.273558 -1.286419 -0.910656  0.130632  \n",
       "3   0.950255  1.616562  0.318007 -1.150565  \n",
       "4  -0.273558 -1.286419 -0.910656  0.984763  \n",
       "..       ...       ...       ...       ...  \n",
       "80  0.950255  0.648901  0.318007  0.557697  \n",
       "81  0.950255  0.648901 -0.910656  0.557697  \n",
       "82  0.950255  0.648901  0.318007 -0.296434  \n",
       "83  0.950255  0.648901  2.775332  0.557697  \n",
       "84  0.950255  0.648901  1.546669  0.557697  \n",
       "\n",
       "[85 rows x 18 columns]"
      ]
     },
     "execution_count": 226,
     "metadata": {},
     "output_type": "execute_result"
    }
   ],
   "source": [
    "X_train"
   ]
  },
  {
   "cell_type": "code",
   "execution_count": 227,
   "metadata": {},
   "outputs": [
    {
     "data": {
      "text/plain": [
       "array([[ 1.54980414, -0.92941979, -0.32863565,  0.53103046,  1.0298573 ,\n",
       "        -1.0298573 , -0.10910895, -0.10910895, -0.10910895, -0.10910895,\n",
       "         1.0501736 , -1.0501736 , -9.41123631,  1.16656061, -0.27355833,\n",
       "        -1.28641867, -0.91065568,  0.13063183]])"
      ]
     },
     "execution_count": 227,
     "metadata": {},
     "output_type": "execute_result"
    }
   ],
   "source": [
    "1.549804,-0.929420,-0.328636,0.531030,1.029857,-1.029857,-0.109109,-0.109109,-0.109109,-0.109109,1.050174,-1.050174,0.700877,1.166561,-0.273558,-1.286419,-0.910656,0.130632\n",
    "\n",
    "# data = [[22,6,14.0,4.666667,2,0,1,1,1,1,2,0,32.000000,115.000000,1,0,-1,13]]\n",
    "data = [[22,6,14.00,4.666667,2,0,1,1,1,1,2,0,-32.060216,115,1,0,-1,13]]\n",
    "X_test = pd.DataFrame(data)\n",
    "\n",
    "# # Feature Scaling\n",
    "X_test = sc.transform(X_test)\n",
    "\n",
    "X_test"
   ]
  },
  {
   "cell_type": "code",
   "execution_count": 228,
   "metadata": {},
   "outputs": [
    {
     "data": {
      "text/html": [
       "<div>\n",
       "<style scoped>\n",
       "    .dataframe tbody tr th:only-of-type {\n",
       "        vertical-align: middle;\n",
       "    }\n",
       "\n",
       "    .dataframe tbody tr th {\n",
       "        vertical-align: top;\n",
       "    }\n",
       "\n",
       "    .dataframe thead th {\n",
       "        text-align: right;\n",
       "    }\n",
       "</style>\n",
       "<table border=\"1\" class=\"dataframe\">\n",
       "  <thead>\n",
       "    <tr style=\"text-align: right;\">\n",
       "      <th></th>\n",
       "      <th>0</th>\n",
       "      <th>1</th>\n",
       "      <th>2</th>\n",
       "      <th>3</th>\n",
       "      <th>4</th>\n",
       "      <th>5</th>\n",
       "      <th>6</th>\n",
       "      <th>7</th>\n",
       "      <th>8</th>\n",
       "      <th>9</th>\n",
       "      <th>10</th>\n",
       "      <th>11</th>\n",
       "      <th>12</th>\n",
       "      <th>13</th>\n",
       "      <th>14</th>\n",
       "      <th>15</th>\n",
       "      <th>16</th>\n",
       "      <th>17</th>\n",
       "    </tr>\n",
       "  </thead>\n",
       "  <tbody>\n",
       "    <tr>\n",
       "      <th>0</th>\n",
       "      <td>1.549804</td>\n",
       "      <td>-0.92942</td>\n",
       "      <td>-0.328636</td>\n",
       "      <td>0.53103</td>\n",
       "      <td>1.029857</td>\n",
       "      <td>-1.029857</td>\n",
       "      <td>-0.109109</td>\n",
       "      <td>-0.109109</td>\n",
       "      <td>-0.109109</td>\n",
       "      <td>-0.109109</td>\n",
       "      <td>1.050174</td>\n",
       "      <td>-1.050174</td>\n",
       "      <td>-9.411236</td>\n",
       "      <td>1.166561</td>\n",
       "      <td>-0.273558</td>\n",
       "      <td>-1.286419</td>\n",
       "      <td>-0.910656</td>\n",
       "      <td>0.130632</td>\n",
       "    </tr>\n",
       "  </tbody>\n",
       "</table>\n",
       "</div>"
      ],
      "text/plain": [
       "          0        1         2        3         4         5         6  \\\n",
       "0  1.549804 -0.92942 -0.328636  0.53103  1.029857 -1.029857 -0.109109   \n",
       "\n",
       "          7         8         9        10        11        12        13  \\\n",
       "0 -0.109109 -0.109109 -0.109109  1.050174 -1.050174 -9.411236  1.166561   \n",
       "\n",
       "         14        15        16        17  \n",
       "0 -0.273558 -1.286419 -0.910656  0.130632  "
      ]
     },
     "execution_count": 228,
     "metadata": {},
     "output_type": "execute_result"
    }
   ],
   "source": [
    "bharat_test = pd.DataFrame(X_test)\n",
    "bharat_test\n"
   ]
  },
  {
   "cell_type": "code",
   "execution_count": 229,
   "metadata": {},
   "outputs": [
    {
     "name": "stderr",
     "output_type": "stream",
     "text": [
      "/home/bhrt/.local/lib/python3.6/site-packages/ipykernel_launcher.py:1: FutureWarning: \n",
      ".ix is deprecated. Please use\n",
      ".loc for label based indexing or\n",
      ".iloc for positional indexing\n",
      "\n",
      "See the documentation here:\n",
      "http://pandas.pydata.org/pandas-docs/stable/user_guide/indexing.html#ix-indexer-is-deprecated\n",
      "  \"\"\"Entry point for launching an IPython kernel.\n"
     ]
    }
   ],
   "source": [
    "bharat_test_series = bharat_test.ix[:,:]"
   ]
  },
  {
   "cell_type": "code",
   "execution_count": 230,
   "metadata": {},
   "outputs": [
    {
     "data": {
      "text/html": [
       "<div>\n",
       "<style scoped>\n",
       "    .dataframe tbody tr th:only-of-type {\n",
       "        vertical-align: middle;\n",
       "    }\n",
       "\n",
       "    .dataframe tbody tr th {\n",
       "        vertical-align: top;\n",
       "    }\n",
       "\n",
       "    .dataframe thead th {\n",
       "        text-align: right;\n",
       "    }\n",
       "</style>\n",
       "<table border=\"1\" class=\"dataframe\">\n",
       "  <thead>\n",
       "    <tr style=\"text-align: right;\">\n",
       "      <th></th>\n",
       "      <th>0</th>\n",
       "      <th>1</th>\n",
       "      <th>2</th>\n",
       "      <th>3</th>\n",
       "      <th>4</th>\n",
       "      <th>5</th>\n",
       "      <th>6</th>\n",
       "      <th>7</th>\n",
       "      <th>8</th>\n",
       "      <th>9</th>\n",
       "      <th>10</th>\n",
       "      <th>11</th>\n",
       "      <th>12</th>\n",
       "      <th>13</th>\n",
       "      <th>14</th>\n",
       "      <th>15</th>\n",
       "      <th>16</th>\n",
       "      <th>17</th>\n",
       "    </tr>\n",
       "  </thead>\n",
       "  <tbody>\n",
       "    <tr>\n",
       "      <th>0</th>\n",
       "      <td>1.549804</td>\n",
       "      <td>-0.92942</td>\n",
       "      <td>-0.328636</td>\n",
       "      <td>0.53103</td>\n",
       "      <td>1.029857</td>\n",
       "      <td>-1.029857</td>\n",
       "      <td>-0.109109</td>\n",
       "      <td>-0.109109</td>\n",
       "      <td>-0.109109</td>\n",
       "      <td>-0.109109</td>\n",
       "      <td>1.050174</td>\n",
       "      <td>-1.050174</td>\n",
       "      <td>-9.411236</td>\n",
       "      <td>1.166561</td>\n",
       "      <td>-0.273558</td>\n",
       "      <td>-1.286419</td>\n",
       "      <td>-0.910656</td>\n",
       "      <td>0.130632</td>\n",
       "    </tr>\n",
       "  </tbody>\n",
       "</table>\n",
       "</div>"
      ],
      "text/plain": [
       "          0        1         2        3         4         5         6  \\\n",
       "0  1.549804 -0.92942 -0.328636  0.53103  1.029857 -1.029857 -0.109109   \n",
       "\n",
       "          7         8         9        10        11        12        13  \\\n",
       "0 -0.109109 -0.109109 -0.109109  1.050174 -1.050174 -9.411236  1.166561   \n",
       "\n",
       "         14        15        16        17  \n",
       "0 -0.273558 -1.286419 -0.910656  0.130632  "
      ]
     },
     "execution_count": 230,
     "metadata": {},
     "output_type": "execute_result"
    }
   ],
   "source": [
    "bharat_test_series"
   ]
  },
  {
   "cell_type": "code",
   "execution_count": null,
   "metadata": {},
   "outputs": [],
   "source": []
  },
  {
   "cell_type": "code",
   "execution_count": 231,
   "metadata": {},
   "outputs": [],
   "source": [
    "# y_pred_train = model.predict([[1.549804,-0.929420,-0.328636,0.531030,1.029857,-1.029857,-0.109109,-0.109109,-0.109109,-0.109109,1.050174,-1.050174,0.700877,1.166561,-0.273558,-1.286419,-0.910656,0.130632]])"
   ]
  },
  {
   "cell_type": "code",
   "execution_count": 232,
   "metadata": {},
   "outputs": [],
   "source": [
    "y_pred_train = model.predict(bharat_test_series)"
   ]
  },
  {
   "cell_type": "code",
   "execution_count": 233,
   "metadata": {},
   "outputs": [
    {
     "data": {
      "text/plain": [
       "array([0], dtype=int8)"
      ]
     },
     "execution_count": 233,
     "metadata": {},
     "output_type": "execute_result"
    }
   ],
   "source": [
    "y_pred_train"
   ]
  },
  {
   "cell_type": "code",
   "execution_count": 234,
   "metadata": {},
   "outputs": [
    {
     "name": "stdout",
     "output_type": "stream",
     "text": [
      "It's a Anomoly\n"
     ]
    }
   ],
   "source": [
    "if(y_pred_train == 2):\n",
    "    print(\"It's a regular observation\")\n",
    "else:\n",
    "    print(\"It's a Anomoly\")\n"
   ]
  },
  {
   "cell_type": "markdown",
   "metadata": {},
   "source": [
    "# Risk Calculation using the Hard Code"
   ]
  },
  {
   "cell_type": "code",
   "execution_count": null,
   "metadata": {},
   "outputs": [],
   "source": [
    "an=X_train\n",
    "an.shape"
   ]
  },
  {
   "cell_type": "code",
   "execution_count": null,
   "metadata": {},
   "outputs": [],
   "source": [
    "columns = an.columns"
   ]
  },
  {
   "cell_type": "code",
   "execution_count": null,
   "metadata": {},
   "outputs": [],
   "source": [
    "columns"
   ]
  },
  {
   "cell_type": "code",
   "execution_count": null,
   "metadata": {},
   "outputs": [],
   "source": [
    "X_train[0][1]"
   ]
  },
  {
   "cell_type": "code",
   "execution_count": null,
   "metadata": {},
   "outputs": [],
   "source": [
    "col = columns[0]"
   ]
  },
  {
   "cell_type": "code",
   "execution_count": null,
   "metadata": {},
   "outputs": [],
   "source": [
    "an[0][1]"
   ]
  },
  {
   "cell_type": "code",
   "execution_count": null,
   "metadata": {},
   "outputs": [],
   "source": [
    "X_train[0][1]"
   ]
  },
  {
   "cell_type": "code",
   "execution_count": null,
   "metadata": {},
   "outputs": [],
   "source": [
    "an[0].unique()"
   ]
  },
  {
   "cell_type": "code",
   "execution_count": null,
   "metadata": {},
   "outputs": [],
   "source": [
    "\n",
    "count=0\n",
    "nott=0\n",
    "\n",
    "for i in range(0,18):\n",
    "    col = columns[i]\n",
    "    if X_train[0][i] in an[col]:\n",
    "#         print(data[0][i])\n",
    "        count=count+1\n",
    "        \n",
    "    else:    \n",
    "        nott=nott+1\n",
    "#         print(data[0][i])\n",
    "        print(\"here data is  \"+str(X_train[0][i]) + \"   and the dataframe is   \"+str(an.iloc[i].unique())  )\n",
    "        print(\"\\n\\n\\n\")"
   ]
  },
  {
   "cell_type": "code",
   "execution_count": null,
   "metadata": {},
   "outputs": [],
   "source": [
    "count\n"
   ]
  },
  {
   "cell_type": "code",
   "execution_count": null,
   "metadata": {},
   "outputs": [],
   "source": [
    "nott"
   ]
  },
  {
   "cell_type": "code",
   "execution_count": null,
   "metadata": {},
   "outputs": [],
   "source": []
  },
  {
   "cell_type": "code",
   "execution_count": null,
   "metadata": {},
   "outputs": [],
   "source": []
  }
 ],
 "metadata": {
  "kernelspec": {
   "display_name": "Python 3",
   "language": "python",
   "name": "python3"
  },
  "language_info": {
   "codemirror_mode": {
    "name": "ipython",
    "version": 3
   },
   "file_extension": ".py",
   "mimetype": "text/x-python",
   "name": "python",
   "nbconvert_exporter": "python",
   "pygments_lexer": "ipython3",
   "version": "3.6.9"
  }
 },
 "nbformat": 4,
 "nbformat_minor": 2
}
