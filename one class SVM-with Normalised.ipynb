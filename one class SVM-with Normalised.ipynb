{
 "cells": [
  {
   "cell_type": "code",
   "execution_count": 1,
   "metadata": {},
   "outputs": [],
   "source": [
    "import pandas as pd"
   ]
  },
  {
   "cell_type": "code",
   "execution_count": 2,
   "metadata": {},
   "outputs": [],
   "source": [
    "%matplotlib inline"
   ]
  },
  {
   "cell_type": "code",
   "execution_count": 3,
   "metadata": {},
   "outputs": [],
   "source": [
    "import numpy as np\n",
    "import matplotlib.pyplot as plt\n",
    "import matplotlib.font_manager\n",
    "from sklearn import svm"
   ]
  },
  {
   "cell_type": "code",
   "execution_count": 4,
   "metadata": {},
   "outputs": [],
   "source": [
    "Whole_data = pd.read_csv(\"hey13.csv\")\n",
    "X_ =pd.read_csv(\"hey13.csv\")"
   ]
  },
  {
   "cell_type": "code",
   "execution_count": 74,
   "metadata": {},
   "outputs": [
    {
     "data": {
      "text/html": [
       "<div>\n",
       "<style>\n",
       "    .dataframe thead tr:only-child th {\n",
       "        text-align: right;\n",
       "    }\n",
       "\n",
       "    .dataframe thead th {\n",
       "        text-align: left;\n",
       "    }\n",
       "\n",
       "    .dataframe tbody tr th {\n",
       "        vertical-align: top;\n",
       "    }\n",
       "</style>\n",
       "<table border=\"1\" class=\"dataframe\">\n",
       "  <thead>\n",
       "    <tr style=\"text-align: right;\">\n",
       "      <th></th>\n",
       "      <th>user_id</th>\n",
       "      <th>visit_goal_converted</th>\n",
       "      <th>visitor_days_since_order</th>\n",
       "      <th>visitor_returning</th>\n",
       "      <th>visitor_count_visits</th>\n",
       "      <th>visit_entry_idaction_name</th>\n",
       "      <th>visit_entry_idaction_url</th>\n",
       "      <th>visit_exit_idaction_name</th>\n",
       "      <th>visit_exit_idaction_url</th>\n",
       "      <th>visit_total_actions</th>\n",
       "      <th>...</th>\n",
       "      <th>custom_var_v3</th>\n",
       "      <th>longlat</th>\n",
       "      <th>date</th>\n",
       "      <th>month</th>\n",
       "      <th>year</th>\n",
       "      <th>min</th>\n",
       "      <th>sec</th>\n",
       "      <th>visitor_localtime_hour</th>\n",
       "      <th>visitor_localtime_min</th>\n",
       "      <th>visitor_localtime_sec</th>\n",
       "    </tr>\n",
       "  </thead>\n",
       "  <tbody>\n",
       "    <tr>\n",
       "      <th>0</th>\n",
       "      <td>25</td>\n",
       "      <td>0</td>\n",
       "      <td>0</td>\n",
       "      <td>2</td>\n",
       "      <td>1</td>\n",
       "      <td>133</td>\n",
       "      <td>134</td>\n",
       "      <td>133</td>\n",
       "      <td>134</td>\n",
       "      <td>1</td>\n",
       "      <td>...</td>\n",
       "      <td>4</td>\n",
       "      <td>118</td>\n",
       "      <td>26</td>\n",
       "      <td>6</td>\n",
       "      <td>2019</td>\n",
       "      <td>12</td>\n",
       "      <td>18</td>\n",
       "      <td>21</td>\n",
       "      <td>14.0</td>\n",
       "      <td>56.0</td>\n",
       "    </tr>\n",
       "    <tr>\n",
       "      <th>1</th>\n",
       "      <td>31</td>\n",
       "      <td>0</td>\n",
       "      <td>0</td>\n",
       "      <td>0</td>\n",
       "      <td>1</td>\n",
       "      <td>286</td>\n",
       "      <td>287</td>\n",
       "      <td>295</td>\n",
       "      <td>296</td>\n",
       "      <td>6</td>\n",
       "      <td>...</td>\n",
       "      <td>6</td>\n",
       "      <td>239</td>\n",
       "      <td>26</td>\n",
       "      <td>6</td>\n",
       "      <td>2019</td>\n",
       "      <td>12</td>\n",
       "      <td>18</td>\n",
       "      <td>11</td>\n",
       "      <td>4.0</td>\n",
       "      <td>7.0</td>\n",
       "    </tr>\n",
       "    <tr>\n",
       "      <th>2</th>\n",
       "      <td>31</td>\n",
       "      <td>0</td>\n",
       "      <td>0</td>\n",
       "      <td>0</td>\n",
       "      <td>1</td>\n",
       "      <td>288</td>\n",
       "      <td>289</td>\n",
       "      <td>297</td>\n",
       "      <td>298</td>\n",
       "      <td>2</td>\n",
       "      <td>...</td>\n",
       "      <td>8</td>\n",
       "      <td>190</td>\n",
       "      <td>26</td>\n",
       "      <td>6</td>\n",
       "      <td>2019</td>\n",
       "      <td>2</td>\n",
       "      <td>19</td>\n",
       "      <td>17</td>\n",
       "      <td>17.0</td>\n",
       "      <td>37.0</td>\n",
       "    </tr>\n",
       "    <tr>\n",
       "      <th>3</th>\n",
       "      <td>31</td>\n",
       "      <td>0</td>\n",
       "      <td>0</td>\n",
       "      <td>1</td>\n",
       "      <td>1</td>\n",
       "      <td>0</td>\n",
       "      <td>0</td>\n",
       "      <td>0</td>\n",
       "      <td>0</td>\n",
       "      <td>1</td>\n",
       "      <td>...</td>\n",
       "      <td>7</td>\n",
       "      <td>75</td>\n",
       "      <td>26</td>\n",
       "      <td>6</td>\n",
       "      <td>2019</td>\n",
       "      <td>2</td>\n",
       "      <td>50</td>\n",
       "      <td>16</td>\n",
       "      <td>57.0</td>\n",
       "      <td>26.0</td>\n",
       "    </tr>\n",
       "    <tr>\n",
       "      <th>4</th>\n",
       "      <td>31</td>\n",
       "      <td>0</td>\n",
       "      <td>0</td>\n",
       "      <td>1</td>\n",
       "      <td>1</td>\n",
       "      <td>294</td>\n",
       "      <td>207</td>\n",
       "      <td>294</td>\n",
       "      <td>207</td>\n",
       "      <td>1</td>\n",
       "      <td>...</td>\n",
       "      <td>4</td>\n",
       "      <td>60</td>\n",
       "      <td>26</td>\n",
       "      <td>6</td>\n",
       "      <td>2019</td>\n",
       "      <td>3</td>\n",
       "      <td>38</td>\n",
       "      <td>3</td>\n",
       "      <td>42.0</td>\n",
       "      <td>1.0</td>\n",
       "    </tr>\n",
       "  </tbody>\n",
       "</table>\n",
       "<p>5 rows × 52 columns</p>\n",
       "</div>"
      ],
      "text/plain": [
       "   user_id  visit_goal_converted  visitor_days_since_order  visitor_returning  \\\n",
       "0       25                     0                         0                  2   \n",
       "1       31                     0                         0                  0   \n",
       "2       31                     0                         0                  0   \n",
       "3       31                     0                         0                  1   \n",
       "4       31                     0                         0                  1   \n",
       "\n",
       "   visitor_count_visits  visit_entry_idaction_name visit_entry_idaction_url  \\\n",
       "0                     1                        133                      134   \n",
       "1                     1                        286                      287   \n",
       "2                     1                        288                      289   \n",
       "3                     1                          0                        0   \n",
       "4                     1                        294                      207   \n",
       "\n",
       "   visit_exit_idaction_name visit_exit_idaction_url  visit_total_actions  \\\n",
       "0                       133                     134                    1   \n",
       "1                       295                     296                    6   \n",
       "2                       297                     298                    2   \n",
       "3                         0                       0                    1   \n",
       "4                       294                     207                    1   \n",
       "\n",
       "           ...            custom_var_v3 longlat  date  month  year  min  sec  \\\n",
       "0          ...                        4     118    26      6  2019   12   18   \n",
       "1          ...                        6     239    26      6  2019   12   18   \n",
       "2          ...                        8     190    26      6  2019    2   19   \n",
       "3          ...                        7      75    26      6  2019    2   50   \n",
       "4          ...                        4      60    26      6  2019    3   38   \n",
       "\n",
       "   visitor_localtime_hour  visitor_localtime_min  visitor_localtime_sec  \n",
       "0                      21                   14.0                   56.0  \n",
       "1                      11                    4.0                    7.0  \n",
       "2                      17                   17.0                   37.0  \n",
       "3                      16                   57.0                   26.0  \n",
       "4                       3                   42.0                    1.0  \n",
       "\n",
       "[5 rows x 52 columns]"
      ]
     },
     "execution_count": 74,
     "metadata": {},
     "output_type": "execute_result"
    }
   ],
   "source": [
    "Whole_data.head()"
   ]
  },
  {
   "cell_type": "code",
   "execution_count": 5,
   "metadata": {},
   "outputs": [],
   "source": [
    "\n",
    "\n",
    "# Y = pd.read_csv(\"data/RBA.csv\")\n",
    "# Y.shape\n",
    "\n",
    "# Y\n"
   ]
  },
  {
   "cell_type": "code",
   "execution_count": 59,
   "metadata": {},
   "outputs": [
    {
     "name": "stdout",
     "output_type": "stream",
     "text": [
      "Enter your id for which you want to train: 55\n"
     ]
    }
   ],
   "source": [
    "# id=55\n",
    "id = input(\"Enter your id for which you want to train: \") "
   ]
  },
  {
   "cell_type": "code",
   "execution_count": 7,
   "metadata": {},
   "outputs": [],
   "source": [
    "X_train=Whole_data[Whole_data['user_id'] == id]\n",
    "\n",
    "\n",
    "\n",
    "X_train = X_train[['user_id', \"location_browser_lang\", \"config_browser_engine\", \"config_browser_name\", \n",
    "\t\t\"config_device_brand\", \"config_device_model\", \"config_os\" , \"config_os_version\", \n",
    "\t\t\"config_resolution\", \"location_city\", \"location_country\", \"location_longitude\",'location_latitude']]"
   ]
  },
  {
   "cell_type": "code",
   "execution_count": 79,
   "metadata": {},
   "outputs": [],
   "source": [
    "thisdict =\t{\n",
    "  \"user_id\": 0,\n",
    "  \"location_browser_lang\": 2,\n",
    "  \"config_browser_engine\":1,\n",
    "  \"config_browser_name\": 1,\n",
    "  \"config_device_brand\": 5,\n",
    "  \"config_device_model\": 5,\n",
    "  \"config_os\": 0,\n",
    "  \"config_os_version\": 1,\n",
    "  \"config_resolution\": 1,    \n",
    "  \"location_city\": 4,\n",
    "  \"location_country\": 8,\n",
    "  \"location_longitude\":4, \n",
    "   \"location_latitude\" :4\n",
    "}"
   ]
  },
  {
   "cell_type": "code",
   "execution_count": 80,
   "metadata": {},
   "outputs": [
    {
     "data": {
      "text/plain": [
       "0"
      ]
     },
     "execution_count": 80,
     "metadata": {},
     "output_type": "execute_result"
    }
   ],
   "source": [
    "thisdict[\"user_id\"]"
   ]
  },
  {
   "cell_type": "code",
   "execution_count": null,
   "metadata": {},
   "outputs": [],
   "source": []
  },
  {
   "cell_type": "code",
   "execution_count": null,
   "metadata": {},
   "outputs": [],
   "source": []
  },
  {
   "cell_type": "code",
   "execution_count": null,
   "metadata": {},
   "outputs": [],
   "source": []
  },
  {
   "cell_type": "code",
   "execution_count": 8,
   "metadata": {},
   "outputs": [],
   "source": [
    "X_train = pd.DataFrame(X_train)"
   ]
  },
  {
   "cell_type": "code",
   "execution_count": 9,
   "metadata": {},
   "outputs": [
    {
     "data": {
      "text/plain": [
       "pandas.core.frame.DataFrame"
      ]
     },
     "execution_count": 9,
     "metadata": {},
     "output_type": "execute_result"
    }
   ],
   "source": [
    "type(X_train)"
   ]
  },
  {
   "cell_type": "code",
   "execution_count": 10,
   "metadata": {},
   "outputs": [
    {
     "data": {
      "text/plain": [
       "(33, 13)"
      ]
     },
     "execution_count": 10,
     "metadata": {},
     "output_type": "execute_result"
    }
   ],
   "source": [
    "X_train.shape"
   ]
  },
  {
   "cell_type": "code",
   "execution_count": 11,
   "metadata": {},
   "outputs": [
    {
     "name": "stdout",
     "output_type": "stream",
     "text": [
      "<class 'pandas.core.frame.DataFrame'>\n",
      "Int64Index: 33 entries, 15 to 355\n",
      "Data columns (total 13 columns):\n",
      "user_id                  33 non-null int64\n",
      "location_browser_lang    33 non-null int64\n",
      "config_browser_engine    33 non-null int64\n",
      "config_browser_name      33 non-null int64\n",
      "config_device_brand      33 non-null int64\n",
      "config_device_model      33 non-null int64\n",
      "config_os                33 non-null int64\n",
      "config_os_version        33 non-null int64\n",
      "config_resolution        33 non-null int64\n",
      "location_city            33 non-null int64\n",
      "location_country         33 non-null int64\n",
      "location_longitude       33 non-null float64\n",
      "location_latitude        33 non-null float64\n",
      "dtypes: float64(2), int64(11)\n",
      "memory usage: 3.6 KB\n"
     ]
    }
   ],
   "source": [
    "X_train.info()"
   ]
  },
  {
   "cell_type": "code",
   "execution_count": 12,
   "metadata": {},
   "outputs": [
    {
     "data": {
      "text/html": [
       "<div>\n",
       "<style>\n",
       "    .dataframe thead tr:only-child th {\n",
       "        text-align: right;\n",
       "    }\n",
       "\n",
       "    .dataframe thead th {\n",
       "        text-align: left;\n",
       "    }\n",
       "\n",
       "    .dataframe tbody tr th {\n",
       "        vertical-align: top;\n",
       "    }\n",
       "</style>\n",
       "<table border=\"1\" class=\"dataframe\">\n",
       "  <thead>\n",
       "    <tr style=\"text-align: right;\">\n",
       "      <th></th>\n",
       "      <th>user_id</th>\n",
       "      <th>location_browser_lang</th>\n",
       "      <th>config_browser_engine</th>\n",
       "      <th>config_browser_name</th>\n",
       "      <th>config_device_brand</th>\n",
       "      <th>config_device_model</th>\n",
       "      <th>config_os</th>\n",
       "      <th>config_os_version</th>\n",
       "      <th>config_resolution</th>\n",
       "      <th>location_city</th>\n",
       "      <th>location_country</th>\n",
       "      <th>location_longitude</th>\n",
       "      <th>location_latitude</th>\n",
       "    </tr>\n",
       "  </thead>\n",
       "  <tbody>\n",
       "    <tr>\n",
       "      <th>15</th>\n",
       "      <td>55</td>\n",
       "      <td>50</td>\n",
       "      <td>5</td>\n",
       "      <td>6</td>\n",
       "      <td>0</td>\n",
       "      <td>1</td>\n",
       "      <td>6</td>\n",
       "      <td>16</td>\n",
       "      <td>2</td>\n",
       "      <td>214</td>\n",
       "      <td>5</td>\n",
       "      <td>17.550862</td>\n",
       "      <td>50.649718</td>\n",
       "    </tr>\n",
       "    <tr>\n",
       "      <th>16</th>\n",
       "      <td>55</td>\n",
       "      <td>82</td>\n",
       "      <td>4</td>\n",
       "      <td>3</td>\n",
       "      <td>0</td>\n",
       "      <td>1</td>\n",
       "      <td>6</td>\n",
       "      <td>20</td>\n",
       "      <td>7</td>\n",
       "      <td>208</td>\n",
       "      <td>8</td>\n",
       "      <td>141.395842</td>\n",
       "      <td>-14.651877</td>\n",
       "    </tr>\n",
       "    <tr>\n",
       "      <th>17</th>\n",
       "      <td>55</td>\n",
       "      <td>82</td>\n",
       "      <td>1</td>\n",
       "      <td>2</td>\n",
       "      <td>0</td>\n",
       "      <td>1</td>\n",
       "      <td>6</td>\n",
       "      <td>5</td>\n",
       "      <td>1</td>\n",
       "      <td>266</td>\n",
       "      <td>2</td>\n",
       "      <td>-177.514029</td>\n",
       "      <td>24.193281</td>\n",
       "    </tr>\n",
       "    <tr>\n",
       "      <th>18</th>\n",
       "      <td>55</td>\n",
       "      <td>63</td>\n",
       "      <td>5</td>\n",
       "      <td>6</td>\n",
       "      <td>1</td>\n",
       "      <td>1</td>\n",
       "      <td>2</td>\n",
       "      <td>4</td>\n",
       "      <td>5</td>\n",
       "      <td>59</td>\n",
       "      <td>7</td>\n",
       "      <td>-152.348342</td>\n",
       "      <td>74.116989</td>\n",
       "    </tr>\n",
       "    <tr>\n",
       "      <th>19</th>\n",
       "      <td>55</td>\n",
       "      <td>18</td>\n",
       "      <td>5</td>\n",
       "      <td>1</td>\n",
       "      <td>0</td>\n",
       "      <td>1</td>\n",
       "      <td>1</td>\n",
       "      <td>0</td>\n",
       "      <td>16</td>\n",
       "      <td>42</td>\n",
       "      <td>4</td>\n",
       "      <td>-150.169149</td>\n",
       "      <td>9.429430</td>\n",
       "    </tr>\n",
       "  </tbody>\n",
       "</table>\n",
       "</div>"
      ],
      "text/plain": [
       "    user_id  location_browser_lang  config_browser_engine  \\\n",
       "15       55                     50                      5   \n",
       "16       55                     82                      4   \n",
       "17       55                     82                      1   \n",
       "18       55                     63                      5   \n",
       "19       55                     18                      5   \n",
       "\n",
       "    config_browser_name  config_device_brand  config_device_model  config_os  \\\n",
       "15                    6                    0                    1          6   \n",
       "16                    3                    0                    1          6   \n",
       "17                    2                    0                    1          6   \n",
       "18                    6                    1                    1          2   \n",
       "19                    1                    0                    1          1   \n",
       "\n",
       "    config_os_version  config_resolution  location_city  location_country  \\\n",
       "15                 16                  2            214                 5   \n",
       "16                 20                  7            208                 8   \n",
       "17                  5                  1            266                 2   \n",
       "18                  4                  5             59                 7   \n",
       "19                  0                 16             42                 4   \n",
       "\n",
       "    location_longitude  location_latitude  \n",
       "15           17.550862          50.649718  \n",
       "16          141.395842         -14.651877  \n",
       "17         -177.514029          24.193281  \n",
       "18         -152.348342          74.116989  \n",
       "19         -150.169149           9.429430  "
      ]
     },
     "execution_count": 12,
     "metadata": {},
     "output_type": "execute_result"
    }
   ],
   "source": [
    "X_train.head()"
   ]
  },
  {
   "cell_type": "code",
   "execution_count": 13,
   "metadata": {},
   "outputs": [],
   "source": [
    "# type(X_train['visit_entry_idaction_url'].head())"
   ]
  },
  {
   "cell_type": "code",
   "execution_count": 14,
   "metadata": {},
   "outputs": [],
   "source": [
    "\n",
    "x = np.cos(X_train['location_latitude']) * np.sin(X_train['location_longitude'])\n",
    "y = np.cos(X_train['location_latitude']) * np.sin(X_train['location_longitude'])\n",
    "z = np.sin(X_train['location_latitude']) "
   ]
  },
  {
   "cell_type": "code",
   "execution_count": 15,
   "metadata": {},
   "outputs": [
    {
     "data": {
      "text/plain": [
       "Index(['user_id', 'location_browser_lang', 'config_browser_engine',\n",
       "       'config_browser_name', 'config_device_brand', 'config_device_model',\n",
       "       'config_os', 'config_os_version', 'config_resolution', 'location_city',\n",
       "       'location_country', 'location_longitude', 'location_latitude'],\n",
       "      dtype='object')"
      ]
     },
     "execution_count": 15,
     "metadata": {},
     "output_type": "execute_result"
    }
   ],
   "source": [
    "X_train.columns"
   ]
  },
  {
   "cell_type": "code",
   "execution_count": 16,
   "metadata": {},
   "outputs": [],
   "source": [
    "\n",
    "X_train['x'] = pd.Series(x)\n",
    "\n",
    "X_train['y'] = y\n",
    "\n",
    "X_train['z'] = z"
   ]
  },
  {
   "cell_type": "code",
   "execution_count": 17,
   "metadata": {},
   "outputs": [
    {
     "data": {
      "text/plain": [
       "Index(['user_id', 'location_browser_lang', 'config_browser_engine',\n",
       "       'config_browser_name', 'config_device_brand', 'config_device_model',\n",
       "       'config_os', 'config_os_version', 'config_resolution', 'location_city',\n",
       "       'location_country', 'location_longitude', 'location_latitude', 'x', 'y',\n",
       "       'z'],\n",
       "      dtype='object')"
      ]
     },
     "execution_count": 17,
     "metadata": {},
     "output_type": "execute_result"
    }
   ],
   "source": [
    "X_train.columns"
   ]
  },
  {
   "cell_type": "code",
   "execution_count": 18,
   "metadata": {},
   "outputs": [],
   "source": [
    "del X_train['location_longitude']\n",
    "del X_train['location_latitude']"
   ]
  },
  {
   "cell_type": "code",
   "execution_count": 19,
   "metadata": {},
   "outputs": [],
   "source": [
    "# arr1 = X_train.iloc[0].values\n",
    "# arr = np.array([58,  1,  2,  3, 11,  4,  5, 6, 7, 8, 9, 10])\n",
    "# print(arr, arr1)"
   ]
  },
  {
   "cell_type": "code",
   "execution_count": 20,
   "metadata": {},
   "outputs": [
    {
     "data": {
      "text/plain": [
       "Index(['user_id', 'location_browser_lang', 'config_browser_engine',\n",
       "       'config_browser_name', 'config_device_brand', 'config_device_model',\n",
       "       'config_os', 'config_os_version', 'config_resolution', 'location_city',\n",
       "       'location_country', 'x', 'y', 'z'],\n",
       "      dtype='object')"
      ]
     },
     "execution_count": 20,
     "metadata": {},
     "output_type": "execute_result"
    }
   ],
   "source": [
    "X_train.columns"
   ]
  },
  {
   "cell_type": "code",
   "execution_count": 21,
   "metadata": {},
   "outputs": [
    {
     "data": {
      "text/html": [
       "<div>\n",
       "<style>\n",
       "    .dataframe thead tr:only-child th {\n",
       "        text-align: right;\n",
       "    }\n",
       "\n",
       "    .dataframe thead th {\n",
       "        text-align: left;\n",
       "    }\n",
       "\n",
       "    .dataframe tbody tr th {\n",
       "        vertical-align: top;\n",
       "    }\n",
       "</style>\n",
       "<table border=\"1\" class=\"dataframe\">\n",
       "  <thead>\n",
       "    <tr style=\"text-align: right;\">\n",
       "      <th></th>\n",
       "      <th>user_id</th>\n",
       "      <th>location_browser_lang</th>\n",
       "      <th>config_browser_engine</th>\n",
       "      <th>config_browser_name</th>\n",
       "      <th>config_device_brand</th>\n",
       "      <th>config_device_model</th>\n",
       "      <th>config_os</th>\n",
       "      <th>config_os_version</th>\n",
       "      <th>config_resolution</th>\n",
       "      <th>location_city</th>\n",
       "      <th>location_country</th>\n",
       "      <th>x</th>\n",
       "      <th>y</th>\n",
       "      <th>z</th>\n",
       "    </tr>\n",
       "  </thead>\n",
       "  <tbody>\n",
       "    <tr>\n",
       "      <th>15</th>\n",
       "      <td>55</td>\n",
       "      <td>50</td>\n",
       "      <td>5</td>\n",
       "      <td>6</td>\n",
       "      <td>0</td>\n",
       "      <td>1</td>\n",
       "      <td>6</td>\n",
       "      <td>16</td>\n",
       "      <td>2</td>\n",
       "      <td>214</td>\n",
       "      <td>5</td>\n",
       "      <td>-0.892976</td>\n",
       "      <td>-0.892976</td>\n",
       "      <td>0.374851</td>\n",
       "    </tr>\n",
       "    <tr>\n",
       "      <th>16</th>\n",
       "      <td>55</td>\n",
       "      <td>82</td>\n",
       "      <td>4</td>\n",
       "      <td>3</td>\n",
       "      <td>0</td>\n",
       "      <td>1</td>\n",
       "      <td>6</td>\n",
       "      <td>20</td>\n",
       "      <td>7</td>\n",
       "      <td>208</td>\n",
       "      <td>8</td>\n",
       "      <td>0.011899</td>\n",
       "      <td>0.011899</td>\n",
       "      <td>-0.870435</td>\n",
       "    </tr>\n",
       "    <tr>\n",
       "      <th>17</th>\n",
       "      <td>55</td>\n",
       "      <td>82</td>\n",
       "      <td>1</td>\n",
       "      <td>2</td>\n",
       "      <td>0</td>\n",
       "      <td>1</td>\n",
       "      <td>6</td>\n",
       "      <td>5</td>\n",
       "      <td>1</td>\n",
       "      <td>266</td>\n",
       "      <td>2</td>\n",
       "      <td>-0.590166</td>\n",
       "      <td>-0.590166</td>\n",
       "      <td>-0.807240</td>\n",
       "    </tr>\n",
       "    <tr>\n",
       "      <th>18</th>\n",
       "      <td>55</td>\n",
       "      <td>63</td>\n",
       "      <td>5</td>\n",
       "      <td>6</td>\n",
       "      <td>1</td>\n",
       "      <td>1</td>\n",
       "      <td>2</td>\n",
       "      <td>4</td>\n",
       "      <td>5</td>\n",
       "      <td>59</td>\n",
       "      <td>7</td>\n",
       "      <td>-0.285481</td>\n",
       "      <td>-0.285481</td>\n",
       "      <td>-0.958369</td>\n",
       "    </tr>\n",
       "    <tr>\n",
       "      <th>19</th>\n",
       "      <td>55</td>\n",
       "      <td>18</td>\n",
       "      <td>5</td>\n",
       "      <td>1</td>\n",
       "      <td>0</td>\n",
       "      <td>1</td>\n",
       "      <td>1</td>\n",
       "      <td>0</td>\n",
       "      <td>16</td>\n",
       "      <td>42</td>\n",
       "      <td>4</td>\n",
       "      <td>-0.586953</td>\n",
       "      <td>-0.586953</td>\n",
       "      <td>-0.004652</td>\n",
       "    </tr>\n",
       "    <tr>\n",
       "      <th>20</th>\n",
       "      <td>55</td>\n",
       "      <td>82</td>\n",
       "      <td>4</td>\n",
       "      <td>3</td>\n",
       "      <td>0</td>\n",
       "      <td>1</td>\n",
       "      <td>6</td>\n",
       "      <td>20</td>\n",
       "      <td>21</td>\n",
       "      <td>218</td>\n",
       "      <td>13</td>\n",
       "      <td>0.356258</td>\n",
       "      <td>0.356258</td>\n",
       "      <td>0.371420</td>\n",
       "    </tr>\n",
       "    <tr>\n",
       "      <th>21</th>\n",
       "      <td>55</td>\n",
       "      <td>19</td>\n",
       "      <td>4</td>\n",
       "      <td>3</td>\n",
       "      <td>0</td>\n",
       "      <td>1</td>\n",
       "      <td>6</td>\n",
       "      <td>22</td>\n",
       "      <td>1</td>\n",
       "      <td>177</td>\n",
       "      <td>3</td>\n",
       "      <td>-0.827709</td>\n",
       "      <td>-0.827709</td>\n",
       "      <td>0.171933</td>\n",
       "    </tr>\n",
       "    <tr>\n",
       "      <th>22</th>\n",
       "      <td>55</td>\n",
       "      <td>82</td>\n",
       "      <td>5</td>\n",
       "      <td>1</td>\n",
       "      <td>0</td>\n",
       "      <td>1</td>\n",
       "      <td>6</td>\n",
       "      <td>18</td>\n",
       "      <td>25</td>\n",
       "      <td>255</td>\n",
       "      <td>3</td>\n",
       "      <td>-0.516963</td>\n",
       "      <td>-0.516963</td>\n",
       "      <td>-0.377487</td>\n",
       "    </tr>\n",
       "    <tr>\n",
       "      <th>23</th>\n",
       "      <td>55</td>\n",
       "      <td>15</td>\n",
       "      <td>1</td>\n",
       "      <td>2</td>\n",
       "      <td>1</td>\n",
       "      <td>1</td>\n",
       "      <td>2</td>\n",
       "      <td>1</td>\n",
       "      <td>17</td>\n",
       "      <td>103</td>\n",
       "      <td>1</td>\n",
       "      <td>-0.436174</td>\n",
       "      <td>-0.436174</td>\n",
       "      <td>-0.433884</td>\n",
       "    </tr>\n",
       "    <tr>\n",
       "      <th>24</th>\n",
       "      <td>55</td>\n",
       "      <td>19</td>\n",
       "      <td>3</td>\n",
       "      <td>5</td>\n",
       "      <td>0</td>\n",
       "      <td>1</td>\n",
       "      <td>6</td>\n",
       "      <td>18</td>\n",
       "      <td>8</td>\n",
       "      <td>119</td>\n",
       "      <td>3</td>\n",
       "      <td>-0.532004</td>\n",
       "      <td>-0.532004</td>\n",
       "      <td>0.696629</td>\n",
       "    </tr>\n",
       "    <tr>\n",
       "      <th>25</th>\n",
       "      <td>55</td>\n",
       "      <td>15</td>\n",
       "      <td>4</td>\n",
       "      <td>3</td>\n",
       "      <td>0</td>\n",
       "      <td>2</td>\n",
       "      <td>5</td>\n",
       "      <td>0</td>\n",
       "      <td>1</td>\n",
       "      <td>207</td>\n",
       "      <td>7</td>\n",
       "      <td>0.043342</td>\n",
       "      <td>0.043342</td>\n",
       "      <td>-0.915430</td>\n",
       "    </tr>\n",
       "    <tr>\n",
       "      <th>84</th>\n",
       "      <td>55</td>\n",
       "      <td>50</td>\n",
       "      <td>5</td>\n",
       "      <td>6</td>\n",
       "      <td>0</td>\n",
       "      <td>1</td>\n",
       "      <td>6</td>\n",
       "      <td>16</td>\n",
       "      <td>2</td>\n",
       "      <td>214</td>\n",
       "      <td>5</td>\n",
       "      <td>-0.892976</td>\n",
       "      <td>-0.892976</td>\n",
       "      <td>0.374851</td>\n",
       "    </tr>\n",
       "    <tr>\n",
       "      <th>85</th>\n",
       "      <td>55</td>\n",
       "      <td>82</td>\n",
       "      <td>4</td>\n",
       "      <td>3</td>\n",
       "      <td>0</td>\n",
       "      <td>1</td>\n",
       "      <td>6</td>\n",
       "      <td>20</td>\n",
       "      <td>7</td>\n",
       "      <td>208</td>\n",
       "      <td>8</td>\n",
       "      <td>0.011899</td>\n",
       "      <td>0.011899</td>\n",
       "      <td>-0.870435</td>\n",
       "    </tr>\n",
       "    <tr>\n",
       "      <th>86</th>\n",
       "      <td>55</td>\n",
       "      <td>82</td>\n",
       "      <td>1</td>\n",
       "      <td>2</td>\n",
       "      <td>0</td>\n",
       "      <td>1</td>\n",
       "      <td>6</td>\n",
       "      <td>5</td>\n",
       "      <td>1</td>\n",
       "      <td>266</td>\n",
       "      <td>2</td>\n",
       "      <td>-0.590166</td>\n",
       "      <td>-0.590166</td>\n",
       "      <td>-0.807240</td>\n",
       "    </tr>\n",
       "    <tr>\n",
       "      <th>87</th>\n",
       "      <td>55</td>\n",
       "      <td>63</td>\n",
       "      <td>5</td>\n",
       "      <td>6</td>\n",
       "      <td>1</td>\n",
       "      <td>1</td>\n",
       "      <td>2</td>\n",
       "      <td>4</td>\n",
       "      <td>5</td>\n",
       "      <td>59</td>\n",
       "      <td>7</td>\n",
       "      <td>-0.285481</td>\n",
       "      <td>-0.285481</td>\n",
       "      <td>-0.958369</td>\n",
       "    </tr>\n",
       "    <tr>\n",
       "      <th>88</th>\n",
       "      <td>55</td>\n",
       "      <td>18</td>\n",
       "      <td>5</td>\n",
       "      <td>1</td>\n",
       "      <td>0</td>\n",
       "      <td>1</td>\n",
       "      <td>1</td>\n",
       "      <td>0</td>\n",
       "      <td>16</td>\n",
       "      <td>42</td>\n",
       "      <td>4</td>\n",
       "      <td>-0.586953</td>\n",
       "      <td>-0.586953</td>\n",
       "      <td>-0.004652</td>\n",
       "    </tr>\n",
       "    <tr>\n",
       "      <th>89</th>\n",
       "      <td>55</td>\n",
       "      <td>82</td>\n",
       "      <td>4</td>\n",
       "      <td>3</td>\n",
       "      <td>0</td>\n",
       "      <td>1</td>\n",
       "      <td>6</td>\n",
       "      <td>20</td>\n",
       "      <td>21</td>\n",
       "      <td>218</td>\n",
       "      <td>13</td>\n",
       "      <td>0.356258</td>\n",
       "      <td>0.356258</td>\n",
       "      <td>0.371420</td>\n",
       "    </tr>\n",
       "    <tr>\n",
       "      <th>90</th>\n",
       "      <td>55</td>\n",
       "      <td>19</td>\n",
       "      <td>4</td>\n",
       "      <td>3</td>\n",
       "      <td>0</td>\n",
       "      <td>1</td>\n",
       "      <td>6</td>\n",
       "      <td>22</td>\n",
       "      <td>1</td>\n",
       "      <td>177</td>\n",
       "      <td>3</td>\n",
       "      <td>-0.827709</td>\n",
       "      <td>-0.827709</td>\n",
       "      <td>0.171933</td>\n",
       "    </tr>\n",
       "    <tr>\n",
       "      <th>91</th>\n",
       "      <td>55</td>\n",
       "      <td>82</td>\n",
       "      <td>5</td>\n",
       "      <td>1</td>\n",
       "      <td>0</td>\n",
       "      <td>1</td>\n",
       "      <td>6</td>\n",
       "      <td>18</td>\n",
       "      <td>25</td>\n",
       "      <td>255</td>\n",
       "      <td>3</td>\n",
       "      <td>-0.516963</td>\n",
       "      <td>-0.516963</td>\n",
       "      <td>-0.377487</td>\n",
       "    </tr>\n",
       "    <tr>\n",
       "      <th>92</th>\n",
       "      <td>55</td>\n",
       "      <td>15</td>\n",
       "      <td>1</td>\n",
       "      <td>2</td>\n",
       "      <td>1</td>\n",
       "      <td>1</td>\n",
       "      <td>2</td>\n",
       "      <td>1</td>\n",
       "      <td>17</td>\n",
       "      <td>103</td>\n",
       "      <td>1</td>\n",
       "      <td>-0.436174</td>\n",
       "      <td>-0.436174</td>\n",
       "      <td>-0.433884</td>\n",
       "    </tr>\n",
       "    <tr>\n",
       "      <th>93</th>\n",
       "      <td>55</td>\n",
       "      <td>19</td>\n",
       "      <td>3</td>\n",
       "      <td>5</td>\n",
       "      <td>0</td>\n",
       "      <td>1</td>\n",
       "      <td>6</td>\n",
       "      <td>18</td>\n",
       "      <td>8</td>\n",
       "      <td>119</td>\n",
       "      <td>3</td>\n",
       "      <td>-0.532004</td>\n",
       "      <td>-0.532004</td>\n",
       "      <td>0.696629</td>\n",
       "    </tr>\n",
       "    <tr>\n",
       "      <th>94</th>\n",
       "      <td>55</td>\n",
       "      <td>15</td>\n",
       "      <td>4</td>\n",
       "      <td>3</td>\n",
       "      <td>0</td>\n",
       "      <td>2</td>\n",
       "      <td>5</td>\n",
       "      <td>0</td>\n",
       "      <td>1</td>\n",
       "      <td>207</td>\n",
       "      <td>7</td>\n",
       "      <td>0.043342</td>\n",
       "      <td>0.043342</td>\n",
       "      <td>-0.915430</td>\n",
       "    </tr>\n",
       "    <tr>\n",
       "      <th>345</th>\n",
       "      <td>55</td>\n",
       "      <td>50</td>\n",
       "      <td>5</td>\n",
       "      <td>6</td>\n",
       "      <td>0</td>\n",
       "      <td>1</td>\n",
       "      <td>6</td>\n",
       "      <td>16</td>\n",
       "      <td>2</td>\n",
       "      <td>214</td>\n",
       "      <td>5</td>\n",
       "      <td>-0.892976</td>\n",
       "      <td>-0.892976</td>\n",
       "      <td>0.374851</td>\n",
       "    </tr>\n",
       "    <tr>\n",
       "      <th>346</th>\n",
       "      <td>55</td>\n",
       "      <td>82</td>\n",
       "      <td>4</td>\n",
       "      <td>3</td>\n",
       "      <td>0</td>\n",
       "      <td>1</td>\n",
       "      <td>6</td>\n",
       "      <td>20</td>\n",
       "      <td>7</td>\n",
       "      <td>208</td>\n",
       "      <td>8</td>\n",
       "      <td>0.011899</td>\n",
       "      <td>0.011899</td>\n",
       "      <td>-0.870435</td>\n",
       "    </tr>\n",
       "    <tr>\n",
       "      <th>347</th>\n",
       "      <td>55</td>\n",
       "      <td>82</td>\n",
       "      <td>1</td>\n",
       "      <td>2</td>\n",
       "      <td>0</td>\n",
       "      <td>1</td>\n",
       "      <td>6</td>\n",
       "      <td>5</td>\n",
       "      <td>1</td>\n",
       "      <td>266</td>\n",
       "      <td>2</td>\n",
       "      <td>-0.590166</td>\n",
       "      <td>-0.590166</td>\n",
       "      <td>-0.807240</td>\n",
       "    </tr>\n",
       "    <tr>\n",
       "      <th>348</th>\n",
       "      <td>55</td>\n",
       "      <td>63</td>\n",
       "      <td>5</td>\n",
       "      <td>6</td>\n",
       "      <td>1</td>\n",
       "      <td>1</td>\n",
       "      <td>2</td>\n",
       "      <td>4</td>\n",
       "      <td>5</td>\n",
       "      <td>59</td>\n",
       "      <td>7</td>\n",
       "      <td>-0.285481</td>\n",
       "      <td>-0.285481</td>\n",
       "      <td>-0.958369</td>\n",
       "    </tr>\n",
       "    <tr>\n",
       "      <th>349</th>\n",
       "      <td>55</td>\n",
       "      <td>18</td>\n",
       "      <td>5</td>\n",
       "      <td>1</td>\n",
       "      <td>0</td>\n",
       "      <td>1</td>\n",
       "      <td>1</td>\n",
       "      <td>0</td>\n",
       "      <td>16</td>\n",
       "      <td>42</td>\n",
       "      <td>4</td>\n",
       "      <td>-0.586953</td>\n",
       "      <td>-0.586953</td>\n",
       "      <td>-0.004652</td>\n",
       "    </tr>\n",
       "    <tr>\n",
       "      <th>350</th>\n",
       "      <td>55</td>\n",
       "      <td>82</td>\n",
       "      <td>4</td>\n",
       "      <td>3</td>\n",
       "      <td>0</td>\n",
       "      <td>1</td>\n",
       "      <td>6</td>\n",
       "      <td>20</td>\n",
       "      <td>21</td>\n",
       "      <td>218</td>\n",
       "      <td>13</td>\n",
       "      <td>0.356258</td>\n",
       "      <td>0.356258</td>\n",
       "      <td>0.371420</td>\n",
       "    </tr>\n",
       "    <tr>\n",
       "      <th>351</th>\n",
       "      <td>55</td>\n",
       "      <td>19</td>\n",
       "      <td>4</td>\n",
       "      <td>3</td>\n",
       "      <td>0</td>\n",
       "      <td>1</td>\n",
       "      <td>6</td>\n",
       "      <td>22</td>\n",
       "      <td>1</td>\n",
       "      <td>177</td>\n",
       "      <td>3</td>\n",
       "      <td>-0.827709</td>\n",
       "      <td>-0.827709</td>\n",
       "      <td>0.171933</td>\n",
       "    </tr>\n",
       "    <tr>\n",
       "      <th>352</th>\n",
       "      <td>55</td>\n",
       "      <td>82</td>\n",
       "      <td>5</td>\n",
       "      <td>1</td>\n",
       "      <td>0</td>\n",
       "      <td>1</td>\n",
       "      <td>6</td>\n",
       "      <td>18</td>\n",
       "      <td>25</td>\n",
       "      <td>255</td>\n",
       "      <td>3</td>\n",
       "      <td>-0.516963</td>\n",
       "      <td>-0.516963</td>\n",
       "      <td>-0.377487</td>\n",
       "    </tr>\n",
       "    <tr>\n",
       "      <th>353</th>\n",
       "      <td>55</td>\n",
       "      <td>15</td>\n",
       "      <td>1</td>\n",
       "      <td>2</td>\n",
       "      <td>1</td>\n",
       "      <td>1</td>\n",
       "      <td>2</td>\n",
       "      <td>1</td>\n",
       "      <td>17</td>\n",
       "      <td>103</td>\n",
       "      <td>1</td>\n",
       "      <td>-0.436174</td>\n",
       "      <td>-0.436174</td>\n",
       "      <td>-0.433884</td>\n",
       "    </tr>\n",
       "    <tr>\n",
       "      <th>354</th>\n",
       "      <td>55</td>\n",
       "      <td>19</td>\n",
       "      <td>3</td>\n",
       "      <td>5</td>\n",
       "      <td>0</td>\n",
       "      <td>1</td>\n",
       "      <td>6</td>\n",
       "      <td>18</td>\n",
       "      <td>8</td>\n",
       "      <td>119</td>\n",
       "      <td>3</td>\n",
       "      <td>-0.532004</td>\n",
       "      <td>-0.532004</td>\n",
       "      <td>0.696629</td>\n",
       "    </tr>\n",
       "    <tr>\n",
       "      <th>355</th>\n",
       "      <td>55</td>\n",
       "      <td>15</td>\n",
       "      <td>4</td>\n",
       "      <td>3</td>\n",
       "      <td>0</td>\n",
       "      <td>2</td>\n",
       "      <td>5</td>\n",
       "      <td>0</td>\n",
       "      <td>1</td>\n",
       "      <td>207</td>\n",
       "      <td>7</td>\n",
       "      <td>0.043342</td>\n",
       "      <td>0.043342</td>\n",
       "      <td>-0.915430</td>\n",
       "    </tr>\n",
       "  </tbody>\n",
       "</table>\n",
       "</div>"
      ],
      "text/plain": [
       "     user_id  location_browser_lang  config_browser_engine  \\\n",
       "15        55                     50                      5   \n",
       "16        55                     82                      4   \n",
       "17        55                     82                      1   \n",
       "18        55                     63                      5   \n",
       "19        55                     18                      5   \n",
       "20        55                     82                      4   \n",
       "21        55                     19                      4   \n",
       "22        55                     82                      5   \n",
       "23        55                     15                      1   \n",
       "24        55                     19                      3   \n",
       "25        55                     15                      4   \n",
       "84        55                     50                      5   \n",
       "85        55                     82                      4   \n",
       "86        55                     82                      1   \n",
       "87        55                     63                      5   \n",
       "88        55                     18                      5   \n",
       "89        55                     82                      4   \n",
       "90        55                     19                      4   \n",
       "91        55                     82                      5   \n",
       "92        55                     15                      1   \n",
       "93        55                     19                      3   \n",
       "94        55                     15                      4   \n",
       "345       55                     50                      5   \n",
       "346       55                     82                      4   \n",
       "347       55                     82                      1   \n",
       "348       55                     63                      5   \n",
       "349       55                     18                      5   \n",
       "350       55                     82                      4   \n",
       "351       55                     19                      4   \n",
       "352       55                     82                      5   \n",
       "353       55                     15                      1   \n",
       "354       55                     19                      3   \n",
       "355       55                     15                      4   \n",
       "\n",
       "     config_browser_name  config_device_brand  config_device_model  config_os  \\\n",
       "15                     6                    0                    1          6   \n",
       "16                     3                    0                    1          6   \n",
       "17                     2                    0                    1          6   \n",
       "18                     6                    1                    1          2   \n",
       "19                     1                    0                    1          1   \n",
       "20                     3                    0                    1          6   \n",
       "21                     3                    0                    1          6   \n",
       "22                     1                    0                    1          6   \n",
       "23                     2                    1                    1          2   \n",
       "24                     5                    0                    1          6   \n",
       "25                     3                    0                    2          5   \n",
       "84                     6                    0                    1          6   \n",
       "85                     3                    0                    1          6   \n",
       "86                     2                    0                    1          6   \n",
       "87                     6                    1                    1          2   \n",
       "88                     1                    0                    1          1   \n",
       "89                     3                    0                    1          6   \n",
       "90                     3                    0                    1          6   \n",
       "91                     1                    0                    1          6   \n",
       "92                     2                    1                    1          2   \n",
       "93                     5                    0                    1          6   \n",
       "94                     3                    0                    2          5   \n",
       "345                    6                    0                    1          6   \n",
       "346                    3                    0                    1          6   \n",
       "347                    2                    0                    1          6   \n",
       "348                    6                    1                    1          2   \n",
       "349                    1                    0                    1          1   \n",
       "350                    3                    0                    1          6   \n",
       "351                    3                    0                    1          6   \n",
       "352                    1                    0                    1          6   \n",
       "353                    2                    1                    1          2   \n",
       "354                    5                    0                    1          6   \n",
       "355                    3                    0                    2          5   \n",
       "\n",
       "     config_os_version  config_resolution  location_city  location_country  \\\n",
       "15                  16                  2            214                 5   \n",
       "16                  20                  7            208                 8   \n",
       "17                   5                  1            266                 2   \n",
       "18                   4                  5             59                 7   \n",
       "19                   0                 16             42                 4   \n",
       "20                  20                 21            218                13   \n",
       "21                  22                  1            177                 3   \n",
       "22                  18                 25            255                 3   \n",
       "23                   1                 17            103                 1   \n",
       "24                  18                  8            119                 3   \n",
       "25                   0                  1            207                 7   \n",
       "84                  16                  2            214                 5   \n",
       "85                  20                  7            208                 8   \n",
       "86                   5                  1            266                 2   \n",
       "87                   4                  5             59                 7   \n",
       "88                   0                 16             42                 4   \n",
       "89                  20                 21            218                13   \n",
       "90                  22                  1            177                 3   \n",
       "91                  18                 25            255                 3   \n",
       "92                   1                 17            103                 1   \n",
       "93                  18                  8            119                 3   \n",
       "94                   0                  1            207                 7   \n",
       "345                 16                  2            214                 5   \n",
       "346                 20                  7            208                 8   \n",
       "347                  5                  1            266                 2   \n",
       "348                  4                  5             59                 7   \n",
       "349                  0                 16             42                 4   \n",
       "350                 20                 21            218                13   \n",
       "351                 22                  1            177                 3   \n",
       "352                 18                 25            255                 3   \n",
       "353                  1                 17            103                 1   \n",
       "354                 18                  8            119                 3   \n",
       "355                  0                  1            207                 7   \n",
       "\n",
       "            x         y         z  \n",
       "15  -0.892976 -0.892976  0.374851  \n",
       "16   0.011899  0.011899 -0.870435  \n",
       "17  -0.590166 -0.590166 -0.807240  \n",
       "18  -0.285481 -0.285481 -0.958369  \n",
       "19  -0.586953 -0.586953 -0.004652  \n",
       "20   0.356258  0.356258  0.371420  \n",
       "21  -0.827709 -0.827709  0.171933  \n",
       "22  -0.516963 -0.516963 -0.377487  \n",
       "23  -0.436174 -0.436174 -0.433884  \n",
       "24  -0.532004 -0.532004  0.696629  \n",
       "25   0.043342  0.043342 -0.915430  \n",
       "84  -0.892976 -0.892976  0.374851  \n",
       "85   0.011899  0.011899 -0.870435  \n",
       "86  -0.590166 -0.590166 -0.807240  \n",
       "87  -0.285481 -0.285481 -0.958369  \n",
       "88  -0.586953 -0.586953 -0.004652  \n",
       "89   0.356258  0.356258  0.371420  \n",
       "90  -0.827709 -0.827709  0.171933  \n",
       "91  -0.516963 -0.516963 -0.377487  \n",
       "92  -0.436174 -0.436174 -0.433884  \n",
       "93  -0.532004 -0.532004  0.696629  \n",
       "94   0.043342  0.043342 -0.915430  \n",
       "345 -0.892976 -0.892976  0.374851  \n",
       "346  0.011899  0.011899 -0.870435  \n",
       "347 -0.590166 -0.590166 -0.807240  \n",
       "348 -0.285481 -0.285481 -0.958369  \n",
       "349 -0.586953 -0.586953 -0.004652  \n",
       "350  0.356258  0.356258  0.371420  \n",
       "351 -0.827709 -0.827709  0.171933  \n",
       "352 -0.516963 -0.516963 -0.377487  \n",
       "353 -0.436174 -0.436174 -0.433884  \n",
       "354 -0.532004 -0.532004  0.696629  \n",
       "355  0.043342  0.043342 -0.915430  "
      ]
     },
     "execution_count": 21,
     "metadata": {},
     "output_type": "execute_result"
    }
   ],
   "source": [
    "X_train"
   ]
  },
  {
   "cell_type": "markdown",
   "metadata": {},
   "source": [
    "# Feature Scaling"
   ]
  },
  {
   "cell_type": "code",
   "execution_count": 22,
   "metadata": {},
   "outputs": [],
   "source": [
    "# from sklearn.externals import joblib\n",
    "\n",
    "# # Feature Scaling\n",
    "# from sklearn.preprocessing import StandardScaler\n",
    "# sc = StandardScaler()\n",
    "# X_Train = sc.fit_transform(X_train)"
   ]
  },
  {
   "cell_type": "code",
   "execution_count": null,
   "metadata": {},
   "outputs": [],
   "source": []
  },
  {
   "cell_type": "code",
   "execution_count": 23,
   "metadata": {},
   "outputs": [],
   "source": [
    "# scaler_filename = \"scaler.save\"\n",
    "# joblib.dump(sc, scaler_filename) "
   ]
  },
  {
   "cell_type": "code",
   "execution_count": 24,
   "metadata": {},
   "outputs": [],
   "source": [
    "#sc.transform(arr1)"
   ]
  },
  {
   "cell_type": "code",
   "execution_count": 25,
   "metadata": {},
   "outputs": [],
   "source": [
    "# sc = joblib.load(\"scaler.save\")\n",
    "\n"
   ]
  },
  {
   "cell_type": "code",
   "execution_count": 26,
   "metadata": {},
   "outputs": [],
   "source": [
    "# X_train = pd.DataFrame(X_train)\n",
    "# type(X_train)"
   ]
  },
  {
   "cell_type": "code",
   "execution_count": 27,
   "metadata": {},
   "outputs": [],
   "source": [
    "# X_train"
   ]
  },
  {
   "cell_type": "code",
   "execution_count": 28,
   "metadata": {},
   "outputs": [],
   "source": [
    "# X_train.shape"
   ]
  },
  {
   "cell_type": "markdown",
   "metadata": {},
   "source": [
    "# user new input"
   ]
  },
  {
   "cell_type": "code",
   "execution_count": 29,
   "metadata": {},
   "outputs": [],
   "source": [
    "  #old csv wali file ka\n",
    "\n",
    "\n",
    "data = [[55,82,1,2,0,1,6,5,1,266,2,-177.514029,24.193281]]\n",
    "#make new dataset \n",
    "# X_test = pd.DataFrame(data)\n",
    "\n",
    "# X_test.shape"
   ]
  },
  {
   "cell_type": "code",
   "execution_count": 30,
   "metadata": {},
   "outputs": [
    {
     "data": {
      "text/plain": [
       "list"
      ]
     },
     "execution_count": 30,
     "metadata": {},
     "output_type": "execute_result"
    }
   ],
   "source": [
    "type(data)"
   ]
  },
  {
   "cell_type": "code",
   "execution_count": 31,
   "metadata": {},
   "outputs": [
    {
     "data": {
      "text/plain": [
       "-177.514029"
      ]
     },
     "execution_count": 31,
     "metadata": {},
     "output_type": "execute_result"
    }
   ],
   "source": [
    "data[0][11]"
   ]
  },
  {
   "cell_type": "code",
   "execution_count": 32,
   "metadata": {},
   "outputs": [],
   "source": [
    "# # Feature Scaling\n",
    "# from sklearn.preprocessing import StandardScaler\n",
    "\n",
    "\n",
    "\n",
    "# sc = StandardScaler()\n",
    "# X_test = sc.fit_transform(X_test)\n",
    "# X_test = pd.DataFrame(X_test)\n",
    "# type(X_test)"
   ]
  },
  {
   "cell_type": "code",
   "execution_count": 33,
   "metadata": {},
   "outputs": [],
   "source": [
    "# X_test"
   ]
  },
  {
   "cell_type": "code",
   "execution_count": 34,
   "metadata": {},
   "outputs": [],
   "source": [
    "# data = [[55,19,4,3,0,1,6,22,1,177,3,-0.827709,-0.827709,0.171933]]\n",
    "# X_test = pd.DataFrame(data)"
   ]
  },
  {
   "cell_type": "code",
   "execution_count": 35,
   "metadata": {},
   "outputs": [],
   "source": [
    "# X_test = sc.transform(X_test)"
   ]
  },
  {
   "cell_type": "code",
   "execution_count": 36,
   "metadata": {},
   "outputs": [],
   "source": [
    "# X_test"
   ]
  },
  {
   "cell_type": "code",
   "execution_count": 37,
   "metadata": {},
   "outputs": [],
   "source": [
    "# X_test = X_test.iloc[0]"
   ]
  },
  {
   "cell_type": "code",
   "execution_count": 38,
   "metadata": {},
   "outputs": [],
   "source": [
    "# X_test.shape"
   ]
  },
  {
   "cell_type": "markdown",
   "metadata": {},
   "source": [
    "# Making outliers"
   ]
  },
  {
   "cell_type": "code",
   "execution_count": 39,
   "metadata": {},
   "outputs": [],
   "source": [
    "# X_outliers = np.random.uniform(low=-5, high=5, size=(345, 12))"
   ]
  },
  {
   "cell_type": "code",
   "execution_count": 40,
   "metadata": {},
   "outputs": [],
   "source": [
    "# X_outliers.shape"
   ]
  },
  {
   "cell_type": "markdown",
   "metadata": {},
   "source": [
    "# Fitting the model"
   ]
  },
  {
   "cell_type": "code",
   "execution_count": 41,
   "metadata": {},
   "outputs": [],
   "source": [
    "# fit the model\n",
    "clf = svm.OneClassSVM(nu=0.1, kernel=\"rbf\", gamma=0.1)\n"
   ]
  },
  {
   "cell_type": "code",
   "execution_count": 42,
   "metadata": {},
   "outputs": [
    {
     "data": {
      "text/plain": [
       "OneClassSVM(cache_size=200, coef0=0.0, degree=3, gamma=0.1, kernel='rbf',\n",
       "      max_iter=-1, nu=0.1, random_state=None, shrinking=True, tol=0.001,\n",
       "      verbose=False)"
      ]
     },
     "execution_count": 42,
     "metadata": {},
     "output_type": "execute_result"
    }
   ],
   "source": [
    "clf.fit(X_train)"
   ]
  },
  {
   "cell_type": "markdown",
   "metadata": {},
   "source": [
    "# Predicting within the Train dataframe\n"
   ]
  },
  {
   "cell_type": "code",
   "execution_count": 43,
   "metadata": {},
   "outputs": [],
   "source": [
    "# y_pred_train = clf.predict(X_train)"
   ]
  },
  {
   "cell_type": "code",
   "execution_count": 44,
   "metadata": {},
   "outputs": [],
   "source": [
    "# unique, counts = np.unique(y_pred_train, return_counts=True)\n"
   ]
  },
  {
   "cell_type": "code",
   "execution_count": 45,
   "metadata": {},
   "outputs": [],
   "source": [
    "# dict(zip(unique, counts))"
   ]
  },
  {
   "cell_type": "code",
   "execution_count": 46,
   "metadata": {},
   "outputs": [],
   "source": [
    "# y_pred_train.shape"
   ]
  },
  {
   "cell_type": "markdown",
   "metadata": {},
   "source": [
    "# Predicting  for the given input"
   ]
  },
  {
   "cell_type": "code",
   "execution_count": 47,
   "metadata": {},
   "outputs": [],
   "source": [
    "\n",
    "x = np.cos(data[0][12]) * np.sin(data[0][11])\n",
    "y = np.cos(data[0][12]) * np.sin(data[0][11])\n",
    "z = np.sin(data[0][12]) "
   ]
  },
  {
   "cell_type": "code",
   "execution_count": null,
   "metadata": {},
   "outputs": [],
   "source": []
  },
  {
   "cell_type": "code",
   "execution_count": 48,
   "metadata": {},
   "outputs": [
    {
     "data": {
      "text/plain": [
       "list"
      ]
     },
     "execution_count": 48,
     "metadata": {},
     "output_type": "execute_result"
    }
   ],
   "source": [
    "type(data)"
   ]
  },
  {
   "cell_type": "code",
   "execution_count": 49,
   "metadata": {},
   "outputs": [],
   "source": [
    "data[0][11] = x\n",
    "\n",
    "data[0][12] = y\n"
   ]
  },
  {
   "cell_type": "code",
   "execution_count": 50,
   "metadata": {},
   "outputs": [],
   "source": [
    "data[0].append((z))"
   ]
  },
  {
   "cell_type": "code",
   "execution_count": 51,
   "metadata": {},
   "outputs": [],
   "source": [
    "#55\t50\t5\t6\t0\t1\t6\t16\t2\t214\t5\t-0.892976\t-0.892976\t0.374851"
   ]
  },
  {
   "cell_type": "code",
   "execution_count": 52,
   "metadata": {},
   "outputs": [
    {
     "data": {
      "text/plain": [
       "[[55,\n",
       "  82,\n",
       "  1,\n",
       "  2,\n",
       "  0,\n",
       "  1,\n",
       "  6,\n",
       "  5,\n",
       "  1,\n",
       "  266,\n",
       "  2,\n",
       "  -0.5901656300358249,\n",
       "  -0.5901656300358249,\n",
       "  -0.80723963214014893]]"
      ]
     },
     "execution_count": 52,
     "metadata": {},
     "output_type": "execute_result"
    }
   ],
   "source": [
    "data"
   ]
  },
  {
   "cell_type": "code",
   "execution_count": 53,
   "metadata": {},
   "outputs": [],
   "source": [
    "# data.shape"
   ]
  },
  {
   "cell_type": "code",
   "execution_count": null,
   "metadata": {},
   "outputs": [],
   "source": []
  },
  {
   "cell_type": "code",
   "execution_count": 54,
   "metadata": {},
   "outputs": [],
   "source": [
    "y_pred_test = clf.predict(data)"
   ]
  },
  {
   "cell_type": "code",
   "execution_count": 55,
   "metadata": {},
   "outputs": [
    {
     "data": {
      "text/plain": [
       "array([ 1.])"
      ]
     },
     "execution_count": 55,
     "metadata": {},
     "output_type": "execute_result"
    }
   ],
   "source": [
    "y_pred_test\n"
   ]
  },
  {
   "cell_type": "code",
   "execution_count": 56,
   "metadata": {},
   "outputs": [
    {
     "name": "stdout",
     "output_type": "stream",
     "text": [
      "It's a regular observation\n"
     ]
    }
   ],
   "source": [
    "if(y_pred_test == -1):\n",
    "    print(\"It's a Anomoly\")\n",
    "else:\n",
    "    print(\"It's a regular observation\")\n"
   ]
  },
  {
   "cell_type": "markdown",
   "metadata": {},
   "source": [
    "# Saving the model"
   ]
  },
  {
   "cell_type": "code",
   "execution_count": 63,
   "metadata": {},
   "outputs": [],
   "source": [
    "import pickle\n",
    "c= str(id)+'.pkl' \n",
    "output = open(c, 'wb')\n",
    "pickle.dump(clf, output)\n",
    "output.close()"
   ]
  },
  {
   "cell_type": "code",
   "execution_count": 58,
   "metadata": {},
   "outputs": [],
   "source": [
    "# X_train"
   ]
  },
  {
   "cell_type": "code",
   "execution_count": 69,
   "metadata": {},
   "outputs": [
    {
     "data": {
      "text/plain": [
       "'/home/bhrt/Desktop/Blue Bricks/Risk-Based-Authetication'"
      ]
     },
     "execution_count": 69,
     "metadata": {},
     "output_type": "execute_result"
    }
   ],
   "source": [
    "import os\n",
    " \n",
    "dirpath = os.getcwd()\n",
    "dirpath"
   ]
  },
  {
   "cell_type": "code",
   "execution_count": 72,
   "metadata": {},
   "outputs": [],
   "source": [
    "pkl_list = []\n",
    "import os\n",
    "for file in os.listdir(\"/home/bhrt/Desktop/Blue Bricks/Risk-Based-Authetication\"):\n",
    "    if file.endswith(\".pkl\"):\n",
    "#         print(os.path.join(\"\", file))\n",
    "        pkl_list.append(os.path.join(\"\", file))"
   ]
  },
  {
   "cell_type": "code",
   "execution_count": 73,
   "metadata": {},
   "outputs": [
    {
     "data": {
      "text/plain": [
       "['osvm_without.pkl', '55.pkl']"
      ]
     },
     "execution_count": 73,
     "metadata": {},
     "output_type": "execute_result"
    }
   ],
   "source": [
    "pkl_list"
   ]
  },
  {
   "cell_type": "markdown",
   "metadata": {},
   "source": [
    "# Predicting for the synthe. outliers"
   ]
  },
  {
   "cell_type": "code",
   "execution_count": 81,
   "metadata": {},
   "outputs": [],
   "source": [
    "# y_pred_outliers = clf.predict(X_outliers)"
   ]
  },
  {
   "cell_type": "code",
   "execution_count": 82,
   "metadata": {},
   "outputs": [],
   "source": [
    "# y_pred_outliers.shape"
   ]
  },
  {
   "cell_type": "code",
   "execution_count": 83,
   "metadata": {},
   "outputs": [],
   "source": [
    "# unique, counts = np.unique(y_pred_outliers, return_counts=True)\n",
    "\n",
    "# dict(zip(unique, counts))"
   ]
  },
  {
   "cell_type": "code",
   "execution_count": null,
   "metadata": {},
   "outputs": [],
   "source": []
  },
  {
   "cell_type": "markdown",
   "metadata": {},
   "source": [
    "# RoC after spliting the train dataframe into 2 parts"
   ]
  },
  {
   "cell_type": "code",
   "execution_count": 84,
   "metadata": {},
   "outputs": [],
   "source": [
    "# from sklearn.model_selection import train_test_split\n",
    "\n",
    "# from sklearn.metrics import roc_curve, roc_auc_score"
   ]
  },
  {
   "cell_type": "code",
   "execution_count": 85,
   "metadata": {},
   "outputs": [],
   "source": [
    "# X_Train, X_Test = train_test_split(X_train,test_size = 0.5,random_state = 42)\n",
    "\n"
   ]
  },
  {
   "cell_type": "code",
   "execution_count": 86,
   "metadata": {},
   "outputs": [],
   "source": [
    "# X_Train.shape"
   ]
  },
  {
   "cell_type": "code",
   "execution_count": 87,
   "metadata": {},
   "outputs": [],
   "source": [
    "# X_Test.shape"
   ]
  },
  {
   "cell_type": "code",
   "execution_count": 88,
   "metadata": {},
   "outputs": [],
   "source": [
    "#X_Test = X_Test.drop(X_Test.shape[0],axis=0)\n",
    "\n"
   ]
  },
  {
   "cell_type": "code",
   "execution_count": 89,
   "metadata": {},
   "outputs": [],
   "source": [
    "# X_Test.shape"
   ]
  },
  {
   "cell_type": "code",
   "execution_count": 90,
   "metadata": {},
   "outputs": [],
   "source": [
    "# clf = svm.OneClassSVM(nu=0.1,kernel = \"rbf\", gamma =0.1)\n",
    "# y_score = clf.fit(X_Train).decision_function(X_Test)\n",
    "\n",
    "\n",
    "\n"
   ]
  },
  {
   "cell_type": "markdown",
   "metadata": {},
   "source": [
    "The desion function tells us on which side of the hyperplane generated by the classifier we are (and how far we are away from it)."
   ]
  },
  {
   "cell_type": "code",
   "execution_count": 91,
   "metadata": {},
   "outputs": [],
   "source": [
    "# pred = clf.predict(X_Train)\n"
   ]
  },
  {
   "cell_type": "code",
   "execution_count": 92,
   "metadata": {},
   "outputs": [],
   "source": [
    "# unique, counts = np.unique(pred, return_counts=True)\n",
    "\n",
    "# dict(zip(unique, counts))"
   ]
  },
  {
   "cell_type": "code",
   "execution_count": null,
   "metadata": {},
   "outputs": [],
   "source": []
  },
  {
   "cell_type": "code",
   "execution_count": 93,
   "metadata": {},
   "outputs": [],
   "source": [
    "# fpr,tpr,thresholds = roc_curve(pred,y_score)\n",
    "# roc_auc = roc_auc_score(pred,y_score)"
   ]
  },
  {
   "cell_type": "code",
   "execution_count": null,
   "metadata": {},
   "outputs": [],
   "source": []
  },
  {
   "cell_type": "code",
   "execution_count": 94,
   "metadata": {},
   "outputs": [],
   "source": [
    "# plt.figure(figsize=(15, 8))\n",
    "# plt.plot(fpr, tpr, label='ROC curve (area = %0.2f)' % roc_auc)\n",
    "# plt.plot([0, 1], [0, 1], 'k--')\n",
    "# plt.xlim([0.0, 1.0])\n",
    "# plt.ylim([0.0, 1.05])\n",
    "# plt.xlabel('False Positive Rate')\n",
    "# plt.ylabel('True Positive Rate')\n",
    "# plt.title('ROC Curve')\n",
    "# plt.legend(loc=\"lower right\")\n",
    "# plt.show()"
   ]
  },
  {
   "cell_type": "markdown",
   "metadata": {},
   "source": [
    "# Roc for Train data and Outliers"
   ]
  },
  {
   "cell_type": "code",
   "execution_count": 127,
   "metadata": {},
   "outputs": [
    {
     "data": {
      "text/plain": [
       "(22, 14)"
      ]
     },
     "execution_count": 127,
     "metadata": {},
     "output_type": "execute_result"
    }
   ],
   "source": [
    "X_train.shape"
   ]
  },
  {
   "cell_type": "code",
   "execution_count": 129,
   "metadata": {},
   "outputs": [],
   "source": [
    "# X_train\n"
   ]
  },
  {
   "cell_type": "code",
   "execution_count": null,
   "metadata": {},
   "outputs": [],
   "source": []
  },
  {
   "cell_type": "markdown",
   "metadata": {},
   "source": [
    "# Risk Calculatoin using the Hard Code"
   ]
  },
  {
   "cell_type": "code",
   "execution_count": 130,
   "metadata": {},
   "outputs": [
    {
     "data": {
      "text/plain": [
       "55"
      ]
     },
     "execution_count": 130,
     "metadata": {},
     "output_type": "execute_result"
    }
   ],
   "source": [
    "id = data[0][0]\n",
    "id"
   ]
  },
  {
   "cell_type": "code",
   "execution_count": 131,
   "metadata": {},
   "outputs": [
    {
     "name": "stdout",
     "output_type": "stream",
     "text": [
      "The user id is 55\n"
     ]
    }
   ],
   "source": [
    "print(\"The user id is \" +  str(id))"
   ]
  },
  {
   "cell_type": "code",
   "execution_count": 132,
   "metadata": {},
   "outputs": [
    {
     "data": {
      "text/html": [
       "<div>\n",
       "<style>\n",
       "    .dataframe thead tr:only-child th {\n",
       "        text-align: right;\n",
       "    }\n",
       "\n",
       "    .dataframe thead th {\n",
       "        text-align: left;\n",
       "    }\n",
       "\n",
       "    .dataframe tbody tr th {\n",
       "        vertical-align: top;\n",
       "    }\n",
       "</style>\n",
       "<table border=\"1\" class=\"dataframe\">\n",
       "  <thead>\n",
       "    <tr style=\"text-align: right;\">\n",
       "      <th></th>\n",
       "      <th>user_id</th>\n",
       "      <th>location_browser_lang</th>\n",
       "      <th>config_browser_engine</th>\n",
       "      <th>config_browser_name</th>\n",
       "      <th>config_device_brand</th>\n",
       "      <th>config_device_model</th>\n",
       "      <th>config_os</th>\n",
       "      <th>config_os_version</th>\n",
       "      <th>config_resolution</th>\n",
       "      <th>location_city</th>\n",
       "      <th>location_country</th>\n",
       "      <th>x</th>\n",
       "      <th>y</th>\n",
       "      <th>z</th>\n",
       "    </tr>\n",
       "  </thead>\n",
       "  <tbody>\n",
       "    <tr>\n",
       "      <th>15</th>\n",
       "      <td>55</td>\n",
       "      <td>50</td>\n",
       "      <td>5</td>\n",
       "      <td>6</td>\n",
       "      <td>0</td>\n",
       "      <td>1</td>\n",
       "      <td>6</td>\n",
       "      <td>16</td>\n",
       "      <td>2</td>\n",
       "      <td>214</td>\n",
       "      <td>5</td>\n",
       "      <td>-0.892976</td>\n",
       "      <td>-0.892976</td>\n",
       "      <td>0.374851</td>\n",
       "    </tr>\n",
       "    <tr>\n",
       "      <th>16</th>\n",
       "      <td>55</td>\n",
       "      <td>82</td>\n",
       "      <td>4</td>\n",
       "      <td>3</td>\n",
       "      <td>0</td>\n",
       "      <td>1</td>\n",
       "      <td>6</td>\n",
       "      <td>20</td>\n",
       "      <td>7</td>\n",
       "      <td>208</td>\n",
       "      <td>8</td>\n",
       "      <td>0.011899</td>\n",
       "      <td>0.011899</td>\n",
       "      <td>-0.870435</td>\n",
       "    </tr>\n",
       "    <tr>\n",
       "      <th>17</th>\n",
       "      <td>55</td>\n",
       "      <td>82</td>\n",
       "      <td>1</td>\n",
       "      <td>2</td>\n",
       "      <td>0</td>\n",
       "      <td>1</td>\n",
       "      <td>6</td>\n",
       "      <td>5</td>\n",
       "      <td>1</td>\n",
       "      <td>266</td>\n",
       "      <td>2</td>\n",
       "      <td>-0.590166</td>\n",
       "      <td>-0.590166</td>\n",
       "      <td>-0.807240</td>\n",
       "    </tr>\n",
       "    <tr>\n",
       "      <th>18</th>\n",
       "      <td>55</td>\n",
       "      <td>63</td>\n",
       "      <td>5</td>\n",
       "      <td>6</td>\n",
       "      <td>1</td>\n",
       "      <td>1</td>\n",
       "      <td>2</td>\n",
       "      <td>4</td>\n",
       "      <td>5</td>\n",
       "      <td>59</td>\n",
       "      <td>7</td>\n",
       "      <td>-0.285481</td>\n",
       "      <td>-0.285481</td>\n",
       "      <td>-0.958369</td>\n",
       "    </tr>\n",
       "    <tr>\n",
       "      <th>19</th>\n",
       "      <td>55</td>\n",
       "      <td>18</td>\n",
       "      <td>5</td>\n",
       "      <td>1</td>\n",
       "      <td>0</td>\n",
       "      <td>1</td>\n",
       "      <td>1</td>\n",
       "      <td>0</td>\n",
       "      <td>16</td>\n",
       "      <td>42</td>\n",
       "      <td>4</td>\n",
       "      <td>-0.586953</td>\n",
       "      <td>-0.586953</td>\n",
       "      <td>-0.004652</td>\n",
       "    </tr>\n",
       "  </tbody>\n",
       "</table>\n",
       "</div>"
      ],
      "text/plain": [
       "    user_id  location_browser_lang  config_browser_engine  \\\n",
       "15       55                     50                      5   \n",
       "16       55                     82                      4   \n",
       "17       55                     82                      1   \n",
       "18       55                     63                      5   \n",
       "19       55                     18                      5   \n",
       "\n",
       "    config_browser_name  config_device_brand  config_device_model  config_os  \\\n",
       "15                    6                    0                    1          6   \n",
       "16                    3                    0                    1          6   \n",
       "17                    2                    0                    1          6   \n",
       "18                    6                    1                    1          2   \n",
       "19                    1                    0                    1          1   \n",
       "\n",
       "    config_os_version  config_resolution  location_city  location_country  \\\n",
       "15                 16                  2            214                 5   \n",
       "16                 20                  7            208                 8   \n",
       "17                  5                  1            266                 2   \n",
       "18                  4                  5             59                 7   \n",
       "19                  0                 16             42                 4   \n",
       "\n",
       "           x         y         z  \n",
       "15 -0.892976 -0.892976  0.374851  \n",
       "16  0.011899  0.011899 -0.870435  \n",
       "17 -0.590166 -0.590166 -0.807240  \n",
       "18 -0.285481 -0.285481 -0.958369  \n",
       "19 -0.586953 -0.586953 -0.004652  "
      ]
     },
     "execution_count": 132,
     "metadata": {},
     "output_type": "execute_result"
    }
   ],
   "source": [
    "X_train.head()"
   ]
  },
  {
   "cell_type": "code",
   "execution_count": 133,
   "metadata": {},
   "outputs": [],
   "source": [
    "an=X_train[X_train['user_id'] == id]"
   ]
  },
  {
   "cell_type": "code",
   "execution_count": 134,
   "metadata": {},
   "outputs": [
    {
     "data": {
      "text/plain": [
       "(22, 14)"
      ]
     },
     "execution_count": 134,
     "metadata": {},
     "output_type": "execute_result"
    }
   ],
   "source": [
    "an.shape"
   ]
  },
  {
   "cell_type": "code",
   "execution_count": 135,
   "metadata": {},
   "outputs": [
    {
     "data": {
      "text/plain": [
       "[[55,\n",
       "  82,\n",
       "  1,\n",
       "  2,\n",
       "  0,\n",
       "  1,\n",
       "  6,\n",
       "  5,\n",
       "  1,\n",
       "  266,\n",
       "  2,\n",
       "  -0.5901656300358249,\n",
       "  -0.5901656300358249]]"
      ]
     },
     "execution_count": 135,
     "metadata": {},
     "output_type": "execute_result"
    }
   ],
   "source": [
    "data"
   ]
  },
  {
   "cell_type": "code",
   "execution_count": 136,
   "metadata": {},
   "outputs": [],
   "source": [
    "columns = an.columns"
   ]
  },
  {
   "cell_type": "code",
   "execution_count": 137,
   "metadata": {},
   "outputs": [],
   "source": [
    "# data[0][1] in an['location_browser_lang'].unique()"
   ]
  },
  {
   "cell_type": "code",
   "execution_count": 138,
   "metadata": {},
   "outputs": [],
   "source": [
    "# an['location_browser_lang'].unique()"
   ]
  },
  {
   "cell_type": "code",
   "execution_count": 139,
   "metadata": {},
   "outputs": [],
   "source": [
    "\n",
    "count=0\n",
    "nott=0\n",
    "\n",
    "for i in range(0,12):\n",
    "    col = columns[i]\n",
    "    if data[0][i] in an[col].unique():\n",
    "        count=count+1\n",
    "        \n",
    "    else:    \n",
    "        nott=nott+1\n",
    "       # print(\"here data is  \"+str(data[0][i]) + \"   and the dataframe is   \"+str(an.iloc[i].unique())  )\n",
    "       # print(\"\\n\\n\\n\")\n",
    "        "
   ]
  },
  {
   "cell_type": "code",
   "execution_count": 140,
   "metadata": {},
   "outputs": [
    {
     "data": {
      "text/plain": [
       "12"
      ]
     },
     "execution_count": 140,
     "metadata": {},
     "output_type": "execute_result"
    }
   ],
   "source": [
    "count\n"
   ]
  },
  {
   "cell_type": "code",
   "execution_count": 141,
   "metadata": {},
   "outputs": [
    {
     "data": {
      "text/plain": [
       "0"
      ]
     },
     "execution_count": 141,
     "metadata": {},
     "output_type": "execute_result"
    }
   ],
   "source": [
    "nott"
   ]
  },
  {
   "cell_type": "code",
   "execution_count": null,
   "metadata": {},
   "outputs": [],
   "source": []
  },
  {
   "cell_type": "code",
   "execution_count": 127,
   "metadata": {},
   "outputs": [],
   "source": [
    "# X_train.columns"
   ]
  },
  {
   "cell_type": "code",
   "execution_count": 94,
   "metadata": {},
   "outputs": [
    {
     "name": "stdout",
     "output_type": "stream",
     "text": [
      "4.1234567891234\n"
     ]
    }
   ],
   "source": [
    "\n",
    "\n",
    "\n",
    "print(float(4.1234567891234))"
   ]
  },
  {
   "cell_type": "code",
   "execution_count": null,
   "metadata": {},
   "outputs": [],
   "source": []
  }
 ],
 "metadata": {
  "kernelspec": {
   "display_name": "Python 3",
   "language": "python",
   "name": "python3"
  },
  "language_info": {
   "codemirror_mode": {
    "name": "ipython",
    "version": 3
   },
   "file_extension": ".py",
   "mimetype": "text/x-python",
   "name": "python",
   "nbconvert_exporter": "python",
   "pygments_lexer": "ipython3",
   "version": "3.6.8"
  }
 },
 "nbformat": 4,
 "nbformat_minor": 2
}
